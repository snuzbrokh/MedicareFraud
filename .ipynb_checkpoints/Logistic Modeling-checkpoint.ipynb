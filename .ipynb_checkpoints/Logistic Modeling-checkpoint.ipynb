{
 "cells": [
  {
   "cell_type": "code",
   "execution_count": 1,
   "metadata": {},
   "outputs": [],
   "source": [
    "import numpy as np\n",
    "import pandas as pd\n",
    "import scipy.stats\n",
    "\n",
    "\n",
    "%matplotlib inline\n",
    "import matplotlib.pyplot as plt\n",
    "import seaborn as sns"
   ]
  },
  {
   "cell_type": "code",
   "execution_count": 2,
   "metadata": {},
   "outputs": [],
   "source": [
    "data = pd.read_csv('./data/provData/x_train.csv').set_index('Provider')\n",
    "#data_test = pd.read_csv('./data/provData/x_test_inout.csv').set_index('Provider')"
   ]
  },
  {
   "cell_type": "code",
   "execution_count": 3,
   "metadata": {},
   "outputs": [],
   "source": [
    "data.drop(columns = ['Unnamed: 0','Unnamed: 0.1'], inplace=True)"
   ]
  },
  {
   "cell_type": "code",
   "execution_count": 4,
   "metadata": {},
   "outputs": [
    {
     "data": {
      "text/plain": [
       "Age                            0\n",
       "Gender                         0\n",
       "BeneID                         0\n",
       "ClaimID                        0\n",
       "NumDiag                        0\n",
       "OPAnnualReimbursementAmt       0\n",
       "IPAnnualReimbursementAmt       0\n",
       "TotalClaim                     0\n",
       "InscCovPercent                12\n",
       "DailyCharge                    0\n",
       "DupRecord                      0\n",
       "WhetherDead                    0\n",
       "Alzheimer                      0\n",
       "HeartFailure                   0\n",
       "KidneyDisease                  0\n",
       "Cancer                         0\n",
       "ObstrPulmonary                 0\n",
       "Depression                     0\n",
       "Diabetes                       0\n",
       "IschemicHeart                  0\n",
       "Osteoporasis                   0\n",
       "RheumatoidArthritis            0\n",
       "Stroke                         0\n",
       "LargeClaims                    0\n",
       "AdmissionDays_in               0\n",
       "ClaimDays_in                   0\n",
       "ClaimDays_out                  0\n",
       "NumChronics_in                 0\n",
       "NumChronics_out                0\n",
       "NumProc_in                     0\n",
       "NumProc_out                    0\n",
       "State_in                       0\n",
       "State_out                      0\n",
       "NumProc_Range                  0\n",
       "ClaimDays_Range                0\n",
       "TotalClaim_Range               0\n",
       "InscCovPercent_Range         168\n",
       "DailyCharge_Range              0\n",
       "PotentialFraud                 0\n",
       "docDegMax                      0\n",
       "docBtwnMean                    0\n",
       "docEignMean                    0\n",
       "docMANN                     1482\n",
       "patDegMax                      0\n",
       "patBtwnMean                    0\n",
       "patEignMean                    0\n",
       "patMANN                       18\n",
       "dtype: int64"
      ]
     },
     "execution_count": 4,
     "metadata": {},
     "output_type": "execute_result"
    }
   ],
   "source": [
    "data.isna().sum()"
   ]
  },
  {
   "cell_type": "code",
   "execution_count": 5,
   "metadata": {},
   "outputs": [],
   "source": [
    "data.fillna(0, inplace=True)\n",
    "\n",
    "data['LargeClaims'] = data['ClaimID'] > 1300\n",
    "\n",
    "data['LargeClaims'].value_counts()\n",
    "\n",
    "data.columns\n",
    "\n",
    "smallclaims = data[data.LargeClaims == 0]\n",
    "largeclaims = data[data.LargeClaims == 1]\n"
   ]
  },
  {
   "cell_type": "code",
   "execution_count": 6,
   "metadata": {},
   "outputs": [
    {
     "ename": "NameError",
     "evalue": "name 'x_unscaled' is not defined",
     "output_type": "error",
     "traceback": [
      "\u001b[0;31m---------------------------------------------------------------------------\u001b[0m",
      "\u001b[0;31mNameError\u001b[0m                                 Traceback (most recent call last)",
      "\u001b[0;32m<ipython-input-6-fb9c51c1dd0f>\u001b[0m in \u001b[0;36m<module>\u001b[0;34m\u001b[0m\n\u001b[0;32m----> 1\u001b[0;31m \u001b[0mx_unscaled\u001b[0m\u001b[0;34m.\u001b[0m\u001b[0mcolumns\u001b[0m\u001b[0;34m\u001b[0m\u001b[0;34m\u001b[0m\u001b[0m\n\u001b[0m",
      "\u001b[0;31mNameError\u001b[0m: name 'x_unscaled' is not defined"
     ]
    }
   ],
   "source": [
    "x_unscaled.columns"
   ]
  },
  {
   "cell_type": "code",
   "execution_count": 24,
   "metadata": {},
   "outputs": [
    {
     "data": {
      "text/html": [
       "<div>\n",
       "<style scoped>\n",
       "    .dataframe tbody tr th:only-of-type {\n",
       "        vertical-align: middle;\n",
       "    }\n",
       "\n",
       "    .dataframe tbody tr th {\n",
       "        vertical-align: top;\n",
       "    }\n",
       "\n",
       "    .dataframe thead th {\n",
       "        text-align: right;\n",
       "    }\n",
       "</style>\n",
       "<table border=\"1\" class=\"dataframe\">\n",
       "  <thead>\n",
       "    <tr style=\"text-align: right;\">\n",
       "      <th></th>\n",
       "      <th>Age</th>\n",
       "      <th>Gender</th>\n",
       "      <th>BeneID</th>\n",
       "      <th>ClaimID</th>\n",
       "      <th>NumDiag</th>\n",
       "      <th>OPAnnualReimbursementAmt</th>\n",
       "      <th>IPAnnualReimbursementAmt</th>\n",
       "      <th>TotalClaim</th>\n",
       "      <th>InscCovPercent</th>\n",
       "      <th>DailyCharge</th>\n",
       "      <th>...</th>\n",
       "      <th>DailyCharge_Range</th>\n",
       "      <th>PotentialFraud</th>\n",
       "      <th>docDegMax</th>\n",
       "      <th>docBtwnMean</th>\n",
       "      <th>docEignMean</th>\n",
       "      <th>docMANN</th>\n",
       "      <th>patDegMax</th>\n",
       "      <th>patBtwnMean</th>\n",
       "      <th>patEignMean</th>\n",
       "      <th>patMANN</th>\n",
       "    </tr>\n",
       "    <tr>\n",
       "      <th>Provider</th>\n",
       "      <th></th>\n",
       "      <th></th>\n",
       "      <th></th>\n",
       "      <th></th>\n",
       "      <th></th>\n",
       "      <th></th>\n",
       "      <th></th>\n",
       "      <th></th>\n",
       "      <th></th>\n",
       "      <th></th>\n",
       "      <th></th>\n",
       "      <th></th>\n",
       "      <th></th>\n",
       "      <th></th>\n",
       "      <th></th>\n",
       "      <th></th>\n",
       "      <th></th>\n",
       "      <th></th>\n",
       "      <th></th>\n",
       "      <th></th>\n",
       "      <th></th>\n",
       "    </tr>\n",
       "  </thead>\n",
       "  <tbody>\n",
       "    <tr>\n",
       "      <td>PRV51001</td>\n",
       "      <td>78.120000</td>\n",
       "      <td>9</td>\n",
       "      <td>24</td>\n",
       "      <td>25</td>\n",
       "      <td>3.640000</td>\n",
       "      <td>2615.200000</td>\n",
       "      <td>17606.000000</td>\n",
       "      <td>4399.200000</td>\n",
       "      <td>0.975656</td>\n",
       "      <td>1061.072000</td>\n",
       "      <td>...</td>\n",
       "      <td>7403.60000</td>\n",
       "      <td>0</td>\n",
       "      <td>4</td>\n",
       "      <td>300.000000</td>\n",
       "      <td>1.160885e-03</td>\n",
       "      <td>8.000000</td>\n",
       "      <td>46</td>\n",
       "      <td>263.949347</td>\n",
       "      <td>0.060498</td>\n",
       "      <td>146.343750</td>\n",
       "    </tr>\n",
       "    <tr>\n",
       "      <td>PRV51003</td>\n",
       "      <td>69.553030</td>\n",
       "      <td>54</td>\n",
       "      <td>117</td>\n",
       "      <td>132</td>\n",
       "      <td>5.840909</td>\n",
       "      <td>2678.181818</td>\n",
       "      <td>7568.181818</td>\n",
       "      <td>5090.575758</td>\n",
       "      <td>0.912167</td>\n",
       "      <td>1298.615410</td>\n",
       "      <td>...</td>\n",
       "      <td>29034.00000</td>\n",
       "      <td>1</td>\n",
       "      <td>1</td>\n",
       "      <td>0.000000</td>\n",
       "      <td>2.960140e-06</td>\n",
       "      <td>1.349206</td>\n",
       "      <td>89</td>\n",
       "      <td>621.197352</td>\n",
       "      <td>0.072514</td>\n",
       "      <td>117.974212</td>\n",
       "    </tr>\n",
       "    <tr>\n",
       "      <td>PRV51004</td>\n",
       "      <td>71.731544</td>\n",
       "      <td>46</td>\n",
       "      <td>138</td>\n",
       "      <td>149</td>\n",
       "      <td>2.771812</td>\n",
       "      <td>2194.899329</td>\n",
       "      <td>4351.879195</td>\n",
       "      <td>352.214765</td>\n",
       "      <td>0.978485</td>\n",
       "      <td>250.363050</td>\n",
       "      <td>...</td>\n",
       "      <td>3300.00000</td>\n",
       "      <td>0</td>\n",
       "      <td>4</td>\n",
       "      <td>36.851852</td>\n",
       "      <td>6.073016e-04</td>\n",
       "      <td>3.458333</td>\n",
       "      <td>110</td>\n",
       "      <td>196.289758</td>\n",
       "      <td>0.032412</td>\n",
       "      <td>264.349863</td>\n",
       "    </tr>\n",
       "    <tr>\n",
       "      <td>PRV51005</td>\n",
       "      <td>70.021459</td>\n",
       "      <td>511</td>\n",
       "      <td>495</td>\n",
       "      <td>1165</td>\n",
       "      <td>2.805150</td>\n",
       "      <td>2109.733906</td>\n",
       "      <td>3623.991416</td>\n",
       "      <td>244.300429</td>\n",
       "      <td>0.980747</td>\n",
       "      <td>196.533055</td>\n",
       "      <td>...</td>\n",
       "      <td>4080.00000</td>\n",
       "      <td>1</td>\n",
       "      <td>0</td>\n",
       "      <td>0.000000</td>\n",
       "      <td>2.927091e-05</td>\n",
       "      <td>0.000000</td>\n",
       "      <td>151</td>\n",
       "      <td>265.010514</td>\n",
       "      <td>0.268140</td>\n",
       "      <td>788.675936</td>\n",
       "    </tr>\n",
       "    <tr>\n",
       "      <td>PRV51007</td>\n",
       "      <td>68.763889</td>\n",
       "      <td>34</td>\n",
       "      <td>58</td>\n",
       "      <td>72</td>\n",
       "      <td>3.222222</td>\n",
       "      <td>1729.722222</td>\n",
       "      <td>3050.000000</td>\n",
       "      <td>513.527778</td>\n",
       "      <td>0.985303</td>\n",
       "      <td>243.681944</td>\n",
       "      <td>...</td>\n",
       "      <td>3300.00000</td>\n",
       "      <td>0</td>\n",
       "      <td>3</td>\n",
       "      <td>0.000000</td>\n",
       "      <td>5.432718e-03</td>\n",
       "      <td>4.750000</td>\n",
       "      <td>70</td>\n",
       "      <td>84.365494</td>\n",
       "      <td>0.100189</td>\n",
       "      <td>81.688948</td>\n",
       "    </tr>\n",
       "    <tr>\n",
       "      <td>...</td>\n",
       "      <td>...</td>\n",
       "      <td>...</td>\n",
       "      <td>...</td>\n",
       "      <td>...</td>\n",
       "      <td>...</td>\n",
       "      <td>...</td>\n",
       "      <td>...</td>\n",
       "      <td>...</td>\n",
       "      <td>...</td>\n",
       "      <td>...</td>\n",
       "      <td>...</td>\n",
       "      <td>...</td>\n",
       "      <td>...</td>\n",
       "      <td>...</td>\n",
       "      <td>...</td>\n",
       "      <td>...</td>\n",
       "      <td>...</td>\n",
       "      <td>...</td>\n",
       "      <td>...</td>\n",
       "      <td>...</td>\n",
       "      <td>...</td>\n",
       "    </tr>\n",
       "    <tr>\n",
       "      <td>PRV57759</td>\n",
       "      <td>73.428571</td>\n",
       "      <td>16</td>\n",
       "      <td>24</td>\n",
       "      <td>28</td>\n",
       "      <td>2.178571</td>\n",
       "      <td>3241.785714</td>\n",
       "      <td>3962.142857</td>\n",
       "      <td>384.642857</td>\n",
       "      <td>0.983401</td>\n",
       "      <td>200.629252</td>\n",
       "      <td>...</td>\n",
       "      <td>2399.52381</td>\n",
       "      <td>0</td>\n",
       "      <td>0</td>\n",
       "      <td>0.000000</td>\n",
       "      <td>0.000000e+00</td>\n",
       "      <td>0.000000</td>\n",
       "      <td>44</td>\n",
       "      <td>179.669975</td>\n",
       "      <td>0.008937</td>\n",
       "      <td>253.902655</td>\n",
       "    </tr>\n",
       "    <tr>\n",
       "      <td>PRV57760</td>\n",
       "      <td>60.954545</td>\n",
       "      <td>17</td>\n",
       "      <td>9</td>\n",
       "      <td>22</td>\n",
       "      <td>2.681818</td>\n",
       "      <td>1492.727273</td>\n",
       "      <td>2785.454545</td>\n",
       "      <td>216.818182</td>\n",
       "      <td>1.000000</td>\n",
       "      <td>216.022727</td>\n",
       "      <td>...</td>\n",
       "      <td>1097.50000</td>\n",
       "      <td>0</td>\n",
       "      <td>2</td>\n",
       "      <td>0.666667</td>\n",
       "      <td>7.317151e-12</td>\n",
       "      <td>4.500000</td>\n",
       "      <td>9</td>\n",
       "      <td>29.717647</td>\n",
       "      <td>0.000225</td>\n",
       "      <td>80.450000</td>\n",
       "    </tr>\n",
       "    <tr>\n",
       "      <td>PRV57761</td>\n",
       "      <td>71.439024</td>\n",
       "      <td>40</td>\n",
       "      <td>67</td>\n",
       "      <td>82</td>\n",
       "      <td>2.890244</td>\n",
       "      <td>2928.414634</td>\n",
       "      <td>7026.585366</td>\n",
       "      <td>229.756098</td>\n",
       "      <td>0.935979</td>\n",
       "      <td>157.134674</td>\n",
       "      <td>...</td>\n",
       "      <td>1900.00000</td>\n",
       "      <td>0</td>\n",
       "      <td>2</td>\n",
       "      <td>0.000000</td>\n",
       "      <td>0.000000e+00</td>\n",
       "      <td>10.500000</td>\n",
       "      <td>175</td>\n",
       "      <td>1846.092411</td>\n",
       "      <td>0.038613</td>\n",
       "      <td>125.619753</td>\n",
       "    </tr>\n",
       "    <tr>\n",
       "      <td>PRV57762</td>\n",
       "      <td>68.000000</td>\n",
       "      <td>1</td>\n",
       "      <td>1</td>\n",
       "      <td>1</td>\n",
       "      <td>2.000000</td>\n",
       "      <td>2540.000000</td>\n",
       "      <td>15000.000000</td>\n",
       "      <td>1900.000000</td>\n",
       "      <td>1.000000</td>\n",
       "      <td>1900.000000</td>\n",
       "      <td>...</td>\n",
       "      <td>0.00000</td>\n",
       "      <td>0</td>\n",
       "      <td>0</td>\n",
       "      <td>0.000000</td>\n",
       "      <td>6.144593e-04</td>\n",
       "      <td>0.000000</td>\n",
       "      <td>2</td>\n",
       "      <td>3.123577</td>\n",
       "      <td>0.000024</td>\n",
       "      <td>88.000000</td>\n",
       "    </tr>\n",
       "    <tr>\n",
       "      <td>PRV57763</td>\n",
       "      <td>73.601695</td>\n",
       "      <td>56</td>\n",
       "      <td>70</td>\n",
       "      <td>118</td>\n",
       "      <td>2.694915</td>\n",
       "      <td>3108.898305</td>\n",
       "      <td>3599.237288</td>\n",
       "      <td>372.881356</td>\n",
       "      <td>0.990215</td>\n",
       "      <td>275.926678</td>\n",
       "      <td>...</td>\n",
       "      <td>3300.00000</td>\n",
       "      <td>0</td>\n",
       "      <td>0</td>\n",
       "      <td>0.000000</td>\n",
       "      <td>2.048246e-04</td>\n",
       "      <td>0.000000</td>\n",
       "      <td>38</td>\n",
       "      <td>32.106239</td>\n",
       "      <td>0.012851</td>\n",
       "      <td>133.657127</td>\n",
       "    </tr>\n",
       "  </tbody>\n",
       "</table>\n",
       "<p>5410 rows × 47 columns</p>\n",
       "</div>"
      ],
      "text/plain": [
       "                Age  Gender  BeneID  ClaimID   NumDiag  \\\n",
       "Provider                                                 \n",
       "PRV51001  78.120000       9      24       25  3.640000   \n",
       "PRV51003  69.553030      54     117      132  5.840909   \n",
       "PRV51004  71.731544      46     138      149  2.771812   \n",
       "PRV51005  70.021459     511     495     1165  2.805150   \n",
       "PRV51007  68.763889      34      58       72  3.222222   \n",
       "...             ...     ...     ...      ...       ...   \n",
       "PRV57759  73.428571      16      24       28  2.178571   \n",
       "PRV57760  60.954545      17       9       22  2.681818   \n",
       "PRV57761  71.439024      40      67       82  2.890244   \n",
       "PRV57762  68.000000       1       1        1  2.000000   \n",
       "PRV57763  73.601695      56      70      118  2.694915   \n",
       "\n",
       "          OPAnnualReimbursementAmt  IPAnnualReimbursementAmt   TotalClaim  \\\n",
       "Provider                                                                    \n",
       "PRV51001               2615.200000              17606.000000  4399.200000   \n",
       "PRV51003               2678.181818               7568.181818  5090.575758   \n",
       "PRV51004               2194.899329               4351.879195   352.214765   \n",
       "PRV51005               2109.733906               3623.991416   244.300429   \n",
       "PRV51007               1729.722222               3050.000000   513.527778   \n",
       "...                            ...                       ...          ...   \n",
       "PRV57759               3241.785714               3962.142857   384.642857   \n",
       "PRV57760               1492.727273               2785.454545   216.818182   \n",
       "PRV57761               2928.414634               7026.585366   229.756098   \n",
       "PRV57762               2540.000000              15000.000000  1900.000000   \n",
       "PRV57763               3108.898305               3599.237288   372.881356   \n",
       "\n",
       "          InscCovPercent  DailyCharge  ...  DailyCharge_Range  PotentialFraud  \\\n",
       "Provider                               ...                                      \n",
       "PRV51001        0.975656  1061.072000  ...         7403.60000               0   \n",
       "PRV51003        0.912167  1298.615410  ...        29034.00000               1   \n",
       "PRV51004        0.978485   250.363050  ...         3300.00000               0   \n",
       "PRV51005        0.980747   196.533055  ...         4080.00000               1   \n",
       "PRV51007        0.985303   243.681944  ...         3300.00000               0   \n",
       "...                  ...          ...  ...                ...             ...   \n",
       "PRV57759        0.983401   200.629252  ...         2399.52381               0   \n",
       "PRV57760        1.000000   216.022727  ...         1097.50000               0   \n",
       "PRV57761        0.935979   157.134674  ...         1900.00000               0   \n",
       "PRV57762        1.000000  1900.000000  ...            0.00000               0   \n",
       "PRV57763        0.990215   275.926678  ...         3300.00000               0   \n",
       "\n",
       "          docDegMax  docBtwnMean   docEignMean    docMANN  patDegMax  \\\n",
       "Provider                                                               \n",
       "PRV51001          4   300.000000  1.160885e-03   8.000000         46   \n",
       "PRV51003          1     0.000000  2.960140e-06   1.349206         89   \n",
       "PRV51004          4    36.851852  6.073016e-04   3.458333        110   \n",
       "PRV51005          0     0.000000  2.927091e-05   0.000000        151   \n",
       "PRV51007          3     0.000000  5.432718e-03   4.750000         70   \n",
       "...             ...          ...           ...        ...        ...   \n",
       "PRV57759          0     0.000000  0.000000e+00   0.000000         44   \n",
       "PRV57760          2     0.666667  7.317151e-12   4.500000          9   \n",
       "PRV57761          2     0.000000  0.000000e+00  10.500000        175   \n",
       "PRV57762          0     0.000000  6.144593e-04   0.000000          2   \n",
       "PRV57763          0     0.000000  2.048246e-04   0.000000         38   \n",
       "\n",
       "          patBtwnMean  patEignMean     patMANN  \n",
       "Provider                                        \n",
       "PRV51001   263.949347     0.060498  146.343750  \n",
       "PRV51003   621.197352     0.072514  117.974212  \n",
       "PRV51004   196.289758     0.032412  264.349863  \n",
       "PRV51005   265.010514     0.268140  788.675936  \n",
       "PRV51007    84.365494     0.100189   81.688948  \n",
       "...               ...          ...         ...  \n",
       "PRV57759   179.669975     0.008937  253.902655  \n",
       "PRV57760    29.717647     0.000225   80.450000  \n",
       "PRV57761  1846.092411     0.038613  125.619753  \n",
       "PRV57762     3.123577     0.000024   88.000000  \n",
       "PRV57763    32.106239     0.012851  133.657127  \n",
       "\n",
       "[5410 rows x 47 columns]"
      ]
     },
     "execution_count": 24,
     "metadata": {},
     "output_type": "execute_result"
    }
   ],
   "source": [
    "data\n"
   ]
  },
  {
   "cell_type": "code",
   "execution_count": 7,
   "metadata": {},
   "outputs": [],
   "source": [
    "y = smallclaims['PotentialFraud']\n",
    "x_unscaled = smallclaims.drop(columns = ['Age','State_in','Gender','docEignMean','patEignMean',\n",
    "                                  'Alzheimer', 'HeartFailure','IPAnnualReimbursementAmt','Cancer', 'ObstrPulmonary', \n",
    "                                  'Diabetes','Osteoporasis','patBtwnMean','LargeClaims',\n",
    "                                  'RheumatoidArthritis', 'Stroke','docMANN',\n",
    "                                  'PotentialFraud'])\n",
    "#x_unscaled['OPAnnualReimbursementAmt'] = np.log(x_unscaled['OPAnnualReimbursementAmt']+1)\n",
    "#x_unscaled['IPAnnualReimbursementAmt'] = np.log(x_unscaled['IPAnnualReimbursementAmt']+1)\n",
    "#x_unscaled['TotalClaim'] = np.log(x_unscaled['TotalClaim']+1)\n",
    "#x_unscaled['TotalClaim_Range'] = np.log(x_unscaled['TotalClaim_Range']+1)\n",
    "#x_unscaled['ClaimID'] = np.log(x_unscaled['ClaimID'])"
   ]
  },
  {
   "cell_type": "code",
   "execution_count": 8,
   "metadata": {},
   "outputs": [],
   "source": [
    "from sklearn import preprocessing\n",
    "x = preprocessing.scale(x_unscaled)"
   ]
  },
  {
   "cell_type": "code",
   "execution_count": 9,
   "metadata": {},
   "outputs": [
    {
     "name": "stdout",
     "output_type": "stream",
     "text": [
      "Original: (5359, 29), (5359,)\n",
      "Training: (3572, 29), (3572,)\n",
      "Test:     (1787, 29), (1787,)\n"
     ]
    }
   ],
   "source": [
    "from sklearn.model_selection import train_test_split as tts\n",
    "\n",
    "x_train, x_test, y_train, y_test = tts(x,y,test_size=1.0/3, random_state=1)\n",
    "\n",
    "print('Original: {}, {}'.format(x.shape, y.shape))\n",
    "print('Training: {}, {}'.format(x_train.shape, y_train.shape))\n",
    "print('Test:     {}, {}'.format(x_test.shape, y_test.shape))"
   ]
  },
  {
   "cell_type": "code",
   "execution_count": 10,
   "metadata": {},
   "outputs": [],
   "source": [
    "def print_cm(cm, labels, hide_zeroes=False, hide_diagonal=False, hide_threshold=None):\n",
    "    \"\"\"pretty print for confusion matrixes\"\"\"\n",
    "    columnwidth = max([len(x) for x in labels] + [5])  # 5 is value length\n",
    "    empty_cell = \" \" * columnwidth\n",
    "    \n",
    "    # Begin CHANGES\n",
    "    fst_empty_cell = (columnwidth-3)//2 * \" \" + \"t/p\" + (columnwidth-3)//2 * \" \"\n",
    "    \n",
    "    if len(fst_empty_cell) < len(empty_cell):\n",
    "        fst_empty_cell = \" \" * (len(empty_cell) - len(fst_empty_cell)) + fst_empty_cell\n",
    "    # Print header\n",
    "    print(\"    \" + fst_empty_cell, end=\" \")\n",
    "    # End CHANGES\n",
    "    \n",
    "    for label in labels:\n",
    "        print(\"%{0}s\".format(columnwidth) % label, end=\" \")\n",
    "        \n",
    "    print()\n",
    "    # Print rows\n",
    "    for i, label1 in enumerate(labels):\n",
    "        print(\"    %{0}s\".format(columnwidth) % label1, end=\" \")\n",
    "        for j in range(len(labels)):\n",
    "            cell = \"%{0}.1f\".format(columnwidth) % cm[i, j]\n",
    "            if hide_zeroes:\n",
    "                cell = cell if float(cm[i, j]) != 0 else empty_cell\n",
    "            if hide_diagonal:\n",
    "                cell = cell if i != j else empty_cell\n",
    "            if hide_threshold:\n",
    "                cell = cell if cm[i, j] > hide_threshold else empty_cell\n",
    "            print(cell, end=\" \")\n",
    "        print()\n",
    "\n",
    "def feature_importance(model, name, note):\n",
    "    coefs = pd.DataFrame(np.dstack((\n",
    "        x_unscaled.columns,model.named_steps[name].coef_.round(4)))[0], \n",
    "                         columns = ['Features','Coefficients']).\\\n",
    "    sort_values('Coefficients',ascending=True).set_index('Features')\n",
    "    \n",
    "    coefs.plot(kind='barh', figsize=(9,7))\n",
    "    plt.title(name + ' ' + note)\n",
    "    plt.axvline(x=0, color='.5')\n",
    "    plt.subplots_adjust(left=.3)\n",
    "\n",
    "from sklearn.metrics import precision_recall_fscore_support\n",
    "from sklearn.metrics import roc_curve, roc_auc_score\n",
    "from sklearn.metrics import confusion_matrix,classification_report\n",
    "\n",
    "\n",
    "def logitMetrics(x,y, model):\n",
    "    logit_tr_acc = model.score(x, y)\n",
    "    logit_tr_pr, logit_tr_re, logit_tr_f1, _ = precision_recall_fscore_support(y, model.predict(x))\n",
    "\n",
    "    print(\" Logit Train Accuracy : %1.3f\" % (logit_tr_acc))\n",
    "    print(\" Logit Train Precision: %1.3f (no fraud) and %1.3f (fraud)\" % (logit_tr_pr[0], logit_tr_pr[1]))\n",
    "    print(\" Logit Train Recall   : %1.3f (no fraud) and %1.3f (fraud)\" % (logit_tr_re[0], logit_tr_re[1]))\n",
    "    print(\" Logit Train F1 Score : %1.3f (no fraud) and %1.3f (fraud)\" % (logit_tr_f1[0], logit_tr_f1[1]))\n",
    "    \n",
    "def ROC(x,y, model):\n",
    "    y_probs_logit = pd.DataFrame(model.predict_proba(x))[1]\n",
    "    fpr, tpr, thresholds = roc_curve(y, y_probs_logit)\n",
    "    auc = roc_auc_score(y, y_probs_logit)  # Computes auc\n",
    "    \n",
    "    plt.figure()\n",
    "    lw = 2\n",
    "    plt.plot(fpr, tpr, color='darkorange', lw=lw,\n",
    "            label='ROC logit (area = %0.2f)' % auc)\n",
    "\n",
    "    plt.plot([0, 1], [0, 1], color='navy', lw=lw, linestyle='--')\n",
    "    plt.xlim([0, 1.02])\n",
    "    plt.ylim([0, 1.02])\n",
    "    plt.xlabel('False Positive Rate')\n",
    "    plt.ylabel('True Positive Rate')\n",
    "    plt.title('Receiver operating characteristic example')\n",
    "    plt.legend(loc=\"lower right\")\n",
    "    plt.show()"
   ]
  },
  {
   "cell_type": "code",
   "execution_count": 14,
   "metadata": {},
   "outputs": [],
   "source": [
    "def confusion(x,y,model):\n",
    "    cm = confusion_matrix(y, model.predict(x))\n",
    "    print_cm(cm, ['NoFraud','Fraud'])\n",
    "    "
   ]
  },
  {
   "cell_type": "code",
   "execution_count": 12,
   "metadata": {},
   "outputs": [
    {
     "ename": "NameError",
     "evalue": "name 'logit' is not defined",
     "output_type": "error",
     "traceback": [
      "\u001b[0;31m---------------------------------------------------------------------------\u001b[0m",
      "\u001b[0;31mNameError\u001b[0m                                 Traceback (most recent call last)",
      "\u001b[0;32m<ipython-input-12-f01630e4763f>\u001b[0m in \u001b[0;36m<module>\u001b[0;34m\u001b[0m\n\u001b[0;32m----> 1\u001b[0;31m \u001b[0mcm\u001b[0m \u001b[0;34m=\u001b[0m \u001b[0mconfusion_matrix\u001b[0m\u001b[0;34m(\u001b[0m\u001b[0my_train\u001b[0m\u001b[0;34m,\u001b[0m \u001b[0mlogit\u001b[0m\u001b[0;34m.\u001b[0m\u001b[0mpredict\u001b[0m\u001b[0;34m(\u001b[0m\u001b[0mx_train\u001b[0m\u001b[0;34m)\u001b[0m\u001b[0;34m)\u001b[0m\u001b[0;34m\u001b[0m\u001b[0;34m\u001b[0m\u001b[0m\n\u001b[0m",
      "\u001b[0;31mNameError\u001b[0m: name 'logit' is not defined"
     ]
    }
   ],
   "source": [
    "cm = confusion_matrix(y_train, logit.predict(x_train))"
   ]
  },
  {
   "cell_type": "code",
   "execution_count": 308,
   "metadata": {},
   "outputs": [
    {
     "name": "stdout",
     "output_type": "stream",
     "text": [
      "-2710000\n"
     ]
    }
   ],
   "source": [
    "fraudCost = 20000\n",
    "investCost = 5000\n",
    "program_budget = 100000\n",
    "\n",
    "funds_recovered = fraudCost*cm[1][1]\n",
    "cost_fraud = fraudCost*(cm[0][1] + cm[1][1])\n",
    "cost_investigation = investCost*(cm[1][0] + cm[1][1])\n",
    "\n",
    "net_value = program_budget - (cost_investigation + cost_fraud) + funds_recovered\n",
    "print(net_value)"
   ]
  },
  {
   "cell_type": "markdown",
   "metadata": {},
   "source": [
    "## Metrics\n",
    "\n",
    "### Recall\n",
    "Recall (or sensitivity or true positive rate) is the fraction of observations having a true class of 1 (potentially fraudulent) that are being correctly classified as such. Recall is exactly how many of the fradulent providers we are actually classifying as fraudulent.\n",
    "\n",
    "If we have a problem like cancer detection, we would ideally want our system to have very high recall, potentially at the expense of false postives or accuracy in general.\n",
    "\n",
    "### F1 Score\n",
    "F1 score is the harmonic mean of recall and precision, and it can be thought of as a balance of the two. While accuracy also serves this purpose, it can be quite misleading if classes are heavily imbalanced. In our case, only 9% of providers have been labeled as fraudulent and we assume the test set follows the same distribution. \n",
    "\n",
    "For instance, suppose we have a population of 1000 providers and 100 of them are fraudulent. We have a classfication system that produces the following results:\n",
    "\n",
    "- 40 True Positive (correctly identified fraud)\n",
    "- 10 False Positives (incorrectly mistook non-fraud for fraud)\n",
    "- 20 False Negative (failed to identify fraud)\n",
    "- 930 True Negatives (correctly identified non-fraud)\n",
    "\n",
    "In this example, we have 93.0% accuracy while the F1 score is 72.7% (and 80% precision, 67% recall), which seems to be a more useful overall indicator of performance in this case.\n",
    "\n",
    "### ROC Curve and AUC\n",
    "The receiver operating characteristic curve (or ROC curve) is another tool for evaluating the classfication performance of different models. For any given model, the ROC curve plots the tradoff between the false positive rate on the x-axis against the true positive rate (aka Precision) for different choices of thresholds for a binary classifier. In one extreme case, if the classification threshold is 0, then all instances (for non-perfect models) will be classified as 0, leading to a false positive rate of 0, but also a true postive rate of 0. In the other extreme case, a threshold of 1 leads to a true positive rate/recall of 1 but also a false postive rate of 1. \n",
    "\n",
    "In terms of evaluating classification performance, an ROC curve which is closer to the (FPR = 0, TPR = 1) point compared to another indicates that the former model strictly dominates the latter. Beyond just the curve, one summary measure is simply the AUC or (A)rea (U)nder the ROC (C)urve. A completely random model will produce an AUC of 0.5 while a perfect model will have an AUC of 1."
   ]
  },
  {
   "cell_type": "markdown",
   "metadata": {},
   "source": [
    "## Ridge Pipeline"
   ]
  },
  {
   "cell_type": "code",
   "execution_count": 265,
   "metadata": {},
   "outputs": [
    {
     "name": "stdout",
     "output_type": "stream",
     "text": [
      "<class 'pandas.core.frame.DataFrame'>\n",
      "Index: 5410 entries, PRV51001 to PRV57763\n",
      "Data columns (total 47 columns):\n",
      "Age                         5410 non-null float64\n",
      "Gender                      5410 non-null int64\n",
      "BeneID                      5410 non-null int64\n",
      "ClaimID                     5410 non-null int64\n",
      "NumDiag                     5410 non-null float64\n",
      "OPAnnualReimbursementAmt    5410 non-null float64\n",
      "IPAnnualReimbursementAmt    5410 non-null float64\n",
      "TotalClaim                  5410 non-null float64\n",
      "InscCovPercent              5410 non-null float64\n",
      "DailyCharge                 5410 non-null float64\n",
      "DupRecord                   5410 non-null int64\n",
      "WhetherDead                 5410 non-null int64\n",
      "Alzheimer                   5410 non-null float64\n",
      "HeartFailure                5410 non-null float64\n",
      "KidneyDisease               5410 non-null float64\n",
      "Cancer                      5410 non-null float64\n",
      "ObstrPulmonary              5410 non-null float64\n",
      "Depression                  5410 non-null float64\n",
      "Diabetes                    5410 non-null float64\n",
      "IschemicHeart               5410 non-null float64\n",
      "Osteoporasis                5410 non-null float64\n",
      "RheumatoidArthritis         5410 non-null float64\n",
      "Stroke                      5410 non-null float64\n",
      "LargeClaims                 5410 non-null bool\n",
      "AdmissionDays_in            5410 non-null float64\n",
      "ClaimDays_in                5410 non-null float64\n",
      "ClaimDays_out               5410 non-null float64\n",
      "NumChronics_in              5410 non-null float64\n",
      "NumChronics_out             5410 non-null float64\n",
      "NumProc_in                  5410 non-null float64\n",
      "NumProc_out                 5410 non-null float64\n",
      "State_in                    5410 non-null float64\n",
      "State_out                   5410 non-null float64\n",
      "NumProc_Range               5410 non-null int64\n",
      "ClaimDays_Range             5410 non-null int64\n",
      "TotalClaim_Range            5410 non-null float64\n",
      "InscCovPercent_Range        5410 non-null float64\n",
      "DailyCharge_Range           5410 non-null float64\n",
      "PotentialFraud              5410 non-null int64\n",
      "docDegMax                   5410 non-null int64\n",
      "docBtwnMean                 5410 non-null float64\n",
      "docEignMean                 5410 non-null float64\n",
      "docMANN                     5410 non-null float64\n",
      "patDegMax                   5410 non-null int64\n",
      "patBtwnMean                 5410 non-null float64\n",
      "patEignMean                 5410 non-null float64\n",
      "patMANN                     5410 non-null float64\n",
      "dtypes: bool(1), float64(36), int64(10)\n",
      "memory usage: 2.1+ MB\n"
     ]
    }
   ],
   "source": [
    "data.info()"
   ]
  },
  {
   "cell_type": "code",
   "execution_count": 35,
   "metadata": {},
   "outputs": [
    {
     "name": "stdout",
     "output_type": "stream",
     "text": [
      " Logit Train Accuracy : 0.947\n",
      " Logit Train Precision: 0.960 (no fraud) and 0.722 (fraud)\n",
      " Logit Train Recall   : 0.984 (no fraud) and 0.511 (fraud)\n",
      " Logit Train F1 Score : 0.972 (no fraud) and 0.598 (fraud)\n",
      "      t/p   NoFraud   Fraud \n",
      "    NoFraud  1623.0    27.0 \n",
      "      Fraud    67.0    70.0 \n"
     ]
    },
    {
     "data": {
      "image/png": "[encoded data removed]",
      "text/plain": [
       "<Figure size 432x288 with 1 Axes>"
      ]
     },
     "metadata": {
      "needs_background": "light"
     },
     "output_type": "display_data"
    },
    {
     "data": {
      "image/png": "[encoded data removed]",
      "text/plain": [
       "<Figure size 648x504 with 1 Axes>"
      ]
     },
     "metadata": {
      "needs_background": "light"
     },
     "output_type": "display_data"
    }
   ],
   "source": [
    "from sklearn.pipeline import make_pipeline\n",
    "from sklearn.linear_model import LogisticRegression\n",
    "from sklearn.preprocessing import StandardScaler\n",
    "from sklearn.model_selection import train_test_split as tts\n",
    "\n",
    "x_train, x_test, y_train, y_test = tts(x,y,test_size=1.0/3, random_state=1)\n",
    "\n",
    "\n",
    "#x = preprocessing.scale(x_unscaled)\n",
    "model = make_pipeline(LogisticRegression(solver = 'lbfgs'))\n",
    "_ = model.fit(x_train, y_train)\n",
    "logitMetrics(x_test,y_test,model)\n",
    "\n",
    "#plt.figure(figsize = (5,10))\n",
    "#plt.subplot(211))\n",
    "confusion(x_test,y_test,model)\n",
    "ROC(x_test,y_test,model)\n",
    "#plt.subplot(212)\n",
    "feature_importance(model, 'logisticregression','No Regularization, Normalized Variables')"
   ]
  },
  {
   "cell_type": "code",
   "execution_count": 37,
   "metadata": {},
   "outputs": [],
   "source": [
    "def cost_model(x,y,model, programBudget = 1000000):\n",
    "    \n",
    "    y_pred = model.predict(x)\n",
    "    df = pd.DataFrame({'Target':y,\n",
    "                              'Prediction':y_pred}).\\\n",
    "    merge(data[['TotalClaim']], on='Provider', how='left')\n",
    "    \n",
    "    fraudAmount = df[df.Target==1]['TotalClaim']\n",
    "    investigationCost = 2.92 * fraudAmount  # PR Newswire\n",
    "    \n",
    "    recoveredFunds = df.query('Target==1 & Prediction==1')['TotalClaim']\n",
    "    falsePositives = df.query('Target==0 & Prediction==1').shape[0]\n",
    "    \n",
    "    totalMisspent = 5000 * falsePositives\n",
    "    \n",
    "    \n",
    "    totalFraud = fraudAmount.sum()\n",
    "    totalICost = investigationCost.sum()\n",
    "    totalRecovered = recoveredFunds.sum()\n",
    "    \n",
    "    net_value = programBudget - (totalFraud + totalICost + totalMisspent) + totalRecovered\n",
    "    \n",
    "    print()\n",
    "    print(\" Total Defrauded: $%d\" % (-totalFraud))\n",
    "    print(\" Total Recovered: $%d\" % (totalRecovered))\n",
    "    print(\" Cost of Investigation: $%d\" % (-totalICost))\n",
    "    print(\" Total Misspent on Wrong Targets: $%d\" % (-totalMisspent))\n",
    "    print(\" Net Value from Prediction Model: $%d\" % (net_value))\n",
    "    "
   ]
  },
  {
   "cell_type": "code",
   "execution_count": 34,
   "metadata": {},
   "outputs": [
    {
     "data": {
      "text/plain": [
       "27"
      ]
     },
     "execution_count": 34,
     "metadata": {},
     "output_type": "execute_result"
    }
   ],
   "source": [
    "df.query('Target==0 & Prediction==1').shape[0]"
   ]
  },
  {
   "cell_type": "code",
   "execution_count": 30,
   "metadata": {},
   "outputs": [
    {
     "data": {
      "text/plain": [
       "657735.4968256309"
      ]
     },
     "execution_count": 30,
     "metadata": {},
     "output_type": "execute_result"
    }
   ],
   "source": [
    "y_pred = model.predict(x_test)\n",
    "df = pd.DataFrame({'Target':y_test,'Prediction':y_pred}).merge(data[['TotalClaim']], on='Provider', how='left')\n",
    "df[df.Target==1]['TotalClaim'].sum()"
   ]
  },
  {
   "cell_type": "markdown",
   "metadata": {},
   "source": [
    "## Check Performance"
   ]
  },
  {
   "cell_type": "code",
   "execution_count": 267,
   "metadata": {},
   "outputs": [],
   "source": [
    "import warnings\n",
    "warnings.filterwarnings(action=\"ignore\", module=\"scipy\", message=\"^internal gelsd\")\n",
    "import sklearn.model_selection as ms"
   ]
  },
  {
   "cell_type": "code",
   "execution_count": 268,
   "metadata": {},
   "outputs": [],
   "source": [
    "# from sklearn.model_selection import RepeatedStratifiedKFold\n",
    "\n",
    "# cv = RepeatedStratifiedKFold(n_splits = 10,\n",
    "#                              n_repeats = 2,\n",
    "#                              random_state = 2)"
   ]
  },
  {
   "cell_type": "code",
   "execution_count": 38,
   "metadata": {},
   "outputs": [
    {
     "name": "stdout",
     "output_type": "stream",
     "text": [
      " Logit Train Accuracy : 0.499\n",
      " Logit Train Precision: 0.988 (no fraud) and 0.349 (fraud)\n",
      " Logit Train Recall   : 0.864 (no fraud) and 0.876 (fraud)\n",
      " Logit Train F1 Score : 0.922 (no fraud) and 0.499 (fraud)\n",
      "      t/p   NoFraud   Fraud \n",
      "    NoFraud  1426.0   224.0 \n",
      "      Fraud    17.0   120.0 \n"
     ]
    },
    {
     "data": {
      "image/png": "[encoded data removed]",
      "text/plain": [
       "<Figure size 432x288 with 1 Axes>"
      ]
     },
     "metadata": {
      "needs_background": "light"
     },
     "output_type": "display_data"
    },
    {
     "ename": "NameError",
     "evalue": "name 'program_budget' is not defined",
     "output_type": "error",
     "traceback": [
      "\u001b[0;31m---------------------------------------------------------------------------\u001b[0m",
      "\u001b[0;31mNameError\u001b[0m                                 Traceback (most recent call last)",
      "\u001b[0;32m<ipython-input-38-494cdd594d35>\u001b[0m in \u001b[0;36m<module>\u001b[0;34m\u001b[0m\n\u001b[1;32m     24\u001b[0m \u001b[0mconfusion\u001b[0m\u001b[0;34m(\u001b[0m\u001b[0mx_test\u001b[0m\u001b[0;34m,\u001b[0m\u001b[0my_test\u001b[0m\u001b[0;34m,\u001b[0m\u001b[0mmodel\u001b[0m\u001b[0;34m)\u001b[0m\u001b[0;34m\u001b[0m\u001b[0;34m\u001b[0m\u001b[0m\n\u001b[1;32m     25\u001b[0m \u001b[0mROC\u001b[0m\u001b[0;34m(\u001b[0m\u001b[0mx_test\u001b[0m\u001b[0;34m,\u001b[0m\u001b[0my_test\u001b[0m\u001b[0;34m,\u001b[0m\u001b[0mmodel\u001b[0m\u001b[0;34m)\u001b[0m\u001b[0;34m\u001b[0m\u001b[0;34m\u001b[0m\u001b[0m\n\u001b[0;32m---> 26\u001b[0;31m \u001b[0mcost_model\u001b[0m\u001b[0;34m(\u001b[0m\u001b[0mx_test\u001b[0m\u001b[0;34m,\u001b[0m\u001b[0my_test\u001b[0m\u001b[0;34m,\u001b[0m\u001b[0mmodel\u001b[0m\u001b[0;34m)\u001b[0m\u001b[0;34m\u001b[0m\u001b[0;34m\u001b[0m\u001b[0m\n\u001b[0m\u001b[1;32m     27\u001b[0m \u001b[0;34m\u001b[0m\u001b[0m\n\u001b[1;32m     28\u001b[0m \u001b[0mfeature_importance\u001b[0m\u001b[0;34m(\u001b[0m\u001b[0mmodel\u001b[0m\u001b[0;34m,\u001b[0m\u001b[0mname\u001b[0m\u001b[0;34m,\u001b[0m\u001b[0;34m'Ridge Regularization, Normalized Variables'\u001b[0m\u001b[0;34m)\u001b[0m\u001b[0;34m\u001b[0m\u001b[0;34m\u001b[0m\u001b[0m\n",
      "\u001b[0;32m<ipython-input-37-65dc92b50b75>\u001b[0m in \u001b[0;36mcost_model\u001b[0;34m(x, y, model, programBudget)\u001b[0m\n\u001b[1;32m     19\u001b[0m     \u001b[0mtotalRecovered\u001b[0m \u001b[0;34m=\u001b[0m \u001b[0mrecoveredFunds\u001b[0m\u001b[0;34m.\u001b[0m\u001b[0msum\u001b[0m\u001b[0;34m(\u001b[0m\u001b[0;34m)\u001b[0m\u001b[0;34m\u001b[0m\u001b[0;34m\u001b[0m\u001b[0m\n\u001b[1;32m     20\u001b[0m \u001b[0;34m\u001b[0m\u001b[0m\n\u001b[0;32m---> 21\u001b[0;31m     \u001b[0mnet_value\u001b[0m \u001b[0;34m=\u001b[0m \u001b[0mprogram_budget\u001b[0m \u001b[0;34m-\u001b[0m \u001b[0;34m(\u001b[0m\u001b[0mtotalFraud\u001b[0m \u001b[0;34m+\u001b[0m \u001b[0mtotalICost\u001b[0m \u001b[0;34m+\u001b[0m \u001b[0mtotalMisspent\u001b[0m\u001b[0;34m)\u001b[0m \u001b[0;34m+\u001b[0m \u001b[0mtotalRecovered\u001b[0m\u001b[0;34m\u001b[0m\u001b[0;34m\u001b[0m\u001b[0m\n\u001b[0m\u001b[1;32m     22\u001b[0m \u001b[0;34m\u001b[0m\u001b[0m\n\u001b[1;32m     23\u001b[0m     \u001b[0mprint\u001b[0m\u001b[0;34m(\u001b[0m\u001b[0;34m)\u001b[0m\u001b[0;34m\u001b[0m\u001b[0;34m\u001b[0m\u001b[0m\n",
      "\u001b[0;31mNameError\u001b[0m: name 'program_budget' is not defined"
     ]
    }
   ],
   "source": [
    "from sklearn.linear_model import LogisticRegressionCV\n",
    "from imblearn.over_sampling import BorderlineSMOTE\n",
    "from imblearn.under_sampling import RandomUnderSampler\n",
    "from imblearn.pipeline import Pipeline\n",
    "from sklearn.model_selection import RepeatedStratifiedKFold\n",
    "\n",
    "name = 'LogRegRecall'\n",
    "over = BorderlineSMOTE(sampling_strategy=0.2)\n",
    "under = RandomUnderSampler(sampling_strategy=0.6)\n",
    "\n",
    "steps = [#('o', over),\n",
    "         #('u', under),\n",
    "         (name, LogisticRegressionCV(Cs = np.logspace(-4,2,10),\n",
    "                     penalty='l2',\n",
    "                     scoring = 'f1',\n",
    "                     class_weight = 'balanced',\n",
    "                     #solver='liblinear',\n",
    "                     max_iter=1000))]\n",
    "\n",
    "model = Pipeline(steps = steps)\n",
    "_ = model.fit(x_train,y_train)\n",
    "\n",
    "logitMetrics(x_test,y_test,model)\n",
    "confusion(x_test,y_test,model)\n",
    "ROC(x_test,y_test,model)\n",
    "cost_model(x_test,y_test,model)\n",
    "\n",
    "feature_importance(model,name,'Ridge Regularization, Normalized Variables')"
   ]
  },
  {
   "cell_type": "code",
   "execution_count": 324,
   "metadata": {},
   "outputs": [
    {
     "name": "stdout",
     "output_type": "stream",
     "text": [
      " Logit Train Accuracy : 0.847\n",
      " Logit Train Precision: 0.991 (no fraud) and 0.324 (fraud)\n",
      " Logit Train Recall   : 0.842 (no fraud) and 0.912 (fraud)\n",
      " Logit Train F1 Score : 0.911 (no fraud) and 0.478 (fraud)\n",
      "      t/p   NoFraud   Fraud \n",
      "    NoFraud  1389.0   261.0 \n",
      "      Fraud    12.0   125.0 \n",
      "\n",
      " Recovered Funds: $2500000\n",
      " Total Fraud Cost: $7720000\n",
      " Legal Fees: $1305000\n",
      " Cost of Investigation: $685000\n",
      " Net Value from Prediction Model: $-7110000\n"
     ]
    },
    {
     "data": {
      "image/png": "[encoded data removed]",
      "text/plain": [
       "<Figure size 648x504 with 1 Axes>"
      ]
     },
     "metadata": {
      "needs_background": "light"
     },
     "output_type": "display_data"
    }
   ],
   "source": [
    "from sklearn.linear_model import RidgeClassifierCV\n",
    "from sklearn.model_selection import cross_validate\n",
    "from sklearn.model_selection import RepeatedStratifiedKFold\n",
    "\n",
    "name = 'Ridge_Classifier_Recall'\n",
    "over = BorderlineSMOTE(sampling_strategy=0.2)\n",
    "under = RandomUnderSampler(sampling_strategy=0.8)\n",
    "\n",
    "steps = [#('o', over),\n",
    "         #('u', under),\n",
    "         (name, RidgeClassifierCV(alphas = np.logspace(-2,2,10),\n",
    "                                class_weight='balanced',\n",
    "                                scoring = 'f1_weighted',\n",
    "                                store_cv_values = True))]\n",
    "\n",
    "\n",
    "model = Pipeline(steps = steps)\n",
    "_ = model.fit(x_train,y_train)\n",
    "\n",
    "logitMetrics(x_test,y_test,model);\n",
    "confusion_cost(x_test,y_test,model);\n",
    "feature_importance(model,name,'Ridge Regularization, Normalized Variables')\n"
   ]
  },
  {
   "cell_type": "markdown",
   "metadata": {},
   "source": [
    "## SMOTE\n",
    "\n",
    "Synthetic Minority Oversampling Technique\n",
    "\n",
    "### Pros\n",
    "- problem with imbalanced classification is there are too few examples of the minority class for a model to effectively learn the decision boundary.\n",
    "- we can oversample the minority to counterbalance this. \n",
    "    - we can duplicate examples from minority class prior to fitting the model\n",
    "    - this balances the class distribution but does not provide any additional information to the model. \n",
    "    \n",
    "\n",
    "### Cons\n",
    "- Synthetic examples created without considering majority class - resulting in ambiguous examples if there is strong overlap for the classes. \n",
    "    - In our case, at least for small providers, theres lots of overlap in the featurespace wrt number of patients, number of claims, etc. \n",
    "### Concerns:\n",
    "- Given that our target is not actual fraud but a potential fraud do we want confidence intervals / prediction intervals?\n",
    "- would an oversampling technique such as this diminish that?\n"
   ]
  },
  {
   "cell_type": "markdown",
   "metadata": {},
   "source": [
    "## Applying SMOTE to LogReg"
   ]
  },
  {
   "cell_type": "code",
   "execution_count": 441,
   "metadata": {},
   "outputs": [
    {
     "name": "stdout",
     "output_type": "stream",
     "text": [
      "Counter({0: 4904, 1: 506})\n",
      "Counter({0: 2101, 1: 1471})\n"
     ]
    },
    {
     "ename": "IndexError",
     "evalue": "only integers, slices (`:`), ellipsis (`...`), numpy.newaxis (`None`) and integer or boolean arrays are valid indices",
     "output_type": "error",
     "traceback": [
      "\u001b[0;31m---------------------------------------------------------------------------\u001b[0m",
      "\u001b[0;31mIndexError\u001b[0m                                Traceback (most recent call last)",
      "\u001b[0;32m<ipython-input-441-934f6a5eee46>\u001b[0m in \u001b[0;36m<module>\u001b[0;34m\u001b[0m\n\u001b[1;32m     22\u001b[0m \u001b[0;32mfor\u001b[0m \u001b[0mlabel\u001b[0m\u001b[0;34m,\u001b[0m \u001b[0m_\u001b[0m \u001b[0;32min\u001b[0m \u001b[0mcounters\u001b[0m\u001b[0;34m.\u001b[0m\u001b[0mitems\u001b[0m\u001b[0;34m(\u001b[0m\u001b[0;34m)\u001b[0m\u001b[0;34m:\u001b[0m\u001b[0;34m\u001b[0m\u001b[0;34m\u001b[0m\u001b[0m\n\u001b[1;32m     23\u001b[0m     \u001b[0mrow_ix\u001b[0m \u001b[0;34m=\u001b[0m \u001b[0mnp\u001b[0m\u001b[0;34m.\u001b[0m\u001b[0mwhere\u001b[0m\u001b[0;34m(\u001b[0m\u001b[0mys\u001b[0m\u001b[0;34m==\u001b[0m\u001b[0mlabel\u001b[0m\u001b[0;34m)\u001b[0m\u001b[0;34m[\u001b[0m\u001b[0;36m0\u001b[0m\u001b[0;34m]\u001b[0m\u001b[0;34m\u001b[0m\u001b[0;34m\u001b[0m\u001b[0m\n\u001b[0;32m---> 24\u001b[0;31m     \u001b[0max1\u001b[0m \u001b[0;34m=\u001b[0m \u001b[0mplt\u001b[0m\u001b[0;34m.\u001b[0m\u001b[0mscatter\u001b[0m\u001b[0;34m(\u001b[0m\u001b[0mxs\u001b[0m\u001b[0;34m[\u001b[0m\u001b[0mrow_ix\u001b[0m\u001b[0;34m,\u001b[0m \u001b[0;34m'docNet_max'\u001b[0m\u001b[0;34m]\u001b[0m\u001b[0;34m,\u001b[0m \u001b[0mxs\u001b[0m\u001b[0;34m[\u001b[0m\u001b[0mrow_ix\u001b[0m\u001b[0;34m,\u001b[0m\u001b[0;34m'State'\u001b[0m\u001b[0;34m]\u001b[0m\u001b[0;34m,\u001b[0m \u001b[0mlabel\u001b[0m\u001b[0;34m=\u001b[0m\u001b[0mstr\u001b[0m\u001b[0;34m(\u001b[0m\u001b[0mlabel\u001b[0m\u001b[0;34m)\u001b[0m\u001b[0;34m,\u001b[0m \u001b[0malpha\u001b[0m\u001b[0;34m=\u001b[0m\u001b[0;36m0.3\u001b[0m\u001b[0;34m)\u001b[0m\u001b[0;34m\u001b[0m\u001b[0;34m\u001b[0m\u001b[0m\n\u001b[0m\u001b[1;32m     25\u001b[0m \u001b[0;34m\u001b[0m\u001b[0m\n\u001b[1;32m     26\u001b[0m \u001b[0mplt\u001b[0m\u001b[0;34m.\u001b[0m\u001b[0mlegend\u001b[0m\u001b[0;34m(\u001b[0m\u001b[0;34m)\u001b[0m\u001b[0;34m\u001b[0m\u001b[0;34m\u001b[0m\u001b[0m\n",
      "\u001b[0;31mIndexError\u001b[0m: only integers, slices (`:`), ellipsis (`...`), numpy.newaxis (`None`) and integer or boolean arrays are valid indices"
     ]
    }
   ],
   "source": [
    "import imblearn\n",
    "from collections import Counter\n",
    "from imblearn.over_sampling import BorderlineSMOTE\n",
    "from imblearn.under_sampling import RandomUnderSampler\n",
    "from imblearn.pipeline import Pipeline\n",
    "from sklearn.metrics import classification_report\n",
    "\n",
    "counter = Counter(y)\n",
    "print(counter)\n",
    "# define pipeline\n",
    "over = BorderlineSMOTE(sampling_strategy=0.3)\n",
    "under = RandomUnderSampler(sampling_strategy=0.7)\n",
    "steps = [('o', over),('u', under)]\n",
    "pipeline = Pipeline(steps = steps)\n",
    "# transform the dataset\n",
    "xs,ys = pipeline.fit_resample(x,y)\n",
    "# summarize new class distribution\n",
    "counters = Counter(ys)\n",
    "print(counters)\n",
    "# scatter plot of examples by class label\n",
    "\n",
    "for label, _ in counters.items():\n",
    "    row_ix = np.where(ys==label)[0]\n",
    "    ax1 = plt.scatter(xs[row_ix, 'docNet_max'], xs[row_ix,'State'], label=str(label), alpha=0.3)\n",
    "    \n",
    "plt.legend()\n",
    "plt.show()"
   ]
  },
  {
   "cell_type": "code",
   "execution_count": 455,
   "metadata": {},
   "outputs": [
    {
     "name": "stdout",
     "output_type": "stream",
     "text": [
      "Counter({0: 3269, 1: 337})\n",
      " Logit Train Accuracy : 0.589\n",
      " Logit Train Precision: 0.951 (no fraud) and 0.737 (fraud)\n",
      " Logit Train Recall   : 0.981 (no fraud) and 0.507 (fraud)\n",
      " Logit Train F1 Score : 0.966 (no fraud) and 0.601 (fraud)\n"
     ]
    },
    {
     "data": {
      "image/png": "[encoded data removed]",
      "text/plain": [
       "<Figure size 432x288 with 1 Axes>"
      ]
     },
     "metadata": {
      "needs_background": "light"
     },
     "output_type": "display_data"
    },
    {
     "name": "stdout",
     "output_type": "stream",
     "text": [
      " Logit Train Accuracy : 0.573\n",
      " Logit Train Precision: 0.953 (no fraud) and 0.711 (fraud)\n",
      " Logit Train Recall   : 0.977 (no fraud) and 0.538 (fraud)\n",
      " Logit Train F1 Score : 0.965 (no fraud) and 0.613 (fraud)\n"
     ]
    },
    {
     "data": {
      "image/png": "[encoded data removed]",
      "text/plain": [
       "<Figure size 432x288 with 1 Axes>"
      ]
     },
     "metadata": {
      "needs_background": "light"
     },
     "output_type": "display_data"
    }
   ],
   "source": [
    "import imblearn\n",
    "from collections import Counter\n",
    "from imblearn.over_sampling import BorderlineSMOTE\n",
    "from imblearn.under_sampling import RandomUnderSampler\n",
    "from imblearn.pipeline import Pipeline\n",
    "from sklearn.metrics import classification_report\n",
    "from sklearn.model_selection import RepeatedStratifiedKFold\n",
    "from sklearn.model_selection import train_test_split as tts\n",
    "\n",
    "cv = RepeatedStratifiedKFold(n_splits = 10,\n",
    "                             n_repeats = 2,\n",
    "                             random_state = 100)\n",
    "\n",
    "\n",
    "logitcv_f1 = linear_model.LogisticRegressionCV(Cs = 10, # grid regularization\n",
    "                                               penalty='l1',\n",
    "                                               scoring = 'f1',\n",
    "                                               cv = cv,\n",
    "                                               solver = 'liblinear',\n",
    "                                               max_iter=1e5)\n",
    "\n",
    "counter = Counter(y_train)\n",
    "print(counter)\n",
    "# define pipeline\n",
    "over = BorderlineSMOTE(sampling_strategy=0.2)\n",
    "under = RandomUnderSampler(sampling_strategy=0.8)\n",
    "steps = [('over', over), ('under', under), ('model', logitcv_f1)]\n",
    "pipeline = Pipeline(steps=steps)\n",
    "\n",
    "pipeline.fit(x_train,y_train)\n",
    "\n",
    "logitMetrics(x_train,y_train, pipeline)\n",
    "\n",
    "logitMetrics(x_test,y_test, pipeline)"
   ]
  },
  {
   "cell_type": "markdown",
   "metadata": {},
   "source": [
    "## Summary\n",
    "Logistic Regression acheived a high of 0.65 F1-Score on the test set using a certain set of features in penalized model. Adding SMOTE upsampling and undersampling has not helped raise that score higher however."
   ]
  },
  {
   "cell_type": "markdown",
   "metadata": {},
   "source": [
    "## Pipelining Example: Chaining a PCA and a LogReg"
   ]
  },
  {
   "cell_type": "code",
   "execution_count": 478,
   "metadata": {},
   "outputs": [
    {
     "data": {
      "text/plain": [
       "dict_keys(['C', 'class_weight', 'dual', 'fit_intercept', 'intercept_scaling', 'l1_ratio', 'max_iter', 'multi_class', 'n_jobs', 'penalty', 'random_state', 'solver', 'tol', 'verbose', 'warm_start'])"
      ]
     },
     "execution_count": 478,
     "metadata": {},
     "output_type": "execute_result"
    }
   ],
   "source": [
    "logit.get_params().keys()"
   ]
  },
  {
   "cell_type": "code",
   "execution_count": 483,
   "metadata": {},
   "outputs": [
    {
     "name": "stdout",
     "output_type": "stream",
     "text": [
      "Best parameter (CV score=0.920):\n",
      "{'logistic__C': 0.046415888336127774, 'pca__n_components': 45}\n"
     ]
    }
   ],
   "source": [
    "from sklearn import datasets\n",
    "from sklearn.decomposition import PCA\n",
    "from sklearn.linear_model import LogisticRegression\n",
    "from sklearn.pipeline import Pipeline\n",
    "from sklearn.model_selection import GridSearchCV\n",
    "\n",
    "\n",
    "# Define a pipeline to search for the best combination of PCA truncation\n",
    "# and classifier regularization.\n",
    "pca = PCA()\n",
    "# set the tolerance to a large value to make the example faster\n",
    "logistic = LogisticRegression(max_iter=10000, tol=0.1)\n",
    "pipe = Pipeline(steps=[('pca', pca), ('logistic', logistic)])\n",
    "\n",
    "X_digits, y_digits = datasets.load_digits(return_X_y=True)\n",
    "\n",
    "# Parameters of pipelines can be set using ‘__’ separated parameter names:\n",
    "param_grid = {\n",
    "    'pca__n_components': [5, 15, 30, 45, 64],\n",
    "    'logistic__C': np.logspace(-4, 4, 4),\n",
    "}\n",
    "search = GridSearchCV(pipe, param_grid, n_jobs=1)\n",
    "search.fit(X_digits, y_digits)\n",
    "print(\"Best parameter (CV score=%0.3f):\" % search.best_score_)\n",
    "print(search.best_params_)\n"
   ]
  },
  {
   "cell_type": "code",
   "execution_count": 487,
   "metadata": {},
   "outputs": [
    {
     "data": {
      "image/png": "[encoded data removed]",
      "text/plain": [
       "<Figure size 432x432 with 2 Axes>"
      ]
     },
     "metadata": {
      "needs_background": "light"
     },
     "output_type": "display_data"
    }
   ],
   "source": [
    "# Plot the PCA spectrum\n",
    "pca.fit(X_digits)\n",
    "\n",
    "fig, (ax0, ax1) = plt.subplots(nrows=2, sharex=True, figsize=(6, 6))\n",
    "ax0.plot(np.arange(1, pca.n_components_ + 1),\n",
    "         pca.explained_variance_ratio_, '+', linewidth=2)\n",
    "ax0.set_ylabel('PCA explained variance ratio')\n",
    "\n",
    "ax0.axvline(search.best_estimator_.named_steps['pca'].n_components,\n",
    "            linestyle=':', label='n_components chosen')\n",
    "ax0.legend(prop=dict(size=12))\n",
    "\n",
    "# For each number of components, find the best classifier results\n",
    "results = pd.DataFrame(search.cv_results_)\n",
    "components_col = 'param_pca__n_components'\n",
    "best_clfs = results.groupby(components_col).apply(\n",
    "    lambda g: g.nlargest(1, 'mean_test_score'))\n",
    "\n",
    "best_clfs.plot(x=components_col, y='mean_test_score', yerr='std_test_score',\n",
    "               legend=False, ax=ax1)\n",
    "ax1.set_ylabel('Classification accuracy (val)')\n",
    "ax1.set_xlabel('n_components')\n",
    "\n",
    "plt.xlim(-1, 70)\n",
    "\n",
    "plt.tight_layout()\n",
    "plt.show()"
   ]
  },
  {
   "cell_type": "markdown",
   "metadata": {},
   "source": [
    "## Applying a Pipeline to our Problem"
   ]
  },
  {
   "cell_type": "code",
   "execution_count": 531,
   "metadata": {},
   "outputs": [],
   "source": [
    "y = data['PotentialFraud']\n",
    "x = data.drop(columns = ['DeductibleAmtPaid','State','NumProc', 'Age',\n",
    "                         'Alzheimer', 'HeartFailure','Cancer', 'ObstrPulmonary', \n",
    "                        'Depression', 'Diabetes','Osteoporasis', 'NumChronics_Range',\n",
    "                          'RheumatoidArthritis', 'Stroke','Gender', 'ClaimDays', 'docMANN',\n",
    "                          'NumChronics','PotentialFraud'])\n"
   ]
  },
  {
   "cell_type": "code",
   "execution_count": 544,
   "metadata": {},
   "outputs": [
    {
     "data": {
      "text/plain": [
       "GridSearchCV(cv=RepeatedStratifiedKFold(n_repeats=2, n_splits=5, random_state=42),\n",
       "             estimator=Pipeline(memory='/var/folders/wt/d16lpjjn7lg55klqpl7t286r0000gn/T/tmp_1o09xv9',\n",
       "                                steps=[('scaler', StandardScaler()),\n",
       "                                       ('pca', PCA()),\n",
       "                                       ('logit',\n",
       "                                        LogisticRegression(max_iter=10000,\n",
       "                                                           random_state=2,\n",
       "                                                           solver='liblinear',\n",
       "                                                           tol=0.1))]),\n",
       "             n_jobs=-1,\n",
       "             param_grid={'logit__C': array([1.00000000e-04, 7.74263683e-04, 5.99484250e-03, 4.64158883e-02,\n",
       "       3.59381366e-01, 2.78255940e+00, 2.15443469e+01, 1.66810054e+02,\n",
       "       1.29154967e+03, 1.00000000e+04]),\n",
       "                         'logit__penalty': ['l1', 'l2'],\n",
       "                         'pca__n_components': [5, 15, 30, 45, 64]},\n",
       "             refit=False, scoring=['f1_weighted'])"
      ]
     },
     "execution_count": 544,
     "metadata": {},
     "output_type": "execute_result"
    }
   ],
   "source": [
    "from tempfile import mkdtemp\n",
    "from shutil import rmtree\n",
    "from sklearn.decomposition import PCA\n",
    "from sklearn.linear_model import LogisticRegression\n",
    "from sklearn.pipeline import Pipeline\n",
    "from sklearn.model_selection import GridSearchCV,RepeatedStratifiedKFold\n",
    "from sklearn.metrics import classification_report\n",
    "from sklearn.preprocessing import StandardScaler\n",
    "\n",
    "# Define preprocessor\n",
    "scaler = StandardScaler()\n",
    "\n",
    "# Define a pipeline to search for the best combination of PCA truncation\n",
    "# and classifier regularization.\n",
    "pca = PCA()\n",
    "# set the tolerance to a large value to make the example faster\n",
    "logit = LogisticRegression(max_iter=10000, tol=0.1, \n",
    "                           solver = 'liblinear', random_state = 2)\n",
    "cachedir = mkdtemp()\n",
    "\n",
    "pipe = Pipeline(steps=[\n",
    "    ('scaler', scaler), \n",
    "    ('pca', pca), \n",
    "    ('logit', logit)], memory = cachedir)\n",
    "\n",
    "grid_params = {\n",
    "    'logit__C': np.logspace(-4,4,10),\n",
    "    'logit__penalty': ['l1','l2'],\n",
    "    'pca__n_components': [5, 15, 30, 45, 64],\n",
    "    \n",
    "}\n",
    "\n",
    "rskf = RepeatedStratifiedKFold(n_splits=5, n_repeats=2, random_state=42)\n",
    "\n",
    "cv = GridSearchCV(\n",
    "    pipe,\n",
    "    grid_params,\n",
    "    cv = rskf,\n",
    "    scoring = ['f1_weighted'],\n",
    "    refit = False,\n",
    "    n_jobs = -1\n",
    ")\n",
    "\n",
    "x_train, x_test, y_train, y_test = ms.train_test_split(x,y, \n",
    "                                                       test_size=1.0/3, random_state=0)\n",
    "\n",
    "cv.fit(x_train,y_train)\n"
   ]
  },
  {
   "cell_type": "code",
   "execution_count": 542,
   "metadata": {},
   "outputs": [
    {
     "data": {
      "text/plain": [
       "['__abstractmethods__',\n",
       " '__class__',\n",
       " '__delattr__',\n",
       " '__dict__',\n",
       " '__dir__',\n",
       " '__doc__',\n",
       " '__eq__',\n",
       " '__format__',\n",
       " '__ge__',\n",
       " '__getattribute__',\n",
       " '__getstate__',\n",
       " '__gt__',\n",
       " '__hash__',\n",
       " '__init__',\n",
       " '__init_subclass__',\n",
       " '__le__',\n",
       " '__lt__',\n",
       " '__module__',\n",
       " '__ne__',\n",
       " '__new__',\n",
       " '__reduce__',\n",
       " '__reduce_ex__',\n",
       " '__repr__',\n",
       " '__setattr__',\n",
       " '__setstate__',\n",
       " '__sizeof__',\n",
       " '__str__',\n",
       " '__subclasshook__',\n",
       " '__weakref__',\n",
       " '_abc_impl',\n",
       " '_check_is_fitted',\n",
       " '_check_n_features',\n",
       " '_estimator_type',\n",
       " '_format_results',\n",
       " '_get_param_names',\n",
       " '_get_tags',\n",
       " '_more_tags',\n",
       " '_pairwise',\n",
       " '_repr_html_',\n",
       " '_repr_html_inner',\n",
       " '_repr_mimebundle_',\n",
       " '_required_parameters',\n",
       " '_run_search',\n",
       " '_validate_data',\n",
       " 'classes_',\n",
       " 'cv',\n",
       " 'cv_results_',\n",
       " 'decision_function',\n",
       " 'error_score',\n",
       " 'estimator',\n",
       " 'fit',\n",
       " 'get_params',\n",
       " 'iid',\n",
       " 'inverse_transform',\n",
       " 'multimetric_',\n",
       " 'n_features_in_',\n",
       " 'n_jobs',\n",
       " 'n_splits_',\n",
       " 'param_grid',\n",
       " 'pre_dispatch',\n",
       " 'predict',\n",
       " 'predict_log_proba',\n",
       " 'predict_proba',\n",
       " 'refit',\n",
       " 'return_train_score',\n",
       " 'score',\n",
       " 'scorer_',\n",
       " 'scoring',\n",
       " 'set_params',\n",
       " 'transform',\n",
       " 'verbose']"
      ]
     },
     "execution_count": 542,
     "metadata": {},
     "output_type": "execute_result"
    }
   ],
   "source": [
    "dir(cv)\n",
    "# logitMetrics(x_train,y_train, cv)\n",
    "\n",
    "# logitMetrics(x_test,y_test, cv)"
   ]
  },
  {
   "cell_type": "code",
   "execution_count": 493,
   "metadata": {},
   "outputs": [
    {
     "data": {
      "text/plain": [
       "Index(['Age', 'Gender', 'BeneID', 'ClaimID', 'State', 'NumProc', 'NumDiag',\n",
       "       'NumChronics', 'InscClaimAmtReimbursed', 'DeductibleAmtPaid',\n",
       "       'ClaimDays', 'WhetherDead', 'Alzheimer', 'HeartFailure',\n",
       "       'KidneyDisease', 'Cancer', 'ObstrPulmonary', 'Depression', 'Diabetes',\n",
       "       'IschemicHeart', 'Osteoporasis', 'RheumatoidArthritis', 'Stroke',\n",
       "       'Age_Range', 'NumProc_Range', 'NumDiag_Range', 'NumChronics_Range',\n",
       "       'InscClaimAmtReimbursed_Range', 'ClaimDays_Range', 'Doctors',\n",
       "       'PotentialFraud', 'docDegMax', 'docBtwnMean', 'docEignMean', 'docMANN',\n",
       "       'patDegMax', 'patBtwnMean', 'patEignMean', 'patMANN', 'LargeClaims'],\n",
       "      dtype='object')"
      ]
     },
     "execution_count": 493,
     "metadata": {},
     "output_type": "execute_result"
    }
   ],
   "source": [
    "print(\"Best parameter (CV score=%0.3f):\" % search.best_score_)\n",
    "print(search.best_params_)"
   ]
  },
  {
   "cell_type": "code",
   "execution_count": null,
   "metadata": {},
   "outputs": [],
   "source": [
    "from sklearn.datasets import make_classification"
   ]
  },
  {
   "cell_type": "code",
   "execution_count": null,
   "metadata": {},
   "outputs": [],
   "source": [
    "X,y = make_classification(n_samples=10000, n_features=2, \n",
    "                          n_redundant=0, n_clusters_per_class=1, \n",
    "                          weights=[0.99], flip_y=0, random_state=1)"
   ]
  },
  {
   "cell_type": "code",
   "execution_count": null,
   "metadata": {},
   "outputs": [],
   "source": [
    "from collections import Counter\n",
    "counter = Counter(y)"
   ]
  },
  {
   "cell_type": "code",
   "execution_count": null,
   "metadata": {},
   "outputs": [],
   "source": [
    "counter"
   ]
  },
  {
   "cell_type": "code",
   "execution_count": null,
   "metadata": {},
   "outputs": [],
   "source": [
    "for label, _ in counter.items():\n",
    "    row_ix = np.where(y == label)[0]\n",
    "    plt.scatter(X[row_ix,0], X[row_ix,1], label=str(label))\n",
    "plt.legend()\n",
    "plt.show()"
   ]
  },
  {
   "cell_type": "code",
   "execution_count": null,
   "metadata": {},
   "outputs": [],
   "source": [
    "physData = data[['AttendingPhysician','OperatingPhysician','OtherPhysician','Provider','State','PotentialFraud']]\n",
    "physMelt = physData.melt(id_vars=['Provider','State','PotentialFraud'],var_name='Type', value_name='Doctor').dropna(axis=0).drop_duplicates()\n",
    "physNet = physMelt.groupby(['Doctor','PotentialFraud'])['Provider'].nunique().reset_index()"
   ]
  },
  {
   "cell_type": "code",
   "execution_count": null,
   "metadata": {},
   "outputs": [],
   "source": [
    "fraudCount = physNet.groupby(['Provider','PotentialFraud'])['Doctor'].count().reset_index()"
   ]
  },
  {
   "cell_type": "code",
   "execution_count": null,
   "metadata": {},
   "outputs": [],
   "source": [
    "import numpy as np\n",
    "fraudCount['logCount'] = np.log(fraudCount.Doctor+1)"
   ]
  },
  {
   "cell_type": "code",
   "execution_count": null,
   "metadata": {},
   "outputs": [],
   "source": [
    "plt.figure(figsize=(12,6))\n",
    "\n",
    "\n",
    "ax2 = sns.barplot(x = 'Provider',y = 'Doctor', hue = 'PotentialFraud', data = fraudCount)\n",
    "ax2.set(xlabel='# Providers', ylabel = 'Log Count of Doctors')\n",
    "plt.tight_layout()\n",
    "ax2.set(yscale=\"log\")\n",
    "plt.annotate('Shows log count of \\ndoctors listed on claims for \\nmultiple providers\\n by fraud flags', (4.6, 2000.5))\n",
    "\n",
    "ax2.figure.savefig(\"./visualizations/plots/numProviders.png\",bbox_inches='tight')"
   ]
  },
  {
   "cell_type": "code",
   "execution_count": null,
   "metadata": {},
   "outputs": [],
   "source": [
    "physNet.groupby('State').count()"
   ]
  },
  {
   "cell_type": "code",
   "execution_count": null,
   "metadata": {},
   "outputs": [],
   "source": [
    "beneData = data[['BeneID','Provider','PotentialFraud']]\n",
    "beneNet = beneData.groupby(['BeneID','PotentialFraud'])['Provider'].nunique().reset_index()"
   ]
  },
  {
   "cell_type": "code",
   "execution_count": null,
   "metadata": {},
   "outputs": [],
   "source": [
    "d = data.groupby(['Age','PotentialFraud'])['Provider'].nunique().reset_index()\n",
    "pivoted = d.pivot_table(values='Provider', index = 'Age', columns='PotentialFraud')\n",
    "# ax1 = sns.lineplot(x = 'Age', y = 'Provider', hue = 'PotentialFraud', data = d)\n",
    "# ax1.set(yscale=\"log\")"
   ]
  },
  {
   "cell_type": "code",
   "execution_count": null,
   "metadata": {},
   "outputs": [],
   "source": [
    "pivot_scale = (pivoted[['?','No','Yes']] - pivoted.mean(axis=0))/pivoted.std(axis=0)"
   ]
  },
  {
   "cell_type": "code",
   "execution_count": null,
   "metadata": {},
   "outputs": [],
   "source": [
    "pivot_scale = pivot_scale.reset_index()"
   ]
  },
  {
   "cell_type": "code",
   "execution_count": null,
   "metadata": {},
   "outputs": [],
   "source": [
    "pivot_scale = pivot_scale.melt(id_vars = 'Age')"
   ]
  },
  {
   "cell_type": "code",
   "execution_count": null,
   "metadata": {},
   "outputs": [],
   "source": [
    "def plot_count_across_fraud(data, feature, plotType = 'line'):\n",
    "    d = data.groupby([feature,'PotentialFraud'])['Provider'].nunique().reset_index()\n",
    "    pivoted = d.pivot_table(values='Provider', index = feature, columns='PotentialFraud')\n",
    "    pivot_scale = (pivoted[['?','No','Yes']] - pivoted.mean(axis=0))/pivoted.std(axis=0)\n",
    "    pivot_scale = pivot_scale.reset_index()\n",
    "    d_scaled = pivot_scale.melt(id_vars = feature)\n",
    "    \n",
    "    if plotType == 'line':\n",
    "        ax1 = sns.lineplot(x = feature, hue = 'PotentialFraud', y = 'value', data=d_scaled)\n",
    "    elif plotType == 'scatter':\n",
    "        ax1 = sns.scatterplot(x = feature, hue = 'PotentialFraud', y = 'value', data=d_scaled)\n",
    "    ax1.set(title='Standardized Number of Providers\\n that filed Claims matching this Feature')\n",
    "    plt.tight_layout()\n",
    "    return\n",
    "\n"
   ]
  },
  {
   "cell_type": "code",
   "execution_count": null,
   "metadata": {},
   "outputs": [],
   "source": [
    "plot_count_across_fraud(data, 'Age')\n"
   ]
  },
  {
   "cell_type": "code",
   "execution_count": null,
   "metadata": {},
   "outputs": [],
   "source": [
    "d = data.groupby(['Age','PotentialFraud'])['ClaimID'].count().reset_index()\n",
    "pivoted = d.pivot_table(values='ClaimID', index = 'Age', columns='PotentialFraud')\n",
    "pivot_scale = (pivoted[['?','No','Yes']] - pivoted.mean(axis=0))/pivoted.std(axis=0)\n",
    "pivot_scale = pivot_scale.reset_index()\n",
    "d_scaled = pivot_scale.melt(id_vars = 'Age')"
   ]
  },
  {
   "cell_type": "code",
   "execution_count": null,
   "metadata": {},
   "outputs": [],
   "source": [
    "data.columns"
   ]
  },
  {
   "cell_type": "code",
   "execution_count": null,
   "metadata": {},
   "outputs": [],
   "source": [
    "def reg_proc(feature):\n",
    "    regressor = linear_model.LogisticRegression()\n",
    "    regressor.fit(X, y)\n",
    "\n",
    "    y_pred = regressor.predict(X)        \n",
    "    return(y_pred)\n",
    "\n",
    "pred_df = pd.DataFrame({lab: reg_proc(lab) for lab in countries.columns}, \n",
    "                       columns = countries.columns)"
   ]
  },
  {
   "cell_type": "code",
   "execution_count": null,
   "metadata": {},
   "outputs": [],
   "source": []
  },
  {
   "cell_type": "code",
   "execution_count": null,
   "metadata": {},
   "outputs": [],
   "source": []
  },
  {
   "cell_type": "code",
   "execution_count": null,
   "metadata": {},
   "outputs": [],
   "source": [
    "\n",
    "ax1 = sns.lineplot(x = 'Age', hue = 'PotentialFraud', y = 'value', data=pivot_scale)\n",
    "\n",
    "#ax1.set(xlabel='# Providers', ylabel='Log Count of Patients')\n",
    "\n",
    "#plt.annotate('Shows log count of patients that are on claims filed at \\nmultiple providers by fraud flags', (8.6, 10005))\n",
    "\n",
    "#plt.tight_layout()\n",
    "#ax1.figure.savefig(\"./visualizations/plots/multiProvider-Bene.png\",bbox_inches='tight')"
   ]
  },
  {
   "cell_type": "code",
   "execution_count": null,
   "metadata": {},
   "outputs": [],
   "source": [
    "data.groupby(['Status','WhetherDead'])['BeneID'].count().reset_index()"
   ]
  },
  {
   "cell_type": "code",
   "execution_count": null,
   "metadata": {},
   "outputs": [],
   "source": [
    "print(379/(379+49646))\n",
    "print(4792/(4792+638786))\n"
   ]
  },
  {
   "cell_type": "code",
   "execution_count": null,
   "metadata": {},
   "outputs": [],
   "source": [
    "data.groupby(['Status','PotentialFraud'])['ClaimID'].count().reset_index().head(20)"
   ]
  },
  {
   "cell_type": "code",
   "execution_count": null,
   "metadata": {},
   "outputs": [],
   "source": [
    "physData = data[['AttendingPhysician','OperatingPhysician','OtherPhysician','State','County']]\n",
    "physMelt = physData.melt(id_vars=['State','County'],var_name='Type', value_name='Doctor').dropna(axis=0)\n",
    "physNet = physMelt.groupby(['Doctor','State'])['County'].nunique().reset_index()\n",
    "\n",
    "plt.figure(figsize=(12,6))\n",
    "\n",
    "for state in physNet.State.unique():\n",
    "    filename = \"./visualizations/plots/crossing_county/Doctors/State_\" + str(state) + \".png\"\n",
    "    ax1 = sns.countplot(x = 'County', data=physNet[physNet.State==state], palette = 'muted');\n",
    "    ax1.set(xlabel='Number of Counties Doctors Operate in for State ' + str(state), \n",
    "            ylabel='Count of Doctors');\n",
    "    ax1.figure.savefig(filename,bbox_inches='tight')"
   ]
  },
  {
   "cell_type": "code",
   "execution_count": null,
   "metadata": {},
   "outputs": [],
   "source": [
    "beneData = data[['BeneID','Provider','State','County']]\n",
    "beneNet = beneData.groupby(['BeneID','Provider'])['County'].nunique().reset_index()\n",
    "\n",
    "plt.figure(figsize=(12,6))\n",
    "\n",
    "\n",
    "ax1 = sns.countplot(x = 'County', data=beneNet, palette = 'muted')\n",
    "\n",
    "ax1.set(xlabel='Number of Counties', ylabel='Number of Doctors')\n",
    "\n",
    "#ax1.figure.savefig(\"./visualizations/plots/multistateDoctors.png\",bbox_inches='tight')"
   ]
  },
  {
   "cell_type": "code",
   "execution_count": null,
   "metadata": {},
   "outputs": [],
   "source": [
    "target.copy(deep=True)"
   ]
  },
  {
   "cell_type": "code",
   "execution_count": null,
   "metadata": {},
   "outputs": [],
   "source": [
    "data.groupby('Provider')['State'].nunique().to_dict()"
   ]
  },
  {
   "cell_type": "code",
   "execution_count": null,
   "metadata": {},
   "outputs": [],
   "source": [
    "plt.figure(figsize=(6,8))\n",
    "\n",
    "ax1 = plt.subplot(311)\n",
    "\n",
    "ax1 = sns.distplot(a = numClaims[numClaims.PotentialFraud=='?']['ClaimID'], kde=False)\n",
    "ax1.set(yscale=\"log\")\n",
    "ax1.set(xlabel='Number of Claims')\n",
    "plt.tight_layout()\n",
    "plt.xlim(0,9000)\n",
    "plt.annotate('Fraud: ?', (1000.6, 105))\n",
    "\n",
    "\n",
    "ax2 = plt.subplot(312)\n",
    "ax2 = sns.distplot(a = numClaims[numClaims.PotentialFraud=='Yes']['ClaimID'], kde=False)\n",
    "ax2.set(yscale=\"log\")\n",
    "ax2.set(xlabel='Number of Claims')\n",
    "plt.tight_layout()\n",
    "plt.xlim(0,9000)\n",
    "plt.annotate('Fraud: Yes', (1000.6, 105))\n",
    "\n",
    "ax3 = plt.subplot(313)\n",
    "ax3 = sns.distplot(a = numClaims[numClaims.PotentialFraud=='No']['ClaimID'], kde=False)\n",
    "ax3.set(yscale=\"log\")\n",
    "ax3.set(xlabel='Number of Claims')\n",
    "plt.tight_layout()\n",
    "plt.xlim(0,9000)\n",
    "plt.annotate('Fraud: No', (1000.6, 105))"
   ]
  },
  {
   "cell_type": "code",
   "execution_count": null,
   "metadata": {},
   "outputs": [],
   "source": [
    "provData = data[['Provider','PotentialFraud','State','County']]\n",
    "provNet = provData.groupby(['Provider','PotentialFraud'])['State'].nunique().reset_index()\n",
    "\n",
    "plt.figure(figsize=(12,6))\n",
    "\n",
    "\n",
    "ax1 = sns.countplot(x = 'State', hue = 'PotentialFraud', data=provNet, palette = 'muted')\n",
    "\n",
    "ax1.set(xlabel='Number of States', ylabel='Number of Providers operating')\n",
    "ax1.set(yscale=\"log\")\n",
    "ax1.figure.savefig(\"./visualizations/plots/multistateProviders.png\",bbox_inches='tight')"
   ]
  },
  {
   "cell_type": "code",
   "execution_count": null,
   "metadata": {},
   "outputs": [],
   "source": [
    "provData = data[['Provider','State','County']]\n",
    "provNet = provData.groupby(['Provider','State'])['County'].nunique().reset_index().drop_duplicates()\n",
    "\n",
    "plt.figure(figsize=(12,6))\n",
    "\n",
    "for state in provNet.State.unique():\n",
    "    filename = \"./visualizations/plots/crossing_county/Providers/State_\" + str(state) + \".png\"\n",
    "    ax1 = sns.countplot(x = 'County', data=provNet[provNet.State==state], palette = 'muted');\n",
    "    ax1.set(xlabel='Number of Counties Providers Operate in for State ' + str(state), \n",
    "            ylabel='Count of Providers');\n",
    "    ax1.figure.savefig(filename,bbox_inches='tight')"
   ]
  }
 ],
 "metadata": {
  "kernelspec": {
   "display_name": "Python 3",
   "language": "python",
   "name": "python3"
  },
  "language_info": {
   "codemirror_mode": {
    "name": "ipython",
    "version": 3
   },
   "file_extension": ".py",
   "mimetype": "text/x-python",
   "name": "python",
   "nbconvert_exporter": "python",
   "pygments_lexer": "ipython3",
   "version": "3.7.4"
  }
 },
 "nbformat": 4,
 "nbformat_minor": 2
}
