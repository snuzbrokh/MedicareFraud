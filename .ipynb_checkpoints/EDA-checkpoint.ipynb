{
 "cells": [
  {
   "cell_type": "code",
   "execution_count": 88,
   "metadata": {},
   "outputs": [],
   "source": [
    "import numpy as np\n",
    "import pandas as pd\n",
    "import scipy.stats\n",
    "\n",
    "%matplotlib inline\n",
    "import matplotlib.pyplot as plt\n",
    "import seaborn as sns"
   ]
  },
  {
   "cell_type": "code",
   "execution_count": 93,
   "metadata": {},
   "outputs": [
    {
     "name": "stdout",
     "output_type": "stream",
     "text": [
      "(202524, 26)\n",
      "(50025, 31)\n",
      "(643578, 28)\n",
      "(6763, 3)\n",
      "(63968, 25)\n",
      "(9551, 30)\n",
      "(125841, 27)\n",
      "(1353, 1)\n"
     ]
    }
   ],
   "source": [
    "bene_train = pd.read_csv('./data/Train_Beneficiary.csv')\n",
    "inpat_train = pd.read_csv('./data/Train_Inpatient.csv')\n",
    "outpat_train = pd.read_csv('./data/Train_Outpatient.csv')\n",
    "target_train = pd.read_csv('./data/Train.csv')\n",
    "\n",
    "print(bene.shape)\n",
    "print(inpat.shape)\n",
    "print(outpat.shape)\n",
    "print(target.shape)\n",
    "\n",
    "bene_test = pd.read_csv('./data/Test_Beneficiary.csv')\n",
    "inpat_test = pd.read_csv('./data/Test_Inpatient.csv')\n",
    "outpat_test = pd.read_csv('./data/Test_Outpatient.csv')\n",
    "target_test = pd.read_csv('./data/Test.csv')\n",
    "\n",
    "print(bene_test.shape)\n",
    "print(inpat_test.shape)\n",
    "print(outpat_test.shape)\n",
    "print(target_test.shape)"
   ]
  },
  {
   "cell_type": "code",
   "execution_count": 147,
   "metadata": {},
   "outputs": [],
   "source": [
    "bene_train['Set'] = 'Train'\n",
    "inpat_train['Set'] = 'Train'\n",
    "outpat_train['Set'] = 'Train'\n",
    "target_train['Set'] = 'Train'\n",
    "\n",
    "bene_test['Set'] = 'Test'\n",
    "inpat_test['Set'] = 'Test'\n",
    "outpat_test['Set'] = 'Test'\n",
    "target_test['Set'] = 'Test'"
   ]
  },
  {
   "cell_type": "code",
   "execution_count": 178,
   "metadata": {},
   "outputs": [
    {
     "name": "stderr",
     "output_type": "stream",
     "text": [
      "/usr/local/anaconda3/lib/python3.7/site-packages/ipykernel_launcher.py:4: FutureWarning: Sorting because non-concatenation axis is not aligned. A future version\n",
      "of pandas will change to not sort by default.\n",
      "\n",
      "To accept the future behavior, pass 'sort=False'.\n",
      "\n",
      "To retain the current behavior and silence the warning, pass 'sort=True'.\n",
      "\n",
      "  after removing the cwd from sys.path.\n"
     ]
    }
   ],
   "source": [
    "bene = pd.concat([bene_train,bene_test]).reset_index(drop=True)\n",
    "inpat = pd.concat([inpat_train,inpat_test]).reset_index(drop=True)\n",
    "outpat = pd.concat([outpat_train,outpat_test]).reset_index(drop=True)\n",
    "target = pd.concat([target_train,target_test]).reset_index(drop=True)"
   ]
  },
  {
   "cell_type": "code",
   "execution_count": 179,
   "metadata": {},
   "outputs": [],
   "source": [
    "bene = bene.replace({'ChronicCond_Alzheimer': 2, 'ChronicCond_Heartfailure': 2, 'ChronicCond_KidneyDisease': 2,\n",
    "                           'ChronicCond_Cancer': 2, 'ChronicCond_ObstrPulmonary': 2, 'ChronicCond_Depression': 2, \n",
    "                           'ChronicCond_Diabetes': 2, 'ChronicCond_IschemicHeart': 2, 'ChronicCond_Osteoporasis': 2, \n",
    "                           'ChronicCond_rheumatoidarthritis': 2, 'ChronicCond_stroke': 2, 'Gender': 2 }, 0)\n",
    "bene = bene.replace({'RenalDiseaseIndicator': 'Y'}, 1).astype({'RenalDiseaseIndicator': 'int64'})"
   ]
  },
  {
   "cell_type": "code",
   "execution_count": 180,
   "metadata": {},
   "outputs": [],
   "source": [
    "bene.rename(columns = {\"ChronicCond_Alzheimer\":\"Alzheimer\",\n",
    "             \"ChronicCond_Heartfailure\":\"HeartFailure\",\n",
    "             \"ChronicCond_KidneyDisease\":\"KidneyDisease\",\n",
    "             \"ChronicCond_Diabetes\":\"Diabetes\",\n",
    "             \"ChronicCond_IschemicHeart\":\"IschemicHeart\",\n",
    "             \"ChronicCond_Osteoporasis\":\"Osteoporasis\",\n",
    "             \"ChronicCond_rheumatoidarthritis\":\"RheumatoidArthritis\",\n",
    "             \"ChronicCond_stroke\":\"Stroke\",\n",
    "             \"ChronicCond_Cancer\":\"Cancer\",\n",
    "             \"ChronicCond_ObstrPulmonary\":\"ObstrPulmonary\",\n",
    "             \"ChronicCond_Depression\":\"Depression\"}, inplace=True)"
   ]
  },
  {
   "cell_type": "code",
   "execution_count": 181,
   "metadata": {},
   "outputs": [
    {
     "data": {
      "text/html": [
       "<div>\n",
       "<style scoped>\n",
       "    .dataframe tbody tr th:only-of-type {\n",
       "        vertical-align: middle;\n",
       "    }\n",
       "\n",
       "    .dataframe tbody tr th {\n",
       "        vertical-align: top;\n",
       "    }\n",
       "\n",
       "    .dataframe thead th {\n",
       "        text-align: right;\n",
       "    }\n",
       "</style>\n",
       "<table border=\"1\" class=\"dataframe\">\n",
       "  <thead>\n",
       "    <tr style=\"text-align: right;\">\n",
       "      <th></th>\n",
       "      <th>BeneID</th>\n",
       "      <th>DOB</th>\n",
       "      <th>DOD</th>\n",
       "      <th>Gender</th>\n",
       "      <th>Race</th>\n",
       "      <th>RenalDiseaseIndicator</th>\n",
       "      <th>State</th>\n",
       "      <th>County</th>\n",
       "      <th>NoOfMonths_PartACov</th>\n",
       "      <th>NoOfMonths_PartBCov</th>\n",
       "      <th>...</th>\n",
       "      <th>Diabetes</th>\n",
       "      <th>IschemicHeart</th>\n",
       "      <th>Osteoporasis</th>\n",
       "      <th>RheumatoidArthritis</th>\n",
       "      <th>Stroke</th>\n",
       "      <th>IPAnnualReimbursementAmt</th>\n",
       "      <th>IPAnnualDeductibleAmt</th>\n",
       "      <th>OPAnnualReimbursementAmt</th>\n",
       "      <th>OPAnnualDeductibleAmt</th>\n",
       "      <th>Set</th>\n",
       "    </tr>\n",
       "  </thead>\n",
       "  <tbody>\n",
       "    <tr>\n",
       "      <td>156938</td>\n",
       "      <td>BENE53505</td>\n",
       "      <td>1929-10-01</td>\n",
       "      <td>NaN</td>\n",
       "      <td>1</td>\n",
       "      <td>1</td>\n",
       "      <td>1</td>\n",
       "      <td>18</td>\n",
       "      <td>550</td>\n",
       "      <td>12</td>\n",
       "      <td>12</td>\n",
       "      <td>...</td>\n",
       "      <td>1</td>\n",
       "      <td>1</td>\n",
       "      <td>1</td>\n",
       "      <td>1</td>\n",
       "      <td>1</td>\n",
       "      <td>29000</td>\n",
       "      <td>3204</td>\n",
       "      <td>4010</td>\n",
       "      <td>460</td>\n",
       "      <td>Test</td>\n",
       "    </tr>\n",
       "    <tr>\n",
       "      <td>190946</td>\n",
       "      <td>BENE132402</td>\n",
       "      <td>1923-07-01</td>\n",
       "      <td>NaN</td>\n",
       "      <td>0</td>\n",
       "      <td>1</td>\n",
       "      <td>0</td>\n",
       "      <td>16</td>\n",
       "      <td>680</td>\n",
       "      <td>12</td>\n",
       "      <td>12</td>\n",
       "      <td>...</td>\n",
       "      <td>1</td>\n",
       "      <td>0</td>\n",
       "      <td>0</td>\n",
       "      <td>0</td>\n",
       "      <td>0</td>\n",
       "      <td>0</td>\n",
       "      <td>0</td>\n",
       "      <td>150</td>\n",
       "      <td>70</td>\n",
       "      <td>Test</td>\n",
       "    </tr>\n",
       "    <tr>\n",
       "      <td>169070</td>\n",
       "      <td>BENE81748</td>\n",
       "      <td>1923-05-01</td>\n",
       "      <td>NaN</td>\n",
       "      <td>1</td>\n",
       "      <td>3</td>\n",
       "      <td>0</td>\n",
       "      <td>5</td>\n",
       "      <td>200</td>\n",
       "      <td>12</td>\n",
       "      <td>12</td>\n",
       "      <td>...</td>\n",
       "      <td>1</td>\n",
       "      <td>1</td>\n",
       "      <td>0</td>\n",
       "      <td>1</td>\n",
       "      <td>0</td>\n",
       "      <td>9000</td>\n",
       "      <td>2136</td>\n",
       "      <td>4940</td>\n",
       "      <td>210</td>\n",
       "      <td>Test</td>\n",
       "    </tr>\n",
       "    <tr>\n",
       "      <td>50465</td>\n",
       "      <td>BENE65052</td>\n",
       "      <td>1927-08-01</td>\n",
       "      <td>NaN</td>\n",
       "      <td>1</td>\n",
       "      <td>1</td>\n",
       "      <td>0</td>\n",
       "      <td>49</td>\n",
       "      <td>520</td>\n",
       "      <td>12</td>\n",
       "      <td>12</td>\n",
       "      <td>...</td>\n",
       "      <td>1</td>\n",
       "      <td>1</td>\n",
       "      <td>1</td>\n",
       "      <td>0</td>\n",
       "      <td>1</td>\n",
       "      <td>0</td>\n",
       "      <td>0</td>\n",
       "      <td>770</td>\n",
       "      <td>270</td>\n",
       "      <td>Train</td>\n",
       "    </tr>\n",
       "  </tbody>\n",
       "</table>\n",
       "<p>4 rows × 26 columns</p>\n",
       "</div>"
      ],
      "text/plain": [
       "            BeneID         DOB  DOD  Gender  Race  RenalDiseaseIndicator  \\\n",
       "156938   BENE53505  1929-10-01  NaN       1     1                      1   \n",
       "190946  BENE132402  1923-07-01  NaN       0     1                      0   \n",
       "169070   BENE81748  1923-05-01  NaN       1     3                      0   \n",
       "50465    BENE65052  1927-08-01  NaN       1     1                      0   \n",
       "\n",
       "        State  County  NoOfMonths_PartACov  NoOfMonths_PartBCov  ...  \\\n",
       "156938     18     550                   12                   12  ...   \n",
       "190946     16     680                   12                   12  ...   \n",
       "169070      5     200                   12                   12  ...   \n",
       "50465      49     520                   12                   12  ...   \n",
       "\n",
       "        Diabetes  IschemicHeart  Osteoporasis  RheumatoidArthritis  Stroke  \\\n",
       "156938         1              1             1                    1       1   \n",
       "190946         1              0             0                    0       0   \n",
       "169070         1              1             0                    1       0   \n",
       "50465          1              1             1                    0       1   \n",
       "\n",
       "        IPAnnualReimbursementAmt  IPAnnualDeductibleAmt  \\\n",
       "156938                     29000                   3204   \n",
       "190946                         0                      0   \n",
       "169070                      9000                   2136   \n",
       "50465                          0                      0   \n",
       "\n",
       "        OPAnnualReimbursementAmt  OPAnnualDeductibleAmt    Set  \n",
       "156938                      4010                    460   Test  \n",
       "190946                       150                     70   Test  \n",
       "169070                      4940                    210   Test  \n",
       "50465                        770                    270  Train  \n",
       "\n",
       "[4 rows x 26 columns]"
      ]
     },
     "execution_count": 181,
     "metadata": {},
     "output_type": "execute_result"
    }
   ],
   "source": [
    "bene.sample(4)"
   ]
  },
  {
   "cell_type": "code",
   "execution_count": null,
   "metadata": {},
   "outputs": [],
   "source": []
  },
  {
   "cell_type": "code",
   "execution_count": 182,
   "metadata": {},
   "outputs": [
    {
     "data": {
      "image/png": "[encoded data removed]",
      "text/plain": [
       "<Figure size 720x432 with 1 Axes>"
      ]
     },
     "metadata": {
      "needs_background": "light"
     },
     "output_type": "display_data"
    }
   ],
   "source": [
    "plt.title(\"Potential Fraud Test distribution\")\n",
    "target.groupby( [\"PotentialFraud\"] ).Provider.count().plot(kind = \"bar\", figsize = (10,6))\n",
    "plt.xlabel('Status')\n",
    "plt.ylabel('Count')\n",
    "plt.show()"
   ]
  },
  {
   "cell_type": "markdown",
   "metadata": {},
   "source": [
    "Change label to binary for fraud target"
   ]
  },
  {
   "cell_type": "code",
   "execution_count": 183,
   "metadata": {},
   "outputs": [],
   "source": [
    "target.fillna('?',inplace=True)"
   ]
  },
  {
   "cell_type": "code",
   "execution_count": 184,
   "metadata": {},
   "outputs": [],
   "source": [
    "#target[\"target\"] = np.where(target.PotentialFraud == \"Yes\", 1, 0) \n"
   ]
  },
  {
   "cell_type": "markdown",
   "metadata": {},
   "source": [
    "Add Features to flag if patient is dead\n"
   ]
  },
  {
   "cell_type": "code",
   "execution_count": 185,
   "metadata": {},
   "outputs": [],
   "source": [
    "bene['WhetherDead']= 0\n",
    "bene.loc[bene.DOD.notna(),'WhetherDead'] = 1"
   ]
  },
  {
   "cell_type": "markdown",
   "metadata": {},
   "source": [
    "Create Flag Before merge to track whats inpatient and whats outpatient"
   ]
  },
  {
   "cell_type": "code",
   "execution_count": 186,
   "metadata": {},
   "outputs": [],
   "source": [
    "inpat['Status'] = 'in'\n",
    "outpat['Status'] = 'out'"
   ]
  },
  {
   "cell_type": "markdown",
   "metadata": {},
   "source": [
    "Combine inpatient and outpatient data"
   ]
  },
  {
   "cell_type": "code",
   "execution_count": 187,
   "metadata": {},
   "outputs": [
    {
     "data": {
      "text/plain": [
       "(693603, 32)"
      ]
     },
     "execution_count": 187,
     "metadata": {},
     "output_type": "execute_result"
    }
   ],
   "source": [
    "mediCare = pd.merge(inpat, outpat, left_on = [ x for x in outpat.columns if x in inpat.columns], right_on = [ x for x in outpat.columns if x in inpat.columns], how = 'outer')\n",
    "mediCare.shape"
   ]
  },
  {
   "cell_type": "markdown",
   "metadata": {},
   "source": [
    "Combine with beneficiary. (Outer join to preserve all records)"
   ]
  },
  {
   "cell_type": "code",
   "execution_count": 513,
   "metadata": {},
   "outputs": [
    {
     "data": {
      "text/plain": [
       "(693603, 57)"
      ]
     },
     "execution_count": 513,
     "metadata": {},
     "output_type": "execute_result"
    }
   ],
   "source": [
    "data = pd.merge(mediCare, bene,left_on=['BeneID','Set'],right_on=['BeneID','Set'], how='inner')\n",
    "data.shape"
   ]
  },
  {
   "cell_type": "code",
   "execution_count": 514,
   "metadata": {},
   "outputs": [
    {
     "data": {
      "text/html": [
       "<div>\n",
       "<style scoped>\n",
       "    .dataframe tbody tr th:only-of-type {\n",
       "        vertical-align: middle;\n",
       "    }\n",
       "\n",
       "    .dataframe tbody tr th {\n",
       "        vertical-align: top;\n",
       "    }\n",
       "\n",
       "    .dataframe thead th {\n",
       "        text-align: right;\n",
       "    }\n",
       "</style>\n",
       "<table border=\"1\" class=\"dataframe\">\n",
       "  <thead>\n",
       "    <tr style=\"text-align: right;\">\n",
       "      <th></th>\n",
       "      <th>BeneID</th>\n",
       "      <th>ClaimID</th>\n",
       "      <th>ClaimStartDt</th>\n",
       "      <th>ClaimEndDt</th>\n",
       "      <th>Provider</th>\n",
       "      <th>InscClaimAmtReimbursed</th>\n",
       "      <th>AttendingPhysician</th>\n",
       "      <th>OperatingPhysician</th>\n",
       "      <th>OtherPhysician</th>\n",
       "      <th>AdmissionDt</th>\n",
       "      <th>...</th>\n",
       "      <th>Diabetes</th>\n",
       "      <th>IschemicHeart</th>\n",
       "      <th>Osteoporasis</th>\n",
       "      <th>RheumatoidArthritis</th>\n",
       "      <th>Stroke</th>\n",
       "      <th>IPAnnualReimbursementAmt</th>\n",
       "      <th>IPAnnualDeductibleAmt</th>\n",
       "      <th>OPAnnualReimbursementAmt</th>\n",
       "      <th>OPAnnualDeductibleAmt</th>\n",
       "      <th>WhetherDead</th>\n",
       "    </tr>\n",
       "  </thead>\n",
       "  <tbody>\n",
       "    <tr>\n",
       "      <td>601869</td>\n",
       "      <td>BENE41529</td>\n",
       "      <td>CLM327576</td>\n",
       "      <td>2009-04-27</td>\n",
       "      <td>2009-04-27</td>\n",
       "      <td>PRV52338</td>\n",
       "      <td>100</td>\n",
       "      <td>PHY424866</td>\n",
       "      <td>NaN</td>\n",
       "      <td>NaN</td>\n",
       "      <td>NaN</td>\n",
       "      <td>...</td>\n",
       "      <td>0</td>\n",
       "      <td>1</td>\n",
       "      <td>0</td>\n",
       "      <td>0</td>\n",
       "      <td>0</td>\n",
       "      <td>0</td>\n",
       "      <td>0</td>\n",
       "      <td>100</td>\n",
       "      <td>10</td>\n",
       "      <td>0</td>\n",
       "    </tr>\n",
       "    <tr>\n",
       "      <td>326301</td>\n",
       "      <td>BENE64019</td>\n",
       "      <td>CLM177288</td>\n",
       "      <td>2009-02-05</td>\n",
       "      <td>2009-02-05</td>\n",
       "      <td>PRV53261</td>\n",
       "      <td>20</td>\n",
       "      <td>PHY316393</td>\n",
       "      <td>NaN</td>\n",
       "      <td>NaN</td>\n",
       "      <td>NaN</td>\n",
       "      <td>...</td>\n",
       "      <td>1</td>\n",
       "      <td>1</td>\n",
       "      <td>0</td>\n",
       "      <td>0</td>\n",
       "      <td>0</td>\n",
       "      <td>0</td>\n",
       "      <td>0</td>\n",
       "      <td>390</td>\n",
       "      <td>1070</td>\n",
       "      <td>0</td>\n",
       "    </tr>\n",
       "    <tr>\n",
       "      <td>541611</td>\n",
       "      <td>BENE145311</td>\n",
       "      <td>CLM209062</td>\n",
       "      <td>2009-02-22</td>\n",
       "      <td>2009-02-22</td>\n",
       "      <td>PRV53621</td>\n",
       "      <td>1000</td>\n",
       "      <td>PHY344773</td>\n",
       "      <td>PHY344773</td>\n",
       "      <td>NaN</td>\n",
       "      <td>NaN</td>\n",
       "      <td>...</td>\n",
       "      <td>0</td>\n",
       "      <td>1</td>\n",
       "      <td>0</td>\n",
       "      <td>1</td>\n",
       "      <td>0</td>\n",
       "      <td>0</td>\n",
       "      <td>0</td>\n",
       "      <td>1060</td>\n",
       "      <td>510</td>\n",
       "      <td>0</td>\n",
       "    </tr>\n",
       "  </tbody>\n",
       "</table>\n",
       "<p>3 rows × 57 columns</p>\n",
       "</div>"
      ],
      "text/plain": [
       "            BeneID    ClaimID ClaimStartDt  ClaimEndDt  Provider  \\\n",
       "601869   BENE41529  CLM327576   2009-04-27  2009-04-27  PRV52338   \n",
       "326301   BENE64019  CLM177288   2009-02-05  2009-02-05  PRV53261   \n",
       "541611  BENE145311  CLM209062   2009-02-22  2009-02-22  PRV53621   \n",
       "\n",
       "        InscClaimAmtReimbursed AttendingPhysician OperatingPhysician  \\\n",
       "601869                     100          PHY424866                NaN   \n",
       "326301                      20          PHY316393                NaN   \n",
       "541611                    1000          PHY344773          PHY344773   \n",
       "\n",
       "       OtherPhysician AdmissionDt  ... Diabetes  IschemicHeart Osteoporasis  \\\n",
       "601869            NaN         NaN  ...        0              1            0   \n",
       "326301            NaN         NaN  ...        1              1            0   \n",
       "541611            NaN         NaN  ...        0              1            0   \n",
       "\n",
       "       RheumatoidArthritis Stroke IPAnnualReimbursementAmt  \\\n",
       "601869                   0      0                        0   \n",
       "326301                   0      0                        0   \n",
       "541611                   1      0                        0   \n",
       "\n",
       "       IPAnnualDeductibleAmt OPAnnualReimbursementAmt OPAnnualDeductibleAmt  \\\n",
       "601869                     0                      100                    10   \n",
       "326301                     0                      390                  1070   \n",
       "541611                     0                     1060                   510   \n",
       "\n",
       "       WhetherDead  \n",
       "601869           0  \n",
       "326301           0  \n",
       "541611           0  \n",
       "\n",
       "[3 rows x 57 columns]"
      ]
     },
     "execution_count": 514,
     "metadata": {},
     "output_type": "execute_result"
    }
   ],
   "source": [
    "data.sample(3)"
   ]
  },
  {
   "cell_type": "markdown",
   "metadata": {},
   "source": [
    "Count number of Procedures in the claim\n"
   ]
  },
  {
   "cell_type": "code",
   "execution_count": 515,
   "metadata": {},
   "outputs": [],
   "source": [
    "ClmProcedure_vars = ['ClmProcedureCode_{}'.format(x) for x in range(1,7)]"
   ]
  },
  {
   "cell_type": "code",
   "execution_count": 516,
   "metadata": {},
   "outputs": [],
   "source": [
    "data['NumProc'] = data[ClmProcedure_vars].notnull().to_numpy().sum(axis = 1)"
   ]
  },
  {
   "cell_type": "code",
   "execution_count": 517,
   "metadata": {},
   "outputs": [
    {
     "data": {
      "text/plain": [
       "array([0, 1, 2, 3, 4, 5])"
      ]
     },
     "execution_count": 517,
     "metadata": {},
     "output_type": "execute_result"
    }
   ],
   "source": [
    "np.unique(data.NumProc.values)"
   ]
  },
  {
   "cell_type": "markdown",
   "metadata": {},
   "source": [
    "Count number of diagnoses per claim"
   ]
  },
  {
   "cell_type": "code",
   "execution_count": 518,
   "metadata": {},
   "outputs": [],
   "source": [
    "ClmDiagnosisCode_vars =['ClmAdmitDiagnosisCode'] + ['ClmDiagnosisCode_{}'.format(x) for x in range(1, 11)]\n",
    "    \n",
    "### Create new variable \n",
    "data['NumClaims'] = data[ClmDiagnosisCode_vars].notnull().to_numpy().sum(axis = 1)\n"
   ]
  },
  {
   "cell_type": "code",
   "execution_count": 519,
   "metadata": {},
   "outputs": [
    {
     "data": {
      "text/plain": [
       "array([ 0,  1,  2,  3,  4,  5,  6,  7,  8,  9, 10, 11])"
      ]
     },
     "execution_count": 519,
     "metadata": {},
     "output_type": "execute_result"
    }
   ],
   "source": [
    "np.unique(data.NumClaims.values)"
   ]
  },
  {
   "cell_type": "code",
   "execution_count": 520,
   "metadata": {},
   "outputs": [],
   "source": [
    "from datetime import datetime"
   ]
  },
  {
   "cell_type": "code",
   "execution_count": 521,
   "metadata": {},
   "outputs": [],
   "source": [
    "data['AdmissionDt'] = pd.to_datetime(data['AdmissionDt'] , format = '%Y-%m-%d')\n",
    "data['DischargeDt'] = pd.to_datetime(data['DischargeDt'],format = '%Y-%m-%d')\n",
    "\n",
    "data['ClaimStartDt'] = pd.to_datetime(data['ClaimStartDt'] , format = '%Y-%m-%d')\n",
    "data['ClaimEndDt'] = pd.to_datetime(data['ClaimEndDt'],format = '%Y-%m-%d')\n",
    "\n",
    "data['DOB'] = pd.to_datetime(data['DOB'] , format = '%Y-%m-%d')\n",
    "data['DOD'] = pd.to_datetime(data['DOD'],format = '%Y-%m-%d')\n",
    "\n",
    "### Number of hospitalization days\n",
    "data['AdmissionDays'] = ((data['DischargeDt'] - data['AdmissionDt']).dt.days) + 1\n",
    "### Number of claim days \n",
    "data['ClaimDays'] = ((data['ClaimEndDt'] - data['ClaimStartDt']).dt.days) + 1\n",
    "\n",
    "data['Age'] = round(((data['ClaimStartDt'] - data['DOB']).dt.days + 1)/365.25)"
   ]
  },
  {
   "cell_type": "code",
   "execution_count": 522,
   "metadata": {},
   "outputs": [],
   "source": [
    "# for i in np.unique(data.State):\n",
    "#     state_data = data[data.State==i]\n",
    "#     filename = \"./plots/state_level/age-claim/state_{}.png\".format(i)\n",
    "#     print(filename)\n",
    "#     plt.figure()\n",
    "#     ax = sns.scatterplot(x='Age',y='InscClaimAmtReimbursed', hue = 'Status', data=state_data);\n",
    "#     ax.figure.savefig(filename,bbox_inches='tight');\n",
    "#     plt.close()\n",
    "\n"
   ]
  },
  {
   "cell_type": "code",
   "execution_count": 523,
   "metadata": {},
   "outputs": [],
   "source": [
    "# sns.scatterplot(x='InscClaimAmtReimbursed',\n",
    "#                 y='DeductibleAmtPaid',\n",
    "#                 hue='Status',\n",
    "#                 data=data)"
   ]
  },
  {
   "cell_type": "code",
   "execution_count": 524,
   "metadata": {},
   "outputs": [
    {
     "data": {
      "text/plain": [
       "Index(['BeneID', 'ClaimID', 'ClaimStartDt', 'ClaimEndDt', 'Provider',\n",
       "       'InscClaimAmtReimbursed', 'AttendingPhysician', 'OperatingPhysician',\n",
       "       'OtherPhysician', 'AdmissionDt', 'ClmAdmitDiagnosisCode',\n",
       "       'DeductibleAmtPaid', 'DischargeDt', 'DiagnosisGroupCode',\n",
       "       'ClmDiagnosisCode_1', 'ClmDiagnosisCode_2', 'ClmDiagnosisCode_3',\n",
       "       'ClmDiagnosisCode_4', 'ClmDiagnosisCode_5', 'ClmDiagnosisCode_6',\n",
       "       'ClmDiagnosisCode_7', 'ClmDiagnosisCode_8', 'ClmDiagnosisCode_9',\n",
       "       'ClmDiagnosisCode_10', 'ClmProcedureCode_1', 'ClmProcedureCode_2',\n",
       "       'ClmProcedureCode_3', 'ClmProcedureCode_4', 'ClmProcedureCode_5',\n",
       "       'ClmProcedureCode_6', 'Set', 'Status', 'DOB', 'DOD', 'Gender', 'Race',\n",
       "       'RenalDiseaseIndicator', 'State', 'County', 'NoOfMonths_PartACov',\n",
       "       'NoOfMonths_PartBCov', 'Alzheimer', 'HeartFailure', 'KidneyDisease',\n",
       "       'Cancer', 'ObstrPulmonary', 'Depression', 'Diabetes', 'IschemicHeart',\n",
       "       'Osteoporasis', 'RheumatoidArthritis', 'Stroke',\n",
       "       'IPAnnualReimbursementAmt', 'IPAnnualDeductibleAmt',\n",
       "       'OPAnnualReimbursementAmt', 'OPAnnualDeductibleAmt', 'WhetherDead',\n",
       "       'NumProc', 'NumClaims', 'AdmissionDays', 'ClaimDays', 'Age'],\n",
       "      dtype='object')"
      ]
     },
     "execution_count": 524,
     "metadata": {},
     "output_type": "execute_result"
    }
   ],
   "source": [
    "data.columns"
   ]
  },
  {
   "cell_type": "markdown",
   "metadata": {},
   "source": [
    "## Adding Fake Names"
   ]
  },
  {
   "cell_type": "code",
   "execution_count": 525,
   "metadata": {},
   "outputs": [],
   "source": [
    "from faker import Faker"
   ]
  },
  {
   "cell_type": "markdown",
   "metadata": {},
   "source": [
    "Replace all empty Doctor Names with empty string\n"
   ]
  },
  {
   "cell_type": "code",
   "execution_count": 526,
   "metadata": {},
   "outputs": [],
   "source": [
    "data[['AttendingPhysician','OperatingPhysician','OtherPhysician']] = data[['AttendingPhysician','OperatingPhysician','OtherPhysician']].fillna('')\n",
    "docNames = np.unique(data[['AttendingPhysician','OperatingPhysician','OtherPhysician']].values.flatten())\n"
   ]
  },
  {
   "cell_type": "code",
   "execution_count": 529,
   "metadata": {},
   "outputs": [],
   "source": [
    "# fake = Faker(['en_CA', 'de_DE', 'en_US','es_MX'])\n",
    "# a = set()\n",
    "# L=0\n",
    "\n",
    "# while L < docNames.shape[0]:\n",
    "#     name = 'Dr. ' + fake.first_name() + ' ' + fake.last_name()\n",
    "#     a.add(name)\n",
    "#     L = len(a)\n",
    "    \n",
    "    \n",
    "# names = np.array(list(a))\n",
    "\n",
    "# doc_lookup = pd.DataFrame(\n",
    "#     {'Names': names},\n",
    "#     index =  docNames)\n",
    "\n",
    "# doc_lookup.sample(3)\n",
    "# doc_lookup.loc[''] = ''\n",
    "# sorted_doc_lookup = doc_lookup.sort_index()\n",
    "# sorted_doc_lookup"
   ]
  },
  {
   "cell_type": "code",
   "execution_count": 535,
   "metadata": {},
   "outputs": [],
   "source": [
    "# data['AttendingPhysician'] = data['AttendingPhysician'].apply(lambda x: doc_lookup.loc[x][0])\n",
    "# data['OperatingPhysician'] = data['OperatingPhysician'].apply(lambda x: doc_lookup.loc[x][0])\n",
    "# data['OtherPhysician'] = data['OtherPhysician'].apply(lambda x: doc_lookup.loc[x][0])"
   ]
  },
  {
   "cell_type": "code",
   "execution_count": 536,
   "metadata": {},
   "outputs": [
    {
     "data": {
      "text/html": [
       "<div>\n",
       "<style scoped>\n",
       "    .dataframe tbody tr th:only-of-type {\n",
       "        vertical-align: middle;\n",
       "    }\n",
       "\n",
       "    .dataframe tbody tr th {\n",
       "        vertical-align: top;\n",
       "    }\n",
       "\n",
       "    .dataframe thead th {\n",
       "        text-align: right;\n",
       "    }\n",
       "</style>\n",
       "<table border=\"1\" class=\"dataframe\">\n",
       "  <thead>\n",
       "    <tr style=\"text-align: right;\">\n",
       "      <th></th>\n",
       "      <th>BeneID</th>\n",
       "      <th>ClaimID</th>\n",
       "      <th>ClaimStartDt</th>\n",
       "      <th>ClaimEndDt</th>\n",
       "      <th>Provider</th>\n",
       "      <th>InscClaimAmtReimbursed</th>\n",
       "      <th>AttendingPhysician</th>\n",
       "      <th>OperatingPhysician</th>\n",
       "      <th>OtherPhysician</th>\n",
       "      <th>AdmissionDt</th>\n",
       "      <th>...</th>\n",
       "      <th>IPAnnualReimbursementAmt</th>\n",
       "      <th>IPAnnualDeductibleAmt</th>\n",
       "      <th>OPAnnualReimbursementAmt</th>\n",
       "      <th>OPAnnualDeductibleAmt</th>\n",
       "      <th>WhetherDead</th>\n",
       "      <th>NumProc</th>\n",
       "      <th>NumClaims</th>\n",
       "      <th>AdmissionDays</th>\n",
       "      <th>ClaimDays</th>\n",
       "      <th>Age</th>\n",
       "    </tr>\n",
       "  </thead>\n",
       "  <tbody>\n",
       "    <tr>\n",
       "      <td>460244</td>\n",
       "      <td>BENE114823</td>\n",
       "      <td>CLM383892</td>\n",
       "      <td>2009-05-28</td>\n",
       "      <td>2009-05-28</td>\n",
       "      <td>PRV54772</td>\n",
       "      <td>70</td>\n",
       "      <td>Dr. Yvonne Ho</td>\n",
       "      <td>Dr. Yvonne Ho</td>\n",
       "      <td>Dr. Zachary Rolón</td>\n",
       "      <td>NaT</td>\n",
       "      <td>...</td>\n",
       "      <td>0</td>\n",
       "      <td>0</td>\n",
       "      <td>670</td>\n",
       "      <td>50</td>\n",
       "      <td>0</td>\n",
       "      <td>0</td>\n",
       "      <td>3</td>\n",
       "      <td>NaN</td>\n",
       "      <td>1</td>\n",
       "      <td>70.0</td>\n",
       "    </tr>\n",
       "    <tr>\n",
       "      <td>668463</td>\n",
       "      <td>BENE126982</td>\n",
       "      <td>CLM264286</td>\n",
       "      <td>2009-03-24</td>\n",
       "      <td>2009-03-24</td>\n",
       "      <td>PRV55718</td>\n",
       "      <td>1600</td>\n",
       "      <td>Dr. Brett Merino</td>\n",
       "      <td></td>\n",
       "      <td></td>\n",
       "      <td>NaT</td>\n",
       "      <td>...</td>\n",
       "      <td>0</td>\n",
       "      <td>0</td>\n",
       "      <td>5050</td>\n",
       "      <td>1320</td>\n",
       "      <td>0</td>\n",
       "      <td>0</td>\n",
       "      <td>4</td>\n",
       "      <td>NaN</td>\n",
       "      <td>1</td>\n",
       "      <td>83.0</td>\n",
       "    </tr>\n",
       "    <tr>\n",
       "      <td>585733</td>\n",
       "      <td>BENE20917</td>\n",
       "      <td>CLM593900</td>\n",
       "      <td>2009-09-23</td>\n",
       "      <td>2009-09-23</td>\n",
       "      <td>PRV54762</td>\n",
       "      <td>30</td>\n",
       "      <td>Dr. Melanie Braun</td>\n",
       "      <td></td>\n",
       "      <td></td>\n",
       "      <td>NaT</td>\n",
       "      <td>...</td>\n",
       "      <td>0</td>\n",
       "      <td>0</td>\n",
       "      <td>70</td>\n",
       "      <td>860</td>\n",
       "      <td>0</td>\n",
       "      <td>0</td>\n",
       "      <td>1</td>\n",
       "      <td>NaN</td>\n",
       "      <td>1</td>\n",
       "      <td>53.0</td>\n",
       "    </tr>\n",
       "    <tr>\n",
       "      <td>218114</td>\n",
       "      <td>BENE23084</td>\n",
       "      <td>CLM316295</td>\n",
       "      <td>2009-04-21</td>\n",
       "      <td>2009-04-21</td>\n",
       "      <td>PRV53525</td>\n",
       "      <td>500</td>\n",
       "      <td>Dr. Friedbert Gaitán</td>\n",
       "      <td>Dr. Friedbert Gaitán</td>\n",
       "      <td>Dr. Friedbert Gaitán</td>\n",
       "      <td>NaT</td>\n",
       "      <td>...</td>\n",
       "      <td>0</td>\n",
       "      <td>0</td>\n",
       "      <td>650</td>\n",
       "      <td>140</td>\n",
       "      <td>0</td>\n",
       "      <td>0</td>\n",
       "      <td>1</td>\n",
       "      <td>NaN</td>\n",
       "      <td>1</td>\n",
       "      <td>82.0</td>\n",
       "    </tr>\n",
       "  </tbody>\n",
       "</table>\n",
       "<p>4 rows × 62 columns</p>\n",
       "</div>"
      ],
      "text/plain": [
       "            BeneID    ClaimID ClaimStartDt ClaimEndDt  Provider  \\\n",
       "460244  BENE114823  CLM383892   2009-05-28 2009-05-28  PRV54772   \n",
       "668463  BENE126982  CLM264286   2009-03-24 2009-03-24  PRV55718   \n",
       "585733   BENE20917  CLM593900   2009-09-23 2009-09-23  PRV54762   \n",
       "218114   BENE23084  CLM316295   2009-04-21 2009-04-21  PRV53525   \n",
       "\n",
       "        InscClaimAmtReimbursed    AttendingPhysician    OperatingPhysician  \\\n",
       "460244                      70         Dr. Yvonne Ho         Dr. Yvonne Ho   \n",
       "668463                    1600      Dr. Brett Merino                         \n",
       "585733                      30     Dr. Melanie Braun                         \n",
       "218114                     500  Dr. Friedbert Gaitán  Dr. Friedbert Gaitán   \n",
       "\n",
       "              OtherPhysician AdmissionDt  ... IPAnnualReimbursementAmt  \\\n",
       "460244     Dr. Zachary Rolón         NaT  ...                        0   \n",
       "668463                               NaT  ...                        0   \n",
       "585733                               NaT  ...                        0   \n",
       "218114  Dr. Friedbert Gaitán         NaT  ...                        0   \n",
       "\n",
       "        IPAnnualDeductibleAmt OPAnnualReimbursementAmt OPAnnualDeductibleAmt  \\\n",
       "460244                      0                      670                    50   \n",
       "668463                      0                     5050                  1320   \n",
       "585733                      0                       70                   860   \n",
       "218114                      0                      650                   140   \n",
       "\n",
       "       WhetherDead NumProc NumClaims AdmissionDays ClaimDays   Age  \n",
       "460244           0       0         3           NaN         1  70.0  \n",
       "668463           0       0         4           NaN         1  83.0  \n",
       "585733           0       0         1           NaN         1  53.0  \n",
       "218114           0       0         1           NaN         1  82.0  \n",
       "\n",
       "[4 rows x 62 columns]"
      ]
     },
     "execution_count": 536,
     "metadata": {},
     "output_type": "execute_result"
    }
   ],
   "source": [
    "data.sample(4)"
   ]
  },
  {
   "cell_type": "code",
   "execution_count": null,
   "metadata": {},
   "outputs": [],
   "source": []
  },
  {
   "cell_type": "code",
   "execution_count": null,
   "metadata": {},
   "outputs": [],
   "source": []
  },
  {
   "cell_type": "code",
   "execution_count": 205,
   "metadata": {},
   "outputs": [
    {
     "data": {
      "text/plain": [
       "array([0, 1])"
      ]
     },
     "execution_count": 205,
     "metadata": {},
     "output_type": "execute_result"
    }
   ],
   "source": [
    "chronicConds = data[['Alzheimer', 'HeartFailure', 'KidneyDisease',\n",
    "       'Cancer', 'ObstrPulmonary', 'Depression', 'Diabetes', 'IschemicHeart',\n",
    "       'Osteoporasis', 'RheumatoidArthritis', 'Stroke']]\n",
    "\n",
    "np.unique(chronicConds.values.flatten()) # Checks out"
   ]
  },
  {
   "cell_type": "code",
   "execution_count": 206,
   "metadata": {},
   "outputs": [],
   "source": [
    "### Create new variable \n",
    "data['NumChronics'] = chronicConds.sum(axis = 1)"
   ]
  },
  {
   "cell_type": "code",
   "execution_count": 171,
   "metadata": {},
   "outputs": [
    {
     "data": {
      "text/plain": [
       "<seaborn.axisgrid.FacetGrid at 0x1a383b6e10>"
      ]
     },
     "execution_count": 171,
     "metadata": {},
     "output_type": "execute_result"
    },
    {
     "data": {
      "image/png": "[encoded data removed]",
      "text/plain": [
       "<Figure size 360x360 with 1 Axes>"
      ]
     },
     "metadata": {
      "needs_background": "light"
     },
     "output_type": "display_data"
    }
   ],
   "source": [
    "sns.catplot(y='InscClaimAmtReimbursed',\n",
    "                x='NumClaims',\n",
    "                #hue='Race',\n",
    "            kind='box',\n",
    "                data=data)"
   ]
  },
  {
   "cell_type": "code",
   "execution_count": 72,
   "metadata": {},
   "outputs": [
    {
     "data": {
      "text/plain": [
       "<seaborn.axisgrid.FacetGrid at 0x1a1c15f410>"
      ]
     },
     "execution_count": 72,
     "metadata": {},
     "output_type": "execute_result"
    },
    {
     "data": {
      "image/png": "[encoded data removed]",
      "text/plain": [
       "<Figure size 404.875x360 with 1 Axes>"
      ]
     },
     "metadata": {
      "needs_background": "light"
     },
     "output_type": "display_data"
    }
   ],
   "source": [
    "sns.catplot(#y='InscClaimAmtReimbursed',\n",
    "                x='NumProc',\n",
    "                hue='Gender',\n",
    "            kind='count',\n",
    "                data=data)"
   ]
  },
  {
   "cell_type": "code",
   "execution_count": 68,
   "metadata": {},
   "outputs": [
    {
     "data": {
      "text/html": [
       "<div>\n",
       "<style scoped>\n",
       "    .dataframe tbody tr th:only-of-type {\n",
       "        vertical-align: middle;\n",
       "    }\n",
       "\n",
       "    .dataframe tbody tr th {\n",
       "        vertical-align: top;\n",
       "    }\n",
       "\n",
       "    .dataframe thead th {\n",
       "        text-align: right;\n",
       "    }\n",
       "</style>\n",
       "<table border=\"1\" class=\"dataframe\">\n",
       "  <thead>\n",
       "    <tr style=\"text-align: right;\">\n",
       "      <th></th>\n",
       "      <th>NumProc</th>\n",
       "      <th>NumClaims</th>\n",
       "      <th>InscClaimAmtReimbursed</th>\n",
       "      <th>DeductibleAmtPaid</th>\n",
       "    </tr>\n",
       "  </thead>\n",
       "  <tbody>\n",
       "    <tr>\n",
       "      <td>0</td>\n",
       "      <td>0</td>\n",
       "      <td>0</td>\n",
       "      <td>60</td>\n",
       "      <td>0.0</td>\n",
       "    </tr>\n",
       "    <tr>\n",
       "      <td>1</td>\n",
       "      <td>0</td>\n",
       "      <td>1</td>\n",
       "      <td>70</td>\n",
       "      <td>0.0</td>\n",
       "    </tr>\n",
       "    <tr>\n",
       "      <td>2</td>\n",
       "      <td>0</td>\n",
       "      <td>2</td>\n",
       "      <td>70</td>\n",
       "      <td>0.0</td>\n",
       "    </tr>\n",
       "    <tr>\n",
       "      <td>3</td>\n",
       "      <td>0</td>\n",
       "      <td>3</td>\n",
       "      <td>80</td>\n",
       "      <td>0.0</td>\n",
       "    </tr>\n",
       "    <tr>\n",
       "      <td>4</td>\n",
       "      <td>0</td>\n",
       "      <td>4</td>\n",
       "      <td>80</td>\n",
       "      <td>0.0</td>\n",
       "    </tr>\n",
       "    <tr>\n",
       "      <td>5</td>\n",
       "      <td>0</td>\n",
       "      <td>5</td>\n",
       "      <td>90</td>\n",
       "      <td>0.0</td>\n",
       "    </tr>\n",
       "    <tr>\n",
       "      <td>6</td>\n",
       "      <td>0</td>\n",
       "      <td>6</td>\n",
       "      <td>100</td>\n",
       "      <td>0.0</td>\n",
       "    </tr>\n",
       "    <tr>\n",
       "      <td>7</td>\n",
       "      <td>0</td>\n",
       "      <td>7</td>\n",
       "      <td>100</td>\n",
       "      <td>0.0</td>\n",
       "    </tr>\n",
       "    <tr>\n",
       "      <td>8</td>\n",
       "      <td>0</td>\n",
       "      <td>8</td>\n",
       "      <td>200</td>\n",
       "      <td>0.0</td>\n",
       "    </tr>\n",
       "    <tr>\n",
       "      <td>9</td>\n",
       "      <td>0</td>\n",
       "      <td>9</td>\n",
       "      <td>200</td>\n",
       "      <td>0.0</td>\n",
       "    </tr>\n",
       "    <tr>\n",
       "      <td>10</td>\n",
       "      <td>0</td>\n",
       "      <td>10</td>\n",
       "      <td>4000</td>\n",
       "      <td>1068.0</td>\n",
       "    </tr>\n",
       "    <tr>\n",
       "      <td>11</td>\n",
       "      <td>0</td>\n",
       "      <td>11</td>\n",
       "      <td>6000</td>\n",
       "      <td>1068.0</td>\n",
       "    </tr>\n",
       "    <tr>\n",
       "      <td>12</td>\n",
       "      <td>1</td>\n",
       "      <td>1</td>\n",
       "      <td>40</td>\n",
       "      <td>0.0</td>\n",
       "    </tr>\n",
       "    <tr>\n",
       "      <td>13</td>\n",
       "      <td>1</td>\n",
       "      <td>2</td>\n",
       "      <td>7000</td>\n",
       "      <td>1068.0</td>\n",
       "    </tr>\n",
       "    <tr>\n",
       "      <td>14</td>\n",
       "      <td>1</td>\n",
       "      <td>3</td>\n",
       "      <td>8000</td>\n",
       "      <td>1068.0</td>\n",
       "    </tr>\n",
       "    <tr>\n",
       "      <td>15</td>\n",
       "      <td>1</td>\n",
       "      <td>4</td>\n",
       "      <td>8000</td>\n",
       "      <td>1068.0</td>\n",
       "    </tr>\n",
       "    <tr>\n",
       "      <td>16</td>\n",
       "      <td>1</td>\n",
       "      <td>5</td>\n",
       "      <td>8000</td>\n",
       "      <td>1068.0</td>\n",
       "    </tr>\n",
       "    <tr>\n",
       "      <td>17</td>\n",
       "      <td>1</td>\n",
       "      <td>6</td>\n",
       "      <td>7000</td>\n",
       "      <td>1068.0</td>\n",
       "    </tr>\n",
       "    <tr>\n",
       "      <td>18</td>\n",
       "      <td>1</td>\n",
       "      <td>7</td>\n",
       "      <td>8000</td>\n",
       "      <td>1068.0</td>\n",
       "    </tr>\n",
       "    <tr>\n",
       "      <td>19</td>\n",
       "      <td>1</td>\n",
       "      <td>8</td>\n",
       "      <td>8000</td>\n",
       "      <td>1068.0</td>\n",
       "    </tr>\n",
       "    <tr>\n",
       "      <td>20</td>\n",
       "      <td>1</td>\n",
       "      <td>9</td>\n",
       "      <td>8000</td>\n",
       "      <td>1068.0</td>\n",
       "    </tr>\n",
       "    <tr>\n",
       "      <td>21</td>\n",
       "      <td>1</td>\n",
       "      <td>10</td>\n",
       "      <td>9000</td>\n",
       "      <td>1068.0</td>\n",
       "    </tr>\n",
       "    <tr>\n",
       "      <td>22</td>\n",
       "      <td>1</td>\n",
       "      <td>11</td>\n",
       "      <td>10000</td>\n",
       "      <td>1068.0</td>\n",
       "    </tr>\n",
       "    <tr>\n",
       "      <td>23</td>\n",
       "      <td>2</td>\n",
       "      <td>1</td>\n",
       "      <td>20</td>\n",
       "      <td>10.0</td>\n",
       "    </tr>\n",
       "    <tr>\n",
       "      <td>24</td>\n",
       "      <td>2</td>\n",
       "      <td>2</td>\n",
       "      <td>8000</td>\n",
       "      <td>1068.0</td>\n",
       "    </tr>\n",
       "    <tr>\n",
       "      <td>25</td>\n",
       "      <td>2</td>\n",
       "      <td>3</td>\n",
       "      <td>9000</td>\n",
       "      <td>1068.0</td>\n",
       "    </tr>\n",
       "    <tr>\n",
       "      <td>26</td>\n",
       "      <td>2</td>\n",
       "      <td>4</td>\n",
       "      <td>11000</td>\n",
       "      <td>1068.0</td>\n",
       "    </tr>\n",
       "    <tr>\n",
       "      <td>27</td>\n",
       "      <td>2</td>\n",
       "      <td>5</td>\n",
       "      <td>10000</td>\n",
       "      <td>1068.0</td>\n",
       "    </tr>\n",
       "    <tr>\n",
       "      <td>28</td>\n",
       "      <td>2</td>\n",
       "      <td>6</td>\n",
       "      <td>10000</td>\n",
       "      <td>1068.0</td>\n",
       "    </tr>\n",
       "    <tr>\n",
       "      <td>29</td>\n",
       "      <td>2</td>\n",
       "      <td>7</td>\n",
       "      <td>10000</td>\n",
       "      <td>1068.0</td>\n",
       "    </tr>\n",
       "    <tr>\n",
       "      <td>30</td>\n",
       "      <td>2</td>\n",
       "      <td>8</td>\n",
       "      <td>10000</td>\n",
       "      <td>1068.0</td>\n",
       "    </tr>\n",
       "    <tr>\n",
       "      <td>31</td>\n",
       "      <td>2</td>\n",
       "      <td>9</td>\n",
       "      <td>10000</td>\n",
       "      <td>1068.0</td>\n",
       "    </tr>\n",
       "    <tr>\n",
       "      <td>32</td>\n",
       "      <td>2</td>\n",
       "      <td>10</td>\n",
       "      <td>12000</td>\n",
       "      <td>1068.0</td>\n",
       "    </tr>\n",
       "    <tr>\n",
       "      <td>33</td>\n",
       "      <td>2</td>\n",
       "      <td>11</td>\n",
       "      <td>14000</td>\n",
       "      <td>1068.0</td>\n",
       "    </tr>\n",
       "    <tr>\n",
       "      <td>34</td>\n",
       "      <td>3</td>\n",
       "      <td>2</td>\n",
       "      <td>25000</td>\n",
       "      <td>1068.0</td>\n",
       "    </tr>\n",
       "    <tr>\n",
       "      <td>35</td>\n",
       "      <td>3</td>\n",
       "      <td>3</td>\n",
       "      <td>9000</td>\n",
       "      <td>1068.0</td>\n",
       "    </tr>\n",
       "    <tr>\n",
       "      <td>36</td>\n",
       "      <td>3</td>\n",
       "      <td>4</td>\n",
       "      <td>12000</td>\n",
       "      <td>1068.0</td>\n",
       "    </tr>\n",
       "    <tr>\n",
       "      <td>37</td>\n",
       "      <td>3</td>\n",
       "      <td>5</td>\n",
       "      <td>12000</td>\n",
       "      <td>1068.0</td>\n",
       "    </tr>\n",
       "    <tr>\n",
       "      <td>38</td>\n",
       "      <td>3</td>\n",
       "      <td>6</td>\n",
       "      <td>11000</td>\n",
       "      <td>1068.0</td>\n",
       "    </tr>\n",
       "    <tr>\n",
       "      <td>39</td>\n",
       "      <td>3</td>\n",
       "      <td>7</td>\n",
       "      <td>11000</td>\n",
       "      <td>1068.0</td>\n",
       "    </tr>\n",
       "    <tr>\n",
       "      <td>40</td>\n",
       "      <td>3</td>\n",
       "      <td>8</td>\n",
       "      <td>11500</td>\n",
       "      <td>1068.0</td>\n",
       "    </tr>\n",
       "    <tr>\n",
       "      <td>41</td>\n",
       "      <td>3</td>\n",
       "      <td>9</td>\n",
       "      <td>11000</td>\n",
       "      <td>1068.0</td>\n",
       "    </tr>\n",
       "    <tr>\n",
       "      <td>42</td>\n",
       "      <td>3</td>\n",
       "      <td>10</td>\n",
       "      <td>14000</td>\n",
       "      <td>1068.0</td>\n",
       "    </tr>\n",
       "    <tr>\n",
       "      <td>43</td>\n",
       "      <td>3</td>\n",
       "      <td>11</td>\n",
       "      <td>16000</td>\n",
       "      <td>1068.0</td>\n",
       "    </tr>\n",
       "    <tr>\n",
       "      <td>44</td>\n",
       "      <td>4</td>\n",
       "      <td>4</td>\n",
       "      <td>10000</td>\n",
       "      <td>1068.0</td>\n",
       "    </tr>\n",
       "    <tr>\n",
       "      <td>45</td>\n",
       "      <td>4</td>\n",
       "      <td>5</td>\n",
       "      <td>10000</td>\n",
       "      <td>1068.0</td>\n",
       "    </tr>\n",
       "    <tr>\n",
       "      <td>46</td>\n",
       "      <td>4</td>\n",
       "      <td>6</td>\n",
       "      <td>13500</td>\n",
       "      <td>1068.0</td>\n",
       "    </tr>\n",
       "    <tr>\n",
       "      <td>47</td>\n",
       "      <td>4</td>\n",
       "      <td>7</td>\n",
       "      <td>13000</td>\n",
       "      <td>1068.0</td>\n",
       "    </tr>\n",
       "    <tr>\n",
       "      <td>48</td>\n",
       "      <td>4</td>\n",
       "      <td>8</td>\n",
       "      <td>22500</td>\n",
       "      <td>1068.0</td>\n",
       "    </tr>\n",
       "    <tr>\n",
       "      <td>49</td>\n",
       "      <td>4</td>\n",
       "      <td>9</td>\n",
       "      <td>18000</td>\n",
       "      <td>1068.0</td>\n",
       "    </tr>\n",
       "    <tr>\n",
       "      <td>50</td>\n",
       "      <td>4</td>\n",
       "      <td>10</td>\n",
       "      <td>17500</td>\n",
       "      <td>1068.0</td>\n",
       "    </tr>\n",
       "    <tr>\n",
       "      <td>51</td>\n",
       "      <td>4</td>\n",
       "      <td>11</td>\n",
       "      <td>23000</td>\n",
       "      <td>1068.0</td>\n",
       "    </tr>\n",
       "    <tr>\n",
       "      <td>52</td>\n",
       "      <td>5</td>\n",
       "      <td>6</td>\n",
       "      <td>31000</td>\n",
       "      <td>1068.0</td>\n",
       "    </tr>\n",
       "    <tr>\n",
       "      <td>53</td>\n",
       "      <td>5</td>\n",
       "      <td>7</td>\n",
       "      <td>10000</td>\n",
       "      <td>1068.0</td>\n",
       "    </tr>\n",
       "    <tr>\n",
       "      <td>54</td>\n",
       "      <td>5</td>\n",
       "      <td>9</td>\n",
       "      <td>12000</td>\n",
       "      <td>1068.0</td>\n",
       "    </tr>\n",
       "    <tr>\n",
       "      <td>55</td>\n",
       "      <td>5</td>\n",
       "      <td>10</td>\n",
       "      <td>26000</td>\n",
       "      <td>1068.0</td>\n",
       "    </tr>\n",
       "    <tr>\n",
       "      <td>56</td>\n",
       "      <td>5</td>\n",
       "      <td>11</td>\n",
       "      <td>44000</td>\n",
       "      <td>1068.0</td>\n",
       "    </tr>\n",
       "  </tbody>\n",
       "</table>\n",
       "</div>"
      ],
      "text/plain": [
       "    NumProc  NumClaims  InscClaimAmtReimbursed  DeductibleAmtPaid\n",
       "0         0          0                      60                0.0\n",
       "1         0          1                      70                0.0\n",
       "2         0          2                      70                0.0\n",
       "3         0          3                      80                0.0\n",
       "4         0          4                      80                0.0\n",
       "5         0          5                      90                0.0\n",
       "6         0          6                     100                0.0\n",
       "7         0          7                     100                0.0\n",
       "8         0          8                     200                0.0\n",
       "9         0          9                     200                0.0\n",
       "10        0         10                    4000             1068.0\n",
       "11        0         11                    6000             1068.0\n",
       "12        1          1                      40                0.0\n",
       "13        1          2                    7000             1068.0\n",
       "14        1          3                    8000             1068.0\n",
       "15        1          4                    8000             1068.0\n",
       "16        1          5                    8000             1068.0\n",
       "17        1          6                    7000             1068.0\n",
       "18        1          7                    8000             1068.0\n",
       "19        1          8                    8000             1068.0\n",
       "20        1          9                    8000             1068.0\n",
       "21        1         10                    9000             1068.0\n",
       "22        1         11                   10000             1068.0\n",
       "23        2          1                      20               10.0\n",
       "24        2          2                    8000             1068.0\n",
       "25        2          3                    9000             1068.0\n",
       "26        2          4                   11000             1068.0\n",
       "27        2          5                   10000             1068.0\n",
       "28        2          6                   10000             1068.0\n",
       "29        2          7                   10000             1068.0\n",
       "30        2          8                   10000             1068.0\n",
       "31        2          9                   10000             1068.0\n",
       "32        2         10                   12000             1068.0\n",
       "33        2         11                   14000             1068.0\n",
       "34        3          2                   25000             1068.0\n",
       "35        3          3                    9000             1068.0\n",
       "36        3          4                   12000             1068.0\n",
       "37        3          5                   12000             1068.0\n",
       "38        3          6                   11000             1068.0\n",
       "39        3          7                   11000             1068.0\n",
       "40        3          8                   11500             1068.0\n",
       "41        3          9                   11000             1068.0\n",
       "42        3         10                   14000             1068.0\n",
       "43        3         11                   16000             1068.0\n",
       "44        4          4                   10000             1068.0\n",
       "45        4          5                   10000             1068.0\n",
       "46        4          6                   13500             1068.0\n",
       "47        4          7                   13000             1068.0\n",
       "48        4          8                   22500             1068.0\n",
       "49        4          9                   18000             1068.0\n",
       "50        4         10                   17500             1068.0\n",
       "51        4         11                   23000             1068.0\n",
       "52        5          6                   31000             1068.0\n",
       "53        5          7                   10000             1068.0\n",
       "54        5          9                   12000             1068.0\n",
       "55        5         10                   26000             1068.0\n",
       "56        5         11                   44000             1068.0"
      ]
     },
     "execution_count": 68,
     "metadata": {},
     "output_type": "execute_result"
    }
   ],
   "source": [
    "data.groupby(['NumProc','NumClaims'])[['InscClaimAmtReimbursed','DeductibleAmtPaid']].median().reset_index()"
   ]
  },
  {
   "cell_type": "code",
   "execution_count": 30,
   "metadata": {},
   "outputs": [
    {
     "data": {
      "image/png": "[encoded data removed]",
      "text/plain": [
       "<Figure size 432x288 with 1 Axes>"
      ]
     },
     "metadata": {
      "needs_background": "light"
     },
     "output_type": "display_data"
    }
   ],
   "source": [
    "from scipy.stats import norm\n",
    "ax = sns.distplot(a=data.InscClaimAmtReimbursed, fit=norm, kde=False);"
   ]
  },
  {
   "cell_type": "code",
   "execution_count": 92,
   "metadata": {},
   "outputs": [
    {
     "data": {
      "image/png": "[encoded data removed]",
      "text/plain": [
       "<Figure size 432x288 with 1 Axes>"
      ]
     },
     "metadata": {
      "needs_background": "light"
     },
     "output_type": "display_data"
    }
   ],
   "source": [
    "ax = sns.distplot(a=np.log(data.InscClaimAmtReimbursed+1), fit=norm, kde=False);\n"
   ]
  },
  {
   "cell_type": "markdown",
   "metadata": {},
   "source": [
    "These are all the deductible amounts that people pay. "
   ]
  },
  {
   "cell_type": "code",
   "execution_count": 59,
   "metadata": {},
   "outputs": [
    {
     "data": {
      "text/plain": [
       "array([   0.,   10.,   20.,   30.,   40.,   50.,   60.,   70.,   80.,\n",
       "         90.,  100.,  200.,  865.,  876.,  886.,  897., 1068.])"
      ]
     },
     "execution_count": 59,
     "metadata": {},
     "output_type": "execute_result"
    }
   ],
   "source": [
    "np.unique(data.DeductibleAmtPaid.values)"
   ]
  },
  {
   "cell_type": "code",
   "execution_count": null,
   "metadata": {},
   "outputs": [],
   "source": [
    "# for i in np.unique(data.State):\n",
    "#     state_data = data[data.State==i]\n",
    "#     filename = \"./plots/state_level/age-claim/state_{}.png\".format(i)\n",
    "#     print(filename)\n",
    "#     plt.figure()\n",
    "#     ax = sns.scatterplot(x='Age',y='InscClaimAmtReimbursed', hue = 'Status', data=state_data);\n",
    "#     ax.figure.savefig(filename,bbox_inches='tight');\n",
    "#     plt.close()\n"
   ]
  },
  {
   "cell_type": "code",
   "execution_count": 219,
   "metadata": {},
   "outputs": [],
   "source": [
    "data.to_csv('./data/combinedDesign.csv')\n",
    "target.to_csv('./data/combinedTarget.csv')"
   ]
  },
  {
   "cell_type": "markdown",
   "metadata": {},
   "source": [
    "## Aiko Questions"
   ]
  },
  {
   "cell_type": "markdown",
   "metadata": {},
   "source": [
    "### Set 1"
   ]
  },
  {
   "cell_type": "markdown",
   "metadata": {},
   "source": [
    "1. How many medical doctors are there in the train outpatient dataset?"
   ]
  },
  {
   "cell_type": "code",
   "execution_count": 136,
   "metadata": {},
   "outputs": [
    {
     "name": "stderr",
     "output_type": "stream",
     "text": [
      "/usr/local/anaconda3/lib/python3.7/site-packages/ipykernel_launcher.py:3: UserWarning: Boolean Series key will be reindexed to match DataFrame index.\n",
      "  This is separate from the ipykernel package so we can avoid doing imports until\n"
     ]
    },
    {
     "data": {
      "text/plain": [
       "(89771,)"
      ]
     },
     "execution_count": 136,
     "metadata": {},
     "output_type": "execute_result"
    }
   ],
   "source": [
    "train_docs = data[data.Set=='Train']\n",
    "\n",
    "np.unique(train_docs[data.Status=='out'][['AttendingPhysician','OperatingPhysician','OtherPhysician']].fillna('').values.flatten()).shape"
   ]
  },
  {
   "cell_type": "markdown",
   "metadata": {},
   "source": [
    "2. How many medical doctors are there in the train inpatient dataset? Do they match with those from the outpatient record?"
   ]
  },
  {
   "cell_type": "code",
   "execution_count": 137,
   "metadata": {},
   "outputs": [
    {
     "name": "stderr",
     "output_type": "stream",
     "text": [
      "/usr/local/anaconda3/lib/python3.7/site-packages/ipykernel_launcher.py:1: UserWarning: Boolean Series key will be reindexed to match DataFrame index.\n",
      "  \"\"\"Entry point for launching an IPython kernel.\n"
     ]
    },
    {
     "data": {
      "text/plain": [
       "(18257,)"
      ]
     },
     "execution_count": 137,
     "metadata": {},
     "output_type": "execute_result"
    }
   ],
   "source": [
    "np.unique(train_docs[data.Status=='in'][['AttendingPhysician','OperatingPhysician','OtherPhysician']].fillna('').values.flatten()).shape"
   ]
  },
  {
   "cell_type": "markdown",
   "metadata": {},
   "source": [
    "3. Do those inpatient patients show worse health conditions (in terms of chronic diseases) than typical outpatient patients, or do those who have more visits to the providers have worse health conditions? Provide an analysis on these issues."
   ]
  },
  {
   "cell_type": "code",
   "execution_count": 229,
   "metadata": {},
   "outputs": [],
   "source": [
    "inpat = data[data.Status=='in']\n",
    "outpat = data[data.Status=='out']"
   ]
  },
  {
   "cell_type": "code",
   "execution_count": 243,
   "metadata": {},
   "outputs": [
    {
     "name": "stdout",
     "output_type": "stream",
     "text": [
      "Index(['BeneID', 'ClaimID', 'ClaimStartDt', 'ClaimEndDt', 'Provider',\n",
      "       'InscClaimAmtReimbursed', 'AttendingPhysician', 'OperatingPhysician',\n",
      "       'OtherPhysician', 'AdmissionDt', 'ClmAdmitDiagnosisCode',\n",
      "       'DeductibleAmtPaid', 'DischargeDt', 'DiagnosisGroupCode',\n",
      "       'ClmDiagnosisCode_1', 'ClmDiagnosisCode_2', 'ClmDiagnosisCode_3',\n",
      "       'ClmDiagnosisCode_4', 'ClmDiagnosisCode_5', 'ClmDiagnosisCode_6',\n",
      "       'ClmDiagnosisCode_7', 'ClmDiagnosisCode_8', 'ClmDiagnosisCode_9',\n",
      "       'ClmDiagnosisCode_10', 'ClmProcedureCode_1', 'ClmProcedureCode_2',\n",
      "       'ClmProcedureCode_3', 'ClmProcedureCode_4', 'ClmProcedureCode_5',\n",
      "       'ClmProcedureCode_6', 'Set', 'Status', 'DOB', 'DOD', 'Gender', 'Race',\n",
      "       'RenalDiseaseIndicator', 'State', 'County', 'NoOfMonths_PartACov',\n",
      "       'NoOfMonths_PartBCov', 'Alzheimer', 'HeartFailure', 'KidneyDisease',\n",
      "       'Cancer', 'ObstrPulmonary', 'Depression', 'Diabetes', 'IschemicHeart',\n",
      "       'Osteoporasis', 'RheumatoidArthritis', 'Stroke',\n",
      "       'IPAnnualReimbursementAmt', 'IPAnnualDeductibleAmt',\n",
      "       'OPAnnualReimbursementAmt', 'OPAnnualDeductibleAmt', 'WhetherDead',\n",
      "       'NumProc', 'NumClaims', 'AdmissionDays', 'ClaimDays', 'Age',\n",
      "       'NumChronics'],\n",
      "      dtype='object')\n"
     ]
    }
   ],
   "source": [
    "import pprint\n",
    "pp = pprint.PrettyPrinter(indent=4)\n",
    "pp.pprint(data.columns)"
   ]
  },
  {
   "cell_type": "markdown",
   "metadata": {},
   "source": [
    "Let's count how many cases of chronic conditions exist in both inpatient and outpatient"
   ]
  },
  {
   "cell_type": "code",
   "execution_count": 361,
   "metadata": {},
   "outputs": [
    {
     "data": {
      "text/html": [
       "<div>\n",
       "<style scoped>\n",
       "    .dataframe tbody tr th:only-of-type {\n",
       "        vertical-align: middle;\n",
       "    }\n",
       "\n",
       "    .dataframe tbody tr th {\n",
       "        vertical-align: top;\n",
       "    }\n",
       "\n",
       "    .dataframe thead th {\n",
       "        text-align: right;\n",
       "    }\n",
       "</style>\n",
       "<table border=\"1\" class=\"dataframe\">\n",
       "  <thead>\n",
       "    <tr style=\"text-align: right;\">\n",
       "      <th></th>\n",
       "      <th>Status</th>\n",
       "      <th>Alzheimer</th>\n",
       "      <th>HeartFailure</th>\n",
       "      <th>KidneyDisease</th>\n",
       "      <th>Cancer</th>\n",
       "      <th>ObstrPulmonary</th>\n",
       "      <th>Depression</th>\n",
       "      <th>Diabetes</th>\n",
       "      <th>IschemicHeart</th>\n",
       "      <th>Osteoporasis</th>\n",
       "      <th>RheumatoidArthritis</th>\n",
       "      <th>Stroke</th>\n",
       "    </tr>\n",
       "  </thead>\n",
       "  <tbody>\n",
       "    <tr>\n",
       "      <td>0</td>\n",
       "      <td>in</td>\n",
       "      <td>25095</td>\n",
       "      <td>36071</td>\n",
       "      <td>30125</td>\n",
       "      <td>9542</td>\n",
       "      <td>23999</td>\n",
       "      <td>25173</td>\n",
       "      <td>40004</td>\n",
       "      <td>42774</td>\n",
       "      <td>17534</td>\n",
       "      <td>18000</td>\n",
       "      <td>8513</td>\n",
       "    </tr>\n",
       "    <tr>\n",
       "      <td>1</td>\n",
       "      <td>out</td>\n",
       "      <td>253832</td>\n",
       "      <td>374002</td>\n",
       "      <td>256175</td>\n",
       "      <td>95917</td>\n",
       "      <td>192882</td>\n",
       "      <td>276103</td>\n",
       "      <td>449647</td>\n",
       "      <td>483902</td>\n",
       "      <td>202613</td>\n",
       "      <td>197681</td>\n",
       "      <td>62427</td>\n",
       "    </tr>\n",
       "  </tbody>\n",
       "</table>\n",
       "</div>"
      ],
      "text/plain": [
       "  Status  Alzheimer  HeartFailure  KidneyDisease  Cancer  ObstrPulmonary  \\\n",
       "0     in      25095         36071          30125    9542           23999   \n",
       "1    out     253832        374002         256175   95917          192882   \n",
       "\n",
       "   Depression  Diabetes  IschemicHeart  Osteoporasis  RheumatoidArthritis  \\\n",
       "0       25173     40004          42774         17534                18000   \n",
       "1      276103    449647         483902        202613               197681   \n",
       "\n",
       "   Stroke  \n",
       "0    8513  \n",
       "1   62427  "
      ]
     },
     "execution_count": 361,
     "metadata": {},
     "output_type": "execute_result"
    }
   ],
   "source": [
    "chronic_count = data.groupby(['Status'])[['Alzheimer', 'HeartFailure', 'KidneyDisease',\n",
    "       'Cancer', 'ObstrPulmonary', 'Depression', 'Diabetes', 'IschemicHeart',\n",
    "       'Osteoporasis', 'RheumatoidArthritis', 'Stroke']].sum().reset_index()\n",
    "chronic_count"
   ]
  },
  {
   "cell_type": "code",
   "execution_count": 362,
   "metadata": {},
   "outputs": [],
   "source": [
    "chronic_count['total'] =chronic_count.sum(axis=1)"
   ]
  },
  {
   "cell_type": "code",
   "execution_count": 363,
   "metadata": {},
   "outputs": [],
   "source": [
    "chronic_prop = chronic_count.iloc[:,1:].div(chronic_count.total, axis=0)\n",
    "chronic_prop.index = ['in','out']"
   ]
  },
  {
   "cell_type": "code",
   "execution_count": 364,
   "metadata": {},
   "outputs": [],
   "source": [
    "chronic_prop = chronic_prop.reset_index()\n",
    "chronic_prop.drop(columns=['total'],axis=1,inplace=True)"
   ]
  },
  {
   "cell_type": "code",
   "execution_count": 365,
   "metadata": {},
   "outputs": [
    {
     "data": {
      "image/png": "[encoded data removed]",
      "text/plain": [
       "<Figure size 720x720 with 1 Axes>"
      ]
     },
     "metadata": {
      "needs_background": "light"
     },
     "output_type": "display_data"
    }
   ],
   "source": [
    "fig, ax1 = plt.subplots(figsize=(10, 10))\n",
    "\n",
    "tidy = chronic_prop.melt(id_vars='index').rename(columns=str.title)\n",
    "\n",
    "ax = sns.barplot(hue='Index', y='Value', x='Variable', data=tidy, ax=ax1)\n",
    "#sns.despine(fig)\n",
    "ax.set_xticklabels(ax.get_xticklabels(), rotation=45, horizontalalignment='right');\n",
    "ax.set(xlabel='Chronic Condition', ylabel='% of Total Claims');\n",
    "ax.figure.savefig(\"./plots/cc_props.png\",bbox_inches='tight')"
   ]
  },
  {
   "cell_type": "code",
   "execution_count": 358,
   "metadata": {},
   "outputs": [
    {
     "name": "stdout",
     "output_type": "stream",
     "text": [
      "500.25\n",
      "6435.78\n"
     ]
    }
   ],
   "source": [
    "print(inpat.shape[0]*0.01)\n",
    "print(outpat.shape[0]*0.01)"
   ]
  },
  {
   "cell_type": "markdown",
   "metadata": {},
   "source": [
    "Or do those who have more visits to the providers have worse health conditions?"
   ]
  },
  {
   "cell_type": "code",
   "execution_count": 384,
   "metadata": {},
   "outputs": [
    {
     "data": {
      "text/html": [
       "<div>\n",
       "<style scoped>\n",
       "    .dataframe tbody tr th:only-of-type {\n",
       "        vertical-align: middle;\n",
       "    }\n",
       "\n",
       "    .dataframe tbody tr th {\n",
       "        vertical-align: top;\n",
       "    }\n",
       "\n",
       "    .dataframe thead th {\n",
       "        text-align: right;\n",
       "    }\n",
       "</style>\n",
       "<table border=\"1\" class=\"dataframe\">\n",
       "  <thead>\n",
       "    <tr style=\"text-align: right;\">\n",
       "      <th></th>\n",
       "      <th>BeneID</th>\n",
       "      <th>NumChronics</th>\n",
       "      <th>Status</th>\n",
       "      <th>Provider</th>\n",
       "    </tr>\n",
       "  </thead>\n",
       "  <tbody>\n",
       "    <tr>\n",
       "      <td>147148</td>\n",
       "      <td>BENE71915</td>\n",
       "      <td>7</td>\n",
       "      <td>in</td>\n",
       "      <td>1</td>\n",
       "    </tr>\n",
       "    <tr>\n",
       "      <td>176477</td>\n",
       "      <td>BENE95788</td>\n",
       "      <td>9</td>\n",
       "      <td>out</td>\n",
       "      <td>8</td>\n",
       "    </tr>\n",
       "    <tr>\n",
       "      <td>177250</td>\n",
       "      <td>BENE96414</td>\n",
       "      <td>3</td>\n",
       "      <td>out</td>\n",
       "      <td>4</td>\n",
       "    </tr>\n",
       "    <tr>\n",
       "      <td>73443</td>\n",
       "      <td>BENE15531</td>\n",
       "      <td>1</td>\n",
       "      <td>out</td>\n",
       "      <td>1</td>\n",
       "    </tr>\n",
       "    <tr>\n",
       "      <td>135334</td>\n",
       "      <td>BENE62273</td>\n",
       "      <td>7</td>\n",
       "      <td>in</td>\n",
       "      <td>1</td>\n",
       "    </tr>\n",
       "    <tr>\n",
       "      <td>174999</td>\n",
       "      <td>BENE94583</td>\n",
       "      <td>4</td>\n",
       "      <td>out</td>\n",
       "      <td>7</td>\n",
       "    </tr>\n",
       "    <tr>\n",
       "      <td>52620</td>\n",
       "      <td>BENE139963</td>\n",
       "      <td>6</td>\n",
       "      <td>in</td>\n",
       "      <td>3</td>\n",
       "    </tr>\n",
       "    <tr>\n",
       "      <td>127413</td>\n",
       "      <td>BENE55780</td>\n",
       "      <td>6</td>\n",
       "      <td>out</td>\n",
       "      <td>9</td>\n",
       "    </tr>\n",
       "    <tr>\n",
       "      <td>74291</td>\n",
       "      <td>BENE155925</td>\n",
       "      <td>2</td>\n",
       "      <td>out</td>\n",
       "      <td>1</td>\n",
       "    </tr>\n",
       "    <tr>\n",
       "      <td>79001</td>\n",
       "      <td>BENE16179</td>\n",
       "      <td>6</td>\n",
       "      <td>in</td>\n",
       "      <td>1</td>\n",
       "    </tr>\n",
       "  </tbody>\n",
       "</table>\n",
       "</div>"
      ],
      "text/plain": [
       "            BeneID  NumChronics Status  Provider\n",
       "147148   BENE71915            7     in         1\n",
       "176477   BENE95788            9    out         8\n",
       "177250   BENE96414            3    out         4\n",
       "73443    BENE15531            1    out         1\n",
       "135334   BENE62273            7     in         1\n",
       "174999   BENE94583            4    out         7\n",
       "52620   BENE139963            6     in         3\n",
       "127413   BENE55780            6    out         9\n",
       "74291   BENE155925            2    out         1\n",
       "79001    BENE16179            6     in         1"
      ]
     },
     "execution_count": 384,
     "metadata": {},
     "output_type": "execute_result"
    }
   ],
   "source": [
    "bene_visits = data.groupby(['BeneID','NumChronics','Status'])['Provider'].count().reset_index()\n",
    "# .agg({\n",
    "#     'Provider' : 'count',\n",
    "#     'Alzheimer' : 'sum',\n",
    "#     'HeartFailure' : 'sum',\n",
    "#     'KidneyDisease' : 'sum',\n",
    "#     'Cancer' : 'sum',\n",
    "#     'ObstrPulmonary' : 'sum',\n",
    "#     'Depression' : 'sum',\n",
    "#     'Diabetes' : 'sum',\n",
    "#     'IschemicHeart' : 'sum',\n",
    "#     'Osteoporasis' : 'sum',\n",
    "#     'RheumatoidArthritis' : 'sum',\n",
    "#     'Stroke' : 'sum'\n",
    "# })\n",
    "bene_visits.sample(10)\n",
    "\n",
    "#bene_visits['total'] =chronic_count.sum(axis=1)"
   ]
  },
  {
   "cell_type": "code",
   "execution_count": 385,
   "metadata": {},
   "outputs": [
    {
     "data": {
      "text/html": [
       "<div>\n",
       "<style scoped>\n",
       "    .dataframe tbody tr th:only-of-type {\n",
       "        vertical-align: middle;\n",
       "    }\n",
       "\n",
       "    .dataframe tbody tr th {\n",
       "        vertical-align: top;\n",
       "    }\n",
       "\n",
       "    .dataframe thead th {\n",
       "        text-align: right;\n",
       "    }\n",
       "</style>\n",
       "<table border=\"1\" class=\"dataframe\">\n",
       "  <thead>\n",
       "    <tr style=\"text-align: right;\">\n",
       "      <th></th>\n",
       "      <th>Status</th>\n",
       "      <th>NumChronics</th>\n",
       "      <th>Provider</th>\n",
       "      <th>BeneID</th>\n",
       "    </tr>\n",
       "  </thead>\n",
       "  <tbody>\n",
       "    <tr>\n",
       "      <td>28</td>\n",
       "      <td>in</td>\n",
       "      <td>7</td>\n",
       "      <td>1</td>\n",
       "      <td>3155</td>\n",
       "    </tr>\n",
       "    <tr>\n",
       "      <td>252</td>\n",
       "      <td>out</td>\n",
       "      <td>7</td>\n",
       "      <td>23</td>\n",
       "      <td>6</td>\n",
       "    </tr>\n",
       "    <tr>\n",
       "      <td>346</td>\n",
       "      <td>out</td>\n",
       "      <td>11</td>\n",
       "      <td>14</td>\n",
       "      <td>2</td>\n",
       "    </tr>\n",
       "    <tr>\n",
       "      <td>15</td>\n",
       "      <td>in</td>\n",
       "      <td>4</td>\n",
       "      <td>4</td>\n",
       "      <td>7</td>\n",
       "    </tr>\n",
       "  </tbody>\n",
       "</table>\n",
       "</div>"
      ],
      "text/plain": [
       "    Status  NumChronics  Provider  BeneID\n",
       "28      in            7         1    3155\n",
       "252    out            7        23       6\n",
       "346    out           11        14       2\n",
       "15      in            4         4       7"
      ]
     },
     "execution_count": 385,
     "metadata": {},
     "output_type": "execute_result"
    }
   ],
   "source": [
    "visits_conds = bene_visits.groupby(['Status','NumChronics','Provider']).count().reset_index()\n",
    "visits_conds.sample(4)"
   ]
  },
  {
   "cell_type": "code",
   "execution_count": 411,
   "metadata": {},
   "outputs": [
    {
     "data": {
      "image/png": "[encoded data removed]",
      "text/plain": [
       "<Figure size 432x288 with 1 Axes>"
      ]
     },
     "metadata": {
      "needs_background": "light"
     },
     "output_type": "display_data"
    }
   ],
   "source": [
    "g = sns.stripplot(x='Provider',\n",
    "              y='NumChronics',\n",
    "                #hue='Status',\n",
    "              jitter=0.1,\n",
    "              hue = 'Status',\n",
    "              size = np.log(visits_conds.BeneID),\n",
    "                data=visits_conds)\n",
    "\n",
    "#g.set(xticklabels = [0,10,20,30,32], horizontalalignment='right');\n",
    "#g.set_xticks(range(len(visits_conds))) # <--- set the ticks first\n",
    "#g.set_xticklabels([0,10,20,30])\n",
    "g.set(xlabel='Number of Provider Visits', ylabel='Number of Chronic Conditions');\n",
    "g.figure.savefig(\"./plots/visits_conds.png\",bbox_inches='tight')"
   ]
  },
  {
   "cell_type": "code",
   "execution_count": 421,
   "metadata": {},
   "outputs": [
    {
     "data": {
      "text/html": [
       "<div>\n",
       "<style scoped>\n",
       "    .dataframe tbody tr th:only-of-type {\n",
       "        vertical-align: middle;\n",
       "    }\n",
       "\n",
       "    .dataframe tbody tr th {\n",
       "        vertical-align: top;\n",
       "    }\n",
       "\n",
       "    .dataframe thead th {\n",
       "        text-align: right;\n",
       "    }\n",
       "</style>\n",
       "<table border=\"1\" class=\"dataframe\">\n",
       "  <thead>\n",
       "    <tr style=\"text-align: right;\">\n",
       "      <th></th>\n",
       "      <th>Status</th>\n",
       "      <th>NumChronics</th>\n",
       "      <th>Provider</th>\n",
       "      <th>BeneID</th>\n",
       "    </tr>\n",
       "  </thead>\n",
       "  <tbody>\n",
       "    <tr>\n",
       "      <td>229</td>\n",
       "      <td>out</td>\n",
       "      <td>6</td>\n",
       "      <td>32</td>\n",
       "      <td>1</td>\n",
       "    </tr>\n",
       "    <tr>\n",
       "      <td>200</td>\n",
       "      <td>out</td>\n",
       "      <td>5</td>\n",
       "      <td>30</td>\n",
       "      <td>1</td>\n",
       "    </tr>\n",
       "    <tr>\n",
       "      <td>228</td>\n",
       "      <td>out</td>\n",
       "      <td>6</td>\n",
       "      <td>28</td>\n",
       "      <td>3</td>\n",
       "    </tr>\n",
       "    <tr>\n",
       "      <td>283</td>\n",
       "      <td>out</td>\n",
       "      <td>8</td>\n",
       "      <td>28</td>\n",
       "      <td>1</td>\n",
       "    </tr>\n",
       "    <tr>\n",
       "      <td>309</td>\n",
       "      <td>out</td>\n",
       "      <td>9</td>\n",
       "      <td>28</td>\n",
       "      <td>2</td>\n",
       "    </tr>\n",
       "    <tr>\n",
       "      <td>...</td>\n",
       "      <td>...</td>\n",
       "      <td>...</td>\n",
       "      <td>...</td>\n",
       "      <td>...</td>\n",
       "    </tr>\n",
       "    <tr>\n",
       "      <td>310</td>\n",
       "      <td>out</td>\n",
       "      <td>10</td>\n",
       "      <td>1</td>\n",
       "      <td>18</td>\n",
       "    </tr>\n",
       "    <tr>\n",
       "      <td>201</td>\n",
       "      <td>out</td>\n",
       "      <td>6</td>\n",
       "      <td>1</td>\n",
       "      <td>1426</td>\n",
       "    </tr>\n",
       "    <tr>\n",
       "      <td>230</td>\n",
       "      <td>out</td>\n",
       "      <td>7</td>\n",
       "      <td>1</td>\n",
       "      <td>760</td>\n",
       "    </tr>\n",
       "    <tr>\n",
       "      <td>257</td>\n",
       "      <td>out</td>\n",
       "      <td>8</td>\n",
       "      <td>1</td>\n",
       "      <td>346</td>\n",
       "    </tr>\n",
       "    <tr>\n",
       "      <td>0</td>\n",
       "      <td>in</td>\n",
       "      <td>0</td>\n",
       "      <td>1</td>\n",
       "      <td>360</td>\n",
       "    </tr>\n",
       "  </tbody>\n",
       "</table>\n",
       "<p>347 rows × 4 columns</p>\n",
       "</div>"
      ],
      "text/plain": [
       "    Status  NumChronics  Provider  BeneID\n",
       "229    out            6        32       1\n",
       "200    out            5        30       1\n",
       "228    out            6        28       3\n",
       "283    out            8        28       1\n",
       "309    out            9        28       2\n",
       "..     ...          ...       ...     ...\n",
       "310    out           10         1      18\n",
       "201    out            6         1    1426\n",
       "230    out            7         1     760\n",
       "257    out            8         1     346\n",
       "0       in            0         1     360\n",
       "\n",
       "[347 rows x 4 columns]"
      ]
     },
     "execution_count": 421,
     "metadata": {},
     "output_type": "execute_result"
    }
   ],
   "source": [
    "visits_conds.sort_values('Provider', ascending=False)"
   ]
  },
  {
   "cell_type": "code",
   "execution_count": 416,
   "metadata": {},
   "outputs": [
    {
     "data": {
      "text/plain": [
       "<matplotlib.axes._subplots.AxesSubplot object at 0x1a3a9e5690>"
      ]
     },
     "execution_count": 416,
     "metadata": {},
     "output_type": "execute_result"
    },
    {
     "data": {
      "image/png": "[encoded data removed]",
      "text/plain": [
       "<Figure size 720x720 with 1 Axes>"
      ]
     },
     "metadata": {
      "needs_background": "light"
     },
     "output_type": "display_data"
    }
   ],
   "source": [
    "fig, ax1 = plt.subplots(figsize=(10, 10))\n",
    "\n",
    "sns.barplot(hue='Status', x='NumChronics', y='Provider', data=visits_conds, ax=ax1)\n",
    "#sns.despine(fig)\n",
    "#ax.set_xticklabels(ax.get_xticklabels(), rotation=45, horizontalalignment='right');\n",
    "#ax.set(xlabel='Chronic Condition', ylabel='% of Total Claims');"
   ]
  },
  {
   "cell_type": "code",
   "execution_count": 274,
   "metadata": {},
   "outputs": [
    {
     "data": {
      "text/plain": [
       "(922904, 4)"
      ]
     },
     "execution_count": 274,
     "metadata": {},
     "output_type": "execute_result"
    }
   ],
   "source": [
    "bene_health = bene_visits.merge(data[['BeneID','NumChronics']], on='BeneID', how='left')\n",
    "bene_health.shape"
   ]
  },
  {
   "cell_type": "code",
   "execution_count": 275,
   "metadata": {},
   "outputs": [
    {
     "data": {
      "text/plain": [
       "(347, 4)"
      ]
     },
     "execution_count": 275,
     "metadata": {},
     "output_type": "execute_result"
    }
   ],
   "source": [
    "bene_health = bene_health.groupby(['Status','Provider','NumChronics']).count().reset_index()\n",
    "bene_health.shape"
   ]
  },
  {
   "cell_type": "code",
   "execution_count": 276,
   "metadata": {},
   "outputs": [
    {
     "data": {
      "text/html": [
       "<div>\n",
       "<style scoped>\n",
       "    .dataframe tbody tr th:only-of-type {\n",
       "        vertical-align: middle;\n",
       "    }\n",
       "\n",
       "    .dataframe tbody tr th {\n",
       "        vertical-align: top;\n",
       "    }\n",
       "\n",
       "    .dataframe thead th {\n",
       "        text-align: right;\n",
       "    }\n",
       "</style>\n",
       "<table border=\"1\" class=\"dataframe\">\n",
       "  <thead>\n",
       "    <tr style=\"text-align: right;\">\n",
       "      <th></th>\n",
       "      <th>Status</th>\n",
       "      <th>Provider</th>\n",
       "      <th>NumChronics</th>\n",
       "      <th>BeneID</th>\n",
       "    </tr>\n",
       "  </thead>\n",
       "  <tbody>\n",
       "    <tr>\n",
       "      <td>0</td>\n",
       "      <td>in</td>\n",
       "      <td>1</td>\n",
       "      <td>0</td>\n",
       "      <td>933</td>\n",
       "    </tr>\n",
       "    <tr>\n",
       "      <td>1</td>\n",
       "      <td>in</td>\n",
       "      <td>1</td>\n",
       "      <td>1</td>\n",
       "      <td>4194</td>\n",
       "    </tr>\n",
       "    <tr>\n",
       "      <td>2</td>\n",
       "      <td>in</td>\n",
       "      <td>1</td>\n",
       "      <td>2</td>\n",
       "      <td>9629</td>\n",
       "    </tr>\n",
       "    <tr>\n",
       "      <td>3</td>\n",
       "      <td>in</td>\n",
       "      <td>1</td>\n",
       "      <td>3</td>\n",
       "      <td>16468</td>\n",
       "    </tr>\n",
       "    <tr>\n",
       "      <td>4</td>\n",
       "      <td>in</td>\n",
       "      <td>1</td>\n",
       "      <td>4</td>\n",
       "      <td>24046</td>\n",
       "    </tr>\n",
       "    <tr>\n",
       "      <td>...</td>\n",
       "      <td>...</td>\n",
       "      <td>...</td>\n",
       "      <td>...</td>\n",
       "      <td>...</td>\n",
       "    </tr>\n",
       "    <tr>\n",
       "      <td>342</td>\n",
       "      <td>out</td>\n",
       "      <td>28</td>\n",
       "      <td>6</td>\n",
       "      <td>87</td>\n",
       "    </tr>\n",
       "    <tr>\n",
       "      <td>343</td>\n",
       "      <td>out</td>\n",
       "      <td>28</td>\n",
       "      <td>8</td>\n",
       "      <td>31</td>\n",
       "    </tr>\n",
       "    <tr>\n",
       "      <td>344</td>\n",
       "      <td>out</td>\n",
       "      <td>28</td>\n",
       "      <td>9</td>\n",
       "      <td>59</td>\n",
       "    </tr>\n",
       "    <tr>\n",
       "      <td>345</td>\n",
       "      <td>out</td>\n",
       "      <td>30</td>\n",
       "      <td>5</td>\n",
       "      <td>30</td>\n",
       "    </tr>\n",
       "    <tr>\n",
       "      <td>346</td>\n",
       "      <td>out</td>\n",
       "      <td>32</td>\n",
       "      <td>6</td>\n",
       "      <td>32</td>\n",
       "    </tr>\n",
       "  </tbody>\n",
       "</table>\n",
       "<p>347 rows × 4 columns</p>\n",
       "</div>"
      ],
      "text/plain": [
       "    Status  Provider  NumChronics  BeneID\n",
       "0       in         1            0     933\n",
       "1       in         1            1    4194\n",
       "2       in         1            2    9629\n",
       "3       in         1            3   16468\n",
       "4       in         1            4   24046\n",
       "..     ...       ...          ...     ...\n",
       "342    out        28            6      87\n",
       "343    out        28            8      31\n",
       "344    out        28            9      59\n",
       "345    out        30            5      30\n",
       "346    out        32            6      32\n",
       "\n",
       "[347 rows x 4 columns]"
      ]
     },
     "execution_count": 276,
     "metadata": {},
     "output_type": "execute_result"
    }
   ],
   "source": [
    "bene_health"
   ]
  },
  {
   "cell_type": "code",
   "execution_count": 292,
   "metadata": {},
   "outputs": [
    {
     "data": {
      "text/plain": [
       "<matplotlib.axes._subplots.AxesSubplot object at 0x1a3491e590>"
      ]
     },
     "execution_count": 292,
     "metadata": {},
     "output_type": "execute_result"
    },
    {
     "data": {
      "image/png": "[encoded data removed]",
      "text/plain": [
       "<Figure size 432x288 with 1 Axes>"
      ]
     },
     "metadata": {
      "needs_background": "light"
     },
     "output_type": "display_data"
    }
   ],
   "source": [
    "sns.stripplot(x='Provider',\n",
    "                y='BeneID',\n",
    "                hue='Status',\n",
    "              jitter=0.25,\n",
    "                data=bene_health)"
   ]
  },
  {
   "cell_type": "code",
   "execution_count": 291,
   "metadata": {
    "scrolled": true
   },
   "outputs": [
    {
     "data": {
      "text/plain": [
       "<matplotlib.axes._subplots.AxesSubplot object at 0x1a342f8410>"
      ]
     },
     "execution_count": 291,
     "metadata": {},
     "output_type": "execute_result"
    },
    {
     "data": {
      "image/png": "[encoded data removed]",
      "text/plain": [
       "<Figure size 432x288 with 1 Axes>"
      ]
     },
     "metadata": {
      "needs_background": "light"
     },
     "output_type": "display_data"
    }
   ],
   "source": [
    "sns.stripplot(x='NumChronics',\n",
    "                y='BeneID',\n",
    "                hue='Status',\n",
    "                #alpha=0.5,\n",
    "              jitter=0.25,\n",
    "                data=bene_health)"
   ]
  },
  {
   "cell_type": "code",
   "execution_count": 422,
   "metadata": {},
   "outputs": [
    {
     "data": {
      "image/png": "[encoded data removed]",
      "text/plain": [
       "<Figure size 412.25x360 with 1 Axes>"
      ]
     },
     "metadata": {
      "needs_background": "light"
     },
     "output_type": "display_data"
    }
   ],
   "source": [
    "inpat = data[data.Status=='in']\n",
    "outpat = data[data.Status=='out']\n",
    "\n",
    "ax = sns.catplot(x=\"NumChronics\", \n",
    "                  hue='Gender', \n",
    "                  kind='count', \n",
    "                  data=inpat)"
   ]
  },
  {
   "cell_type": "code",
   "execution_count": 228,
   "metadata": {},
   "outputs": [
    {
     "data": {
      "image/png": "[encoded data removed]",
      "text/plain": [
       "<Figure size 404.875x360 with 1 Axes>"
      ]
     },
     "metadata": {
      "needs_background": "light"
     },
     "output_type": "display_data"
    }
   ],
   "source": [
    "ax = sns.catplot(x=\"NumChronics\", \n",
    "                  hue='Gender', \n",
    "                  kind='count', \n",
    "                  data=outpat)"
   ]
  },
  {
   "cell_type": "markdown",
   "metadata": {},
   "source": [
    "4. How many distinct patients (BeneIDs) are there in the in/out-patient datasets?"
   ]
  },
  {
   "cell_type": "code",
   "execution_count": 428,
   "metadata": {},
   "outputs": [
    {
     "name": "stdout",
     "output_type": "stream",
     "text": [
      "There are 37418 distinct Beneficiary IDs in the inpatient dataset\n",
      "There are 144189 distinct Beneficiary IDs in the outpatient dataset\n"
     ]
    }
   ],
   "source": [
    "print('There are {} distinct Beneficiary IDs in the inpatient dataset'.format(inpat.BeneID.drop_duplicates().shape[0]))\n",
    "print('There are {} distinct Beneficiary IDs in the outpatient dataset'.format(outpat.BeneID.drop_duplicates().shape[0]))"
   ]
  },
  {
   "cell_type": "markdown",
   "metadata": {},
   "source": [
    "5. Do doctors serve for different providers? Study the distribution of hospital counts/doctor? Is it possible to characterize those doctors who move around among different providers?"
   ]
  },
  {
   "cell_type": "code",
   "execution_count": 511,
   "metadata": {},
   "outputs": [
    {
     "data": {
      "text/html": [
       "<div>\n",
       "<style scoped>\n",
       "    .dataframe tbody tr th:only-of-type {\n",
       "        vertical-align: middle;\n",
       "    }\n",
       "\n",
       "    .dataframe tbody tr th {\n",
       "        vertical-align: top;\n",
       "    }\n",
       "\n",
       "    .dataframe thead th {\n",
       "        text-align: right;\n",
       "    }\n",
       "</style>\n",
       "<table border=\"1\" class=\"dataframe\">\n",
       "  <thead>\n",
       "    <tr style=\"text-align: right;\">\n",
       "      <th></th>\n",
       "      <th>Provider</th>\n",
       "      <th>AttendingPhysician</th>\n",
       "    </tr>\n",
       "  </thead>\n",
       "  <tbody>\n",
       "    <tr>\n",
       "      <td>0</td>\n",
       "      <td>PRV51001</td>\n",
       "      <td>25</td>\n",
       "    </tr>\n",
       "    <tr>\n",
       "      <td>1</td>\n",
       "      <td>PRV51002</td>\n",
       "      <td>205</td>\n",
       "    </tr>\n",
       "    <tr>\n",
       "      <td>2</td>\n",
       "      <td>PRV51003</td>\n",
       "      <td>132</td>\n",
       "    </tr>\n",
       "    <tr>\n",
       "      <td>3</td>\n",
       "      <td>PRV51004</td>\n",
       "      <td>149</td>\n",
       "    </tr>\n",
       "    <tr>\n",
       "      <td>4</td>\n",
       "      <td>PRV51005</td>\n",
       "      <td>1165</td>\n",
       "    </tr>\n",
       "    <tr>\n",
       "      <td>...</td>\n",
       "      <td>...</td>\n",
       "      <td>...</td>\n",
       "    </tr>\n",
       "    <tr>\n",
       "      <td>6758</td>\n",
       "      <td>PRV57759</td>\n",
       "      <td>28</td>\n",
       "    </tr>\n",
       "    <tr>\n",
       "      <td>6759</td>\n",
       "      <td>PRV57760</td>\n",
       "      <td>22</td>\n",
       "    </tr>\n",
       "    <tr>\n",
       "      <td>6760</td>\n",
       "      <td>PRV57761</td>\n",
       "      <td>82</td>\n",
       "    </tr>\n",
       "    <tr>\n",
       "      <td>6761</td>\n",
       "      <td>PRV57762</td>\n",
       "      <td>1</td>\n",
       "    </tr>\n",
       "    <tr>\n",
       "      <td>6762</td>\n",
       "      <td>PRV57763</td>\n",
       "      <td>118</td>\n",
       "    </tr>\n",
       "  </tbody>\n",
       "</table>\n",
       "<p>6763 rows × 2 columns</p>\n",
       "</div>"
      ],
      "text/plain": [
       "      Provider  AttendingPhysician\n",
       "0     PRV51001                  25\n",
       "1     PRV51002                 205\n",
       "2     PRV51003                 132\n",
       "3     PRV51004                 149\n",
       "4     PRV51005                1165\n",
       "...        ...                 ...\n",
       "6758  PRV57759                  28\n",
       "6759  PRV57760                  22\n",
       "6760  PRV57761                  82\n",
       "6761  PRV57762                   1\n",
       "6762  PRV57763                 118\n",
       "\n",
       "[6763 rows x 2 columns]"
      ]
     },
     "execution_count": 511,
     "metadata": {},
     "output_type": "execute_result"
    }
   ],
   "source": [
    "data.groupby('Provider')['AttendingPhysician'].count().reset_index()"
   ]
  },
  {
   "cell_type": "code",
   "execution_count": 537,
   "metadata": {},
   "outputs": [
    {
     "data": {
      "text/html": [
       "<div>\n",
       "<style scoped>\n",
       "    .dataframe tbody tr th:only-of-type {\n",
       "        vertical-align: middle;\n",
       "    }\n",
       "\n",
       "    .dataframe tbody tr th {\n",
       "        vertical-align: top;\n",
       "    }\n",
       "\n",
       "    .dataframe thead th {\n",
       "        text-align: right;\n",
       "    }\n",
       "</style>\n",
       "<table border=\"1\" class=\"dataframe\">\n",
       "  <thead>\n",
       "    <tr style=\"text-align: right;\">\n",
       "      <th></th>\n",
       "      <th>AttendingPhysician</th>\n",
       "      <th>OperatingPhysician</th>\n",
       "      <th>OtherPhysician</th>\n",
       "      <th>Provider</th>\n",
       "    </tr>\n",
       "  </thead>\n",
       "  <tbody>\n",
       "    <tr>\n",
       "      <td>0</td>\n",
       "      <td></td>\n",
       "      <td></td>\n",
       "      <td></td>\n",
       "      <td>1823</td>\n",
       "    </tr>\n",
       "    <tr>\n",
       "      <td>78561</td>\n",
       "      <td>Dr. Graciela Howard</td>\n",
       "      <td></td>\n",
       "      <td></td>\n",
       "      <td>1332</td>\n",
       "    </tr>\n",
       "    <tr>\n",
       "      <td>23243</td>\n",
       "      <td>Dr. Barbara Clark</td>\n",
       "      <td></td>\n",
       "      <td></td>\n",
       "      <td>874</td>\n",
       "    </tr>\n",
       "    <tr>\n",
       "      <td>135731</td>\n",
       "      <td>Dr. Luke Hoover</td>\n",
       "      <td></td>\n",
       "      <td></td>\n",
       "      <td>813</td>\n",
       "    </tr>\n",
       "    <tr>\n",
       "      <td>22484</td>\n",
       "      <td>Dr. Aurelio Wilmsen</td>\n",
       "      <td></td>\n",
       "      <td></td>\n",
       "      <td>661</td>\n",
       "    </tr>\n",
       "    <tr>\n",
       "      <td>102518</td>\n",
       "      <td>Dr. Jeremiah Dávila</td>\n",
       "      <td></td>\n",
       "      <td></td>\n",
       "      <td>631</td>\n",
       "    </tr>\n",
       "    <tr>\n",
       "      <td>31263</td>\n",
       "      <td>Dr. Bruno Prieto</td>\n",
       "      <td></td>\n",
       "      <td></td>\n",
       "      <td>610</td>\n",
       "    </tr>\n",
       "    <tr>\n",
       "      <td>159783</td>\n",
       "      <td>Dr. Nicole Ebert</td>\n",
       "      <td></td>\n",
       "      <td></td>\n",
       "      <td>608</td>\n",
       "    </tr>\n",
       "    <tr>\n",
       "      <td>207494</td>\n",
       "      <td>Dr. Viktor Anders</td>\n",
       "      <td></td>\n",
       "      <td></td>\n",
       "      <td>606</td>\n",
       "    </tr>\n",
       "    <tr>\n",
       "      <td>208902</td>\n",
       "      <td>Dr. Walli Carbajal</td>\n",
       "      <td></td>\n",
       "      <td></td>\n",
       "      <td>603</td>\n",
       "    </tr>\n",
       "  </tbody>\n",
       "</table>\n",
       "</div>"
      ],
      "text/plain": [
       "         AttendingPhysician OperatingPhysician OtherPhysician  Provider\n",
       "0                                                                  1823\n",
       "78561   Dr. Graciela Howard                                        1332\n",
       "23243     Dr. Barbara Clark                                         874\n",
       "135731      Dr. Luke Hoover                                         813\n",
       "22484   Dr. Aurelio Wilmsen                                         661\n",
       "102518  Dr. Jeremiah Dávila                                         631\n",
       "31263      Dr. Bruno Prieto                                         610\n",
       "159783     Dr. Nicole Ebert                                         608\n",
       "207494    Dr. Viktor Anders                                         606\n",
       "208902   Dr. Walli Carbajal                                         603"
      ]
     },
     "execution_count": 537,
     "metadata": {},
     "output_type": "execute_result"
    }
   ],
   "source": [
    "doctors_providers = data.groupby(['AttendingPhysician','OperatingPhysician','OtherPhysician'])['Provider'].count().reset_index().sort_values('Provider', ascending=False)\n",
    "doctors_providers.head(10)"
   ]
  },
  {
   "cell_type": "code",
   "execution_count": 538,
   "metadata": {},
   "outputs": [],
   "source": [
    "tidy = doctors_providers.melt(id_vars='Provider').rename(columns=str.title)\n",
    "#tidy\n",
    "doc_providers = tidy.groupby('Value')['Provider'].sum().reset_index().sort_values('Provider',ascending=False).reset_index(drop=True)"
   ]
  },
  {
   "cell_type": "code",
   "execution_count": 539,
   "metadata": {},
   "outputs": [
    {
     "data": {
      "text/html": [
       "<div>\n",
       "<style scoped>\n",
       "    .dataframe tbody tr th:only-of-type {\n",
       "        vertical-align: middle;\n",
       "    }\n",
       "\n",
       "    .dataframe tbody tr th {\n",
       "        vertical-align: top;\n",
       "    }\n",
       "\n",
       "    .dataframe thead th {\n",
       "        text-align: right;\n",
       "    }\n",
       "</style>\n",
       "<table border=\"1\" class=\"dataframe\">\n",
       "  <thead>\n",
       "    <tr style=\"text-align: right;\">\n",
       "      <th></th>\n",
       "      <th>Value</th>\n",
       "      <th>Provider</th>\n",
       "    </tr>\n",
       "  </thead>\n",
       "  <tbody>\n",
       "    <tr>\n",
       "      <td>0</td>\n",
       "      <td></td>\n",
       "      <td>999053</td>\n",
       "    </tr>\n",
       "    <tr>\n",
       "      <td>1</td>\n",
       "      <td>Dr. Graciela Howard</td>\n",
       "      <td>2958</td>\n",
       "    </tr>\n",
       "    <tr>\n",
       "      <td>2</td>\n",
       "      <td>Dr. Aurelio Wilmsen</td>\n",
       "      <td>2813</td>\n",
       "    </tr>\n",
       "    <tr>\n",
       "      <td>3</td>\n",
       "      <td>Dr. Isabel Wernecke</td>\n",
       "      <td>2459</td>\n",
       "    </tr>\n",
       "    <tr>\n",
       "      <td>4</td>\n",
       "      <td>Dr. Walli Carbajal</td>\n",
       "      <td>2423</td>\n",
       "    </tr>\n",
       "    <tr>\n",
       "      <td>...</td>\n",
       "      <td>...</td>\n",
       "      <td>...</td>\n",
       "    </tr>\n",
       "    <tr>\n",
       "      <td>123154</td>\n",
       "      <td>Dr. Jörn Lozada</td>\n",
       "      <td>1</td>\n",
       "    </tr>\n",
       "    <tr>\n",
       "      <td>123155</td>\n",
       "      <td>Dr. Jörn Martin</td>\n",
       "      <td>1</td>\n",
       "    </tr>\n",
       "    <tr>\n",
       "      <td>123156</td>\n",
       "      <td>Dr. Jörn Monroe</td>\n",
       "      <td>1</td>\n",
       "    </tr>\n",
       "    <tr>\n",
       "      <td>123157</td>\n",
       "      <td>Dr. Jörn Tafoya</td>\n",
       "      <td>1</td>\n",
       "    </tr>\n",
       "    <tr>\n",
       "      <td>123158</td>\n",
       "      <td>Dr. Úrsula del Valle</td>\n",
       "      <td>1</td>\n",
       "    </tr>\n",
       "  </tbody>\n",
       "</table>\n",
       "<p>123159 rows × 2 columns</p>\n",
       "</div>"
      ],
      "text/plain": [
       "                       Value  Provider\n",
       "0                               999053\n",
       "1        Dr. Graciela Howard      2958\n",
       "2        Dr. Aurelio Wilmsen      2813\n",
       "3        Dr. Isabel Wernecke      2459\n",
       "4         Dr. Walli Carbajal      2423\n",
       "...                      ...       ...\n",
       "123154       Dr. Jörn Lozada         1\n",
       "123155       Dr. Jörn Martin         1\n",
       "123156       Dr. Jörn Monroe         1\n",
       "123157       Dr. Jörn Tafoya         1\n",
       "123158  Dr. Úrsula del Valle         1\n",
       "\n",
       "[123159 rows x 2 columns]"
      ]
     },
     "execution_count": 539,
     "metadata": {},
     "output_type": "execute_result"
    }
   ],
   "source": [
    "doc_providers"
   ]
  },
  {
   "cell_type": "code",
   "execution_count": null,
   "metadata": {},
   "outputs": [],
   "source": [
    "\n",
    "# sns.scatterplot(x = doc_providers.index,\n",
    "#                 y = 'Value',\n",
    "#                 data=doc_providers)"
   ]
  },
  {
   "cell_type": "markdown",
   "metadata": {},
   "source": [
    "6. Do patients go to different hospitals? Study the distribution of hospital counts/patient? It is possible to characterize those patients who receive services from a lot of different hospitals?"
   ]
  },
  {
   "cell_type": "markdown",
   "metadata": {},
   "source": [
    "7. Do the same providers provide both inpatient and outpatient services? Summarize your finding."
   ]
  },
  {
   "cell_type": "markdown",
   "metadata": {},
   "source": [
    "8. Do Some of the same patients receive both inpatient and outpatient services? Summarize your finding."
   ]
  },
  {
   "cell_type": "code",
   "execution_count": null,
   "metadata": {},
   "outputs": [],
   "source": []
  }
 ],
 "metadata": {
  "kernelspec": {
   "display_name": "Python 3",
   "language": "python",
   "name": "python3"
  },
  "language_info": {
   "codemirror_mode": {
    "name": "ipython",
    "version": 3
   },
   "file_extension": ".py",
   "mimetype": "text/x-python",
   "name": "python",
   "nbconvert_exporter": "python",
   "pygments_lexer": "ipython3",
   "version": "3.7.4"
  }
 },
 "nbformat": 4,
 "nbformat_minor": 2
}
