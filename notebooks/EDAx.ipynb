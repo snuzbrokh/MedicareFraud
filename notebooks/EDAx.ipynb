{
 "cells": [
  {
   "cell_type": "code",
   "execution_count": 2,
   "metadata": {},
   "outputs": [],
   "source": [
    "import numpy as np\n",
    "import pandas as pd\n",
    "import scipy.stats\n",
    "\n",
    "%matplotlib inline\n",
    "import matplotlib.pyplot as plt\n",
    "import seaborn as sns"
   ]
  },
  {
   "cell_type": "code",
   "execution_count": 147,
   "metadata": {},
   "outputs": [],
   "source": [
    "data = pd.read_csv('./data/provData/x_train.csv').set_index('Provider')\n",
    "#data_test = pd.read_csv('./data/provData/x_test_inout.csv').set_index('Provider')"
   ]
  },
  {
   "cell_type": "code",
   "execution_count": 148,
   "metadata": {},
   "outputs": [],
   "source": [
    "data.drop(columns = ['Unnamed: 0','Unnamed: 0.1'], inplace=True)"
   ]
  },
  {
   "cell_type": "code",
   "execution_count": 149,
   "metadata": {},
   "outputs": [],
   "source": [
    "#x_train = x_train.drop(columns = 'PotentialFraud')\n",
    "y = data['PotentialFraud']\n",
    "X = data.drop(columns = ['PotentialFraud','Set_Range'])"
   ]
  },
  {
   "cell_type": "markdown",
   "metadata": {},
   "source": [
    "Get quick look at score for model using whole feature set"
   ]
  },
  {
   "cell_type": "code",
   "execution_count": 38,
   "metadata": {},
   "outputs": [
    {
     "name": "stdout",
     "output_type": "stream",
     "text": [
      "The accuracy of logistic regression is: 0.9216266173752311\n"
     ]
    }
   ],
   "source": [
    "print(\"The accuracy of logistic regression is: \" + str(logit.score(X, y)))"
   ]
  },
  {
   "cell_type": "markdown",
   "metadata": {},
   "source": [
    "Not very good since null model would have an accuracy of 91%"
   ]
  },
  {
   "cell_type": "markdown",
   "metadata": {},
   "source": [
    "## Metrics\n",
    "\n",
    "### Recall\n",
    "Recall (or sensitivity or true positive rate) is the fraction of observations having a true class of 1 (potentially fraudulent) that are being correctly classified as such. Recall is exactly how many of the fradulent providers we are actually classifying as fraudulent.\n",
    "\n",
    "If we have a problem like cancer detection, we would ideally want our system to have very high recall, potentially at the expense of false postives or accuracy in general.\n",
    "\n",
    "### F1 Score\n",
    "F1 score is the harmonic mean of recall and precision, and it can be thought of as a balance of the two. While accuracy also serves this purpose, it can be quite misleading if classes are heavily imbalanced. In our case, only 9% of providers have been labeled as fraudulent and we assume the test set follows the same distribution. \n",
    "\n",
    "For instance, suppose we have a population of 1000 providers and 100 of them are fraudulent. We have a classfication system that produces the following results:\n",
    "\n",
    "- 40 True Positive (correctly identified fraud)\n",
    "- 10 False Positives (incorrectly mistook non-fraud for fraud)\n",
    "- 20 False Negative (failed to identify fraud)\n",
    "- 930 True Negatives (correctly identified non-fraud)\n",
    "\n",
    "In this example, we have 93.0% accuracy while the F1 score is 72.7% (and 80% precision, 67% recall), which seems to be a more useful overall indicator of performance in this case.\n",
    "\n",
    "### ROC Curve and AUC\n",
    "The receiver operating characteristic curve (or ROC curve) is another tool for evaluating the classfication performance of different models. For any given model, the ROC curve plots the tradoff between the false positive rate on the x-axis against the true positive rate (aka Precision) for different choices of thresholds for a binary classifier. In one extreme case, if the classification threshold is 0, then all instances (for non-perfect models) will be classified as 0, leading to a false positive rate of 0, but also a true postive rate of 0. In the other extreme case, a threshold of 1 leads to a true positive rate/recall of 1 but also a false postive rate of 1. \n",
    "\n",
    "In terms of evaluating classification performance, an ROC curve which is closer to the (FPR = 0, TPR = 1) point compared to another indicates that the former model strictly dominates the latter. Beyond just the curve, one summary measure is simply the AUC or (A)rea (U)nder the ROC (C)urve. A completely random model will produce an AUC of 0.5 while a perfect model will have an AUC of 1."
   ]
  },
  {
   "cell_type": "code",
   "execution_count": 39,
   "metadata": {},
   "outputs": [],
   "source": [
    "from sklearn.metrics import precision_recall_fscore_support\n",
    "from sklearn.metrics import roc_curve, roc_auc_score\n",
    "\n",
    "def logitMetrics(x,y, model):\n",
    "    logit_tr_acc = model.score(x, y)\n",
    "    logit_tr_pr, logit_tr_re, logit_tr_f1, _ = precision_recall_fscore_support(y, logit.predict(x))\n",
    "\n",
    "    print(\" Logit Train Accuracy : %1.3f\" % (logit_tr_acc))\n",
    "    print(\" Logit Train Precision: %1.3f (no fraud) and %1.3f (fraud)\" % (logit_tr_pr[0], logit_tr_pr[1]))\n",
    "    print(\" Logit Train Recall   : %1.3f (no fraud) and %1.3f (fraud)\" % (logit_tr_re[0], logit_tr_re[1]))\n",
    "    print(\" Logit Train F1 Score : %1.3f (no fraud) and %1.3f (fraud)\" % (logit_tr_f1[0], logit_tr_f1[1]))\n",
    "    \n",
    "    y_probs_logit = pd.DataFrame(model.predict_proba(x))[1]\n",
    "    fpr, tpr, thresholds = roc_curve(y, y_probs_logit)\n",
    "    auc = roc_auc_score(y, y_probs_logit)  # Computes auc\n",
    "    \n",
    "    plt.figure()\n",
    "    lw = 2\n",
    "    plt.plot(fpr, tpr, color='darkorange', lw=lw,\n",
    "            label='ROC logit (area = %0.2f)' % auc)\n",
    "\n",
    "    plt.plot([0, 1], [0, 1], color='navy', lw=lw, linestyle='--')\n",
    "    plt.xlim([0, 1.02])\n",
    "    plt.ylim([0, 1.02])\n",
    "    plt.xlabel('False Positive Rate')\n",
    "    plt.ylabel('True Positive Rate')\n",
    "    plt.title('Receiver operating characteristic example')\n",
    "    plt.legend(loc=\"lower right\")\n",
    "    plt.show()"
   ]
  },
  {
   "cell_type": "code",
   "execution_count": 40,
   "metadata": {},
   "outputs": [
    {
     "name": "stdout",
     "output_type": "stream",
     "text": [
      " Logit Train Accuracy : 0.922\n",
      " Logit Train Precision: 0.945 (no fraud) and 0.610 (fraud)\n",
      " Logit Train Recall   : 0.970 (no fraud) and 0.451 (fraud)\n",
      " Logit Train F1 Score : 0.957 (no fraud) and 0.518 (fraud)\n"
     ]
    },
    {
     "data": {
      "image/png": "[encoded data removed]",
      "text/plain": [
       "<Figure size 432x288 with 1 Axes>"
      ]
     },
     "metadata": {
      "needs_background": "light"
     },
     "output_type": "display_data"
    }
   ],
   "source": [
    "logitMetrics(X,y,logit)"
   ]
  },
  {
   "cell_type": "code",
   "execution_count": 1,
   "metadata": {},
   "outputs": [],
   "source": [
    "import warnings\n",
    "warnings.filterwarnings(action=\"ignore\", module=\"scipy\", message=\"^internal gelsd\")\n",
    "import sklearn.model_selection as ms"
   ]
  },
  {
   "cell_type": "code",
   "execution_count": 2,
   "metadata": {},
   "outputs": [],
   "source": [
    "ms_10s = ms.StratifiedKFold(n_splits=10)\n"
   ]
  },
  {
   "cell_type": "code",
   "execution_count": 19,
   "metadata": {},
   "outputs": [
    {
     "name": "stdout",
     "output_type": "stream",
     "text": [
      "Original: (5410, 63), (5410,)\n",
      "Training: (3606, 63), (3606,)\n",
      "Test:     (1804, 63), (1804,)\n"
     ]
    }
   ],
   "source": [
    "x_train, x_test, y_train, y_test = ms.train_test_split(X,y, \n",
    "                                                       test_size=1.0/3, random_state=0)\n",
    "\n",
    "print('Original: {}, {}'.format(X.shape, y.shape))\n",
    "print('Training: {}, {}'.format(x_train.shape, y_train.shape))\n",
    "print('Test:     {}, {}'.format(x_test.shape, y_test.shape))"
   ]
  },
  {
   "cell_type": "code",
   "execution_count": 29,
   "metadata": {},
   "outputs": [
    {
     "name": "stderr",
     "output_type": "stream",
     "text": [
      "/usr/local/anaconda3/lib/python3.7/site-packages/sklearn/svm/_base.py:977: ConvergenceWarning: Liblinear failed to converge, increase the number of iterations.\n",
      "  \"the number of iterations.\", ConvergenceWarning)\n",
      "/usr/local/anaconda3/lib/python3.7/site-packages/sklearn/svm/_base.py:977: ConvergenceWarning: Liblinear failed to converge, increase the number of iterations.\n",
      "  \"the number of iterations.\", ConvergenceWarning)\n",
      "/usr/local/anaconda3/lib/python3.7/site-packages/sklearn/svm/_base.py:977: ConvergenceWarning: Liblinear failed to converge, increase the number of iterations.\n",
      "  \"the number of iterations.\", ConvergenceWarning)\n",
      "/usr/local/anaconda3/lib/python3.7/site-packages/sklearn/svm/_base.py:977: ConvergenceWarning: Liblinear failed to converge, increase the number of iterations.\n",
      "  \"the number of iterations.\", ConvergenceWarning)\n",
      "/usr/local/anaconda3/lib/python3.7/site-packages/sklearn/svm/_base.py:977: ConvergenceWarning: Liblinear failed to converge, increase the number of iterations.\n",
      "  \"the number of iterations.\", ConvergenceWarning)\n",
      "/usr/local/anaconda3/lib/python3.7/site-packages/sklearn/svm/_base.py:977: ConvergenceWarning: Liblinear failed to converge, increase the number of iterations.\n",
      "  \"the number of iterations.\", ConvergenceWarning)\n"
     ]
    },
    {
     "name": "stdout",
     "output_type": "stream",
     "text": [
      "Scores: [0.95563771 0.94085028 0.9297597  0.93160813 0.92051756 0.92791128\n",
      " 0.92421442 0.93715342 0.93345656 0.93345656]\n",
      "Score mean: 0.933456561922366\n",
      "Score std deviation: 0.009279039111283645\n"
     ]
    },
    {
     "name": "stderr",
     "output_type": "stream",
     "text": [
      "/usr/local/anaconda3/lib/python3.7/site-packages/sklearn/svm/_base.py:977: ConvergenceWarning: Liblinear failed to converge, increase the number of iterations.\n",
      "  \"the number of iterations.\", ConvergenceWarning)\n"
     ]
    }
   ],
   "source": [
    "logit = linear_model.LogisticRegression(solver='liblinear', C=1e4)\n",
    "scores = ms.cross_val_score(estimator=logit, X=X, y=y, cv=10)\n",
    "\n",
    "print('Scores: {}'.format(scores))\n",
    "print('Score mean: {}'.format(scores.mean()))\n",
    "print('Score std deviation: {}'.format(scores.std()))"
   ]
  },
  {
   "cell_type": "code",
   "execution_count": 23,
   "metadata": {},
   "outputs": [
    {
     "name": "stdout",
     "output_type": "stream",
     "text": [
      "Training Error: [0.0752 0.0752 0.0752 0.0752 0.0752]\n",
      "Test Error: [0.0793 0.0793 0.0793 0.0793 0.0793]\n",
      "Test Error Mean: 0.079268\n",
      "Test Error SD: 0.000000\n"
     ]
    }
   ],
   "source": [
    "print('Training Error: {}'.format(np.round(np.array(train_error), 4))) # training error\n",
    "print('Test Error: {}'.format(np.round(np.array(test_error), 4))) # test error\n",
    "\n",
    "## calculate the mean of the test error\n",
    "print('Test Error Mean: {:6f}'.format(np.mean(test_error)))\n",
    "\n",
    "## calculate the standard deviation of the test errors\n",
    "print('Test Error SD: {:6f}'.format(np.std(test_error)))"
   ]
  },
  {
   "cell_type": "code",
   "execution_count": 73,
   "metadata": {},
   "outputs": [
    {
     "name": "stdout",
     "output_type": "stream",
     "text": [
      " Logit Train Accuracy : 0.945\n",
      " Logit Train Precision: 0.945 (no fraud) and 0.610 (fraud)\n",
      " Logit Train Recall   : 0.970 (no fraud) and 0.451 (fraud)\n",
      " Logit Train F1 Score : 0.957 (no fraud) and 0.518 (fraud)\n"
     ]
    },
    {
     "data": {
      "image/png": "[encoded data removed]",
      "text/plain": [
       "<Figure size 432x288 with 1 Axes>"
      ]
     },
     "metadata": {
      "needs_background": "light"
     },
     "output_type": "display_data"
    }
   ],
   "source": [
    "logitcv_recall = linear_model.LogisticRegressionCV(penalty='l1', \n",
    "                                            scoring = 'recall_weighted',\n",
    "                                            solver = 'liblinear').fit(X,y)\n",
    "logitMetrics(X,y,logitcv_recall)"
   ]
  },
  {
   "cell_type": "markdown",
   "metadata": {},
   "source": [
    "## SMOTE\n",
    "\n",
    "Synthetic Minority Oversampling Technique\n",
    "\n",
    "### Pros\n",
    "- problem with imbalanced classification is there are too few examples of the minority class for a model to effectively learn the decision boundary.\n",
    "- we can oversample the minority to counterbalance this. \n",
    "    - we can duplicate examples from minority class prior to fitting the model\n",
    "    - this balances the class distribution but does not provide any additional information to the model. \n",
    "    \n",
    "\n",
    "### Cons\n",
    "- Synthetic examples created without considering majority class - resulting in ambiguous examples if there is strong overlap for the classes. \n",
    "    - In our case, at least for small providers, theres lots of overlap in the featurespace wrt number of patients, number of claims, etc. \n",
    "### Concerns:\n",
    "- Given that our target is not actual fraud but a potential fraud do we want confidence intervals / prediction intervals?\n",
    "- would an oversampling technique such as this diminish that?\n"
   ]
  },
  {
   "cell_type": "code",
   "execution_count": 74,
   "metadata": {},
   "outputs": [
    {
     "name": "stdout",
     "output_type": "stream",
     "text": [
      "0.7.0\n"
     ]
    }
   ],
   "source": [
    "import imblearn\n",
    "print(imblearn.__version__)"
   ]
  },
  {
   "cell_type": "code",
   "execution_count": 77,
   "metadata": {},
   "outputs": [],
   "source": [
    "from sklearn.datasets import make_classification"
   ]
  },
  {
   "cell_type": "code",
   "execution_count": 78,
   "metadata": {},
   "outputs": [],
   "source": [
    "X,y = make_classification(n_samples=10000, n_features=2, \n",
    "                          n_redundant=0, n_clusters_per_class=1, \n",
    "                          weights=[0.99], flip_y=0, random_state=1)"
   ]
  },
  {
   "cell_type": "code",
   "execution_count": 81,
   "metadata": {},
   "outputs": [],
   "source": [
    "from collections import Counter\n",
    "counter = Counter(y)"
   ]
  },
  {
   "cell_type": "code",
   "execution_count": 84,
   "metadata": {},
   "outputs": [
    {
     "data": {
      "text/plain": [
       "Counter({0: 9900, 1: 100})"
      ]
     },
     "execution_count": 84,
     "metadata": {},
     "output_type": "execute_result"
    }
   ],
   "source": [
    "counter"
   ]
  },
  {
   "cell_type": "code",
   "execution_count": 86,
   "metadata": {},
   "outputs": [
    {
     "data": {
      "image/png": "[encoded data removed]",
      "text/plain": [
       "<Figure size 432x288 with 1 Axes>"
      ]
     },
     "metadata": {
      "needs_background": "light"
     },
     "output_type": "display_data"
    }
   ],
   "source": [
    "for label, _ in counter.items():\n",
    "    row_ix = np.where(y == label)[0]\n",
    "    plt.scatter(X[row_ix,0], X[row_ix,1], label=str(label))\n",
    "plt.legend()\n",
    "plt.show()"
   ]
  },
  {
   "cell_type": "code",
   "execution_count": 88,
   "metadata": {},
   "outputs": [
    {
     "data": {
      "image/png": "[encoded data removed]",
      "text/plain": [
       "<Figure size 432x288 with 1 Axes>"
      ]
     },
     "metadata": {
      "needs_background": "light"
     },
     "output_type": "display_data"
    }
   ],
   "source": [
    "\n",
    "from imblearn.over_sampling import SMOTE\n",
    "\n",
    "oversample = SMOTE()\n",
    "X, y = oversample.fit_resample(X,y)\n",
    "\n",
    "for label, _ in counter.items():\n",
    "    row_ix = np.where(y == label)[0]\n",
    "    plt.scatter(X[row_ix,0], X[row_ix,1], label=str(label))\n",
    "plt.legend()\n",
    "plt.show()\n",
    "\n"
   ]
  },
  {
   "cell_type": "code",
   "execution_count": 89,
   "metadata": {},
   "outputs": [
    {
     "data": {
      "text/plain": [
       "Counter({0: 9900, 1: 9900})"
      ]
     },
     "execution_count": 89,
     "metadata": {},
     "output_type": "execute_result"
    }
   ],
   "source": [
    "Counter(y)"
   ]
  },
  {
   "cell_type": "markdown",
   "metadata": {},
   "source": [
    "Shows creation of more observations of the minority class along the lines in feature space of the minority class"
   ]
  },
  {
   "cell_type": "code",
   "execution_count": 91,
   "metadata": {},
   "outputs": [
    {
     "name": "stdout",
     "output_type": "stream",
     "text": [
      "Counter({0: 9900, 1: 100})\n",
      "Counter({0: 1980, 1: 990})\n"
     ]
    },
    {
     "data": {
      "image/png": "[encoded data removed]",
      "text/plain": [
       "<Figure size 432x288 with 1 Axes>"
      ]
     },
     "metadata": {
      "needs_background": "light"
     },
     "output_type": "display_data"
    }
   ],
   "source": [
    "from imblearn.under_sampling import RandomUnderSampler\n",
    "from imblearn.pipeline import Pipeline\n",
    "\n",
    "X,y = make_classification(n_samples=10000, n_features=2, n_redundant=0,\n",
    "                          n_clusters_per_class=1, weights=[0.99], \n",
    "                          flip_y=0, random_state=1)\n",
    "\n",
    "counter = Counter(y)\n",
    "print(counter)\n",
    "# define pipeline\n",
    "over = SMOTE(sampling_strategy=0.1)\n",
    "under = RandomUnderSampler(sampling_strategy=0.5)\n",
    "steps = [('o', over),('u', under)]\n",
    "pipeline = Pipeline(steps = steps)\n",
    "# transform the dataset\n",
    "X,y = pipeline.fit_resample(X,y)\n",
    "# summarize new class distribution\n",
    "counter = Counter(y)\n",
    "print(counter)\n",
    "# scatter plot of examples by class label\n",
    "for label, _ in counter.items():\n",
    "    row_ix = np.where(y==label)[0]\n",
    "    plt.scatter(X[row_ix, 0], X[row_ix,1], label=str(label))\n",
    "plt.legend()\n",
    "plt.show()\n",
    "\n"
   ]
  },
  {
   "cell_type": "markdown",
   "metadata": {},
   "source": [
    "## Applying SMOTE to Logistic Regression"
   ]
  },
  {
   "cell_type": "code",
   "execution_count": 96,
   "metadata": {},
   "outputs": [],
   "source": [
    "\n",
    "# define dataset\n",
    "X, y = make_classification(n_samples=10000, n_features=2, \n",
    "                           n_redundant=0,n_clusters_per_class=1, \n",
    "                           weights=[0.99], flip_y=0, random_state=1)\n",
    "\n",
    "# define model: Unpenalized Logistic Regression\n",
    "model = linear_model.LogisticRegression(solver='liblinear', C=1)\n",
    "# evaluate pipeline\n",
    "cv = ms.RepeatedStratifiedKFold(n_splits=10, n_repeats=3, random_state=1)\n",
    "#scores = ms.cross_val_score(model, X, y, scoring='roc_auc', cv=cv, n_jobs=-1)\n",
    "#f1_scores = ms.cross_val_score(model, X, y, scoring='f1', cv=cv, n_jobs=-1)\n",
    "#print('Mean ROC AUC: %.3f' % np.mean(scores))\n",
    "#print('Mean F1: %.3f' % mean(f1_scores))"
   ]
  },
  {
   "cell_type": "code",
   "execution_count": 102,
   "metadata": {},
   "outputs": [
    {
     "name": "stderr",
     "output_type": "stream",
     "text": [
      "exception calling callback for <Future at 0x1201f2510 state=finished raised TerminatedWorkerError>\n",
      "Traceback (most recent call last):\n",
      "  File \"/usr/local/anaconda3/lib/python3.7/site-packages/joblib/externals/loky/_base.py\", line 625, in _invoke_callbacks\n",
      "    callback(self)\n",
      "  File \"/usr/local/anaconda3/lib/python3.7/site-packages/joblib/parallel.py\", line 309, in __call__\n",
      "    self.parallel.dispatch_next()\n",
      "  File \"/usr/local/anaconda3/lib/python3.7/site-packages/joblib/parallel.py\", line 731, in dispatch_next\n",
      "    if not self.dispatch_one_batch(self._original_iterator):\n",
      "  File \"/usr/local/anaconda3/lib/python3.7/site-packages/joblib/parallel.py\", line 759, in dispatch_one_batch\n",
      "    self._dispatch(tasks)\n",
      "  File \"/usr/local/anaconda3/lib/python3.7/site-packages/joblib/parallel.py\", line 716, in _dispatch\n",
      "    job = self._backend.apply_async(batch, callback=cb)\n",
      "  File \"/usr/local/anaconda3/lib/python3.7/site-packages/joblib/_parallel_backends.py\", line 510, in apply_async\n",
      "    future = self._workers.submit(SafeFunction(func))\n",
      "AttributeError: 'NoneType' object has no attribute 'submit'\n"
     ]
    },
    {
     "ename": "TerminatedWorkerError",
     "evalue": "A worker process managed by the executor was unexpectedly terminated. This could be caused by a segmentation fault while calling the function or by an excessive memory usage causing the Operating System to kill the worker. The exit codes of the workers are {SIGABRT(-6), SIGABRT(-6), SIGABRT(-6), SIGABRT(-6), SIGABRT(-6), SIGABRT(-6), SIGABRT(-6), SIGABRT(-6)}",
     "output_type": "error",
     "traceback": [
      "\u001b[0;31m---------------------------------------------------------------------------\u001b[0m",
      "\u001b[0;31mTerminatedWorkerError\u001b[0m                     Traceback (most recent call last)",
      "\u001b[0;32m<ipython-input-102-65b556e16fca>\u001b[0m in \u001b[0;36m<module>\u001b[0;34m\u001b[0m\n\u001b[1;32m      1\u001b[0m \u001b[0my\u001b[0m \u001b[0;34m=\u001b[0m \u001b[0my\u001b[0m\u001b[0;34m.\u001b[0m\u001b[0mravel\u001b[0m\u001b[0;34m(\u001b[0m\u001b[0;34m)\u001b[0m\u001b[0;34m\u001b[0m\u001b[0;34m\u001b[0m\u001b[0m\n\u001b[1;32m      2\u001b[0m \u001b[0;32mfrom\u001b[0m \u001b[0msklearn\u001b[0m\u001b[0;34m.\u001b[0m\u001b[0mmodel_selection\u001b[0m \u001b[0;32mimport\u001b[0m \u001b[0mcross_val_score\u001b[0m\u001b[0;34m\u001b[0m\u001b[0;34m\u001b[0m\u001b[0m\n\u001b[0;32m----> 3\u001b[0;31m \u001b[0mscores\u001b[0m \u001b[0;34m=\u001b[0m \u001b[0mcross_val_score\u001b[0m\u001b[0;34m(\u001b[0m\u001b[0mmodel\u001b[0m\u001b[0;34m,\u001b[0m \u001b[0mX\u001b[0m\u001b[0;34m,\u001b[0m \u001b[0my\u001b[0m\u001b[0;34m,\u001b[0m \u001b[0mscoring\u001b[0m\u001b[0;34m=\u001b[0m\u001b[0;34m'roc_auc'\u001b[0m\u001b[0;34m,\u001b[0m \u001b[0mcv\u001b[0m\u001b[0;34m=\u001b[0m\u001b[0mcv\u001b[0m\u001b[0;34m,\u001b[0m \u001b[0mn_jobs\u001b[0m\u001b[0;34m=\u001b[0m\u001b[0;34m-\u001b[0m\u001b[0;36m1\u001b[0m\u001b[0;34m)\u001b[0m\u001b[0;34m\u001b[0m\u001b[0;34m\u001b[0m\u001b[0m\n\u001b[0m",
      "\u001b[0;32m/usr/local/anaconda3/lib/python3.7/site-packages/sklearn/utils/validation.py\u001b[0m in \u001b[0;36minner_f\u001b[0;34m(*args, **kwargs)\u001b[0m\n\u001b[1;32m     71\u001b[0m                           FutureWarning)\n\u001b[1;32m     72\u001b[0m         \u001b[0mkwargs\u001b[0m\u001b[0;34m.\u001b[0m\u001b[0mupdate\u001b[0m\u001b[0;34m(\u001b[0m\u001b[0;34m{\u001b[0m\u001b[0mk\u001b[0m\u001b[0;34m:\u001b[0m \u001b[0marg\u001b[0m \u001b[0;32mfor\u001b[0m \u001b[0mk\u001b[0m\u001b[0;34m,\u001b[0m \u001b[0marg\u001b[0m \u001b[0;32min\u001b[0m \u001b[0mzip\u001b[0m\u001b[0;34m(\u001b[0m\u001b[0msig\u001b[0m\u001b[0;34m.\u001b[0m\u001b[0mparameters\u001b[0m\u001b[0;34m,\u001b[0m \u001b[0margs\u001b[0m\u001b[0;34m)\u001b[0m\u001b[0;34m}\u001b[0m\u001b[0;34m)\u001b[0m\u001b[0;34m\u001b[0m\u001b[0;34m\u001b[0m\u001b[0m\n\u001b[0;32m---> 73\u001b[0;31m         \u001b[0;32mreturn\u001b[0m \u001b[0mf\u001b[0m\u001b[0;34m(\u001b[0m\u001b[0;34m**\u001b[0m\u001b[0mkwargs\u001b[0m\u001b[0;34m)\u001b[0m\u001b[0;34m\u001b[0m\u001b[0;34m\u001b[0m\u001b[0m\n\u001b[0m\u001b[1;32m     74\u001b[0m     \u001b[0;32mreturn\u001b[0m \u001b[0minner_f\u001b[0m\u001b[0;34m\u001b[0m\u001b[0;34m\u001b[0m\u001b[0m\n\u001b[1;32m     75\u001b[0m \u001b[0;34m\u001b[0m\u001b[0m\n",
      "\u001b[0;32m/usr/local/anaconda3/lib/python3.7/site-packages/sklearn/model_selection/_validation.py\u001b[0m in \u001b[0;36mcross_val_score\u001b[0;34m(estimator, X, y, groups, scoring, cv, n_jobs, verbose, fit_params, pre_dispatch, error_score)\u001b[0m\n\u001b[1;32m    404\u001b[0m                                 \u001b[0mfit_params\u001b[0m\u001b[0;34m=\u001b[0m\u001b[0mfit_params\u001b[0m\u001b[0;34m,\u001b[0m\u001b[0;34m\u001b[0m\u001b[0;34m\u001b[0m\u001b[0m\n\u001b[1;32m    405\u001b[0m                                 \u001b[0mpre_dispatch\u001b[0m\u001b[0;34m=\u001b[0m\u001b[0mpre_dispatch\u001b[0m\u001b[0;34m,\u001b[0m\u001b[0;34m\u001b[0m\u001b[0;34m\u001b[0m\u001b[0m\n\u001b[0;32m--> 406\u001b[0;31m                                 error_score=error_score)\n\u001b[0m\u001b[1;32m    407\u001b[0m     \u001b[0;32mreturn\u001b[0m \u001b[0mcv_results\u001b[0m\u001b[0;34m[\u001b[0m\u001b[0;34m'test_score'\u001b[0m\u001b[0;34m]\u001b[0m\u001b[0;34m\u001b[0m\u001b[0;34m\u001b[0m\u001b[0m\n\u001b[1;32m    408\u001b[0m \u001b[0;34m\u001b[0m\u001b[0m\n",
      "\u001b[0;32m/usr/local/anaconda3/lib/python3.7/site-packages/sklearn/utils/validation.py\u001b[0m in \u001b[0;36minner_f\u001b[0;34m(*args, **kwargs)\u001b[0m\n\u001b[1;32m     71\u001b[0m                           FutureWarning)\n\u001b[1;32m     72\u001b[0m         \u001b[0mkwargs\u001b[0m\u001b[0;34m.\u001b[0m\u001b[0mupdate\u001b[0m\u001b[0;34m(\u001b[0m\u001b[0;34m{\u001b[0m\u001b[0mk\u001b[0m\u001b[0;34m:\u001b[0m \u001b[0marg\u001b[0m \u001b[0;32mfor\u001b[0m \u001b[0mk\u001b[0m\u001b[0;34m,\u001b[0m \u001b[0marg\u001b[0m \u001b[0;32min\u001b[0m \u001b[0mzip\u001b[0m\u001b[0;34m(\u001b[0m\u001b[0msig\u001b[0m\u001b[0;34m.\u001b[0m\u001b[0mparameters\u001b[0m\u001b[0;34m,\u001b[0m \u001b[0margs\u001b[0m\u001b[0;34m)\u001b[0m\u001b[0;34m}\u001b[0m\u001b[0;34m)\u001b[0m\u001b[0;34m\u001b[0m\u001b[0;34m\u001b[0m\u001b[0m\n\u001b[0;32m---> 73\u001b[0;31m         \u001b[0;32mreturn\u001b[0m \u001b[0mf\u001b[0m\u001b[0;34m(\u001b[0m\u001b[0;34m**\u001b[0m\u001b[0mkwargs\u001b[0m\u001b[0;34m)\u001b[0m\u001b[0;34m\u001b[0m\u001b[0;34m\u001b[0m\u001b[0m\n\u001b[0m\u001b[1;32m     74\u001b[0m     \u001b[0;32mreturn\u001b[0m \u001b[0minner_f\u001b[0m\u001b[0;34m\u001b[0m\u001b[0;34m\u001b[0m\u001b[0m\n\u001b[1;32m     75\u001b[0m \u001b[0;34m\u001b[0m\u001b[0m\n",
      "\u001b[0;32m/usr/local/anaconda3/lib/python3.7/site-packages/sklearn/model_selection/_validation.py\u001b[0m in \u001b[0;36mcross_validate\u001b[0;34m(estimator, X, y, groups, scoring, cv, n_jobs, verbose, fit_params, pre_dispatch, return_train_score, return_estimator, error_score)\u001b[0m\n\u001b[1;32m    246\u001b[0m             \u001b[0mreturn_times\u001b[0m\u001b[0;34m=\u001b[0m\u001b[0;32mTrue\u001b[0m\u001b[0;34m,\u001b[0m \u001b[0mreturn_estimator\u001b[0m\u001b[0;34m=\u001b[0m\u001b[0mreturn_estimator\u001b[0m\u001b[0;34m,\u001b[0m\u001b[0;34m\u001b[0m\u001b[0;34m\u001b[0m\u001b[0m\n\u001b[1;32m    247\u001b[0m             error_score=error_score)\n\u001b[0;32m--> 248\u001b[0;31m         for train, test in cv.split(X, y, groups))\n\u001b[0m\u001b[1;32m    249\u001b[0m \u001b[0;34m\u001b[0m\u001b[0m\n\u001b[1;32m    250\u001b[0m     \u001b[0mzipped_scores\u001b[0m \u001b[0;34m=\u001b[0m \u001b[0mlist\u001b[0m\u001b[0;34m(\u001b[0m\u001b[0mzip\u001b[0m\u001b[0;34m(\u001b[0m\u001b[0;34m*\u001b[0m\u001b[0mscores\u001b[0m\u001b[0;34m)\u001b[0m\u001b[0;34m)\u001b[0m\u001b[0;34m\u001b[0m\u001b[0;34m\u001b[0m\u001b[0m\n",
      "\u001b[0;32m/usr/local/anaconda3/lib/python3.7/site-packages/joblib/parallel.py\u001b[0m in \u001b[0;36m__call__\u001b[0;34m(self, iterable)\u001b[0m\n\u001b[1;32m    922\u001b[0m                 \u001b[0mself\u001b[0m\u001b[0;34m.\u001b[0m\u001b[0m_iterating\u001b[0m \u001b[0;34m=\u001b[0m \u001b[0mself\u001b[0m\u001b[0;34m.\u001b[0m\u001b[0m_original_iterator\u001b[0m \u001b[0;32mis\u001b[0m \u001b[0;32mnot\u001b[0m \u001b[0;32mNone\u001b[0m\u001b[0;34m\u001b[0m\u001b[0;34m\u001b[0m\u001b[0m\n\u001b[1;32m    923\u001b[0m \u001b[0;34m\u001b[0m\u001b[0m\n\u001b[0;32m--> 924\u001b[0;31m             \u001b[0;32mwhile\u001b[0m \u001b[0mself\u001b[0m\u001b[0;34m.\u001b[0m\u001b[0mdispatch_one_batch\u001b[0m\u001b[0;34m(\u001b[0m\u001b[0miterator\u001b[0m\u001b[0;34m)\u001b[0m\u001b[0;34m:\u001b[0m\u001b[0;34m\u001b[0m\u001b[0;34m\u001b[0m\u001b[0m\n\u001b[0m\u001b[1;32m    925\u001b[0m                 \u001b[0;32mpass\u001b[0m\u001b[0;34m\u001b[0m\u001b[0;34m\u001b[0m\u001b[0m\n\u001b[1;32m    926\u001b[0m \u001b[0;34m\u001b[0m\u001b[0m\n",
      "\u001b[0;32m/usr/local/anaconda3/lib/python3.7/site-packages/joblib/parallel.py\u001b[0m in \u001b[0;36mdispatch_one_batch\u001b[0;34m(self, iterator)\u001b[0m\n\u001b[1;32m    757\u001b[0m                 \u001b[0;32mreturn\u001b[0m \u001b[0;32mFalse\u001b[0m\u001b[0;34m\u001b[0m\u001b[0;34m\u001b[0m\u001b[0m\n\u001b[1;32m    758\u001b[0m             \u001b[0;32melse\u001b[0m\u001b[0;34m:\u001b[0m\u001b[0;34m\u001b[0m\u001b[0;34m\u001b[0m\u001b[0m\n\u001b[0;32m--> 759\u001b[0;31m                 \u001b[0mself\u001b[0m\u001b[0;34m.\u001b[0m\u001b[0m_dispatch\u001b[0m\u001b[0;34m(\u001b[0m\u001b[0mtasks\u001b[0m\u001b[0;34m)\u001b[0m\u001b[0;34m\u001b[0m\u001b[0;34m\u001b[0m\u001b[0m\n\u001b[0m\u001b[1;32m    760\u001b[0m                 \u001b[0;32mreturn\u001b[0m \u001b[0;32mTrue\u001b[0m\u001b[0;34m\u001b[0m\u001b[0;34m\u001b[0m\u001b[0m\n\u001b[1;32m    761\u001b[0m \u001b[0;34m\u001b[0m\u001b[0m\n",
      "\u001b[0;32m/usr/local/anaconda3/lib/python3.7/site-packages/joblib/parallel.py\u001b[0m in \u001b[0;36m_dispatch\u001b[0;34m(self, batch)\u001b[0m\n\u001b[1;32m    714\u001b[0m         \u001b[0;32mwith\u001b[0m \u001b[0mself\u001b[0m\u001b[0;34m.\u001b[0m\u001b[0m_lock\u001b[0m\u001b[0;34m:\u001b[0m\u001b[0;34m\u001b[0m\u001b[0;34m\u001b[0m\u001b[0m\n\u001b[1;32m    715\u001b[0m             \u001b[0mjob_idx\u001b[0m \u001b[0;34m=\u001b[0m \u001b[0mlen\u001b[0m\u001b[0;34m(\u001b[0m\u001b[0mself\u001b[0m\u001b[0;34m.\u001b[0m\u001b[0m_jobs\u001b[0m\u001b[0;34m)\u001b[0m\u001b[0;34m\u001b[0m\u001b[0;34m\u001b[0m\u001b[0m\n\u001b[0;32m--> 716\u001b[0;31m             \u001b[0mjob\u001b[0m \u001b[0;34m=\u001b[0m \u001b[0mself\u001b[0m\u001b[0;34m.\u001b[0m\u001b[0m_backend\u001b[0m\u001b[0;34m.\u001b[0m\u001b[0mapply_async\u001b[0m\u001b[0;34m(\u001b[0m\u001b[0mbatch\u001b[0m\u001b[0;34m,\u001b[0m \u001b[0mcallback\u001b[0m\u001b[0;34m=\u001b[0m\u001b[0mcb\u001b[0m\u001b[0;34m)\u001b[0m\u001b[0;34m\u001b[0m\u001b[0;34m\u001b[0m\u001b[0m\n\u001b[0m\u001b[1;32m    717\u001b[0m             \u001b[0;31m# A job can complete so quickly than its callback is\u001b[0m\u001b[0;34m\u001b[0m\u001b[0;34m\u001b[0m\u001b[0;34m\u001b[0m\u001b[0m\n\u001b[1;32m    718\u001b[0m             \u001b[0;31m# called before we get here, causing self._jobs to\u001b[0m\u001b[0;34m\u001b[0m\u001b[0;34m\u001b[0m\u001b[0;34m\u001b[0m\u001b[0m\n",
      "\u001b[0;32m/usr/local/anaconda3/lib/python3.7/site-packages/joblib/_parallel_backends.py\u001b[0m in \u001b[0;36mapply_async\u001b[0;34m(self, func, callback)\u001b[0m\n\u001b[1;32m    508\u001b[0m     \u001b[0;32mdef\u001b[0m \u001b[0mapply_async\u001b[0m\u001b[0;34m(\u001b[0m\u001b[0mself\u001b[0m\u001b[0;34m,\u001b[0m \u001b[0mfunc\u001b[0m\u001b[0;34m,\u001b[0m \u001b[0mcallback\u001b[0m\u001b[0;34m=\u001b[0m\u001b[0;32mNone\u001b[0m\u001b[0;34m)\u001b[0m\u001b[0;34m:\u001b[0m\u001b[0;34m\u001b[0m\u001b[0;34m\u001b[0m\u001b[0m\n\u001b[1;32m    509\u001b[0m         \u001b[0;34m\"\"\"Schedule a func to be run\"\"\"\u001b[0m\u001b[0;34m\u001b[0m\u001b[0;34m\u001b[0m\u001b[0m\n\u001b[0;32m--> 510\u001b[0;31m         \u001b[0mfuture\u001b[0m \u001b[0;34m=\u001b[0m \u001b[0mself\u001b[0m\u001b[0;34m.\u001b[0m\u001b[0m_workers\u001b[0m\u001b[0;34m.\u001b[0m\u001b[0msubmit\u001b[0m\u001b[0;34m(\u001b[0m\u001b[0mSafeFunction\u001b[0m\u001b[0;34m(\u001b[0m\u001b[0mfunc\u001b[0m\u001b[0;34m)\u001b[0m\u001b[0;34m)\u001b[0m\u001b[0;34m\u001b[0m\u001b[0;34m\u001b[0m\u001b[0m\n\u001b[0m\u001b[1;32m    511\u001b[0m         \u001b[0mfuture\u001b[0m\u001b[0;34m.\u001b[0m\u001b[0mget\u001b[0m \u001b[0;34m=\u001b[0m \u001b[0mfunctools\u001b[0m\u001b[0;34m.\u001b[0m\u001b[0mpartial\u001b[0m\u001b[0;34m(\u001b[0m\u001b[0mself\u001b[0m\u001b[0;34m.\u001b[0m\u001b[0mwrap_future_result\u001b[0m\u001b[0;34m,\u001b[0m \u001b[0mfuture\u001b[0m\u001b[0;34m)\u001b[0m\u001b[0;34m\u001b[0m\u001b[0;34m\u001b[0m\u001b[0m\n\u001b[1;32m    512\u001b[0m         \u001b[0;32mif\u001b[0m \u001b[0mcallback\u001b[0m \u001b[0;32mis\u001b[0m \u001b[0;32mnot\u001b[0m \u001b[0;32mNone\u001b[0m\u001b[0;34m:\u001b[0m\u001b[0;34m\u001b[0m\u001b[0;34m\u001b[0m\u001b[0m\n",
      "\u001b[0;32m/usr/local/anaconda3/lib/python3.7/site-packages/joblib/externals/loky/reusable_executor.py\u001b[0m in \u001b[0;36msubmit\u001b[0;34m(self, fn, *args, **kwargs)\u001b[0m\n\u001b[1;32m    149\u001b[0m         \u001b[0;32mwith\u001b[0m \u001b[0mself\u001b[0m\u001b[0;34m.\u001b[0m\u001b[0m_submit_resize_lock\u001b[0m\u001b[0;34m:\u001b[0m\u001b[0;34m\u001b[0m\u001b[0;34m\u001b[0m\u001b[0m\n\u001b[1;32m    150\u001b[0m             return super(_ReusablePoolExecutor, self).submit(\n\u001b[0;32m--> 151\u001b[0;31m                 fn, *args, **kwargs)\n\u001b[0m\u001b[1;32m    152\u001b[0m \u001b[0;34m\u001b[0m\u001b[0m\n\u001b[1;32m    153\u001b[0m     \u001b[0;32mdef\u001b[0m \u001b[0m_resize\u001b[0m\u001b[0;34m(\u001b[0m\u001b[0mself\u001b[0m\u001b[0;34m,\u001b[0m \u001b[0mmax_workers\u001b[0m\u001b[0;34m)\u001b[0m\u001b[0;34m:\u001b[0m\u001b[0;34m\u001b[0m\u001b[0;34m\u001b[0m\u001b[0m\n",
      "\u001b[0;32m/usr/local/anaconda3/lib/python3.7/site-packages/joblib/externals/loky/process_executor.py\u001b[0m in \u001b[0;36msubmit\u001b[0;34m(self, fn, *args, **kwargs)\u001b[0m\n\u001b[1;32m   1020\u001b[0m         \u001b[0;32mwith\u001b[0m \u001b[0mself\u001b[0m\u001b[0;34m.\u001b[0m\u001b[0m_flags\u001b[0m\u001b[0;34m.\u001b[0m\u001b[0mshutdown_lock\u001b[0m\u001b[0;34m:\u001b[0m\u001b[0;34m\u001b[0m\u001b[0;34m\u001b[0m\u001b[0m\n\u001b[1;32m   1021\u001b[0m             \u001b[0;32mif\u001b[0m \u001b[0mself\u001b[0m\u001b[0;34m.\u001b[0m\u001b[0m_flags\u001b[0m\u001b[0;34m.\u001b[0m\u001b[0mbroken\u001b[0m \u001b[0;32mis\u001b[0m \u001b[0;32mnot\u001b[0m \u001b[0;32mNone\u001b[0m\u001b[0;34m:\u001b[0m\u001b[0;34m\u001b[0m\u001b[0;34m\u001b[0m\u001b[0m\n\u001b[0;32m-> 1022\u001b[0;31m                 \u001b[0;32mraise\u001b[0m \u001b[0mself\u001b[0m\u001b[0;34m.\u001b[0m\u001b[0m_flags\u001b[0m\u001b[0;34m.\u001b[0m\u001b[0mbroken\u001b[0m\u001b[0;34m\u001b[0m\u001b[0;34m\u001b[0m\u001b[0m\n\u001b[0m\u001b[1;32m   1023\u001b[0m             \u001b[0;32mif\u001b[0m \u001b[0mself\u001b[0m\u001b[0;34m.\u001b[0m\u001b[0m_flags\u001b[0m\u001b[0;34m.\u001b[0m\u001b[0mshutdown\u001b[0m\u001b[0;34m:\u001b[0m\u001b[0;34m\u001b[0m\u001b[0;34m\u001b[0m\u001b[0m\n\u001b[1;32m   1024\u001b[0m                 raise ShutdownExecutorError(\n",
      "\u001b[0;31mTerminatedWorkerError\u001b[0m: A worker process managed by the executor was unexpectedly terminated. This could be caused by a segmentation fault while calling the function or by an excessive memory usage causing the Operating System to kill the worker. The exit codes of the workers are {SIGABRT(-6), SIGABRT(-6), SIGABRT(-6), SIGABRT(-6), SIGABRT(-6), SIGABRT(-6), SIGABRT(-6), SIGABRT(-6)}"
     ]
    },
    {
     "name": "stderr",
     "output_type": "stream",
     "text": [
      "exception calling callback for <Future at 0x11fc1ed50 state=finished raised TerminatedWorkerError>\n",
      "Traceback (most recent call last):\n",
      "  File \"/usr/local/anaconda3/lib/python3.7/site-packages/joblib/externals/loky/_base.py\", line 625, in _invoke_callbacks\n",
      "    callback(self)\n",
      "  File \"/usr/local/anaconda3/lib/python3.7/site-packages/joblib/parallel.py\", line 309, in __call__\n",
      "    self.parallel.dispatch_next()\n",
      "  File \"/usr/local/anaconda3/lib/python3.7/site-packages/joblib/parallel.py\", line 731, in dispatch_next\n",
      "    if not self.dispatch_one_batch(self._original_iterator):\n",
      "  File \"/usr/local/anaconda3/lib/python3.7/site-packages/joblib/parallel.py\", line 759, in dispatch_one_batch\n",
      "    self._dispatch(tasks)\n",
      "  File \"/usr/local/anaconda3/lib/python3.7/site-packages/joblib/parallel.py\", line 716, in _dispatch\n",
      "    job = self._backend.apply_async(batch, callback=cb)\n",
      "  File \"/usr/local/anaconda3/lib/python3.7/site-packages/joblib/_parallel_backends.py\", line 510, in apply_async\n",
      "    future = self._workers.submit(SafeFunction(func))\n",
      "AttributeError: 'NoneType' object has no attribute 'submit'\n"
     ]
    }
   ],
   "source": [
    "\n",
    "from sklearn.model_selection import cross_val_score\n",
    "scores = cross_val_score(model, X, y, scoring='roc_auc', cv=cv, n_jobs=-1)"
   ]
  },
  {
   "cell_type": "code",
   "execution_count": 99,
   "metadata": {},
   "outputs": [
    {
     "data": {
      "text/plain": [
       "<module 'sklearn.model_selection' from '/usr/local/anaconda3/lib/python3.7/site-packages/sklearn/model_selection/__init__.py'>"
      ]
     },
     "execution_count": 99,
     "metadata": {},
     "output_type": "execute_result"
    }
   ],
   "source": [
    "crss"
   ]
  },
  {
   "cell_type": "code",
   "execution_count": null,
   "metadata": {},
   "outputs": [],
   "source": []
  },
  {
   "cell_type": "code",
   "execution_count": null,
   "metadata": {},
   "outputs": [],
   "source": []
  },
  {
   "cell_type": "code",
   "execution_count": 47,
   "metadata": {},
   "outputs": [
    {
     "data": {
      "text/plain": [
       "['accuracy',\n",
       " 'adjusted_mutual_info_score',\n",
       " 'adjusted_rand_score',\n",
       " 'average_precision',\n",
       " 'balanced_accuracy',\n",
       " 'completeness_score',\n",
       " 'explained_variance',\n",
       " 'f1',\n",
       " 'f1_macro',\n",
       " 'f1_micro',\n",
       " 'f1_samples',\n",
       " 'f1_weighted',\n",
       " 'fowlkes_mallows_score',\n",
       " 'homogeneity_score',\n",
       " 'jaccard',\n",
       " 'jaccard_macro',\n",
       " 'jaccard_micro',\n",
       " 'jaccard_samples',\n",
       " 'jaccard_weighted',\n",
       " 'max_error',\n",
       " 'mutual_info_score',\n",
       " 'neg_brier_score',\n",
       " 'neg_log_loss',\n",
       " 'neg_mean_absolute_error',\n",
       " 'neg_mean_gamma_deviance',\n",
       " 'neg_mean_poisson_deviance',\n",
       " 'neg_mean_squared_error',\n",
       " 'neg_mean_squared_log_error',\n",
       " 'neg_median_absolute_error',\n",
       " 'neg_root_mean_squared_error',\n",
       " 'normalized_mutual_info_score',\n",
       " 'precision',\n",
       " 'precision_macro',\n",
       " 'precision_micro',\n",
       " 'precision_samples',\n",
       " 'precision_weighted',\n",
       " 'r2',\n",
       " 'recall',\n",
       " 'recall_macro',\n",
       " 'recall_micro',\n",
       " 'recall_samples',\n",
       " 'recall_weighted',\n",
       " 'roc_auc',\n",
       " 'roc_auc_ovo',\n",
       " 'roc_auc_ovo_weighted',\n",
       " 'roc_auc_ovr',\n",
       " 'roc_auc_ovr_weighted',\n",
       " 'v_measure_score']"
      ]
     },
     "execution_count": 47,
     "metadata": {},
     "output_type": "execute_result"
    }
   ],
   "source": [
    "import sklearn\n",
    "sorted(sklearn.metrics.SCORERS.keys())"
   ]
  },
  {
   "cell_type": "code",
   "execution_count": 32,
   "metadata": {},
   "outputs": [],
   "source": [
    "from sklearn.linear_model import LassoCV, LassoLarsCV, LassoLarsIC\n",
    "import time\n",
    "\n",
    "model_bic = LassoLarsIC(criterion='bic')"
   ]
  },
  {
   "cell_type": "code",
   "execution_count": null,
   "metadata": {},
   "outputs": [],
   "source": [
    "data.groupby('BeneID')['Provider'].nunique()"
   ]
  },
  {
   "cell_type": "code",
   "execution_count": 12,
   "metadata": {},
   "outputs": [],
   "source": [
    "physData = data[['AttendingPhysician','OperatingPhysician','OtherPhysician','Provider','State','PotentialFraud']]\n",
    "physMelt = physData.melt(id_vars=['Provider','State','PotentialFraud'],var_name='Type', value_name='Doctor').dropna(axis=0).drop_duplicates()\n",
    "physNet = physMelt.groupby(['Doctor','PotentialFraud'])['Provider'].nunique().reset_index()"
   ]
  },
  {
   "cell_type": "code",
   "execution_count": 16,
   "metadata": {},
   "outputs": [],
   "source": [
    "fraudCount = physNet.groupby(['Provider','PotentialFraud'])['Doctor'].count().reset_index()"
   ]
  },
  {
   "cell_type": "code",
   "execution_count": 19,
   "metadata": {},
   "outputs": [],
   "source": [
    "import numpy as np\n",
    "fraudCount['logCount'] = np.log(fraudCount.Doctor+1)"
   ]
  },
  {
   "cell_type": "code",
   "execution_count": 79,
   "metadata": {},
   "outputs": [
    {
     "data": {
      "image/png": "[encoded data removed]",
      "text/plain": [
       "<Figure size 864x432 with 1 Axes>"
      ]
     },
     "metadata": {
      "needs_background": "light"
     },
     "output_type": "display_data"
    }
   ],
   "source": [
    "plt.figure(figsize=(12,6))\n",
    "\n",
    "\n",
    "ax2 = sns.barplot(x = 'Provider',y = 'Doctor', hue = 'PotentialFraud', data = fraudCount)\n",
    "ax2.set(xlabel='# Providers', ylabel = 'Log Count of Doctors')\n",
    "plt.tight_layout()\n",
    "ax2.set(yscale=\"log\")\n",
    "plt.annotate('Shows log count of \\ndoctors listed on claims for \\nmultiple providers\\n by fraud flags', (4.6, 2000.5))\n",
    "\n",
    "ax2.figure.savefig(\"./visualizations/plots/numProviders.png\",bbox_inches='tight')"
   ]
  },
  {
   "cell_type": "code",
   "execution_count": null,
   "metadata": {},
   "outputs": [],
   "source": [
    "physNet.groupby('State').count()"
   ]
  },
  {
   "cell_type": "code",
   "execution_count": 65,
   "metadata": {},
   "outputs": [],
   "source": [
    "beneData = data[['BeneID','Provider','PotentialFraud']]\n",
    "beneNet = beneData.groupby(['BeneID','PotentialFraud'])['Provider'].nunique().reset_index()"
   ]
  },
  {
   "cell_type": "code",
   "execution_count": 144,
   "metadata": {},
   "outputs": [],
   "source": [
    "d = data.groupby(['Age','PotentialFraud'])['Provider'].nunique().reset_index()\n",
    "pivoted = d.pivot_table(values='Provider', index = 'Age', columns='PotentialFraud')\n",
    "# ax1 = sns.lineplot(x = 'Age', y = 'Provider', hue = 'PotentialFraud', data = d)\n",
    "# ax1.set(yscale=\"log\")"
   ]
  },
  {
   "cell_type": "code",
   "execution_count": 188,
   "metadata": {},
   "outputs": [],
   "source": [
    "pivot_scale = (pivoted[['?','No','Yes']] - pivoted.mean(axis=0))/pivoted.std(axis=0)"
   ]
  },
  {
   "cell_type": "code",
   "execution_count": 162,
   "metadata": {},
   "outputs": [],
   "source": [
    "pivot_scale = pivot_scale.reset_index()"
   ]
  },
  {
   "cell_type": "code",
   "execution_count": 166,
   "metadata": {},
   "outputs": [],
   "source": [
    "pivot_scale = pivot_scale.melt(id_vars = 'Age')"
   ]
  },
  {
   "cell_type": "code",
   "execution_count": 1,
   "metadata": {},
   "outputs": [],
   "source": [
    "def plot_count_across_fraud(data, feature, plotType = 'line'):\n",
    "    d = data.groupby([feature,'PotentialFraud'])['Provider'].nunique().reset_index()\n",
    "    pivoted = d.pivot_table(values='Provider', index = feature, columns='PotentialFraud')\n",
    "    pivot_scale = (pivoted[['?','No','Yes']] - pivoted.mean(axis=0))/pivoted.std(axis=0)\n",
    "    pivot_scale = pivot_scale.reset_index()\n",
    "    d_scaled = pivot_scale.melt(id_vars = feature)\n",
    "    \n",
    "    if plotType == 'line':\n",
    "        ax1 = sns.lineplot(x = feature, hue = 'PotentialFraud', y = 'value', data=d_scaled)\n",
    "    elif plotType == 'scatter':\n",
    "        ax1 = sns.scatterplot(x = feature, hue = 'PotentialFraud', y = 'value', data=d_scaled)\n",
    "    ax1.set(title='Standardized Number of Providers\\n that filed Claims matching this Feature')\n",
    "    plt.tight_layout()\n",
    "    return\n",
    "\n"
   ]
  },
  {
   "cell_type": "code",
   "execution_count": 245,
   "metadata": {},
   "outputs": [
    {
     "data": {
      "image/png": "[encoded data removed]",
      "text/plain": [
       "<Figure size 432x288 with 1 Axes>"
      ]
     },
     "metadata": {
      "needs_background": "light"
     },
     "output_type": "display_data"
    }
   ],
   "source": [
    "plot_count_across_fraud(data, 'Age')\n"
   ]
  },
  {
   "cell_type": "code",
   "execution_count": 3,
   "metadata": {},
   "outputs": [
    {
     "name": "stderr",
     "output_type": "stream",
     "text": [
      "/usr/local/anaconda3/lib/python3.7/site-packages/IPython/core/interactiveshell.py:3058: DtypeWarning: Columns (10,13,14,24) have mixed types. Specify dtype option on import or set low_memory=False.\n",
      "  interactivity=interactivity, compiler=compiler, result=result)\n"
     ]
    }
   ],
   "source": [
    "import numpy as np\n",
    "import pandas as pd\n",
    "import scipy.stats\n",
    "\n",
    "%matplotlib inline\n",
    "import matplotlib.pyplot as plt\n",
    "import seaborn as sns\n",
    "\n",
    "data = pd.read_csv('../data/combinedData.csv')\n",
    "target = pd.read_csv('../data/combinedTarget.csv')\n",
    "\n",
    "data = data.merge(target, how='left',on=['Provider','Set'])\n",
    "data.drop(columns = ['Unnamed: 0_x','Unnamed: 0_y'], inplace=True)"
   ]
  },
  {
   "cell_type": "code",
   "execution_count": 9,
   "metadata": {},
   "outputs": [],
   "source": [
    "d = data.groupby(['Age','PotentialFraud'])['ClaimID'].count().reset_index()\n",
    "pivoted = d.pivot_table(values='ClaimID', index = 'Age', columns='PotentialFraud')\n",
    "pivot_scale = (pivoted[['?','No','Yes']] - pivoted.mean(axis=0))/pivoted.std(axis=0)\n",
    "pivot_scale = pivot_scale.reset_index()\n",
    "#d_scaled = pivot_scale.melt(id_vars = 'Age')"
   ]
  },
  {
   "cell_type": "code",
   "execution_count": 10,
   "metadata": {},
   "outputs": [
    {
     "data": {
      "text/html": [
       "<div>\n",
       "<style scoped>\n",
       "    .dataframe tbody tr th:only-of-type {\n",
       "        vertical-align: middle;\n",
       "    }\n",
       "\n",
       "    .dataframe tbody tr th {\n",
       "        vertical-align: top;\n",
       "    }\n",
       "\n",
       "    .dataframe thead th {\n",
       "        text-align: right;\n",
       "    }\n",
       "</style>\n",
       "<table border=\"1\" class=\"dataframe\">\n",
       "  <thead>\n",
       "    <tr style=\"text-align: right;\">\n",
       "      <th>PotentialFraud</th>\n",
       "      <th>Age</th>\n",
       "      <th>?</th>\n",
       "      <th>No</th>\n",
       "      <th>Yes</th>\n",
       "    </tr>\n",
       "  </thead>\n",
       "  <tbody>\n",
       "    <tr>\n",
       "      <td>0</td>\n",
       "      <td>25.0</td>\n",
       "      <td>-0.972209</td>\n",
       "      <td>-0.979695</td>\n",
       "      <td>-0.977751</td>\n",
       "    </tr>\n",
       "    <tr>\n",
       "      <td>1</td>\n",
       "      <td>26.0</td>\n",
       "      <td>-0.902064</td>\n",
       "      <td>-0.909747</td>\n",
       "      <td>-0.908285</td>\n",
       "    </tr>\n",
       "    <tr>\n",
       "      <td>2</td>\n",
       "      <td>27.0</td>\n",
       "      <td>-0.867547</td>\n",
       "      <td>-0.887019</td>\n",
       "      <td>-0.883936</td>\n",
       "    </tr>\n",
       "    <tr>\n",
       "      <td>3</td>\n",
       "      <td>28.0</td>\n",
       "      <td>-0.878682</td>\n",
       "      <td>-0.873339</td>\n",
       "      <td>-0.878923</td>\n",
       "    </tr>\n",
       "    <tr>\n",
       "      <td>4</td>\n",
       "      <td>29.0</td>\n",
       "      <td>-0.874228</td>\n",
       "      <td>-0.871573</td>\n",
       "      <td>-0.883219</td>\n",
       "    </tr>\n",
       "    <tr>\n",
       "      <td>...</td>\n",
       "      <td>...</td>\n",
       "      <td>...</td>\n",
       "      <td>...</td>\n",
       "      <td>...</td>\n",
       "    </tr>\n",
       "    <tr>\n",
       "      <td>72</td>\n",
       "      <td>97.0</td>\n",
       "      <td>-0.550777</td>\n",
       "      <td>-0.555152</td>\n",
       "      <td>-0.531591</td>\n",
       "    </tr>\n",
       "    <tr>\n",
       "      <td>73</td>\n",
       "      <td>98.0</td>\n",
       "      <td>-0.547994</td>\n",
       "      <td>-0.552945</td>\n",
       "      <td>-0.536246</td>\n",
       "    </tr>\n",
       "    <tr>\n",
       "      <td>74</td>\n",
       "      <td>99.0</td>\n",
       "      <td>-0.573603</td>\n",
       "      <td>-0.556917</td>\n",
       "      <td>-0.546988</td>\n",
       "    </tr>\n",
       "    <tr>\n",
       "      <td>75</td>\n",
       "      <td>100.0</td>\n",
       "      <td>-0.587521</td>\n",
       "      <td>-0.587368</td>\n",
       "      <td>-0.589599</td>\n",
       "    </tr>\n",
       "    <tr>\n",
       "      <td>76</td>\n",
       "      <td>101.0</td>\n",
       "      <td>-0.924332</td>\n",
       "      <td>-0.924972</td>\n",
       "      <td>-0.926904</td>\n",
       "    </tr>\n",
       "  </tbody>\n",
       "</table>\n",
       "<p>77 rows × 4 columns</p>\n",
       "</div>"
      ],
      "text/plain": [
       "PotentialFraud    Age         ?        No       Yes\n",
       "0                25.0 -0.972209 -0.979695 -0.977751\n",
       "1                26.0 -0.902064 -0.909747 -0.908285\n",
       "2                27.0 -0.867547 -0.887019 -0.883936\n",
       "3                28.0 -0.878682 -0.873339 -0.878923\n",
       "4                29.0 -0.874228 -0.871573 -0.883219\n",
       "..                ...       ...       ...       ...\n",
       "72               97.0 -0.550777 -0.555152 -0.531591\n",
       "73               98.0 -0.547994 -0.552945 -0.536246\n",
       "74               99.0 -0.573603 -0.556917 -0.546988\n",
       "75              100.0 -0.587521 -0.587368 -0.589599\n",
       "76              101.0 -0.924332 -0.924972 -0.926904\n",
       "\n",
       "[77 rows x 4 columns]"
      ]
     },
     "execution_count": 10,
     "metadata": {},
     "output_type": "execute_result"
    }
   ],
   "source": [
    "pivot_scale"
   ]
  },
  {
   "cell_type": "code",
   "execution_count": null,
   "metadata": {},
   "outputs": [],
   "source": []
  },
  {
   "cell_type": "code",
   "execution_count": null,
   "metadata": {},
   "outputs": [],
   "source": []
  },
  {
   "cell_type": "code",
   "execution_count": 8,
   "metadata": {},
   "outputs": [
    {
     "data": {
      "image/png": "[encoded data removed]",
      "text/plain": [
       "<Figure size 432x288 with 1 Axes>"
      ]
     },
     "metadata": {
      "needs_background": "light"
     },
     "output_type": "display_data"
    }
   ],
   "source": [
    "\n",
    "ax1 = sns.lineplot(x = 'Age', hue = 'PotentialFraud', y = 'value', data=d_scaled)\n",
    "\n",
    "#ax1.set(xlabel='# Providers', ylabel='Log Count of Patients')\n",
    "\n",
    "#plt.annotate('Shows log count of patients that are on claims filed at \\nmultiple providers by fraud flags', (8.6, 10005))\n",
    "\n",
    "#plt.tight_layout()\n",
    "#ax1.figure.savefig(\"./visualizations/plots/multiProvider-Bene.png\",bbox_inches='tight')"
   ]
  },
  {
   "cell_type": "code",
   "execution_count": 90,
   "metadata": {},
   "outputs": [
    {
     "data": {
      "text/html": [
       "<div>\n",
       "<style scoped>\n",
       "    .dataframe tbody tr th:only-of-type {\n",
       "        vertical-align: middle;\n",
       "    }\n",
       "\n",
       "    .dataframe tbody tr th {\n",
       "        vertical-align: top;\n",
       "    }\n",
       "\n",
       "    .dataframe thead th {\n",
       "        text-align: right;\n",
       "    }\n",
       "</style>\n",
       "<table border=\"1\" class=\"dataframe\">\n",
       "  <thead>\n",
       "    <tr style=\"text-align: right;\">\n",
       "      <th></th>\n",
       "      <th>Status</th>\n",
       "      <th>WhetherDead</th>\n",
       "      <th>BeneID</th>\n",
       "    </tr>\n",
       "  </thead>\n",
       "  <tbody>\n",
       "    <tr>\n",
       "      <td>0</td>\n",
       "      <td>in</td>\n",
       "      <td>0</td>\n",
       "      <td>49646</td>\n",
       "    </tr>\n",
       "    <tr>\n",
       "      <td>1</td>\n",
       "      <td>in</td>\n",
       "      <td>1</td>\n",
       "      <td>379</td>\n",
       "    </tr>\n",
       "    <tr>\n",
       "      <td>2</td>\n",
       "      <td>out</td>\n",
       "      <td>0</td>\n",
       "      <td>638786</td>\n",
       "    </tr>\n",
       "    <tr>\n",
       "      <td>3</td>\n",
       "      <td>out</td>\n",
       "      <td>1</td>\n",
       "      <td>4792</td>\n",
       "    </tr>\n",
       "  </tbody>\n",
       "</table>\n",
       "</div>"
      ],
      "text/plain": [
       "  Status  WhetherDead  BeneID\n",
       "0     in            0   49646\n",
       "1     in            1     379\n",
       "2    out            0  638786\n",
       "3    out            1    4792"
      ]
     },
     "execution_count": 90,
     "metadata": {},
     "output_type": "execute_result"
    }
   ],
   "source": [
    "data.groupby(['Status','WhetherDead'])['BeneID'].count().reset_index()"
   ]
  },
  {
   "cell_type": "code",
   "execution_count": 92,
   "metadata": {},
   "outputs": [
    {
     "name": "stdout",
     "output_type": "stream",
     "text": [
      "0.007576211894052973\n",
      "0.007445872916724935\n"
     ]
    }
   ],
   "source": [
    "print(379/(379+49646))\n",
    "print(4792/(4792+638786))\n"
   ]
  },
  {
   "cell_type": "code",
   "execution_count": 96,
   "metadata": {},
   "outputs": [
    {
     "data": {
      "text/html": [
       "<div>\n",
       "<style scoped>\n",
       "    .dataframe tbody tr th:only-of-type {\n",
       "        vertical-align: middle;\n",
       "    }\n",
       "\n",
       "    .dataframe tbody tr th {\n",
       "        vertical-align: top;\n",
       "    }\n",
       "\n",
       "    .dataframe thead th {\n",
       "        text-align: right;\n",
       "    }\n",
       "</style>\n",
       "<table border=\"1\" class=\"dataframe\">\n",
       "  <thead>\n",
       "    <tr style=\"text-align: right;\">\n",
       "      <th></th>\n",
       "      <th>Status</th>\n",
       "      <th>PotentialFraud</th>\n",
       "      <th>ClaimID</th>\n",
       "    </tr>\n",
       "  </thead>\n",
       "  <tbody>\n",
       "    <tr>\n",
       "      <td>0</td>\n",
       "      <td>in</td>\n",
       "      <td>?</td>\n",
       "      <td>9551</td>\n",
       "    </tr>\n",
       "    <tr>\n",
       "      <td>1</td>\n",
       "      <td>in</td>\n",
       "      <td>No</td>\n",
       "      <td>17072</td>\n",
       "    </tr>\n",
       "    <tr>\n",
       "      <td>2</td>\n",
       "      <td>in</td>\n",
       "      <td>Yes</td>\n",
       "      <td>23402</td>\n",
       "    </tr>\n",
       "    <tr>\n",
       "      <td>3</td>\n",
       "      <td>out</td>\n",
       "      <td>?</td>\n",
       "      <td>125841</td>\n",
       "    </tr>\n",
       "    <tr>\n",
       "      <td>4</td>\n",
       "      <td>out</td>\n",
       "      <td>No</td>\n",
       "      <td>328343</td>\n",
       "    </tr>\n",
       "    <tr>\n",
       "      <td>5</td>\n",
       "      <td>out</td>\n",
       "      <td>Yes</td>\n",
       "      <td>189394</td>\n",
       "    </tr>\n",
       "  </tbody>\n",
       "</table>\n",
       "</div>"
      ],
      "text/plain": [
       "  Status PotentialFraud  ClaimID\n",
       "0     in              ?     9551\n",
       "1     in             No    17072\n",
       "2     in            Yes    23402\n",
       "3    out              ?   125841\n",
       "4    out             No   328343\n",
       "5    out            Yes   189394"
      ]
     },
     "execution_count": 96,
     "metadata": {},
     "output_type": "execute_result"
    }
   ],
   "source": [
    "data.groupby(['Status','PotentialFraud'])['ClaimID'].count().reset_index().head(20)"
   ]
  },
  {
   "cell_type": "code",
   "execution_count": 5,
   "metadata": {},
   "outputs": [
    {
     "data": {
      "image/png": "[encoded data removed]",
      "text/plain": [
       "<Figure size 864x432 with 1 Axes>"
      ]
     },
     "metadata": {
      "needs_background": "light"
     },
     "output_type": "display_data"
    }
   ],
   "source": [
    "physData = data[['AttendingPhysician','OperatingPhysician','OtherPhysician','State','County']]\n",
    "physMelt = physData.melt(id_vars=['State','County'],var_name='Type', value_name='Doctor').dropna(axis=0)\n",
    "physNet = physMelt.groupby(['Doctor','State'])['County'].nunique().reset_index()\n",
    "\n",
    "plt.figure(figsize=(12,6))\n",
    "\n",
    "for state in physNet.State.unique():\n",
    "    filename = \"./visualizations/plots/crossing_county/Doctors/State_\" + str(state) + \".png\"\n",
    "    ax1 = sns.countplot(x = 'County', data=physNet[physNet.State==state], palette = 'muted');\n",
    "    ax1.set(xlabel='Number of Counties Doctors Operate in for State ' + str(state), \n",
    "            ylabel='Count of Doctors');\n",
    "    ax1.figure.savefig(filename,bbox_inches='tight')"
   ]
  },
  {
   "cell_type": "code",
   "execution_count": null,
   "metadata": {},
   "outputs": [],
   "source": [
    "beneData = data[['BeneID','Provider','State','County']]\n",
    "beneNet = beneData.groupby(['BeneID','Provider'])['County'].nunique().reset_index()\n",
    "\n",
    "plt.figure(figsize=(12,6))\n",
    "\n",
    "\n",
    "ax1 = sns.countplot(x = 'County', data=beneNet, palette = 'muted')\n",
    "\n",
    "ax1.set(xlabel='Number of Counties', ylabel='Number of Doctors')\n",
    "\n",
    "#ax1.figure.savefig(\"./visualizations/plots/multistateDoctors.png\",bbox_inches='tight')"
   ]
  },
  {
   "cell_type": "code",
   "execution_count": 252,
   "metadata": {},
   "outputs": [
    {
     "data": {
      "text/html": [
       "<div>\n",
       "<style scoped>\n",
       "    .dataframe tbody tr th:only-of-type {\n",
       "        vertical-align: middle;\n",
       "    }\n",
       "\n",
       "    .dataframe tbody tr th {\n",
       "        vertical-align: top;\n",
       "    }\n",
       "\n",
       "    .dataframe thead th {\n",
       "        text-align: right;\n",
       "    }\n",
       "</style>\n",
       "<table border=\"1\" class=\"dataframe\">\n",
       "  <thead>\n",
       "    <tr style=\"text-align: right;\">\n",
       "      <th></th>\n",
       "      <th>Unnamed: 0</th>\n",
       "      <th>PotentialFraud</th>\n",
       "      <th>Provider</th>\n",
       "      <th>Set</th>\n",
       "    </tr>\n",
       "  </thead>\n",
       "  <tbody>\n",
       "    <tr>\n",
       "      <td>0</td>\n",
       "      <td>0</td>\n",
       "      <td>No</td>\n",
       "      <td>PRV51001</td>\n",
       "      <td>Train</td>\n",
       "    </tr>\n",
       "    <tr>\n",
       "      <td>1</td>\n",
       "      <td>1</td>\n",
       "      <td>Yes</td>\n",
       "      <td>PRV51003</td>\n",
       "      <td>Train</td>\n",
       "    </tr>\n",
       "    <tr>\n",
       "      <td>2</td>\n",
       "      <td>2</td>\n",
       "      <td>No</td>\n",
       "      <td>PRV51004</td>\n",
       "      <td>Train</td>\n",
       "    </tr>\n",
       "    <tr>\n",
       "      <td>3</td>\n",
       "      <td>3</td>\n",
       "      <td>Yes</td>\n",
       "      <td>PRV51005</td>\n",
       "      <td>Train</td>\n",
       "    </tr>\n",
       "    <tr>\n",
       "      <td>4</td>\n",
       "      <td>4</td>\n",
       "      <td>No</td>\n",
       "      <td>PRV51007</td>\n",
       "      <td>Train</td>\n",
       "    </tr>\n",
       "    <tr>\n",
       "      <td>...</td>\n",
       "      <td>...</td>\n",
       "      <td>...</td>\n",
       "      <td>...</td>\n",
       "      <td>...</td>\n",
       "    </tr>\n",
       "    <tr>\n",
       "      <td>6758</td>\n",
       "      <td>6758</td>\n",
       "      <td>?</td>\n",
       "      <td>PRV57713</td>\n",
       "      <td>Test</td>\n",
       "    </tr>\n",
       "    <tr>\n",
       "      <td>6759</td>\n",
       "      <td>6759</td>\n",
       "      <td>?</td>\n",
       "      <td>PRV57726</td>\n",
       "      <td>Test</td>\n",
       "    </tr>\n",
       "    <tr>\n",
       "      <td>6760</td>\n",
       "      <td>6760</td>\n",
       "      <td>?</td>\n",
       "      <td>PRV57745</td>\n",
       "      <td>Test</td>\n",
       "    </tr>\n",
       "    <tr>\n",
       "      <td>6761</td>\n",
       "      <td>6761</td>\n",
       "      <td>?</td>\n",
       "      <td>PRV57749</td>\n",
       "      <td>Test</td>\n",
       "    </tr>\n",
       "    <tr>\n",
       "      <td>6762</td>\n",
       "      <td>6762</td>\n",
       "      <td>?</td>\n",
       "      <td>PRV57750</td>\n",
       "      <td>Test</td>\n",
       "    </tr>\n",
       "  </tbody>\n",
       "</table>\n",
       "<p>6763 rows × 4 columns</p>\n",
       "</div>"
      ],
      "text/plain": [
       "      Unnamed: 0 PotentialFraud  Provider    Set\n",
       "0              0             No  PRV51001  Train\n",
       "1              1            Yes  PRV51003  Train\n",
       "2              2             No  PRV51004  Train\n",
       "3              3            Yes  PRV51005  Train\n",
       "4              4             No  PRV51007  Train\n",
       "...          ...            ...       ...    ...\n",
       "6758        6758              ?  PRV57713   Test\n",
       "6759        6759              ?  PRV57726   Test\n",
       "6760        6760              ?  PRV57745   Test\n",
       "6761        6761              ?  PRV57749   Test\n",
       "6762        6762              ?  PRV57750   Test\n",
       "\n",
       "[6763 rows x 4 columns]"
      ]
     },
     "execution_count": 252,
     "metadata": {},
     "output_type": "execute_result"
    }
   ],
   "source": [
    "target.copy(deep=True)"
   ]
  },
  {
   "cell_type": "code",
   "execution_count": 248,
   "metadata": {},
   "outputs": [
    {
     "data": {
      "text/plain": [
       "{'PRV51001': 1,\n",
       " 'PRV51002': 4,\n",
       " 'PRV51003': 3,\n",
       " 'PRV51004': 9,\n",
       " 'PRV51005': 4,\n",
       " 'PRV51006': 2,\n",
       " 'PRV51007': 2,\n",
       " 'PRV51008': 2,\n",
       " 'PRV51009': 1,\n",
       " 'PRV51010': 1,\n",
       " 'PRV51011': 1,\n",
       " 'PRV51012': 3,\n",
       " 'PRV51013': 2,\n",
       " 'PRV51014': 2,\n",
       " 'PRV51015': 1,\n",
       " 'PRV51016': 1,\n",
       " 'PRV51017': 10,\n",
       " 'PRV51018': 2,\n",
       " 'PRV51019': 2,\n",
       " 'PRV51020': 2,\n",
       " 'PRV51021': 4,\n",
       " 'PRV51022': 2,\n",
       " 'PRV51023': 1,\n",
       " 'PRV51024': 2,\n",
       " 'PRV51025': 2,\n",
       " 'PRV51026': 3,\n",
       " 'PRV51027': 2,\n",
       " 'PRV51028': 1,\n",
       " 'PRV51029': 6,\n",
       " 'PRV51030': 2,\n",
       " 'PRV51031': 4,\n",
       " 'PRV51032': 3,\n",
       " 'PRV51033': 1,\n",
       " 'PRV51034': 1,\n",
       " 'PRV51035': 2,\n",
       " 'PRV51036': 1,\n",
       " 'PRV51037': 1,\n",
       " 'PRV51038': 3,\n",
       " 'PRV51039': 3,\n",
       " 'PRV51040': 2,\n",
       " 'PRV51041': 1,\n",
       " 'PRV51042': 9,\n",
       " 'PRV51043': 2,\n",
       " 'PRV51044': 1,\n",
       " 'PRV51045': 3,\n",
       " 'PRV51046': 1,\n",
       " 'PRV51047': 2,\n",
       " 'PRV51048': 1,\n",
       " 'PRV51049': 4,\n",
       " 'PRV51050': 4,\n",
       " 'PRV51051': 1,\n",
       " 'PRV51052': 1,\n",
       " 'PRV51053': 1,\n",
       " 'PRV51054': 1,\n",
       " 'PRV51055': 1,\n",
       " 'PRV51056': 1,\n",
       " 'PRV51057': 1,\n",
       " 'PRV51058': 2,\n",
       " 'PRV51059': 1,\n",
       " 'PRV51060': 2,\n",
       " 'PRV51061': 2,\n",
       " 'PRV51062': 1,\n",
       " 'PRV51063': 1,\n",
       " 'PRV51064': 4,\n",
       " 'PRV51065': 1,\n",
       " 'PRV51066': 1,\n",
       " 'PRV51067': 1,\n",
       " 'PRV51068': 2,\n",
       " 'PRV51069': 4,\n",
       " 'PRV51070': 5,\n",
       " 'PRV51071': 2,\n",
       " 'PRV51072': 3,\n",
       " 'PRV51073': 3,\n",
       " 'PRV51074': 5,\n",
       " 'PRV51075': 1,\n",
       " 'PRV51076': 1,\n",
       " 'PRV51077': 1,\n",
       " 'PRV51078': 1,\n",
       " 'PRV51079': 2,\n",
       " 'PRV51080': 3,\n",
       " 'PRV51081': 2,\n",
       " 'PRV51082': 1,\n",
       " 'PRV51083': 3,\n",
       " 'PRV51084': 2,\n",
       " 'PRV51085': 1,\n",
       " 'PRV51086': 3,\n",
       " 'PRV51087': 1,\n",
       " 'PRV51088': 4,\n",
       " 'PRV51089': 5,\n",
       " 'PRV51090': 1,\n",
       " 'PRV51091': 2,\n",
       " 'PRV51092': 2,\n",
       " 'PRV51093': 2,\n",
       " 'PRV51094': 2,\n",
       " 'PRV51095': 2,\n",
       " 'PRV51096': 1,\n",
       " 'PRV51097': 1,\n",
       " 'PRV51098': 1,\n",
       " 'PRV51099': 1,\n",
       " 'PRV51100': 1,\n",
       " 'PRV51101': 1,\n",
       " 'PRV51102': 1,\n",
       " 'PRV51103': 1,\n",
       " 'PRV51104': 1,\n",
       " 'PRV51105': 1,\n",
       " 'PRV51106': 1,\n",
       " 'PRV51107': 1,\n",
       " 'PRV51108': 1,\n",
       " 'PRV51109': 1,\n",
       " 'PRV51110': 3,\n",
       " 'PRV51111': 1,\n",
       " 'PRV51112': 1,\n",
       " 'PRV51113': 1,\n",
       " 'PRV51114': 1,\n",
       " 'PRV51115': 1,\n",
       " 'PRV51116': 1,\n",
       " 'PRV51117': 2,\n",
       " 'PRV51118': 1,\n",
       " 'PRV51119': 1,\n",
       " 'PRV51120': 1,\n",
       " 'PRV51121': 1,\n",
       " 'PRV51122': 1,\n",
       " 'PRV51123': 4,\n",
       " 'PRV51124': 1,\n",
       " 'PRV51125': 2,\n",
       " 'PRV51126': 1,\n",
       " 'PRV51127': 4,\n",
       " 'PRV51128': 5,\n",
       " 'PRV51129': 9,\n",
       " 'PRV51130': 1,\n",
       " 'PRV51131': 2,\n",
       " 'PRV51132': 2,\n",
       " 'PRV51133': 2,\n",
       " 'PRV51134': 1,\n",
       " 'PRV51135': 1,\n",
       " 'PRV51136': 1,\n",
       " 'PRV51137': 3,\n",
       " 'PRV51138': 3,\n",
       " 'PRV51139': 9,\n",
       " 'PRV51140': 3,\n",
       " 'PRV51141': 6,\n",
       " 'PRV51142': 2,\n",
       " 'PRV51143': 10,\n",
       " 'PRV51144': 3,\n",
       " 'PRV51145': 7,\n",
       " 'PRV51146': 25,\n",
       " 'PRV51147': 5,\n",
       " 'PRV51148': 12,\n",
       " 'PRV51149': 5,\n",
       " 'PRV51150': 1,\n",
       " 'PRV51151': 21,\n",
       " 'PRV51152': 2,\n",
       " 'PRV51153': 14,\n",
       " 'PRV51154': 4,\n",
       " 'PRV51155': 2,\n",
       " 'PRV51156': 2,\n",
       " 'PRV51157': 10,\n",
       " 'PRV51158': 17,\n",
       " 'PRV51159': 19,\n",
       " 'PRV51160': 5,\n",
       " 'PRV51161': 5,\n",
       " 'PRV51162': 8,\n",
       " 'PRV51163': 22,\n",
       " 'PRV51164': 5,\n",
       " 'PRV51165': 13,\n",
       " 'PRV51166': 2,\n",
       " 'PRV51167': 16,\n",
       " 'PRV51168': 7,\n",
       " 'PRV51169': 17,\n",
       " 'PRV51170': 4,\n",
       " 'PRV51171': 16,\n",
       " 'PRV51172': 11,\n",
       " 'PRV51173': 4,\n",
       " 'PRV51174': 4,\n",
       " 'PRV51175': 5,\n",
       " 'PRV51176': 29,\n",
       " 'PRV51177': 8,\n",
       " 'PRV51178': 6,\n",
       " 'PRV51179': 2,\n",
       " 'PRV51180': 2,\n",
       " 'PRV51181': 2,\n",
       " 'PRV51182': 4,\n",
       " 'PRV51183': 13,\n",
       " 'PRV51184': 4,\n",
       " 'PRV51185': 1,\n",
       " 'PRV51186': 1,\n",
       " 'PRV51187': 2,\n",
       " 'PRV51188': 11,\n",
       " 'PRV51189': 4,\n",
       " 'PRV51190': 5,\n",
       " 'PRV51191': 6,\n",
       " 'PRV51192': 1,\n",
       " 'PRV51193': 3,\n",
       " 'PRV51194': 2,\n",
       " 'PRV51195': 5,\n",
       " 'PRV51196': 1,\n",
       " 'PRV51197': 2,\n",
       " 'PRV51198': 2,\n",
       " 'PRV51199': 1,\n",
       " 'PRV51200': 2,\n",
       " 'PRV51201': 5,\n",
       " 'PRV51202': 1,\n",
       " 'PRV51203': 1,\n",
       " 'PRV51204': 5,\n",
       " 'PRV51205': 2,\n",
       " 'PRV51206': 2,\n",
       " 'PRV51207': 1,\n",
       " 'PRV51208': 1,\n",
       " 'PRV51209': 1,\n",
       " 'PRV51210': 1,\n",
       " 'PRV51211': 1,\n",
       " 'PRV51212': 1,\n",
       " 'PRV51213': 1,\n",
       " 'PRV51214': 1,\n",
       " 'PRV51215': 1,\n",
       " 'PRV51216': 3,\n",
       " 'PRV51217': 1,\n",
       " 'PRV51218': 1,\n",
       " 'PRV51219': 1,\n",
       " 'PRV51220': 1,\n",
       " 'PRV51221': 1,\n",
       " 'PRV51222': 1,\n",
       " 'PRV51223': 1,\n",
       " 'PRV51224': 1,\n",
       " 'PRV51225': 1,\n",
       " 'PRV51226': 1,\n",
       " 'PRV51227': 1,\n",
       " 'PRV51228': 1,\n",
       " 'PRV51229': 1,\n",
       " 'PRV51230': 2,\n",
       " 'PRV51231': 1,\n",
       " 'PRV51232': 1,\n",
       " 'PRV51233': 1,\n",
       " 'PRV51234': 1,\n",
       " 'PRV51235': 1,\n",
       " 'PRV51236': 1,\n",
       " 'PRV51237': 1,\n",
       " 'PRV51238': 1,\n",
       " 'PRV51239': 1,\n",
       " 'PRV51240': 2,\n",
       " 'PRV51241': 5,\n",
       " 'PRV51242': 4,\n",
       " 'PRV51243': 2,\n",
       " 'PRV51244': 3,\n",
       " 'PRV51245': 3,\n",
       " 'PRV51246': 3,\n",
       " 'PRV51247': 1,\n",
       " 'PRV51248': 1,\n",
       " 'PRV51249': 4,\n",
       " 'PRV51250': 1,\n",
       " 'PRV51251': 2,\n",
       " 'PRV51252': 5,\n",
       " 'PRV51253': 6,\n",
       " 'PRV51254': 2,\n",
       " 'PRV51255': 2,\n",
       " 'PRV51256': 2,\n",
       " 'PRV51257': 3,\n",
       " 'PRV51258': 1,\n",
       " 'PRV51259': 2,\n",
       " 'PRV51260': 2,\n",
       " 'PRV51261': 6,\n",
       " 'PRV51262': 2,\n",
       " 'PRV51263': 1,\n",
       " 'PRV51264': 3,\n",
       " 'PRV51265': 1,\n",
       " 'PRV51266': 7,\n",
       " 'PRV51267': 2,\n",
       " 'PRV51268': 1,\n",
       " 'PRV51269': 5,\n",
       " 'PRV51270': 2,\n",
       " 'PRV51271': 3,\n",
       " 'PRV51272': 2,\n",
       " 'PRV51273': 12,\n",
       " 'PRV51274': 1,\n",
       " 'PRV51275': 1,\n",
       " 'PRV51276': 4,\n",
       " 'PRV51277': 5,\n",
       " 'PRV51278': 1,\n",
       " 'PRV51279': 1,\n",
       " 'PRV51280': 1,\n",
       " 'PRV51281': 1,\n",
       " 'PRV51282': 2,\n",
       " 'PRV51283': 4,\n",
       " 'PRV51284': 1,\n",
       " 'PRV51285': 2,\n",
       " 'PRV51286': 2,\n",
       " 'PRV51287': 1,\n",
       " 'PRV51288': 2,\n",
       " 'PRV51289': 2,\n",
       " 'PRV51290': 1,\n",
       " 'PRV51291': 2,\n",
       " 'PRV51292': 1,\n",
       " 'PRV51293': 1,\n",
       " 'PRV51294': 1,\n",
       " 'PRV51295': 2,\n",
       " 'PRV51296': 2,\n",
       " 'PRV51297': 1,\n",
       " 'PRV51298': 1,\n",
       " 'PRV51299': 1,\n",
       " 'PRV51300': 1,\n",
       " 'PRV51301': 1,\n",
       " 'PRV51302': 1,\n",
       " 'PRV51303': 3,\n",
       " 'PRV51304': 1,\n",
       " 'PRV51305': 2,\n",
       " 'PRV51306': 2,\n",
       " 'PRV51307': 2,\n",
       " 'PRV51308': 2,\n",
       " 'PRV51309': 2,\n",
       " 'PRV51310': 1,\n",
       " 'PRV51311': 1,\n",
       " 'PRV51312': 3,\n",
       " 'PRV51313': 1,\n",
       " 'PRV51314': 1,\n",
       " 'PRV51315': 1,\n",
       " 'PRV51316': 1,\n",
       " 'PRV51317': 1,\n",
       " 'PRV51318': 1,\n",
       " 'PRV51319': 1,\n",
       " 'PRV51320': 1,\n",
       " 'PRV51321': 1,\n",
       " 'PRV51322': 1,\n",
       " 'PRV51323': 1,\n",
       " 'PRV51324': 1,\n",
       " 'PRV51325': 1,\n",
       " 'PRV51326': 1,\n",
       " 'PRV51327': 1,\n",
       " 'PRV51328': 1,\n",
       " 'PRV51329': 1,\n",
       " 'PRV51330': 1,\n",
       " 'PRV51331': 1,\n",
       " 'PRV51332': 1,\n",
       " 'PRV51333': 1,\n",
       " 'PRV51334': 1,\n",
       " 'PRV51335': 1,\n",
       " 'PRV51336': 5,\n",
       " 'PRV51337': 5,\n",
       " 'PRV51338': 11,\n",
       " 'PRV51339': 1,\n",
       " 'PRV51340': 7,\n",
       " 'PRV51341': 5,\n",
       " 'PRV51342': 2,\n",
       " 'PRV51343': 2,\n",
       " 'PRV51344': 2,\n",
       " 'PRV51345': 1,\n",
       " 'PRV51346': 6,\n",
       " 'PRV51347': 5,\n",
       " 'PRV51348': 3,\n",
       " 'PRV51349': 3,\n",
       " 'PRV51350': 8,\n",
       " 'PRV51351': 2,\n",
       " 'PRV51352': 1,\n",
       " 'PRV51353': 1,\n",
       " 'PRV51354': 1,\n",
       " 'PRV51355': 1,\n",
       " 'PRV51356': 3,\n",
       " 'PRV51357': 3,\n",
       " 'PRV51358': 1,\n",
       " 'PRV51359': 2,\n",
       " 'PRV51360': 2,\n",
       " 'PRV51361': 2,\n",
       " 'PRV51362': 4,\n",
       " 'PRV51363': 2,\n",
       " 'PRV51364': 1,\n",
       " 'PRV51365': 2,\n",
       " 'PRV51366': 2,\n",
       " 'PRV51367': 1,\n",
       " 'PRV51368': 1,\n",
       " 'PRV51369': 6,\n",
       " 'PRV51370': 4,\n",
       " 'PRV51371': 2,\n",
       " 'PRV51372': 1,\n",
       " 'PRV51373': 5,\n",
       " 'PRV51374': 6,\n",
       " 'PRV51375': 1,\n",
       " 'PRV51376': 2,\n",
       " 'PRV51377': 4,\n",
       " 'PRV51378': 3,\n",
       " 'PRV51379': 1,\n",
       " 'PRV51380': 2,\n",
       " 'PRV51381': 5,\n",
       " 'PRV51382': 1,\n",
       " 'PRV51383': 1,\n",
       " 'PRV51384': 4,\n",
       " 'PRV51385': 3,\n",
       " 'PRV51386': 5,\n",
       " 'PRV51387': 1,\n",
       " 'PRV51388': 3,\n",
       " 'PRV51389': 3,\n",
       " 'PRV51390': 13,\n",
       " 'PRV51391': 4,\n",
       " 'PRV51392': 1,\n",
       " 'PRV51393': 6,\n",
       " 'PRV51394': 1,\n",
       " 'PRV51395': 1,\n",
       " 'PRV51396': 2,\n",
       " 'PRV51397': 3,\n",
       " 'PRV51398': 3,\n",
       " 'PRV51399': 9,\n",
       " 'PRV51400': 2,\n",
       " 'PRV51401': 8,\n",
       " 'PRV51402': 1,\n",
       " 'PRV51403': 3,\n",
       " 'PRV51404': 5,\n",
       " 'PRV51405': 2,\n",
       " 'PRV51406': 3,\n",
       " 'PRV51407': 6,\n",
       " 'PRV51408': 2,\n",
       " 'PRV51409': 2,\n",
       " 'PRV51410': 2,\n",
       " 'PRV51411': 5,\n",
       " 'PRV51412': 1,\n",
       " 'PRV51413': 2,\n",
       " 'PRV51414': 2,\n",
       " 'PRV51415': 7,\n",
       " 'PRV51416': 1,\n",
       " 'PRV51417': 1,\n",
       " 'PRV51418': 4,\n",
       " 'PRV51419': 1,\n",
       " 'PRV51420': 1,\n",
       " 'PRV51421': 5,\n",
       " 'PRV51422': 2,\n",
       " 'PRV51423': 1,\n",
       " 'PRV51424': 2,\n",
       " 'PRV51425': 1,\n",
       " 'PRV51426': 1,\n",
       " 'PRV51427': 4,\n",
       " 'PRV51428': 4,\n",
       " 'PRV51429': 2,\n",
       " 'PRV51430': 6,\n",
       " 'PRV51431': 1,\n",
       " 'PRV51432': 1,\n",
       " 'PRV51433': 5,\n",
       " 'PRV51434': 3,\n",
       " 'PRV51435': 1,\n",
       " 'PRV51436': 2,\n",
       " 'PRV51437': 1,\n",
       " 'PRV51438': 1,\n",
       " 'PRV51439': 1,\n",
       " 'PRV51440': 6,\n",
       " 'PRV51441': 2,\n",
       " 'PRV51442': 1,\n",
       " 'PRV51443': 3,\n",
       " 'PRV51444': 1,\n",
       " 'PRV51445': 3,\n",
       " 'PRV51446': 4,\n",
       " 'PRV51447': 9,\n",
       " 'PRV51448': 4,\n",
       " 'PRV51449': 2,\n",
       " 'PRV51450': 2,\n",
       " 'PRV51451': 1,\n",
       " 'PRV51452': 1,\n",
       " 'PRV51453': 1,\n",
       " 'PRV51454': 1,\n",
       " 'PRV51455': 3,\n",
       " 'PRV51456': 2,\n",
       " 'PRV51457': 3,\n",
       " 'PRV51458': 6,\n",
       " 'PRV51459': 10,\n",
       " 'PRV51460': 6,\n",
       " 'PRV51461': 1,\n",
       " 'PRV51462': 1,\n",
       " 'PRV51463': 3,\n",
       " 'PRV51464': 15,\n",
       " 'PRV51465': 1,\n",
       " 'PRV51466': 8,\n",
       " 'PRV51467': 1,\n",
       " 'PRV51468': 3,\n",
       " 'PRV51469': 2,\n",
       " 'PRV51470': 2,\n",
       " 'PRV51471': 4,\n",
       " 'PRV51472': 1,\n",
       " 'PRV51473': 3,\n",
       " 'PRV51474': 1,\n",
       " 'PRV51475': 1,\n",
       " 'PRV51476': 1,\n",
       " 'PRV51477': 3,\n",
       " 'PRV51478': 3,\n",
       " 'PRV51479': 13,\n",
       " 'PRV51480': 5,\n",
       " 'PRV51481': 1,\n",
       " 'PRV51482': 5,\n",
       " 'PRV51483': 5,\n",
       " 'PRV51484': 1,\n",
       " 'PRV51485': 5,\n",
       " 'PRV51486': 1,\n",
       " 'PRV51487': 1,\n",
       " 'PRV51488': 6,\n",
       " 'PRV51489': 1,\n",
       " 'PRV51490': 3,\n",
       " 'PRV51491': 4,\n",
       " 'PRV51492': 5,\n",
       " 'PRV51493': 2,\n",
       " 'PRV51494': 4,\n",
       " 'PRV51495': 4,\n",
       " 'PRV51496': 2,\n",
       " 'PRV51497': 2,\n",
       " 'PRV51498': 2,\n",
       " 'PRV51499': 2,\n",
       " 'PRV51500': 2,\n",
       " 'PRV51501': 3,\n",
       " 'PRV51502': 2,\n",
       " 'PRV51503': 2,\n",
       " 'PRV51504': 8,\n",
       " 'PRV51505': 4,\n",
       " 'PRV51506': 6,\n",
       " 'PRV51507': 4,\n",
       " 'PRV51508': 10,\n",
       " 'PRV51509': 1,\n",
       " 'PRV51510': 2,\n",
       " 'PRV51511': 1,\n",
       " 'PRV51512': 3,\n",
       " 'PRV51513': 1,\n",
       " 'PRV51514': 3,\n",
       " 'PRV51515': 2,\n",
       " 'PRV51516': 4,\n",
       " 'PRV51517': 1,\n",
       " 'PRV51518': 1,\n",
       " 'PRV51519': 2,\n",
       " 'PRV51520': 2,\n",
       " 'PRV51521': 2,\n",
       " 'PRV51522': 1,\n",
       " 'PRV51523': 1,\n",
       " 'PRV51524': 3,\n",
       " 'PRV51525': 8,\n",
       " 'PRV51526': 1,\n",
       " 'PRV51527': 2,\n",
       " 'PRV51528': 3,\n",
       " 'PRV51529': 3,\n",
       " 'PRV51530': 1,\n",
       " 'PRV51531': 4,\n",
       " 'PRV51532': 2,\n",
       " 'PRV51533': 2,\n",
       " 'PRV51534': 1,\n",
       " 'PRV51535': 4,\n",
       " 'PRV51536': 2,\n",
       " 'PRV51537': 1,\n",
       " 'PRV51538': 3,\n",
       " 'PRV51539': 19,\n",
       " 'PRV51540': 3,\n",
       " 'PRV51541': 7,\n",
       " 'PRV51542': 1,\n",
       " 'PRV51543': 1,\n",
       " 'PRV51544': 19,\n",
       " 'PRV51545': 4,\n",
       " 'PRV51546': 1,\n",
       " 'PRV51547': 1,\n",
       " 'PRV51548': 3,\n",
       " 'PRV51549': 4,\n",
       " 'PRV51550': 1,\n",
       " 'PRV51551': 1,\n",
       " 'PRV51552': 3,\n",
       " 'PRV51553': 4,\n",
       " 'PRV51554': 1,\n",
       " 'PRV51555': 1,\n",
       " 'PRV51556': 3,\n",
       " 'PRV51557': 1,\n",
       " 'PRV51558': 1,\n",
       " 'PRV51559': 1,\n",
       " 'PRV51560': 7,\n",
       " 'PRV51561': 5,\n",
       " 'PRV51562': 1,\n",
       " 'PRV51563': 2,\n",
       " 'PRV51564': 3,\n",
       " 'PRV51565': 2,\n",
       " 'PRV51566': 1,\n",
       " 'PRV51567': 4,\n",
       " 'PRV51568': 3,\n",
       " 'PRV51569': 1,\n",
       " 'PRV51570': 1,\n",
       " 'PRV51571': 1,\n",
       " 'PRV51572': 1,\n",
       " 'PRV51573': 1,\n",
       " 'PRV51574': 10,\n",
       " 'PRV51575': 1,\n",
       " 'PRV51576': 4,\n",
       " 'PRV51577': 1,\n",
       " 'PRV51578': 38,\n",
       " 'PRV51579': 2,\n",
       " 'PRV51580': 1,\n",
       " 'PRV51581': 1,\n",
       " 'PRV51582': 1,\n",
       " 'PRV51583': 1,\n",
       " 'PRV51584': 4,\n",
       " 'PRV51585': 2,\n",
       " 'PRV51586': 1,\n",
       " 'PRV51587': 1,\n",
       " 'PRV51588': 1,\n",
       " 'PRV51589': 1,\n",
       " 'PRV51590': 1,\n",
       " 'PRV51591': 5,\n",
       " 'PRV51592': 1,\n",
       " 'PRV51593': 3,\n",
       " 'PRV51594': 4,\n",
       " 'PRV51595': 1,\n",
       " 'PRV51596': 5,\n",
       " 'PRV51597': 1,\n",
       " 'PRV51598': 20,\n",
       " 'PRV51599': 1,\n",
       " 'PRV51600': 2,\n",
       " 'PRV51601': 1,\n",
       " 'PRV51602': 6,\n",
       " 'PRV51603': 1,\n",
       " 'PRV51604': 2,\n",
       " 'PRV51605': 1,\n",
       " 'PRV51606': 4,\n",
       " 'PRV51607': 1,\n",
       " 'PRV51608': 1,\n",
       " 'PRV51609': 13,\n",
       " 'PRV51610': 1,\n",
       " 'PRV51611': 1,\n",
       " 'PRV51612': 1,\n",
       " 'PRV51613': 2,\n",
       " 'PRV51614': 6,\n",
       " 'PRV51615': 2,\n",
       " 'PRV51616': 5,\n",
       " 'PRV51617': 2,\n",
       " 'PRV51618': 1,\n",
       " 'PRV51619': 2,\n",
       " 'PRV51620': 1,\n",
       " 'PRV51621': 1,\n",
       " 'PRV51622': 3,\n",
       " 'PRV51623': 2,\n",
       " 'PRV51624': 1,\n",
       " 'PRV51625': 1,\n",
       " 'PRV51626': 1,\n",
       " 'PRV51627': 1,\n",
       " 'PRV51628': 1,\n",
       " 'PRV51629': 2,\n",
       " 'PRV51630': 1,\n",
       " 'PRV51631': 1,\n",
       " 'PRV51632': 1,\n",
       " 'PRV51633': 1,\n",
       " 'PRV51634': 2,\n",
       " 'PRV51635': 2,\n",
       " 'PRV51636': 1,\n",
       " 'PRV51637': 2,\n",
       " 'PRV51638': 1,\n",
       " 'PRV51639': 3,\n",
       " 'PRV51640': 1,\n",
       " 'PRV51641': 1,\n",
       " 'PRV51642': 1,\n",
       " 'PRV51643': 1,\n",
       " 'PRV51644': 1,\n",
       " 'PRV51645': 1,\n",
       " 'PRV51646': 1,\n",
       " 'PRV51647': 1,\n",
       " 'PRV51648': 6,\n",
       " 'PRV51649': 2,\n",
       " 'PRV51650': 1,\n",
       " 'PRV51651': 1,\n",
       " 'PRV51652': 1,\n",
       " 'PRV51653': 1,\n",
       " 'PRV51654': 1,\n",
       " 'PRV51655': 1,\n",
       " 'PRV51656': 1,\n",
       " 'PRV51657': 1,\n",
       " 'PRV51658': 1,\n",
       " 'PRV51659': 1,\n",
       " 'PRV51660': 1,\n",
       " 'PRV51661': 1,\n",
       " 'PRV51662': 1,\n",
       " 'PRV51663': 2,\n",
       " 'PRV51664': 1,\n",
       " 'PRV51665': 1,\n",
       " 'PRV51666': 1,\n",
       " 'PRV51667': 1,\n",
       " 'PRV51668': 2,\n",
       " 'PRV51669': 2,\n",
       " 'PRV51670': 3,\n",
       " 'PRV51671': 1,\n",
       " 'PRV51672': 2,\n",
       " 'PRV51673': 1,\n",
       " 'PRV51674': 1,\n",
       " 'PRV51675': 2,\n",
       " 'PRV51676': 2,\n",
       " 'PRV51677': 1,\n",
       " 'PRV51678': 3,\n",
       " 'PRV51679': 1,\n",
       " 'PRV51680': 1,\n",
       " 'PRV51681': 2,\n",
       " 'PRV51682': 1,\n",
       " 'PRV51683': 1,\n",
       " 'PRV51684': 1,\n",
       " 'PRV51685': 1,\n",
       " 'PRV51686': 2,\n",
       " 'PRV51687': 1,\n",
       " 'PRV51688': 1,\n",
       " 'PRV51689': 1,\n",
       " 'PRV51690': 3,\n",
       " 'PRV51691': 1,\n",
       " 'PRV51692': 1,\n",
       " 'PRV51693': 1,\n",
       " 'PRV51694': 1,\n",
       " 'PRV51695': 1,\n",
       " 'PRV51696': 2,\n",
       " 'PRV51697': 1,\n",
       " 'PRV51698': 1,\n",
       " 'PRV51699': 1,\n",
       " 'PRV51700': 1,\n",
       " 'PRV51701': 1,\n",
       " 'PRV51702': 1,\n",
       " 'PRV51703': 1,\n",
       " 'PRV51704': 1,\n",
       " 'PRV51705': 1,\n",
       " 'PRV51706': 1,\n",
       " 'PRV51707': 1,\n",
       " 'PRV51708': 1,\n",
       " 'PRV51709': 1,\n",
       " 'PRV51710': 1,\n",
       " 'PRV51711': 1,\n",
       " 'PRV51712': 1,\n",
       " 'PRV51713': 1,\n",
       " 'PRV51714': 1,\n",
       " 'PRV51715': 1,\n",
       " 'PRV51716': 1,\n",
       " 'PRV51717': 1,\n",
       " 'PRV51718': 1,\n",
       " 'PRV51719': 1,\n",
       " 'PRV51720': 1,\n",
       " 'PRV51721': 1,\n",
       " 'PRV51722': 1,\n",
       " 'PRV51723': 1,\n",
       " 'PRV51724': 1,\n",
       " 'PRV51725': 1,\n",
       " 'PRV51726': 1,\n",
       " 'PRV51727': 1,\n",
       " 'PRV51728': 1,\n",
       " 'PRV51729': 1,\n",
       " 'PRV51730': 1,\n",
       " 'PRV51731': 1,\n",
       " 'PRV51732': 1,\n",
       " 'PRV51733': 1,\n",
       " 'PRV51734': 1,\n",
       " 'PRV51735': 1,\n",
       " 'PRV51736': 1,\n",
       " 'PRV51737': 1,\n",
       " 'PRV51738': 1,\n",
       " 'PRV51739': 1,\n",
       " 'PRV51740': 1,\n",
       " 'PRV51741': 1,\n",
       " 'PRV51742': 1,\n",
       " 'PRV51743': 1,\n",
       " 'PRV51744': 2,\n",
       " 'PRV51745': 1,\n",
       " 'PRV51746': 1,\n",
       " 'PRV51747': 1,\n",
       " 'PRV51748': 1,\n",
       " 'PRV51749': 1,\n",
       " 'PRV51750': 1,\n",
       " 'PRV51751': 1,\n",
       " 'PRV51752': 1,\n",
       " 'PRV51753': 1,\n",
       " 'PRV51754': 1,\n",
       " 'PRV51755': 1,\n",
       " 'PRV51756': 1,\n",
       " 'PRV51757': 1,\n",
       " 'PRV51758': 2,\n",
       " 'PRV51759': 1,\n",
       " 'PRV51760': 1,\n",
       " 'PRV51761': 1,\n",
       " 'PRV51762': 1,\n",
       " 'PRV51763': 1,\n",
       " 'PRV51764': 1,\n",
       " 'PRV51765': 1,\n",
       " 'PRV51766': 1,\n",
       " 'PRV51767': 1,\n",
       " 'PRV51768': 1,\n",
       " 'PRV51769': 1,\n",
       " 'PRV51770': 1,\n",
       " 'PRV51771': 1,\n",
       " 'PRV51772': 1,\n",
       " 'PRV51773': 1,\n",
       " 'PRV51774': 1,\n",
       " 'PRV51775': 1,\n",
       " 'PRV51776': 1,\n",
       " 'PRV51777': 1,\n",
       " 'PRV51778': 1,\n",
       " 'PRV51779': 1,\n",
       " 'PRV51780': 1,\n",
       " 'PRV51781': 1,\n",
       " 'PRV51782': 1,\n",
       " 'PRV51783': 1,\n",
       " 'PRV51784': 1,\n",
       " 'PRV51785': 1,\n",
       " 'PRV51786': 1,\n",
       " 'PRV51787': 2,\n",
       " 'PRV51788': 1,\n",
       " 'PRV51789': 1,\n",
       " 'PRV51790': 2,\n",
       " 'PRV51791': 1,\n",
       " 'PRV51792': 1,\n",
       " 'PRV51793': 2,\n",
       " 'PRV51794': 1,\n",
       " 'PRV51795': 2,\n",
       " 'PRV51796': 1,\n",
       " 'PRV51797': 1,\n",
       " 'PRV51798': 1,\n",
       " 'PRV51799': 1,\n",
       " 'PRV51800': 1,\n",
       " 'PRV51801': 1,\n",
       " 'PRV51802': 1,\n",
       " 'PRV51803': 1,\n",
       " 'PRV51804': 1,\n",
       " 'PRV51805': 1,\n",
       " 'PRV51806': 1,\n",
       " 'PRV51807': 1,\n",
       " 'PRV51808': 1,\n",
       " 'PRV51809': 1,\n",
       " 'PRV51810': 1,\n",
       " 'PRV51811': 1,\n",
       " 'PRV51812': 1,\n",
       " 'PRV51813': 1,\n",
       " 'PRV51814': 1,\n",
       " 'PRV51815': 1,\n",
       " 'PRV51816': 1,\n",
       " 'PRV51817': 1,\n",
       " 'PRV51818': 1,\n",
       " 'PRV51819': 1,\n",
       " 'PRV51820': 1,\n",
       " 'PRV51821': 1,\n",
       " 'PRV51822': 1,\n",
       " 'PRV51823': 1,\n",
       " 'PRV51824': 1,\n",
       " 'PRV51825': 1,\n",
       " 'PRV51826': 1,\n",
       " 'PRV51827': 1,\n",
       " 'PRV51828': 1,\n",
       " 'PRV51829': 1,\n",
       " 'PRV51830': 1,\n",
       " 'PRV51831': 1,\n",
       " 'PRV51832': 1,\n",
       " 'PRV51833': 1,\n",
       " 'PRV51834': 1,\n",
       " 'PRV51835': 1,\n",
       " 'PRV51836': 2,\n",
       " 'PRV51837': 8,\n",
       " 'PRV51838': 17,\n",
       " 'PRV51839': 5,\n",
       " 'PRV51840': 11,\n",
       " 'PRV51841': 6,\n",
       " 'PRV51842': 15,\n",
       " 'PRV51843': 1,\n",
       " 'PRV51844': 2,\n",
       " 'PRV51845': 3,\n",
       " 'PRV51846': 1,\n",
       " 'PRV51847': 3,\n",
       " 'PRV51848': 11,\n",
       " 'PRV51849': 5,\n",
       " 'PRV51850': 4,\n",
       " 'PRV51851': 2,\n",
       " 'PRV51852': 2,\n",
       " 'PRV51853': 7,\n",
       " 'PRV51854': 9,\n",
       " 'PRV51855': 8,\n",
       " 'PRV51856': 6,\n",
       " 'PRV51857': 5,\n",
       " 'PRV51858': 2,\n",
       " 'PRV51859': 2,\n",
       " 'PRV51860': 3,\n",
       " 'PRV51861': 1,\n",
       " 'PRV51862': 1,\n",
       " 'PRV51863': 4,\n",
       " 'PRV51864': 2,\n",
       " 'PRV51865': 5,\n",
       " 'PRV51866': 5,\n",
       " 'PRV51867': 10,\n",
       " 'PRV51868': 4,\n",
       " 'PRV51869': 3,\n",
       " 'PRV51870': 3,\n",
       " 'PRV51871': 3,\n",
       " 'PRV51872': 3,\n",
       " 'PRV51873': 8,\n",
       " 'PRV51874': 6,\n",
       " 'PRV51875': 1,\n",
       " 'PRV51876': 6,\n",
       " 'PRV51877': 1,\n",
       " 'PRV51878': 2,\n",
       " 'PRV51879': 3,\n",
       " 'PRV51880': 1,\n",
       " 'PRV51881': 17,\n",
       " 'PRV51882': 1,\n",
       " 'PRV51883': 3,\n",
       " 'PRV51884': 11,\n",
       " 'PRV51885': 4,\n",
       " 'PRV51886': 2,\n",
       " 'PRV51887': 1,\n",
       " 'PRV51888': 1,\n",
       " 'PRV51889': 1,\n",
       " 'PRV51890': 2,\n",
       " 'PRV51891': 1,\n",
       " 'PRV51892': 1,\n",
       " 'PRV51893': 1,\n",
       " 'PRV51894': 8,\n",
       " 'PRV51895': 1,\n",
       " 'PRV51896': 2,\n",
       " 'PRV51897': 4,\n",
       " 'PRV51898': 3,\n",
       " 'PRV51899': 1,\n",
       " 'PRV51900': 2,\n",
       " 'PRV51901': 3,\n",
       " 'PRV51902': 1,\n",
       " 'PRV51903': 2,\n",
       " 'PRV51904': 1,\n",
       " 'PRV51905': 3,\n",
       " 'PRV51906': 1,\n",
       " 'PRV51907': 1,\n",
       " 'PRV51908': 1,\n",
       " 'PRV51909': 1,\n",
       " 'PRV51910': 1,\n",
       " 'PRV51911': 1,\n",
       " 'PRV51912': 1,\n",
       " 'PRV51913': 1,\n",
       " 'PRV51914': 1,\n",
       " 'PRV51915': 1,\n",
       " 'PRV51916': 1,\n",
       " 'PRV51917': 1,\n",
       " 'PRV51918': 1,\n",
       " 'PRV51919': 1,\n",
       " 'PRV51920': 1,\n",
       " 'PRV51921': 1,\n",
       " 'PRV51922': 1,\n",
       " 'PRV51923': 2,\n",
       " 'PRV51924': 1,\n",
       " 'PRV51925': 1,\n",
       " 'PRV51926': 1,\n",
       " 'PRV51927': 1,\n",
       " 'PRV51928': 4,\n",
       " 'PRV51929': 8,\n",
       " 'PRV51930': 1,\n",
       " 'PRV51931': 3,\n",
       " 'PRV51932': 3,\n",
       " 'PRV51933': 5,\n",
       " 'PRV51934': 11,\n",
       " 'PRV51935': 5,\n",
       " 'PRV51936': 4,\n",
       " 'PRV51937': 3,\n",
       " 'PRV51938': 1,\n",
       " 'PRV51939': 7,\n",
       " 'PRV51940': 5,\n",
       " 'PRV51941': 3,\n",
       " 'PRV51942': 6,\n",
       " 'PRV51943': 5,\n",
       " 'PRV51944': 5,\n",
       " 'PRV51945': 6,\n",
       " 'PRV51946': 8,\n",
       " 'PRV51947': 5,\n",
       " 'PRV51948': 7,\n",
       " 'PRV51949': 5,\n",
       " 'PRV51950': 5,\n",
       " 'PRV51951': 7,\n",
       " 'PRV51952': 2,\n",
       " 'PRV51953': 4,\n",
       " 'PRV51954': 11,\n",
       " 'PRV51955': 10,\n",
       " 'PRV51956': 2,\n",
       " 'PRV51957': 5,\n",
       " 'PRV51958': 3,\n",
       " 'PRV51959': 2,\n",
       " 'PRV51960': 1,\n",
       " 'PRV51961': 1,\n",
       " 'PRV51962': 1,\n",
       " 'PRV51963': 1,\n",
       " 'PRV51964': 1,\n",
       " 'PRV51965': 1,\n",
       " 'PRV51966': 1,\n",
       " 'PRV51967': 1,\n",
       " 'PRV51968': 1,\n",
       " 'PRV51969': 2,\n",
       " 'PRV51970': 1,\n",
       " 'PRV51971': 1,\n",
       " 'PRV51972': 1,\n",
       " 'PRV51973': 1,\n",
       " 'PRV51974': 1,\n",
       " 'PRV51975': 1,\n",
       " 'PRV51976': 1,\n",
       " 'PRV51977': 1,\n",
       " 'PRV51978': 1,\n",
       " 'PRV51979': 1,\n",
       " 'PRV51980': 1,\n",
       " 'PRV51981': 1,\n",
       " 'PRV51982': 8,\n",
       " 'PRV51983': 3,\n",
       " 'PRV51984': 10,\n",
       " 'PRV51985': 10,\n",
       " 'PRV51986': 5,\n",
       " 'PRV51987': 1,\n",
       " 'PRV51988': 1,\n",
       " 'PRV51989': 1,\n",
       " 'PRV51990': 1,\n",
       " 'PRV51991': 1,\n",
       " 'PRV51992': 1,\n",
       " 'PRV51993': 1,\n",
       " 'PRV51994': 2,\n",
       " 'PRV51995': 1,\n",
       " 'PRV51996': 1,\n",
       " 'PRV51997': 1,\n",
       " 'PRV51998': 1,\n",
       " 'PRV51999': 1,\n",
       " 'PRV52000': 2,\n",
       " ...}"
      ]
     },
     "execution_count": 248,
     "metadata": {},
     "output_type": "execute_result"
    }
   ],
   "source": [
    "data.groupby('Provider')['State'].nunique().to_dict()"
   ]
  },
  {
   "cell_type": "code",
   "execution_count": 126,
   "metadata": {},
   "outputs": [
    {
     "data": {
      "text/plain": [
       "Text(1000.6, 105, 'Fraud: No')"
      ]
     },
     "execution_count": 126,
     "metadata": {},
     "output_type": "execute_result"
    },
    {
     "data": {
      "image/png": "[encoded data removed]",
      "text/plain": [
       "<Figure size 432x576 with 3 Axes>"
      ]
     },
     "metadata": {
      "needs_background": "light"
     },
     "output_type": "display_data"
    }
   ],
   "source": [
    "plt.figure(figsize=(6,8))\n",
    "\n",
    "ax1 = plt.subplot(311)\n",
    "\n",
    "ax1 = sns.distplot(a = numClaims[numClaims.PotentialFraud=='?']['ClaimID'], kde=False)\n",
    "ax1.set(yscale=\"log\")\n",
    "ax1.set(xlabel='Number of Claims')\n",
    "plt.tight_layout()\n",
    "plt.xlim(0,9000)\n",
    "plt.annotate('Fraud: ?', (1000.6, 105))\n",
    "\n",
    "\n",
    "ax2 = plt.subplot(312)\n",
    "ax2 = sns.distplot(a = numClaims[numClaims.PotentialFraud=='Yes']['ClaimID'], kde=False)\n",
    "ax2.set(yscale=\"log\")\n",
    "ax2.set(xlabel='Number of Claims')\n",
    "plt.tight_layout()\n",
    "plt.xlim(0,9000)\n",
    "plt.annotate('Fraud: Yes', (1000.6, 105))\n",
    "\n",
    "ax3 = plt.subplot(313)\n",
    "ax3 = sns.distplot(a = numClaims[numClaims.PotentialFraud=='No']['ClaimID'], kde=False)\n",
    "ax3.set(yscale=\"log\")\n",
    "ax3.set(xlabel='Number of Claims')\n",
    "plt.tight_layout()\n",
    "plt.xlim(0,9000)\n",
    "plt.annotate('Fraud: No', (1000.6, 105))"
   ]
  },
  {
   "cell_type": "code",
   "execution_count": 15,
   "metadata": {},
   "outputs": [
    {
     "data": {
      "image/png": "[encoded data removed]",
      "text/plain": [
       "<Figure size 864x432 with 1 Axes>"
      ]
     },
     "metadata": {
      "needs_background": "light"
     },
     "output_type": "display_data"
    }
   ],
   "source": [
    "provData = data[['Provider','PotentialFraud','State','County']]\n",
    "provNet = provData.groupby(['Provider','PotentialFraud'])['State'].nunique().reset_index()\n",
    "\n",
    "plt.figure(figsize=(12,6))\n",
    "\n",
    "\n",
    "ax1 = sns.countplot(x = 'State', hue = 'PotentialFraud', data=provNet, palette = 'muted')\n",
    "\n",
    "ax1.set(xlabel='Number of States', ylabel='Number of Providers operating')\n",
    "ax1.set(yscale=\"log\")\n",
    "ax1.figure.savefig(\"../visualizations/plots/multistateProviders.png\",bbox_inches='tight')"
   ]
  },
  {
   "cell_type": "code",
   "execution_count": 57,
   "metadata": {},
   "outputs": [
    {
     "data": {
      "image/png": "[encoded data removed]",
      "text/plain": [
       "<Figure size 864x432 with 1 Axes>"
      ]
     },
     "metadata": {
      "needs_background": "light"
     },
     "output_type": "display_data"
    }
   ],
   "source": [
    "provData = data[['Provider','State','County']]\n",
    "provNet = provData.groupby(['Provider','State'])['County'].nunique().reset_index().drop_duplicates()\n",
    "\n",
    "plt.figure(figsize=(12,6))\n",
    "\n",
    "for state in provNet.State.unique():\n",
    "    filename = \"./visualizations/plots/crossing_county/Providers/State_\" + str(state) + \".png\"\n",
    "    ax1 = sns.countplot(x = 'County', data=provNet[provNet.State==state], palette = 'muted');\n",
    "    ax1.set(xlabel='Number of Counties Providers Operate in for State ' + str(state), \n",
    "            ylabel='Count of Providers');\n",
    "    ax1.figure.savefig(filename,bbox_inches='tight')"
   ]
  },
  {
   "cell_type": "code",
   "execution_count": 6,
   "metadata": {},
   "outputs": [],
   "source": [
    "physData = data[['AttendingPhysician','OperatingPhysician','OtherPhysician','Provider']]\n",
    "physMelt = physData.melt(id_vars=['State','County'],var_name='Type', value_name='Doctor').dropna(axis=0)\n",
    "physNet = physMelt.groupby(['State','County'])['Doctor'].nunique().reset_index()\n"
   ]
  },
  {
   "cell_type": "code",
   "execution_count": 262,
   "metadata": {},
   "outputs": [],
   "source": [
    "d = data.melt(id_vars = 'Provider', value_vars = ['AttendingPhysician',\n",
    "                     'OperatingPhysician',\n",
    "                     'OtherPhysician'], var_name='Type', value_name='Doctor').dropna(axis=0)\n",
    "d = d[['Provider','Doctor']].drop_duplicates()"
   ]
  },
  {
   "cell_type": "code",
   "execution_count": 268,
   "metadata": {},
   "outputs": [],
   "source": [
    "provData['numDocs'] = d.groupby('Provider')['Doctor'].count().values"
   ]
  },
  {
   "cell_type": "code",
   "execution_count": 265,
   "metadata": {},
   "outputs": [],
   "source": [
    "provData = data.groupby('Provider').agg({'BeneID':'nunique',\n",
    "                              'ClaimID' : 'count',\n",
    "                              'State' : 'nunique'}).reset_index()"
   ]
  }
 ],
 "metadata": {
  "kernelspec": {
   "display_name": "Python 3",
   "language": "python",
   "name": "python3"
  },
  "language_info": {
   "codemirror_mode": {
    "name": "ipython",
    "version": 3
   },
   "file_extension": ".py",
   "mimetype": "text/x-python",
   "name": "python",
   "nbconvert_exporter": "python",
   "pygments_lexer": "ipython3",
   "version": "3.7.4"
  }
 },
 "nbformat": 4,
 "nbformat_minor": 2
}
