{
 "cells": [
  {
   "cell_type": "code",
   "execution_count": null,
   "metadata": {
    "init_cell": true
   },
   "outputs": [],
   "source": [
    "%logstop\n",
    "%logstart -rtq ~/.logs/DS_Pandas.py append\n",
    "%matplotlib inline\n",
    "import matplotlib\n",
    "import seaborn as sns\n",
    "sns.set()\n",
    "matplotlib.rcParams['figure.dpi'] = 144"
   ]
  },
  {
   "cell_type": "code",
   "execution_count": 3,
   "metadata": {},
   "outputs": [],
   "source": [
    "import expectexception"
   ]
  },
  {
   "cell_type": "markdown",
   "metadata": {},
   "source": [
    "# Pandas\n",
    "\n",
    "<!-- requirement: data/yelp.json.gz -->\n",
    "<!-- requirement: data/PEP_2016_PEPANNRES.csv -->"
   ]
  },
  {
   "cell_type": "code",
   "execution_count": 4,
   "metadata": {},
   "outputs": [],
   "source": [
    "import pandas as pd"
   ]
  },
  {
   "cell_type": "markdown",
   "metadata": {},
   "source": [
    "We introduced the Pandas module and the DataFrame object in the lesson on [basic data science modules](DS_Basic_DS_Modules.ipynb). We learned how to construct a DataFrame, add data, retrieve data, and [basic reading and writing to disk](DS_IO.ipynb). Now we'll explore the DataFrame object and its powerful analysis methods in more depth.\n",
    "\n",
    "We'll work with a data set from the online review site, Yelp. The file is stored as a compressed JSON file."
   ]
  },
  {
   "cell_type": "code",
   "execution_count": 5,
   "metadata": {},
   "outputs": [
    {
     "name": "stdout",
     "output_type": "stream",
     "text": [
      "-rw-rw-r-- 1 jovyan users 4.2M Apr  9 18:33 ./data/yelp.json.gz\r\n"
     ]
    }
   ],
   "source": [
    "!ls -lh ./data/yelp.json.gz"
   ]
  },
  {
   "cell_type": "code",
   "execution_count": 6,
   "metadata": {},
   "outputs": [
    {
     "data": {
      "text/html": [
       "<div>\n",
       "<style scoped>\n",
       "    .dataframe tbody tr th:only-of-type {\n",
       "        vertical-align: middle;\n",
       "    }\n",
       "\n",
       "    .dataframe tbody tr th {\n",
       "        vertical-align: top;\n",
       "    }\n",
       "\n",
       "    .dataframe thead th {\n",
       "        text-align: right;\n",
       "    }\n",
       "</style>\n",
       "<table border=\"1\" class=\"dataframe\">\n",
       "  <thead>\n",
       "    <tr style=\"text-align: right;\">\n",
       "      <th></th>\n",
       "      <th>business_id</th>\n",
       "      <th>full_address</th>\n",
       "      <th>hours</th>\n",
       "      <th>open</th>\n",
       "      <th>categories</th>\n",
       "      <th>city</th>\n",
       "      <th>review_count</th>\n",
       "      <th>name</th>\n",
       "      <th>neighborhoods</th>\n",
       "      <th>longitude</th>\n",
       "      <th>state</th>\n",
       "      <th>stars</th>\n",
       "      <th>latitude</th>\n",
       "      <th>attributes</th>\n",
       "      <th>type</th>\n",
       "    </tr>\n",
       "  </thead>\n",
       "  <tbody>\n",
       "    <tr>\n",
       "      <th>0</th>\n",
       "      <td>vcNAWiLM4dR7D2nwwJ7nCA</td>\n",
       "      <td>4840 E Indian School Rd\\nSte 101\\nPhoenix, AZ ...</td>\n",
       "      <td>{'Tuesday': {'close': '17:00', 'open': '08:00'...</td>\n",
       "      <td>True</td>\n",
       "      <td>[Doctors, Health &amp; Medical]</td>\n",
       "      <td>Phoenix</td>\n",
       "      <td>7</td>\n",
       "      <td>Eric Goldberg, MD</td>\n",
       "      <td>[]</td>\n",
       "      <td>-111.983758</td>\n",
       "      <td>AZ</td>\n",
       "      <td>3.5</td>\n",
       "      <td>33.499313</td>\n",
       "      <td>{'By Appointment Only': True}</td>\n",
       "      <td>business</td>\n",
       "    </tr>\n",
       "    <tr>\n",
       "      <th>1</th>\n",
       "      <td>JwUE5GmEO-sH1FuwJgKBlQ</td>\n",
       "      <td>6162 US Highway 51\\nDe Forest, WI 53532</td>\n",
       "      <td>{}</td>\n",
       "      <td>True</td>\n",
       "      <td>[Restaurants]</td>\n",
       "      <td>De Forest</td>\n",
       "      <td>26</td>\n",
       "      <td>Pine Cone Restaurant</td>\n",
       "      <td>[]</td>\n",
       "      <td>-89.335844</td>\n",
       "      <td>WI</td>\n",
       "      <td>4.0</td>\n",
       "      <td>43.238893</td>\n",
       "      <td>{'Take-out': True, 'Good For': {'dessert': Fal...</td>\n",
       "      <td>business</td>\n",
       "    </tr>\n",
       "    <tr>\n",
       "      <th>2</th>\n",
       "      <td>uGykseHzyS5xAMWoN6YUqA</td>\n",
       "      <td>505 W North St\\nDe Forest, WI 53532</td>\n",
       "      <td>{'Monday': {'close': '22:00', 'open': '06:00'}...</td>\n",
       "      <td>True</td>\n",
       "      <td>[American (Traditional), Restaurants]</td>\n",
       "      <td>De Forest</td>\n",
       "      <td>16</td>\n",
       "      <td>Deforest Family Restaurant</td>\n",
       "      <td>[]</td>\n",
       "      <td>-89.353437</td>\n",
       "      <td>WI</td>\n",
       "      <td>4.0</td>\n",
       "      <td>43.252267</td>\n",
       "      <td>{'Take-out': True, 'Good For': {'dessert': Fal...</td>\n",
       "      <td>business</td>\n",
       "    </tr>\n",
       "    <tr>\n",
       "      <th>3</th>\n",
       "      <td>LRKJF43s9-3jG9Lgx4zODg</td>\n",
       "      <td>4910 County Rd V\\nDe Forest, WI 53532</td>\n",
       "      <td>{'Monday': {'close': '22:00', 'open': '10:30'}...</td>\n",
       "      <td>True</td>\n",
       "      <td>[Food, Ice Cream &amp; Frozen Yogurt, Fast Food, R...</td>\n",
       "      <td>De Forest</td>\n",
       "      <td>7</td>\n",
       "      <td>Culver's</td>\n",
       "      <td>[]</td>\n",
       "      <td>-89.374983</td>\n",
       "      <td>WI</td>\n",
       "      <td>4.5</td>\n",
       "      <td>43.251045</td>\n",
       "      <td>{'Take-out': True, 'Wi-Fi': 'free', 'Takes Res...</td>\n",
       "      <td>business</td>\n",
       "    </tr>\n",
       "    <tr>\n",
       "      <th>4</th>\n",
       "      <td>RgDg-k9S5YD_BaxMckifkg</td>\n",
       "      <td>631 S Main St\\nDe Forest, WI 53532</td>\n",
       "      <td>{'Monday': {'close': '22:00', 'open': '11:00'}...</td>\n",
       "      <td>True</td>\n",
       "      <td>[Chinese, Restaurants]</td>\n",
       "      <td>De Forest</td>\n",
       "      <td>3</td>\n",
       "      <td>Chang Jiang Chinese Kitchen</td>\n",
       "      <td>[]</td>\n",
       "      <td>-89.343722</td>\n",
       "      <td>WI</td>\n",
       "      <td>4.0</td>\n",
       "      <td>43.240875</td>\n",
       "      <td>{'Take-out': True, 'Has TV': False, 'Outdoor S...</td>\n",
       "      <td>business</td>\n",
       "    </tr>\n",
       "  </tbody>\n",
       "</table>\n",
       "</div>"
      ],
      "text/plain": [
       "              business_id                                       full_address  \\\n",
       "0  vcNAWiLM4dR7D2nwwJ7nCA  4840 E Indian School Rd\\nSte 101\\nPhoenix, AZ ...   \n",
       "1  JwUE5GmEO-sH1FuwJgKBlQ            6162 US Highway 51\\nDe Forest, WI 53532   \n",
       "2  uGykseHzyS5xAMWoN6YUqA                505 W North St\\nDe Forest, WI 53532   \n",
       "3  LRKJF43s9-3jG9Lgx4zODg              4910 County Rd V\\nDe Forest, WI 53532   \n",
       "4  RgDg-k9S5YD_BaxMckifkg                 631 S Main St\\nDe Forest, WI 53532   \n",
       "\n",
       "                                               hours  open  \\\n",
       "0  {'Tuesday': {'close': '17:00', 'open': '08:00'...  True   \n",
       "1                                                 {}  True   \n",
       "2  {'Monday': {'close': '22:00', 'open': '06:00'}...  True   \n",
       "3  {'Monday': {'close': '22:00', 'open': '10:30'}...  True   \n",
       "4  {'Monday': {'close': '22:00', 'open': '11:00'}...  True   \n",
       "\n",
       "                                          categories       city  review_count  \\\n",
       "0                        [Doctors, Health & Medical]    Phoenix             7   \n",
       "1                                      [Restaurants]  De Forest            26   \n",
       "2              [American (Traditional), Restaurants]  De Forest            16   \n",
       "3  [Food, Ice Cream & Frozen Yogurt, Fast Food, R...  De Forest             7   \n",
       "4                             [Chinese, Restaurants]  De Forest             3   \n",
       "\n",
       "                          name neighborhoods   longitude state  stars  \\\n",
       "0            Eric Goldberg, MD            [] -111.983758    AZ    3.5   \n",
       "1         Pine Cone Restaurant            []  -89.335844    WI    4.0   \n",
       "2   Deforest Family Restaurant            []  -89.353437    WI    4.0   \n",
       "3                     Culver's            []  -89.374983    WI    4.5   \n",
       "4  Chang Jiang Chinese Kitchen            []  -89.343722    WI    4.0   \n",
       "\n",
       "    latitude                                         attributes      type  \n",
       "0  33.499313                      {'By Appointment Only': True}  business  \n",
       "1  43.238893  {'Take-out': True, 'Good For': {'dessert': Fal...  business  \n",
       "2  43.252267  {'Take-out': True, 'Good For': {'dessert': Fal...  business  \n",
       "3  43.251045  {'Take-out': True, 'Wi-Fi': 'free', 'Takes Res...  business  \n",
       "4  43.240875  {'Take-out': True, 'Has TV': False, 'Outdoor S...  business  "
      ]
     },
     "execution_count": 6,
     "metadata": {},
     "output_type": "execute_result"
    }
   ],
   "source": [
    "import gzip\n",
    "import simplejson as json\n",
    "\n",
    "with gzip.open('./data/yelp.json.gz', 'r') as f:\n",
    "    yelp_data = [json.loads(line) for line in f]\n",
    "    \n",
    "yelp_df = pd.DataFrame(yelp_data)\n",
    "yelp_df.head()    "
   ]
  },
  {
   "cell_type": "markdown",
   "metadata": {},
   "source": [
    "## Pandas DataFrame and Series\n",
    "\n",
    "The Pandas DataFrame is a highly structured object. Each row corresponds with some physical entity or event. We think of all of the information in a given row as referring to one object (e.g. a business). Each column contains one type of data, both semantically (e.g. names, counts of reviews, star ratings) and syntactically."
   ]
  },
  {
   "cell_type": "code",
   "execution_count": 7,
   "metadata": {},
   "outputs": [
    {
     "data": {
      "text/plain": [
       "business_id       object\n",
       "full_address      object\n",
       "hours             object\n",
       "open                bool\n",
       "categories        object\n",
       "city              object\n",
       "review_count       int64\n",
       "name              object\n",
       "neighborhoods     object\n",
       "longitude        float64\n",
       "state             object\n",
       "stars            float64\n",
       "latitude         float64\n",
       "attributes        object\n",
       "type              object\n",
       "dtype: object"
      ]
     },
     "execution_count": 7,
     "metadata": {},
     "output_type": "execute_result"
    }
   ],
   "source": [
    "yelp_df.dtypes"
   ]
  },
  {
   "cell_type": "markdown",
   "metadata": {},
   "source": [
    "We can reference the columns by name, like we would with a `dict`."
   ]
  },
  {
   "cell_type": "code",
   "execution_count": 8,
   "metadata": {},
   "outputs": [
    {
     "data": {
      "text/plain": [
       "0      Phoenix\n",
       "1    De Forest\n",
       "2    De Forest\n",
       "3    De Forest\n",
       "4    De Forest\n",
       "Name: city, dtype: object"
      ]
     },
     "execution_count": 8,
     "metadata": {},
     "output_type": "execute_result"
    }
   ],
   "source": [
    "yelp_df['city'].head()"
   ]
  },
  {
   "cell_type": "code",
   "execution_count": 9,
   "metadata": {},
   "outputs": [
    {
     "data": {
      "text/plain": [
       "pandas.core.series.Series"
      ]
     },
     "execution_count": 9,
     "metadata": {},
     "output_type": "execute_result"
    }
   ],
   "source": [
    "type(yelp_df['city'])"
   ]
  },
  {
   "cell_type": "markdown",
   "metadata": {},
   "source": [
    "An individual column is a Pandas `Series`. A `Series` has a `name` and a `dtype` (similar to a NumPy array). A `DataFrame` is essentially a `dict` of `Series` objects. The `Series` has an `index` attribute, which label the rows. The index is essentially a set of keys for referencing the rows. We can have an index composed of numbers, strings, timestamps, or any hashable Python object. The index will also have homogeneous type."
   ]
  },
  {
   "cell_type": "code",
   "execution_count": 10,
   "metadata": {},
   "outputs": [
    {
     "data": {
      "text/plain": [
       "RangeIndex(start=0, stop=37938, step=1)"
      ]
     },
     "execution_count": 10,
     "metadata": {},
     "output_type": "execute_result"
    }
   ],
   "source": [
    "yelp_df['city'].index"
   ]
  },
  {
   "cell_type": "markdown",
   "metadata": {},
   "source": [
    "The `DataFrame` has an `index` given by the union of indices of its constituent `Series` (we'll explore this later in more detail). Since a `DataFrame` is a `dict` of `Series`, we can select a column and then a row using square bracket notation, but not the reverse (however, the `loc` method works around this)."
   ]
  },
  {
   "cell_type": "code",
   "execution_count": 11,
   "metadata": {},
   "outputs": [
    {
     "data": {
      "text/plain": [
       "'Madison'"
      ]
     },
     "execution_count": 11,
     "metadata": {},
     "output_type": "execute_result"
    }
   ],
   "source": [
    "# this works\n",
    "yelp_df['city'][100]"
   ]
  },
  {
   "cell_type": "code",
   "execution_count": 12,
   "metadata": {},
   "outputs": [
    {
     "name": "stdout",
     "output_type": "stream",
     "text": [
      "\u001b[0;31m---------------------------------------------------------------------------\u001b[0m\n",
      "\u001b[0;31mKeyError\u001b[0m                                  Traceback (most recent call last)\n",
      "\u001b[0;32m/opt/conda/lib/python3.7/site-packages/pandas/core/indexes/base.py\u001b[0m in \u001b[0;36mget_loc\u001b[0;34m(self, key, method, tolerance)\u001b[0m\n",
      "\u001b[1;32m   2889\u001b[0m             \u001b[0;32mtry\u001b[0m\u001b[0;34m:\u001b[0m\u001b[0;34m\u001b[0m\u001b[0;34m\u001b[0m\u001b[0m\n",
      "\u001b[0;32m-> 2890\u001b[0;31m                 \u001b[0;32mreturn\u001b[0m \u001b[0mself\u001b[0m\u001b[0;34m.\u001b[0m\u001b[0m_engine\u001b[0m\u001b[0;34m.\u001b[0m\u001b[0mget_loc\u001b[0m\u001b[0;34m(\u001b[0m\u001b[0mkey\u001b[0m\u001b[0;34m)\u001b[0m\u001b[0;34m\u001b[0m\u001b[0;34m\u001b[0m\u001b[0m\n",
      "\u001b[0m\u001b[1;32m   2891\u001b[0m             \u001b[0;32mexcept\u001b[0m \u001b[0mKeyError\u001b[0m\u001b[0;34m:\u001b[0m\u001b[0;34m\u001b[0m\u001b[0;34m\u001b[0m\u001b[0m\n",
      "\n",
      "\u001b[0;32mpandas/_libs/index.pyx\u001b[0m in \u001b[0;36mpandas._libs.index.IndexEngine.get_loc\u001b[0;34m()\u001b[0m\n",
      "\n",
      "\u001b[0;32mpandas/_libs/index.pyx\u001b[0m in \u001b[0;36mpandas._libs.index.IndexEngine.get_loc\u001b[0;34m()\u001b[0m\n",
      "\n",
      "\u001b[0;32mpandas/_libs/hashtable_class_helper.pxi\u001b[0m in \u001b[0;36mpandas._libs.hashtable.PyObjectHashTable.get_item\u001b[0;34m()\u001b[0m\n",
      "\n",
      "\u001b[0;32mpandas/_libs/hashtable_class_helper.pxi\u001b[0m in \u001b[0;36mpandas._libs.hashtable.PyObjectHashTable.get_item\u001b[0;34m()\u001b[0m\n",
      "\n",
      "\u001b[0;31mKeyError\u001b[0m: 100\n",
      "\n",
      "During handling of the above exception, another exception occurred:\n",
      "\n",
      "\u001b[0;31mKeyError\u001b[0m                                  Traceback (most recent call last)\n",
      "\u001b[0;32m<ipython-input-12-a719463eea94>\u001b[0m in \u001b[0;36m<module>\u001b[0;34m()\u001b[0m\n",
      "\u001b[1;32m      1\u001b[0m \u001b[0;34m\u001b[0m\u001b[0m\n",
      "\u001b[1;32m      2\u001b[0m \u001b[0;31m# this doesn't\u001b[0m\u001b[0;34m\u001b[0m\u001b[0;34m\u001b[0m\u001b[0;34m\u001b[0m\u001b[0m\n",
      "\u001b[0;32m----> 3\u001b[0;31m \u001b[0myelp_df\u001b[0m\u001b[0;34m[\u001b[0m\u001b[0;36m100\u001b[0m\u001b[0;34m]\u001b[0m\u001b[0;34m[\u001b[0m\u001b[0;34m'city'\u001b[0m\u001b[0;34m]\u001b[0m\u001b[0;34m\u001b[0m\u001b[0;34m\u001b[0m\u001b[0m\n",
      "\u001b[0m\n",
      "\u001b[0;32m/opt/conda/lib/python3.7/site-packages/pandas/core/frame.py\u001b[0m in \u001b[0;36m__getitem__\u001b[0;34m(self, key)\u001b[0m\n",
      "\u001b[1;32m   2973\u001b[0m             \u001b[0;32mif\u001b[0m \u001b[0mself\u001b[0m\u001b[0;34m.\u001b[0m\u001b[0mcolumns\u001b[0m\u001b[0;34m.\u001b[0m\u001b[0mnlevels\u001b[0m \u001b[0;34m>\u001b[0m \u001b[0;36m1\u001b[0m\u001b[0;34m:\u001b[0m\u001b[0;34m\u001b[0m\u001b[0;34m\u001b[0m\u001b[0m\n",
      "\u001b[1;32m   2974\u001b[0m                 \u001b[0;32mreturn\u001b[0m \u001b[0mself\u001b[0m\u001b[0;34m.\u001b[0m\u001b[0m_getitem_multilevel\u001b[0m\u001b[0;34m(\u001b[0m\u001b[0mkey\u001b[0m\u001b[0;34m)\u001b[0m\u001b[0;34m\u001b[0m\u001b[0;34m\u001b[0m\u001b[0m\n",
      "\u001b[0;32m-> 2975\u001b[0;31m             \u001b[0mindexer\u001b[0m \u001b[0;34m=\u001b[0m \u001b[0mself\u001b[0m\u001b[0;34m.\u001b[0m\u001b[0mcolumns\u001b[0m\u001b[0;34m.\u001b[0m\u001b[0mget_loc\u001b[0m\u001b[0;34m(\u001b[0m\u001b[0mkey\u001b[0m\u001b[0;34m)\u001b[0m\u001b[0;34m\u001b[0m\u001b[0;34m\u001b[0m\u001b[0m\n",
      "\u001b[0m\u001b[1;32m   2976\u001b[0m             \u001b[0;32mif\u001b[0m \u001b[0mis_integer\u001b[0m\u001b[0;34m(\u001b[0m\u001b[0mindexer\u001b[0m\u001b[0;34m)\u001b[0m\u001b[0;34m:\u001b[0m\u001b[0;34m\u001b[0m\u001b[0;34m\u001b[0m\u001b[0m\n",
      "\u001b[1;32m   2977\u001b[0m                 \u001b[0mindexer\u001b[0m \u001b[0;34m=\u001b[0m \u001b[0;34m[\u001b[0m\u001b[0mindexer\u001b[0m\u001b[0;34m]\u001b[0m\u001b[0;34m\u001b[0m\u001b[0;34m\u001b[0m\u001b[0m\n",
      "\n",
      "\u001b[0;32m/opt/conda/lib/python3.7/site-packages/pandas/core/indexes/base.py\u001b[0m in \u001b[0;36mget_loc\u001b[0;34m(self, key, method, tolerance)\u001b[0m\n",
      "\u001b[1;32m   2890\u001b[0m                 \u001b[0;32mreturn\u001b[0m \u001b[0mself\u001b[0m\u001b[0;34m.\u001b[0m\u001b[0m_engine\u001b[0m\u001b[0;34m.\u001b[0m\u001b[0mget_loc\u001b[0m\u001b[0;34m(\u001b[0m\u001b[0mkey\u001b[0m\u001b[0;34m)\u001b[0m\u001b[0;34m\u001b[0m\u001b[0;34m\u001b[0m\u001b[0m\n",
      "\u001b[1;32m   2891\u001b[0m             \u001b[0;32mexcept\u001b[0m \u001b[0mKeyError\u001b[0m\u001b[0;34m:\u001b[0m\u001b[0;34m\u001b[0m\u001b[0;34m\u001b[0m\u001b[0m\n",
      "\u001b[0;32m-> 2892\u001b[0;31m                 \u001b[0;32mreturn\u001b[0m \u001b[0mself\u001b[0m\u001b[0;34m.\u001b[0m\u001b[0m_engine\u001b[0m\u001b[0;34m.\u001b[0m\u001b[0mget_loc\u001b[0m\u001b[0;34m(\u001b[0m\u001b[0mself\u001b[0m\u001b[0;34m.\u001b[0m\u001b[0m_maybe_cast_indexer\u001b[0m\u001b[0;34m(\u001b[0m\u001b[0mkey\u001b[0m\u001b[0;34m)\u001b[0m\u001b[0;34m)\u001b[0m\u001b[0;34m\u001b[0m\u001b[0;34m\u001b[0m\u001b[0m\n",
      "\u001b[0m\u001b[1;32m   2893\u001b[0m         \u001b[0mindexer\u001b[0m \u001b[0;34m=\u001b[0m \u001b[0mself\u001b[0m\u001b[0;34m.\u001b[0m\u001b[0mget_indexer\u001b[0m\u001b[0;34m(\u001b[0m\u001b[0;34m[\u001b[0m\u001b[0mkey\u001b[0m\u001b[0;34m]\u001b[0m\u001b[0;34m,\u001b[0m \u001b[0mmethod\u001b[0m\u001b[0;34m=\u001b[0m\u001b[0mmethod\u001b[0m\u001b[0;34m,\u001b[0m \u001b[0mtolerance\u001b[0m\u001b[0;34m=\u001b[0m\u001b[0mtolerance\u001b[0m\u001b[0;34m)\u001b[0m\u001b[0;34m\u001b[0m\u001b[0;34m\u001b[0m\u001b[0m\n",
      "\u001b[1;32m   2894\u001b[0m         \u001b[0;32mif\u001b[0m \u001b[0mindexer\u001b[0m\u001b[0;34m.\u001b[0m\u001b[0mndim\u001b[0m \u001b[0;34m>\u001b[0m \u001b[0;36m1\u001b[0m \u001b[0;32mor\u001b[0m \u001b[0mindexer\u001b[0m\u001b[0;34m.\u001b[0m\u001b[0msize\u001b[0m \u001b[0;34m>\u001b[0m \u001b[0;36m1\u001b[0m\u001b[0;34m:\u001b[0m\u001b[0;34m\u001b[0m\u001b[0;34m\u001b[0m\u001b[0m\n",
      "\n",
      "\u001b[0;32mpandas/_libs/index.pyx\u001b[0m in \u001b[0;36mpandas._libs.index.IndexEngine.get_loc\u001b[0;34m()\u001b[0m\n",
      "\n",
      "\u001b[0;32mpandas/_libs/index.pyx\u001b[0m in \u001b[0;36mpandas._libs.index.IndexEngine.get_loc\u001b[0;34m()\u001b[0m\n",
      "\n",
      "\u001b[0;32mpandas/_libs/hashtable_class_helper.pxi\u001b[0m in \u001b[0;36mpandas._libs.hashtable.PyObjectHashTable.get_item\u001b[0;34m()\u001b[0m\n",
      "\n",
      "\u001b[0;32mpandas/_libs/hashtable_class_helper.pxi\u001b[0m in \u001b[0;36mpandas._libs.hashtable.PyObjectHashTable.get_item\u001b[0;34m()\u001b[0m\n",
      "\n",
      "\u001b[0;31mKeyError\u001b[0m: 100\n"
     ]
    }
   ],
   "source": [
    "%%expect_exception KeyError\n",
    "\n",
    "# this doesn't\n",
    "yelp_df[100]['city']"
   ]
  },
  {
   "cell_type": "code",
   "execution_count": 13,
   "metadata": {},
   "outputs": [
    {
     "data": {
      "text/plain": [
       "'Madison'"
      ]
     },
     "execution_count": 13,
     "metadata": {},
     "output_type": "execute_result"
    }
   ],
   "source": [
    "yelp_df.loc[100, 'city']"
   ]
  },
  {
   "cell_type": "markdown",
   "metadata": {},
   "source": [
    "Understanding the underlying structure of the `DataFrame` object as a `dict` of `Series` will help you avoid errors and help you think about how the `DataFrame` should behave when we begin doing more complicated analysis.\n",
    "\n",
    "We can _aggregate_ data in a `DataFrame` using methods like `mean`, `sum`, `count`, and `std`. To view a collection of summary statistics for each column we can use the `describe` method."
   ]
  },
  {
   "cell_type": "code",
   "execution_count": 14,
   "metadata": {},
   "outputs": [
    {
     "data": {
      "text/html": [
       "<div>\n",
       "<style scoped>\n",
       "    .dataframe tbody tr th:only-of-type {\n",
       "        vertical-align: middle;\n",
       "    }\n",
       "\n",
       "    .dataframe tbody tr th {\n",
       "        vertical-align: top;\n",
       "    }\n",
       "\n",
       "    .dataframe thead th {\n",
       "        text-align: right;\n",
       "    }\n",
       "</style>\n",
       "<table border=\"1\" class=\"dataframe\">\n",
       "  <thead>\n",
       "    <tr style=\"text-align: right;\">\n",
       "      <th></th>\n",
       "      <th>review_count</th>\n",
       "      <th>longitude</th>\n",
       "      <th>stars</th>\n",
       "      <th>latitude</th>\n",
       "    </tr>\n",
       "  </thead>\n",
       "  <tbody>\n",
       "    <tr>\n",
       "      <th>count</th>\n",
       "      <td>37938.000000</td>\n",
       "      <td>37938.000000</td>\n",
       "      <td>37938.000000</td>\n",
       "      <td>37938.000000</td>\n",
       "    </tr>\n",
       "    <tr>\n",
       "      <th>mean</th>\n",
       "      <td>29.300648</td>\n",
       "      <td>-104.097172</td>\n",
       "      <td>3.672914</td>\n",
       "      <td>36.530288</td>\n",
       "    </tr>\n",
       "    <tr>\n",
       "      <th>std</th>\n",
       "      <td>92.893064</td>\n",
       "      <td>28.365375</td>\n",
       "      <td>0.888730</td>\n",
       "      <td>5.822588</td>\n",
       "    </tr>\n",
       "    <tr>\n",
       "      <th>min</th>\n",
       "      <td>3.000000</td>\n",
       "      <td>-115.369725</td>\n",
       "      <td>1.000000</td>\n",
       "      <td>32.876638</td>\n",
       "    </tr>\n",
       "    <tr>\n",
       "      <th>25%</th>\n",
       "      <td>4.000000</td>\n",
       "      <td>-115.136389</td>\n",
       "      <td>3.000000</td>\n",
       "      <td>33.476739</td>\n",
       "    </tr>\n",
       "    <tr>\n",
       "      <th>50%</th>\n",
       "      <td>8.000000</td>\n",
       "      <td>-112.068820</td>\n",
       "      <td>3.500000</td>\n",
       "      <td>33.680247</td>\n",
       "    </tr>\n",
       "    <tr>\n",
       "      <th>75%</th>\n",
       "      <td>21.000000</td>\n",
       "      <td>-111.883274</td>\n",
       "      <td>4.500000</td>\n",
       "      <td>36.141875</td>\n",
       "    </tr>\n",
       "    <tr>\n",
       "      <th>max</th>\n",
       "      <td>4084.000000</td>\n",
       "      <td>-3.050088</td>\n",
       "      <td>5.000000</td>\n",
       "      <td>56.033777</td>\n",
       "    </tr>\n",
       "  </tbody>\n",
       "</table>\n",
       "</div>"
      ],
      "text/plain": [
       "       review_count     longitude         stars      latitude\n",
       "count  37938.000000  37938.000000  37938.000000  37938.000000\n",
       "mean      29.300648   -104.097172      3.672914     36.530288\n",
       "std       92.893064     28.365375      0.888730      5.822588\n",
       "min        3.000000   -115.369725      1.000000     32.876638\n",
       "25%        4.000000   -115.136389      3.000000     33.476739\n",
       "50%        8.000000   -112.068820      3.500000     33.680247\n",
       "75%       21.000000   -111.883274      4.500000     36.141875\n",
       "max     4084.000000     -3.050088      5.000000     56.033777"
      ]
     },
     "execution_count": 14,
     "metadata": {},
     "output_type": "execute_result"
    }
   ],
   "source": [
    "yelp_df.describe()"
   ]
  },
  {
   "cell_type": "markdown",
   "metadata": {},
   "source": [
    "The utility of a DataFrame comes from its ability to split data into groups, using the `groupby` method, and then perform custom aggregations using the `apply` or `aggregate` method. This process of splitting the data into groups, applying an aggregation, and then collecting the results is [discussed in detail in the Pandas documentation](https://pandas.pydata.org/pandas-docs/stable/groupby.html), and is one of the main focuses of this notebook."
   ]
  },
  {
   "cell_type": "markdown",
   "metadata": {},
   "source": [
    "## DataFrame construction\n",
    "\n",
    "Since a `DataFrame` is a `dict` of `Series`, the natural way to construct a `DataFrame` is to use a `dict` of `Series`-like objects."
   ]
  },
  {
   "cell_type": "code",
   "execution_count": 15,
   "metadata": {},
   "outputs": [],
   "source": [
    "from string import ascii_letters, digits\n",
    "import numpy as np\n",
    "import datetime"
   ]
  },
  {
   "cell_type": "code",
   "execution_count": 16,
   "metadata": {},
   "outputs": [],
   "source": [
    "usernames = ['alice36', 'bob_smith', 'eve']\n",
    "\n",
    "passwords = [''.join(np.random.choice(list(ascii_letters + digits), 8)) for x in range(3)]\n",
    "creation_dates = [datetime.datetime.now().date() - datetime.timedelta(int(x)) for x in np.random.randint(0, 1500, 3)]"
   ]
  },
  {
   "cell_type": "code",
   "execution_count": 17,
   "metadata": {},
   "outputs": [
    {
     "data": {
      "text/plain": [
       "['alice36', 'bob_smith', 'eve']"
      ]
     },
     "execution_count": 17,
     "metadata": {},
     "output_type": "execute_result"
    }
   ],
   "source": [
    "usernames"
   ]
  },
  {
   "cell_type": "code",
   "execution_count": 18,
   "metadata": {},
   "outputs": [
    {
     "data": {
      "text/plain": [
       "['blGgmpBG', 't2gbfjsw', '35cGOhr8']"
      ]
     },
     "execution_count": 18,
     "metadata": {},
     "output_type": "execute_result"
    }
   ],
   "source": [
    "passwords"
   ]
  },
  {
   "cell_type": "code",
   "execution_count": 19,
   "metadata": {},
   "outputs": [
    {
     "data": {
      "text/plain": [
       "[datetime.date(2019, 11, 12),\n",
       " datetime.date(2018, 9, 1),\n",
       " datetime.date(2019, 12, 23)]"
      ]
     },
     "execution_count": 19,
     "metadata": {},
     "output_type": "execute_result"
    }
   ],
   "source": [
    "creation_dates"
   ]
  },
  {
   "cell_type": "code",
   "execution_count": 20,
   "metadata": {},
   "outputs": [
    {
     "data": {
      "text/html": [
       "<div>\n",
       "<style scoped>\n",
       "    .dataframe tbody tr th:only-of-type {\n",
       "        vertical-align: middle;\n",
       "    }\n",
       "\n",
       "    .dataframe tbody tr th {\n",
       "        vertical-align: top;\n",
       "    }\n",
       "\n",
       "    .dataframe thead th {\n",
       "        text-align: right;\n",
       "    }\n",
       "</style>\n",
       "<table border=\"1\" class=\"dataframe\">\n",
       "  <thead>\n",
       "    <tr style=\"text-align: right;\">\n",
       "      <th></th>\n",
       "      <th>username</th>\n",
       "      <th>password</th>\n",
       "      <th>date-created</th>\n",
       "    </tr>\n",
       "  </thead>\n",
       "  <tbody>\n",
       "    <tr>\n",
       "      <th>0</th>\n",
       "      <td>alice36</td>\n",
       "      <td>blGgmpBG</td>\n",
       "      <td>2019-11-12</td>\n",
       "    </tr>\n",
       "    <tr>\n",
       "      <th>1</th>\n",
       "      <td>bob_smith</td>\n",
       "      <td>t2gbfjsw</td>\n",
       "      <td>2018-09-01</td>\n",
       "    </tr>\n",
       "    <tr>\n",
       "      <th>2</th>\n",
       "      <td>eve</td>\n",
       "      <td>35cGOhr8</td>\n",
       "      <td>2019-12-23</td>\n",
       "    </tr>\n",
       "  </tbody>\n",
       "</table>\n",
       "</div>"
      ],
      "text/plain": [
       "    username  password date-created\n",
       "0    alice36  blGgmpBG   2019-11-12\n",
       "1  bob_smith  t2gbfjsw   2018-09-01\n",
       "2        eve  35cGOhr8   2019-12-23"
      ]
     },
     "execution_count": 20,
     "metadata": {},
     "output_type": "execute_result"
    }
   ],
   "source": [
    "df = pd.DataFrame({'username': usernames, 'password': passwords, 'date-created': pd.to_datetime(creation_dates)})\n",
    "df"
   ]
  },
  {
   "cell_type": "code",
   "execution_count": 21,
   "metadata": {},
   "outputs": [
    {
     "data": {
      "text/plain": [
       "username                object\n",
       "password                object\n",
       "date-created    datetime64[ns]\n",
       "dtype: object"
      ]
     },
     "execution_count": 21,
     "metadata": {},
     "output_type": "execute_result"
    }
   ],
   "source": [
    "df.dtypes"
   ]
  },
  {
   "cell_type": "markdown",
   "metadata": {},
   "source": [
    "The `DataFrame` is also closely related to the NumPy `ndarray`."
   ]
  },
  {
   "cell_type": "code",
   "execution_count": 22,
   "metadata": {},
   "outputs": [
    {
     "data": {
      "text/plain": [
       "array([[0.72287656, 0.48237164, 0.26470204],\n",
       "       [0.99363269, 0.35311088, 0.94629277],\n",
       "       [0.63611924, 0.2766561 , 0.82657236],\n",
       "       [0.68862782, 0.52753685, 0.93504912]])"
      ]
     },
     "execution_count": 22,
     "metadata": {},
     "output_type": "execute_result"
    }
   ],
   "source": [
    "random_data = np.random.random((4,3))\n",
    "random_data"
   ]
  },
  {
   "cell_type": "code",
   "execution_count": 23,
   "metadata": {},
   "outputs": [
    {
     "data": {
      "text/html": [
       "<div>\n",
       "<style scoped>\n",
       "    .dataframe tbody tr th:only-of-type {\n",
       "        vertical-align: middle;\n",
       "    }\n",
       "\n",
       "    .dataframe tbody tr th {\n",
       "        vertical-align: top;\n",
       "    }\n",
       "\n",
       "    .dataframe thead th {\n",
       "        text-align: right;\n",
       "    }\n",
       "</style>\n",
       "<table border=\"1\" class=\"dataframe\">\n",
       "  <thead>\n",
       "    <tr style=\"text-align: right;\">\n",
       "      <th></th>\n",
       "      <th>a</th>\n",
       "      <th>b</th>\n",
       "      <th>c</th>\n",
       "    </tr>\n",
       "  </thead>\n",
       "  <tbody>\n",
       "    <tr>\n",
       "      <th>0</th>\n",
       "      <td>0.722877</td>\n",
       "      <td>0.482372</td>\n",
       "      <td>0.264702</td>\n",
       "    </tr>\n",
       "    <tr>\n",
       "      <th>1</th>\n",
       "      <td>0.993633</td>\n",
       "      <td>0.353111</td>\n",
       "      <td>0.946293</td>\n",
       "    </tr>\n",
       "    <tr>\n",
       "      <th>2</th>\n",
       "      <td>0.636119</td>\n",
       "      <td>0.276656</td>\n",
       "      <td>0.826572</td>\n",
       "    </tr>\n",
       "    <tr>\n",
       "      <th>3</th>\n",
       "      <td>0.688628</td>\n",
       "      <td>0.527537</td>\n",
       "      <td>0.935049</td>\n",
       "    </tr>\n",
       "  </tbody>\n",
       "</table>\n",
       "</div>"
      ],
      "text/plain": [
       "          a         b         c\n",
       "0  0.722877  0.482372  0.264702\n",
       "1  0.993633  0.353111  0.946293\n",
       "2  0.636119  0.276656  0.826572\n",
       "3  0.688628  0.527537  0.935049"
      ]
     },
     "execution_count": 23,
     "metadata": {},
     "output_type": "execute_result"
    }
   ],
   "source": [
    "df_random = pd.DataFrame(random_data, columns=['a', 'b', 'c'])\n",
    "df_random"
   ]
  },
  {
   "cell_type": "markdown",
   "metadata": {},
   "source": [
    "To add a new column or row, we simply use `dict`-like assignment."
   ]
  },
  {
   "cell_type": "code",
   "execution_count": 24,
   "metadata": {},
   "outputs": [
    {
     "data": {
      "text/html": [
       "<div>\n",
       "<style scoped>\n",
       "    .dataframe tbody tr th:only-of-type {\n",
       "        vertical-align: middle;\n",
       "    }\n",
       "\n",
       "    .dataframe tbody tr th {\n",
       "        vertical-align: top;\n",
       "    }\n",
       "\n",
       "    .dataframe thead th {\n",
       "        text-align: right;\n",
       "    }\n",
       "</style>\n",
       "<table border=\"1\" class=\"dataframe\">\n",
       "  <thead>\n",
       "    <tr style=\"text-align: right;\">\n",
       "      <th></th>\n",
       "      <th>username</th>\n",
       "      <th>password</th>\n",
       "      <th>date-created</th>\n",
       "      <th>email</th>\n",
       "    </tr>\n",
       "  </thead>\n",
       "  <tbody>\n",
       "    <tr>\n",
       "      <th>0</th>\n",
       "      <td>alice36</td>\n",
       "      <td>blGgmpBG</td>\n",
       "      <td>2019-11-12</td>\n",
       "      <td>alice.chan@gmail.com</td>\n",
       "    </tr>\n",
       "    <tr>\n",
       "      <th>1</th>\n",
       "      <td>bob_smith</td>\n",
       "      <td>t2gbfjsw</td>\n",
       "      <td>2018-09-01</td>\n",
       "      <td>bwsmith1983@gmail.com</td>\n",
       "    </tr>\n",
       "    <tr>\n",
       "      <th>2</th>\n",
       "      <td>eve</td>\n",
       "      <td>35cGOhr8</td>\n",
       "      <td>2019-12-23</td>\n",
       "      <td>fakemail123@yahoo.com</td>\n",
       "    </tr>\n",
       "  </tbody>\n",
       "</table>\n",
       "</div>"
      ],
      "text/plain": [
       "    username  password date-created                  email\n",
       "0    alice36  blGgmpBG   2019-11-12   alice.chan@gmail.com\n",
       "1  bob_smith  t2gbfjsw   2018-09-01  bwsmith1983@gmail.com\n",
       "2        eve  35cGOhr8   2019-12-23  fakemail123@yahoo.com"
      ]
     },
     "execution_count": 24,
     "metadata": {},
     "output_type": "execute_result"
    }
   ],
   "source": [
    "emails = ['alice.chan@gmail.com', 'bwsmith1983@gmail.com', 'fakemail123@yahoo.com']\n",
    "df['email'] = emails\n",
    "df"
   ]
  },
  {
   "cell_type": "code",
   "execution_count": 25,
   "metadata": {},
   "outputs": [
    {
     "data": {
      "text/html": [
       "<div>\n",
       "<style scoped>\n",
       "    .dataframe tbody tr th:only-of-type {\n",
       "        vertical-align: middle;\n",
       "    }\n",
       "\n",
       "    .dataframe tbody tr th {\n",
       "        vertical-align: top;\n",
       "    }\n",
       "\n",
       "    .dataframe thead th {\n",
       "        text-align: right;\n",
       "    }\n",
       "</style>\n",
       "<table border=\"1\" class=\"dataframe\">\n",
       "  <thead>\n",
       "    <tr style=\"text-align: right;\">\n",
       "      <th></th>\n",
       "      <th>username</th>\n",
       "      <th>password</th>\n",
       "      <th>date-created</th>\n",
       "      <th>email</th>\n",
       "    </tr>\n",
       "  </thead>\n",
       "  <tbody>\n",
       "    <tr>\n",
       "      <th>0</th>\n",
       "      <td>alice36</td>\n",
       "      <td>blGgmpBG</td>\n",
       "      <td>2019-11-12 00:00:00</td>\n",
       "      <td>alice.chan@gmail.com</td>\n",
       "    </tr>\n",
       "    <tr>\n",
       "      <th>1</th>\n",
       "      <td>bob_smith</td>\n",
       "      <td>t2gbfjsw</td>\n",
       "      <td>2018-09-01 00:00:00</td>\n",
       "      <td>bwsmith1983@gmail.com</td>\n",
       "    </tr>\n",
       "    <tr>\n",
       "      <th>2</th>\n",
       "      <td>eve</td>\n",
       "      <td>35cGOhr8</td>\n",
       "      <td>2019-12-23 00:00:00</td>\n",
       "      <td>fakemail123@yahoo.com</td>\n",
       "    </tr>\n",
       "    <tr>\n",
       "      <th>3</th>\n",
       "      <td>2015-01-29</td>\n",
       "      <td>38uzFJ1n</td>\n",
       "      <td>melvintherobot</td>\n",
       "      <td>moviesrgood@moviesrgood.com</td>\n",
       "    </tr>\n",
       "  </tbody>\n",
       "</table>\n",
       "</div>"
      ],
      "text/plain": [
       "     username  password         date-created                        email\n",
       "0     alice36  blGgmpBG  2019-11-12 00:00:00         alice.chan@gmail.com\n",
       "1   bob_smith  t2gbfjsw  2018-09-01 00:00:00        bwsmith1983@gmail.com\n",
       "2         eve  35cGOhr8  2019-12-23 00:00:00        fakemail123@yahoo.com\n",
       "3  2015-01-29  38uzFJ1n       melvintherobot  moviesrgood@moviesrgood.com"
      ]
     },
     "execution_count": 25,
     "metadata": {},
     "output_type": "execute_result"
    }
   ],
   "source": [
    "# loc references index value, NOT position\n",
    "# for position use iloc\n",
    "df.loc[3] = ['2015-01-29', '38uzFJ1n', 'melvintherobot', 'moviesrgood@moviesrgood.com']\n",
    "df"
   ]
  },
  {
   "cell_type": "markdown",
   "metadata": {},
   "source": [
    "We can also drop columns and rows."
   ]
  },
  {
   "cell_type": "code",
   "execution_count": 26,
   "metadata": {},
   "outputs": [
    {
     "data": {
      "text/html": [
       "<div>\n",
       "<style scoped>\n",
       "    .dataframe tbody tr th:only-of-type {\n",
       "        vertical-align: middle;\n",
       "    }\n",
       "\n",
       "    .dataframe tbody tr th {\n",
       "        vertical-align: top;\n",
       "    }\n",
       "\n",
       "    .dataframe thead th {\n",
       "        text-align: right;\n",
       "    }\n",
       "</style>\n",
       "<table border=\"1\" class=\"dataframe\">\n",
       "  <thead>\n",
       "    <tr style=\"text-align: right;\">\n",
       "      <th></th>\n",
       "      <th>username</th>\n",
       "      <th>password</th>\n",
       "      <th>date-created</th>\n",
       "      <th>email</th>\n",
       "    </tr>\n",
       "  </thead>\n",
       "  <tbody>\n",
       "    <tr>\n",
       "      <th>0</th>\n",
       "      <td>alice36</td>\n",
       "      <td>blGgmpBG</td>\n",
       "      <td>2019-11-12 00:00:00</td>\n",
       "      <td>alice.chan@gmail.com</td>\n",
       "    </tr>\n",
       "    <tr>\n",
       "      <th>1</th>\n",
       "      <td>bob_smith</td>\n",
       "      <td>t2gbfjsw</td>\n",
       "      <td>2018-09-01 00:00:00</td>\n",
       "      <td>bwsmith1983@gmail.com</td>\n",
       "    </tr>\n",
       "    <tr>\n",
       "      <th>2</th>\n",
       "      <td>eve</td>\n",
       "      <td>35cGOhr8</td>\n",
       "      <td>2019-12-23 00:00:00</td>\n",
       "      <td>fakemail123@yahoo.com</td>\n",
       "    </tr>\n",
       "  </tbody>\n",
       "</table>\n",
       "</div>"
      ],
      "text/plain": [
       "    username  password         date-created                  email\n",
       "0    alice36  blGgmpBG  2019-11-12 00:00:00   alice.chan@gmail.com\n",
       "1  bob_smith  t2gbfjsw  2018-09-01 00:00:00  bwsmith1983@gmail.com\n",
       "2        eve  35cGOhr8  2019-12-23 00:00:00  fakemail123@yahoo.com"
      ]
     },
     "execution_count": 26,
     "metadata": {},
     "output_type": "execute_result"
    }
   ],
   "source": [
    "df.drop(3)"
   ]
  },
  {
   "cell_type": "code",
   "execution_count": 27,
   "metadata": {},
   "outputs": [
    {
     "data": {
      "text/html": [
       "<div>\n",
       "<style scoped>\n",
       "    .dataframe tbody tr th:only-of-type {\n",
       "        vertical-align: middle;\n",
       "    }\n",
       "\n",
       "    .dataframe tbody tr th {\n",
       "        vertical-align: top;\n",
       "    }\n",
       "\n",
       "    .dataframe thead th {\n",
       "        text-align: right;\n",
       "    }\n",
       "</style>\n",
       "<table border=\"1\" class=\"dataframe\">\n",
       "  <thead>\n",
       "    <tr style=\"text-align: right;\">\n",
       "      <th></th>\n",
       "      <th>username</th>\n",
       "      <th>password</th>\n",
       "      <th>date-created</th>\n",
       "    </tr>\n",
       "  </thead>\n",
       "  <tbody>\n",
       "    <tr>\n",
       "      <th>0</th>\n",
       "      <td>alice36</td>\n",
       "      <td>blGgmpBG</td>\n",
       "      <td>2019-11-12 00:00:00</td>\n",
       "    </tr>\n",
       "    <tr>\n",
       "      <th>1</th>\n",
       "      <td>bob_smith</td>\n",
       "      <td>t2gbfjsw</td>\n",
       "      <td>2018-09-01 00:00:00</td>\n",
       "    </tr>\n",
       "    <tr>\n",
       "      <th>2</th>\n",
       "      <td>eve</td>\n",
       "      <td>35cGOhr8</td>\n",
       "      <td>2019-12-23 00:00:00</td>\n",
       "    </tr>\n",
       "    <tr>\n",
       "      <th>3</th>\n",
       "      <td>2015-01-29</td>\n",
       "      <td>38uzFJ1n</td>\n",
       "      <td>melvintherobot</td>\n",
       "    </tr>\n",
       "  </tbody>\n",
       "</table>\n",
       "</div>"
      ],
      "text/plain": [
       "     username  password         date-created\n",
       "0     alice36  blGgmpBG  2019-11-12 00:00:00\n",
       "1   bob_smith  t2gbfjsw  2018-09-01 00:00:00\n",
       "2         eve  35cGOhr8  2019-12-23 00:00:00\n",
       "3  2015-01-29  38uzFJ1n       melvintherobot"
      ]
     },
     "execution_count": 27,
     "metadata": {},
     "output_type": "execute_result"
    }
   ],
   "source": [
    "# to drop a column, need axis=1\n",
    "df.drop('email', axis=1)"
   ]
  },
  {
   "cell_type": "markdown",
   "metadata": {},
   "source": [
    "Notice when we dropped the `'email'` column, the row at index 3 was in the `DataFrame`, even though we just dropped it! Most operations in Pandas return a _copy_ of the `DataFrame`, rather than modifying the `DataFrame` object itself. Therefore, in order to permanently alter the `DataFrame`, we either need to reassign the `df` variable, or use the `inplace` keyword."
   ]
  },
  {
   "cell_type": "code",
   "execution_count": 28,
   "metadata": {},
   "outputs": [
    {
     "data": {
      "text/html": [
       "<div>\n",
       "<style scoped>\n",
       "    .dataframe tbody tr th:only-of-type {\n",
       "        vertical-align: middle;\n",
       "    }\n",
       "\n",
       "    .dataframe tbody tr th {\n",
       "        vertical-align: top;\n",
       "    }\n",
       "\n",
       "    .dataframe thead th {\n",
       "        text-align: right;\n",
       "    }\n",
       "</style>\n",
       "<table border=\"1\" class=\"dataframe\">\n",
       "  <thead>\n",
       "    <tr style=\"text-align: right;\">\n",
       "      <th></th>\n",
       "      <th>username</th>\n",
       "      <th>password</th>\n",
       "      <th>date-created</th>\n",
       "      <th>email</th>\n",
       "    </tr>\n",
       "  </thead>\n",
       "  <tbody>\n",
       "    <tr>\n",
       "      <th>0</th>\n",
       "      <td>alice36</td>\n",
       "      <td>blGgmpBG</td>\n",
       "      <td>2019-11-12 00:00:00</td>\n",
       "      <td>alice.chan@gmail.com</td>\n",
       "    </tr>\n",
       "    <tr>\n",
       "      <th>1</th>\n",
       "      <td>bob_smith</td>\n",
       "      <td>t2gbfjsw</td>\n",
       "      <td>2018-09-01 00:00:00</td>\n",
       "      <td>bwsmith1983@gmail.com</td>\n",
       "    </tr>\n",
       "    <tr>\n",
       "      <th>2</th>\n",
       "      <td>eve</td>\n",
       "      <td>35cGOhr8</td>\n",
       "      <td>2019-12-23 00:00:00</td>\n",
       "      <td>fakemail123@yahoo.com</td>\n",
       "    </tr>\n",
       "  </tbody>\n",
       "</table>\n",
       "</div>"
      ],
      "text/plain": [
       "    username  password         date-created                  email\n",
       "0    alice36  blGgmpBG  2019-11-12 00:00:00   alice.chan@gmail.com\n",
       "1  bob_smith  t2gbfjsw  2018-09-01 00:00:00  bwsmith1983@gmail.com\n",
       "2        eve  35cGOhr8  2019-12-23 00:00:00  fakemail123@yahoo.com"
      ]
     },
     "execution_count": 28,
     "metadata": {},
     "output_type": "execute_result"
    }
   ],
   "source": [
    "df.drop(3, inplace=True)\n",
    "df"
   ]
  },
  {
   "cell_type": "markdown",
   "metadata": {},
   "source": [
    "Since the `index` and column names are important for interacting with data in the DataFrame, we should make sure to set them to useful values. We can do this during construction or after."
   ]
  },
  {
   "cell_type": "code",
   "execution_count": 29,
   "metadata": {},
   "outputs": [
    {
     "data": {
      "text/html": [
       "<div>\n",
       "<style scoped>\n",
       "    .dataframe tbody tr th:only-of-type {\n",
       "        vertical-align: middle;\n",
       "    }\n",
       "\n",
       "    .dataframe tbody tr th {\n",
       "        vertical-align: top;\n",
       "    }\n",
       "\n",
       "    .dataframe thead th {\n",
       "        text-align: right;\n",
       "    }\n",
       "</style>\n",
       "<table border=\"1\" class=\"dataframe\">\n",
       "  <thead>\n",
       "    <tr style=\"text-align: right;\">\n",
       "      <th></th>\n",
       "      <th>email</th>\n",
       "      <th>password</th>\n",
       "      <th>date-created</th>\n",
       "    </tr>\n",
       "    <tr>\n",
       "      <th>users</th>\n",
       "      <th></th>\n",
       "      <th></th>\n",
       "      <th></th>\n",
       "    </tr>\n",
       "  </thead>\n",
       "  <tbody>\n",
       "    <tr>\n",
       "      <th>alice36</th>\n",
       "      <td>alice.chan@gmail.com</td>\n",
       "      <td>blGgmpBG</td>\n",
       "      <td>2019-11-12</td>\n",
       "    </tr>\n",
       "    <tr>\n",
       "      <th>bob_smith</th>\n",
       "      <td>bwsmith1983@gmail.com</td>\n",
       "      <td>t2gbfjsw</td>\n",
       "      <td>2018-09-01</td>\n",
       "    </tr>\n",
       "    <tr>\n",
       "      <th>eve</th>\n",
       "      <td>fakemail123@yahoo.com</td>\n",
       "      <td>35cGOhr8</td>\n",
       "      <td>2019-12-23</td>\n",
       "    </tr>\n",
       "  </tbody>\n",
       "</table>\n",
       "</div>"
      ],
      "text/plain": [
       "                           email  password date-created\n",
       "users                                                  \n",
       "alice36     alice.chan@gmail.com  blGgmpBG   2019-11-12\n",
       "bob_smith  bwsmith1983@gmail.com  t2gbfjsw   2018-09-01\n",
       "eve        fakemail123@yahoo.com  35cGOhr8   2019-12-23"
      ]
     },
     "execution_count": 29,
     "metadata": {},
     "output_type": "execute_result"
    }
   ],
   "source": [
    "df = pd.DataFrame({'email': emails, 'password': passwords, 'date-created': creation_dates}, index=usernames)\n",
    "df.index.name = 'users' # it can be helpful to give the index a name\n",
    "df"
   ]
  },
  {
   "cell_type": "code",
   "execution_count": 30,
   "metadata": {},
   "outputs": [
    {
     "data": {
      "text/html": [
       "<div>\n",
       "<style scoped>\n",
       "    .dataframe tbody tr th:only-of-type {\n",
       "        vertical-align: middle;\n",
       "    }\n",
       "\n",
       "    .dataframe tbody tr th {\n",
       "        vertical-align: top;\n",
       "    }\n",
       "\n",
       "    .dataframe thead th {\n",
       "        text-align: right;\n",
       "    }\n",
       "</style>\n",
       "<table border=\"1\" class=\"dataframe\">\n",
       "  <thead>\n",
       "    <tr style=\"text-align: right;\">\n",
       "      <th></th>\n",
       "      <th>0</th>\n",
       "      <th>1</th>\n",
       "      <th>2</th>\n",
       "      <th>3</th>\n",
       "    </tr>\n",
       "  </thead>\n",
       "  <tbody>\n",
       "    <tr>\n",
       "      <th>0</th>\n",
       "      <td>alice36</td>\n",
       "      <td>alice.chan@gmail.com</td>\n",
       "      <td>blGgmpBG</td>\n",
       "      <td>2019-11-12</td>\n",
       "    </tr>\n",
       "    <tr>\n",
       "      <th>1</th>\n",
       "      <td>bob_smith</td>\n",
       "      <td>bwsmith1983@gmail.com</td>\n",
       "      <td>t2gbfjsw</td>\n",
       "      <td>2018-09-01</td>\n",
       "    </tr>\n",
       "    <tr>\n",
       "      <th>2</th>\n",
       "      <td>eve</td>\n",
       "      <td>fakemail123@yahoo.com</td>\n",
       "      <td>35cGOhr8</td>\n",
       "      <td>2019-12-23</td>\n",
       "    </tr>\n",
       "  </tbody>\n",
       "</table>\n",
       "</div>"
      ],
      "text/plain": [
       "           0                      1         2           3\n",
       "0    alice36   alice.chan@gmail.com  blGgmpBG  2019-11-12\n",
       "1  bob_smith  bwsmith1983@gmail.com  t2gbfjsw  2018-09-01\n",
       "2        eve  fakemail123@yahoo.com  35cGOhr8  2019-12-23"
      ]
     },
     "execution_count": 30,
     "metadata": {},
     "output_type": "execute_result"
    }
   ],
   "source": [
    "# alternatively\n",
    "df = pd.DataFrame(list(zip(usernames, emails, passwords, creation_dates)))\n",
    "df"
   ]
  },
  {
   "cell_type": "code",
   "execution_count": 31,
   "metadata": {},
   "outputs": [
    {
     "data": {
      "text/html": [
       "<div>\n",
       "<style scoped>\n",
       "    .dataframe tbody tr th:only-of-type {\n",
       "        vertical-align: middle;\n",
       "    }\n",
       "\n",
       "    .dataframe tbody tr th {\n",
       "        vertical-align: top;\n",
       "    }\n",
       "\n",
       "    .dataframe thead th {\n",
       "        text-align: right;\n",
       "    }\n",
       "</style>\n",
       "<table border=\"1\" class=\"dataframe\">\n",
       "  <thead>\n",
       "    <tr style=\"text-align: right;\">\n",
       "      <th></th>\n",
       "      <th>email</th>\n",
       "      <th>password</th>\n",
       "      <th>date-created</th>\n",
       "    </tr>\n",
       "    <tr>\n",
       "      <th>username</th>\n",
       "      <th></th>\n",
       "      <th></th>\n",
       "      <th></th>\n",
       "    </tr>\n",
       "  </thead>\n",
       "  <tbody>\n",
       "    <tr>\n",
       "      <th>alice36</th>\n",
       "      <td>alice.chan@gmail.com</td>\n",
       "      <td>blGgmpBG</td>\n",
       "      <td>2019-11-12</td>\n",
       "    </tr>\n",
       "    <tr>\n",
       "      <th>bob_smith</th>\n",
       "      <td>bwsmith1983@gmail.com</td>\n",
       "      <td>t2gbfjsw</td>\n",
       "      <td>2018-09-01</td>\n",
       "    </tr>\n",
       "    <tr>\n",
       "      <th>eve</th>\n",
       "      <td>fakemail123@yahoo.com</td>\n",
       "      <td>35cGOhr8</td>\n",
       "      <td>2019-12-23</td>\n",
       "    </tr>\n",
       "  </tbody>\n",
       "</table>\n",
       "</div>"
      ],
      "text/plain": [
       "                           email  password date-created\n",
       "username                                               \n",
       "alice36     alice.chan@gmail.com  blGgmpBG   2019-11-12\n",
       "bob_smith  bwsmith1983@gmail.com  t2gbfjsw   2018-09-01\n",
       "eve        fakemail123@yahoo.com  35cGOhr8   2019-12-23"
      ]
     },
     "execution_count": 31,
     "metadata": {},
     "output_type": "execute_result"
    }
   ],
   "source": [
    "df.columns = ['username', 'email', 'password', 'date-created']\n",
    "df.set_index('username', inplace=True)\n",
    "df"
   ]
  },
  {
   "cell_type": "code",
   "execution_count": 32,
   "metadata": {},
   "outputs": [
    {
     "data": {
      "text/html": [
       "<div>\n",
       "<style scoped>\n",
       "    .dataframe tbody tr th:only-of-type {\n",
       "        vertical-align: middle;\n",
       "    }\n",
       "\n",
       "    .dataframe tbody tr th {\n",
       "        vertical-align: top;\n",
       "    }\n",
       "\n",
       "    .dataframe thead th {\n",
       "        text-align: right;\n",
       "    }\n",
       "</style>\n",
       "<table border=\"1\" class=\"dataframe\">\n",
       "  <thead>\n",
       "    <tr style=\"text-align: right;\">\n",
       "      <th></th>\n",
       "      <th>username</th>\n",
       "      <th>email</th>\n",
       "      <th>password</th>\n",
       "      <th>date-created</th>\n",
       "    </tr>\n",
       "  </thead>\n",
       "  <tbody>\n",
       "    <tr>\n",
       "      <th>0</th>\n",
       "      <td>alice36</td>\n",
       "      <td>alice.chan@gmail.com</td>\n",
       "      <td>blGgmpBG</td>\n",
       "      <td>2019-11-12</td>\n",
       "    </tr>\n",
       "    <tr>\n",
       "      <th>1</th>\n",
       "      <td>bob_smith</td>\n",
       "      <td>bwsmith1983@gmail.com</td>\n",
       "      <td>t2gbfjsw</td>\n",
       "      <td>2018-09-01</td>\n",
       "    </tr>\n",
       "    <tr>\n",
       "      <th>2</th>\n",
       "      <td>eve</td>\n",
       "      <td>fakemail123@yahoo.com</td>\n",
       "      <td>35cGOhr8</td>\n",
       "      <td>2019-12-23</td>\n",
       "    </tr>\n",
       "  </tbody>\n",
       "</table>\n",
       "</div>"
      ],
      "text/plain": [
       "    username                  email  password date-created\n",
       "0    alice36   alice.chan@gmail.com  blGgmpBG   2019-11-12\n",
       "1  bob_smith  bwsmith1983@gmail.com  t2gbfjsw   2018-09-01\n",
       "2        eve  fakemail123@yahoo.com  35cGOhr8   2019-12-23"
      ]
     },
     "execution_count": 32,
     "metadata": {},
     "output_type": "execute_result"
    }
   ],
   "source": [
    "# to reset index to a column\n",
    "df.reset_index(inplace=True)\n",
    "df"
   ]
  },
  {
   "cell_type": "markdown",
   "metadata": {},
   "source": [
    "We can have multiple levels to an index. We'll discover that for some data sets it is necessary to have multiple levels to the index in order to uniquely identify a row."
   ]
  },
  {
   "cell_type": "code",
   "execution_count": 33,
   "metadata": {},
   "outputs": [
    {
     "data": {
      "text/html": [
       "<div>\n",
       "<style scoped>\n",
       "    .dataframe tbody tr th:only-of-type {\n",
       "        vertical-align: middle;\n",
       "    }\n",
       "\n",
       "    .dataframe tbody tr th {\n",
       "        vertical-align: top;\n",
       "    }\n",
       "\n",
       "    .dataframe thead th {\n",
       "        text-align: right;\n",
       "    }\n",
       "</style>\n",
       "<table border=\"1\" class=\"dataframe\">\n",
       "  <thead>\n",
       "    <tr style=\"text-align: right;\">\n",
       "      <th></th>\n",
       "      <th></th>\n",
       "      <th>password</th>\n",
       "      <th>date-created</th>\n",
       "    </tr>\n",
       "    <tr>\n",
       "      <th>username</th>\n",
       "      <th>email</th>\n",
       "      <th></th>\n",
       "      <th></th>\n",
       "    </tr>\n",
       "  </thead>\n",
       "  <tbody>\n",
       "    <tr>\n",
       "      <th>alice36</th>\n",
       "      <th>alice.chan@gmail.com</th>\n",
       "      <td>blGgmpBG</td>\n",
       "      <td>2019-11-12</td>\n",
       "    </tr>\n",
       "    <tr>\n",
       "      <th>bob_smith</th>\n",
       "      <th>bwsmith1983@gmail.com</th>\n",
       "      <td>t2gbfjsw</td>\n",
       "      <td>2018-09-01</td>\n",
       "    </tr>\n",
       "    <tr>\n",
       "      <th>eve</th>\n",
       "      <th>fakemail123@yahoo.com</th>\n",
       "      <td>35cGOhr8</td>\n",
       "      <td>2019-12-23</td>\n",
       "    </tr>\n",
       "  </tbody>\n",
       "</table>\n",
       "</div>"
      ],
      "text/plain": [
       "                                 password date-created\n",
       "username  email                                       \n",
       "alice36   alice.chan@gmail.com   blGgmpBG   2019-11-12\n",
       "bob_smith bwsmith1983@gmail.com  t2gbfjsw   2018-09-01\n",
       "eve       fakemail123@yahoo.com  35cGOhr8   2019-12-23"
      ]
     },
     "execution_count": 33,
     "metadata": {},
     "output_type": "execute_result"
    }
   ],
   "source": [
    "df.set_index(['username', 'email'])"
   ]
  },
  {
   "cell_type": "markdown",
   "metadata": {},
   "source": [
    "### Reading data from file\n",
    "\n",
    "We can also construct a DataFrame using data stored in a file or received from a website. The data source might be [JSON](https://pandas.pydata.org/pandas-docs/stable/generated/pandas.read_json.html), [HTML](https://pandas.pydata.org/pandas-docs/stable/generated/pandas.read_html.html), [CSV](http://pandas.pydata.org/pandas-docs/stable/generated/pandas.read_csv.html#pandas.read_csv), [Excel](https://pandas.pydata.org/pandas-docs/stable/generated/pandas.read_excel.html), [Python pickle](https://pandas.pydata.org/pandas-docs/stable/generated/pandas.read_pickle.html), or even a [database connection](https://pandas.pydata.org/pandas-docs/stable/generated/pandas.read_sql.html). Each format will have its own methods for reading and writing data that take different arguments. The arguments of these methods usually depend on the particular formatting of the file. For example, the values in a CSV might be separate by commas or semi-colons, it might have a header or it might not.\n",
    "\n",
    "The `read_csv` method has to deal with the most formatting possibilities, so we will explore that method with a few examples. Try to apply these ideas when working with other file formats, but keep in mind that each format and read method is different. Always check [the Pandas documentation](http://pandas.pydata.org/pandas-docs/stable/io.html) when having trouble with reading or writing data."
   ]
  },
  {
   "cell_type": "code",
   "execution_count": 34,
   "metadata": {},
   "outputs": [
    {
     "name": "stdout",
     "output_type": "stream",
     "text": [
      "username,email,password,date-created\r\n",
      "alice36,alice.chan@gmail.com,blGgmpBG,2019-11-12\r\n",
      "bob_smith,bwsmith1983@gmail.com,t2gbfjsw,2018-09-01\r\n",
      "eve,fakemail123@yahoo.com,35cGOhr8,2019-12-23\r\n"
     ]
    }
   ],
   "source": [
    "csv = [','.join(map(lambda x: str(x), row)) for row in np.vstack([df.columns, df])]\n",
    "with open('./data/read_csv_example.csv', 'w') as f:\n",
    "    [f.write(line + '\\n') for line in csv]\n",
    "\n",
    "!cat ./data/read_csv_example.csv"
   ]
  },
  {
   "cell_type": "code",
   "execution_count": 35,
   "metadata": {},
   "outputs": [
    {
     "data": {
      "text/plain": [
       "['username,email,password,date-created',\n",
       " 'alice36,alice.chan@gmail.com,blGgmpBG,2019-11-12',\n",
       " 'bob_smith,bwsmith1983@gmail.com,t2gbfjsw,2018-09-01',\n",
       " 'eve,fakemail123@yahoo.com,35cGOhr8,2019-12-23']"
      ]
     },
     "execution_count": 35,
     "metadata": {},
     "output_type": "execute_result"
    }
   ],
   "source": [
    "csv"
   ]
  },
  {
   "cell_type": "code",
   "execution_count": 36,
   "metadata": {},
   "outputs": [
    {
     "data": {
      "text/html": [
       "<div>\n",
       "<style scoped>\n",
       "    .dataframe tbody tr th:only-of-type {\n",
       "        vertical-align: middle;\n",
       "    }\n",
       "\n",
       "    .dataframe tbody tr th {\n",
       "        vertical-align: top;\n",
       "    }\n",
       "\n",
       "    .dataframe thead th {\n",
       "        text-align: right;\n",
       "    }\n",
       "</style>\n",
       "<table border=\"1\" class=\"dataframe\">\n",
       "  <thead>\n",
       "    <tr style=\"text-align: right;\">\n",
       "      <th></th>\n",
       "      <th>username</th>\n",
       "      <th>email</th>\n",
       "      <th>password</th>\n",
       "      <th>date-created</th>\n",
       "    </tr>\n",
       "  </thead>\n",
       "  <tbody>\n",
       "    <tr>\n",
       "      <th>0</th>\n",
       "      <td>alice36</td>\n",
       "      <td>alice.chan@gmail.com</td>\n",
       "      <td>blGgmpBG</td>\n",
       "      <td>2019-11-12</td>\n",
       "    </tr>\n",
       "    <tr>\n",
       "      <th>1</th>\n",
       "      <td>bob_smith</td>\n",
       "      <td>bwsmith1983@gmail.com</td>\n",
       "      <td>t2gbfjsw</td>\n",
       "      <td>2018-09-01</td>\n",
       "    </tr>\n",
       "    <tr>\n",
       "      <th>2</th>\n",
       "      <td>eve</td>\n",
       "      <td>fakemail123@yahoo.com</td>\n",
       "      <td>35cGOhr8</td>\n",
       "      <td>2019-12-23</td>\n",
       "    </tr>\n",
       "  </tbody>\n",
       "</table>\n",
       "</div>"
      ],
      "text/plain": [
       "    username                  email  password date-created\n",
       "0    alice36   alice.chan@gmail.com  blGgmpBG   2019-11-12\n",
       "1  bob_smith  bwsmith1983@gmail.com  t2gbfjsw   2018-09-01\n",
       "2        eve  fakemail123@yahoo.com  35cGOhr8   2019-12-23"
      ]
     },
     "execution_count": 36,
     "metadata": {},
     "output_type": "execute_result"
    }
   ],
   "source": [
    "pd.read_csv('./data/read_csv_example.csv')"
   ]
  },
  {
   "cell_type": "code",
   "execution_count": 37,
   "metadata": {},
   "outputs": [
    {
     "data": {
      "text/html": [
       "<div>\n",
       "<style scoped>\n",
       "    .dataframe tbody tr th:only-of-type {\n",
       "        vertical-align: middle;\n",
       "    }\n",
       "\n",
       "    .dataframe tbody tr th {\n",
       "        vertical-align: top;\n",
       "    }\n",
       "\n",
       "    .dataframe thead th {\n",
       "        text-align: right;\n",
       "    }\n",
       "</style>\n",
       "<table border=\"1\" class=\"dataframe\">\n",
       "  <thead>\n",
       "    <tr style=\"text-align: right;\">\n",
       "      <th></th>\n",
       "      <th>email</th>\n",
       "      <th>password</th>\n",
       "      <th>date-created</th>\n",
       "    </tr>\n",
       "    <tr>\n",
       "      <th>username</th>\n",
       "      <th></th>\n",
       "      <th></th>\n",
       "      <th></th>\n",
       "    </tr>\n",
       "  </thead>\n",
       "  <tbody>\n",
       "    <tr>\n",
       "      <th>alice36</th>\n",
       "      <td>alice.chan@gmail.com</td>\n",
       "      <td>blGgmpBG</td>\n",
       "      <td>2019-11-12</td>\n",
       "    </tr>\n",
       "    <tr>\n",
       "      <th>bob_smith</th>\n",
       "      <td>bwsmith1983@gmail.com</td>\n",
       "      <td>t2gbfjsw</td>\n",
       "      <td>2018-09-01</td>\n",
       "    </tr>\n",
       "    <tr>\n",
       "      <th>eve</th>\n",
       "      <td>fakemail123@yahoo.com</td>\n",
       "      <td>35cGOhr8</td>\n",
       "      <td>2019-12-23</td>\n",
       "    </tr>\n",
       "  </tbody>\n",
       "</table>\n",
       "</div>"
      ],
      "text/plain": [
       "                           email  password date-created\n",
       "username                                               \n",
       "alice36     alice.chan@gmail.com  blGgmpBG   2019-11-12\n",
       "bob_smith  bwsmith1983@gmail.com  t2gbfjsw   2018-09-01\n",
       "eve        fakemail123@yahoo.com  35cGOhr8   2019-12-23"
      ]
     },
     "execution_count": 37,
     "metadata": {},
     "output_type": "execute_result"
    }
   ],
   "source": [
    "# we can also set an index from the data\n",
    "pd.read_csv('./data/read_csv_example.csv', index_col=0)"
   ]
  },
  {
   "cell_type": "code",
   "execution_count": 38,
   "metadata": {},
   "outputs": [
    {
     "name": "stdout",
     "output_type": "stream",
     "text": [
      "alice36,alice.chan@gmail.com,blGgmpBG,2019-11-12\r\n",
      "bob_smith,bwsmith1983@gmail.com,t2gbfjsw,2018-09-01\r\n",
      "eve,fakemail123@yahoo.com,35cGOhr8,2019-12-23\r\n"
     ]
    }
   ],
   "source": [
    "# what if our data had no header?\n",
    "with open('./data/read_csv_noheader_example.csv', 'w') as f:\n",
    "    [f.write(line + '\\n') for i, line in enumerate(csv) if i != 0]\n",
    "    \n",
    "!cat ./data/read_csv_noheader_example.csv"
   ]
  },
  {
   "cell_type": "code",
   "execution_count": 39,
   "metadata": {},
   "outputs": [
    {
     "data": {
      "text/html": [
       "<div>\n",
       "<style scoped>\n",
       "    .dataframe tbody tr th:only-of-type {\n",
       "        vertical-align: middle;\n",
       "    }\n",
       "\n",
       "    .dataframe tbody tr th {\n",
       "        vertical-align: top;\n",
       "    }\n",
       "\n",
       "    .dataframe thead th {\n",
       "        text-align: right;\n",
       "    }\n",
       "</style>\n",
       "<table border=\"1\" class=\"dataframe\">\n",
       "  <thead>\n",
       "    <tr style=\"text-align: right;\">\n",
       "      <th></th>\n",
       "      <th>username</th>\n",
       "      <th>email</th>\n",
       "      <th>password</th>\n",
       "      <th>date-created</th>\n",
       "    </tr>\n",
       "  </thead>\n",
       "  <tbody>\n",
       "    <tr>\n",
       "      <th>0</th>\n",
       "      <td>alice36</td>\n",
       "      <td>alice.chan@gmail.com</td>\n",
       "      <td>blGgmpBG</td>\n",
       "      <td>2019-11-12</td>\n",
       "    </tr>\n",
       "    <tr>\n",
       "      <th>1</th>\n",
       "      <td>bob_smith</td>\n",
       "      <td>bwsmith1983@gmail.com</td>\n",
       "      <td>t2gbfjsw</td>\n",
       "      <td>2018-09-01</td>\n",
       "    </tr>\n",
       "    <tr>\n",
       "      <th>2</th>\n",
       "      <td>eve</td>\n",
       "      <td>fakemail123@yahoo.com</td>\n",
       "      <td>35cGOhr8</td>\n",
       "      <td>2019-12-23</td>\n",
       "    </tr>\n",
       "  </tbody>\n",
       "</table>\n",
       "</div>"
      ],
      "text/plain": [
       "    username                  email  password date-created\n",
       "0    alice36   alice.chan@gmail.com  blGgmpBG   2019-11-12\n",
       "1  bob_smith  bwsmith1983@gmail.com  t2gbfjsw   2018-09-01\n",
       "2        eve  fakemail123@yahoo.com  35cGOhr8   2019-12-23"
      ]
     },
     "execution_count": 39,
     "metadata": {},
     "output_type": "execute_result"
    }
   ],
   "source": [
    "pd.read_csv('./data/read_csv_noheader_example.csv', names=['username', 'email', 'password', 'date-created'], header=None)"
   ]
  },
  {
   "cell_type": "code",
   "execution_count": 40,
   "metadata": {},
   "outputs": [
    {
     "name": "stdout",
     "output_type": "stream",
     "text": [
      "username\temail\tpassword\tdate-created\r\n",
      "alice36\talice.chan@gmail.com\tblGgmpBG\t2019-11-12\r\n",
      "bob_smith\tbwsmith1983@gmail.com\tt2gbfjsw\t2018-09-01\r\n",
      "eve\tfakemail123@yahoo.com\t35cGOhr8\t2019-12-23\r\n"
     ]
    }
   ],
   "source": [
    "# what if our data was tab-delimited?\n",
    "tsv = ['\\t'.join(map(lambda x: str(x), row)) for row in np.vstack([df.columns, df])]\n",
    "with open('./data/read_csv_example.tsv', 'w') as f:\n",
    "    [f.write(line + '\\n') for line in tsv]\n",
    "\n",
    "!cat ./data/read_csv_example.tsv"
   ]
  },
  {
   "cell_type": "code",
   "execution_count": 41,
   "metadata": {},
   "outputs": [
    {
     "data": {
      "text/html": [
       "<div>\n",
       "<style scoped>\n",
       "    .dataframe tbody tr th:only-of-type {\n",
       "        vertical-align: middle;\n",
       "    }\n",
       "\n",
       "    .dataframe tbody tr th {\n",
       "        vertical-align: top;\n",
       "    }\n",
       "\n",
       "    .dataframe thead th {\n",
       "        text-align: right;\n",
       "    }\n",
       "</style>\n",
       "<table border=\"1\" class=\"dataframe\">\n",
       "  <thead>\n",
       "    <tr style=\"text-align: right;\">\n",
       "      <th></th>\n",
       "      <th>username</th>\n",
       "      <th>email</th>\n",
       "      <th>password</th>\n",
       "      <th>date-created</th>\n",
       "    </tr>\n",
       "  </thead>\n",
       "  <tbody>\n",
       "    <tr>\n",
       "      <th>0</th>\n",
       "      <td>alice36</td>\n",
       "      <td>alice.chan@gmail.com</td>\n",
       "      <td>blGgmpBG</td>\n",
       "      <td>2019-11-12</td>\n",
       "    </tr>\n",
       "    <tr>\n",
       "      <th>1</th>\n",
       "      <td>bob_smith</td>\n",
       "      <td>bwsmith1983@gmail.com</td>\n",
       "      <td>t2gbfjsw</td>\n",
       "      <td>2018-09-01</td>\n",
       "    </tr>\n",
       "    <tr>\n",
       "      <th>2</th>\n",
       "      <td>eve</td>\n",
       "      <td>fakemail123@yahoo.com</td>\n",
       "      <td>35cGOhr8</td>\n",
       "      <td>2019-12-23</td>\n",
       "    </tr>\n",
       "  </tbody>\n",
       "</table>\n",
       "</div>"
      ],
      "text/plain": [
       "    username                  email  password date-created\n",
       "0    alice36   alice.chan@gmail.com  blGgmpBG   2019-11-12\n",
       "1  bob_smith  bwsmith1983@gmail.com  t2gbfjsw   2018-09-01\n",
       "2        eve  fakemail123@yahoo.com  35cGOhr8   2019-12-23"
      ]
     },
     "execution_count": 41,
     "metadata": {},
     "output_type": "execute_result"
    }
   ],
   "source": [
    "pd.read_csv('./data/read_csv_example.tsv', delimiter='\\t')"
   ]
  },
  {
   "cell_type": "markdown",
   "metadata": {},
   "source": [
    "Even within a single file format, data can be arranged and formatted in many ways. These have been just a few examples of the kinds of arguments you might need to use with `read_csv` in order to read data into a DataFrame in an organized way."
   ]
  },
  {
   "cell_type": "markdown",
   "metadata": {},
   "source": [
    "## Filtering DataFrames\n",
    "\n",
    "One of the powerful analytical tools of the Pandas DataFrame is its syntax for filtering data. Often we'll only want to work with a certain subset of our data based on some criteria. Let's look at our Yelp data for an example."
   ]
  },
  {
   "cell_type": "code",
   "execution_count": 42,
   "metadata": {},
   "outputs": [
    {
     "data": {
      "text/html": [
       "<div>\n",
       "<style scoped>\n",
       "    .dataframe tbody tr th:only-of-type {\n",
       "        vertical-align: middle;\n",
       "    }\n",
       "\n",
       "    .dataframe tbody tr th {\n",
       "        vertical-align: top;\n",
       "    }\n",
       "\n",
       "    .dataframe thead th {\n",
       "        text-align: right;\n",
       "    }\n",
       "</style>\n",
       "<table border=\"1\" class=\"dataframe\">\n",
       "  <thead>\n",
       "    <tr style=\"text-align: right;\">\n",
       "      <th></th>\n",
       "      <th>business_id</th>\n",
       "      <th>full_address</th>\n",
       "      <th>hours</th>\n",
       "      <th>open</th>\n",
       "      <th>categories</th>\n",
       "      <th>city</th>\n",
       "      <th>review_count</th>\n",
       "      <th>name</th>\n",
       "      <th>neighborhoods</th>\n",
       "      <th>longitude</th>\n",
       "      <th>state</th>\n",
       "      <th>stars</th>\n",
       "      <th>latitude</th>\n",
       "      <th>attributes</th>\n",
       "      <th>type</th>\n",
       "    </tr>\n",
       "  </thead>\n",
       "  <tbody>\n",
       "    <tr>\n",
       "      <th>0</th>\n",
       "      <td>vcNAWiLM4dR7D2nwwJ7nCA</td>\n",
       "      <td>4840 E Indian School Rd\\nSte 101\\nPhoenix, AZ ...</td>\n",
       "      <td>{'Tuesday': {'close': '17:00', 'open': '08:00'...</td>\n",
       "      <td>True</td>\n",
       "      <td>[Doctors, Health &amp; Medical]</td>\n",
       "      <td>Phoenix</td>\n",
       "      <td>7</td>\n",
       "      <td>Eric Goldberg, MD</td>\n",
       "      <td>[]</td>\n",
       "      <td>-111.983758</td>\n",
       "      <td>AZ</td>\n",
       "      <td>3.5</td>\n",
       "      <td>33.499313</td>\n",
       "      <td>{'By Appointment Only': True}</td>\n",
       "      <td>business</td>\n",
       "    </tr>\n",
       "    <tr>\n",
       "      <th>1</th>\n",
       "      <td>JwUE5GmEO-sH1FuwJgKBlQ</td>\n",
       "      <td>6162 US Highway 51\\nDe Forest, WI 53532</td>\n",
       "      <td>{}</td>\n",
       "      <td>True</td>\n",
       "      <td>[Restaurants]</td>\n",
       "      <td>De Forest</td>\n",
       "      <td>26</td>\n",
       "      <td>Pine Cone Restaurant</td>\n",
       "      <td>[]</td>\n",
       "      <td>-89.335844</td>\n",
       "      <td>WI</td>\n",
       "      <td>4.0</td>\n",
       "      <td>43.238893</td>\n",
       "      <td>{'Take-out': True, 'Good For': {'dessert': Fal...</td>\n",
       "      <td>business</td>\n",
       "    </tr>\n",
       "    <tr>\n",
       "      <th>2</th>\n",
       "      <td>uGykseHzyS5xAMWoN6YUqA</td>\n",
       "      <td>505 W North St\\nDe Forest, WI 53532</td>\n",
       "      <td>{'Monday': {'close': '22:00', 'open': '06:00'}...</td>\n",
       "      <td>True</td>\n",
       "      <td>[American (Traditional), Restaurants]</td>\n",
       "      <td>De Forest</td>\n",
       "      <td>16</td>\n",
       "      <td>Deforest Family Restaurant</td>\n",
       "      <td>[]</td>\n",
       "      <td>-89.353437</td>\n",
       "      <td>WI</td>\n",
       "      <td>4.0</td>\n",
       "      <td>43.252267</td>\n",
       "      <td>{'Take-out': True, 'Good For': {'dessert': Fal...</td>\n",
       "      <td>business</td>\n",
       "    </tr>\n",
       "    <tr>\n",
       "      <th>3</th>\n",
       "      <td>LRKJF43s9-3jG9Lgx4zODg</td>\n",
       "      <td>4910 County Rd V\\nDe Forest, WI 53532</td>\n",
       "      <td>{'Monday': {'close': '22:00', 'open': '10:30'}...</td>\n",
       "      <td>True</td>\n",
       "      <td>[Food, Ice Cream &amp; Frozen Yogurt, Fast Food, R...</td>\n",
       "      <td>De Forest</td>\n",
       "      <td>7</td>\n",
       "      <td>Culver's</td>\n",
       "      <td>[]</td>\n",
       "      <td>-89.374983</td>\n",
       "      <td>WI</td>\n",
       "      <td>4.5</td>\n",
       "      <td>43.251045</td>\n",
       "      <td>{'Take-out': True, 'Wi-Fi': 'free', 'Takes Res...</td>\n",
       "      <td>business</td>\n",
       "    </tr>\n",
       "    <tr>\n",
       "      <th>4</th>\n",
       "      <td>RgDg-k9S5YD_BaxMckifkg</td>\n",
       "      <td>631 S Main St\\nDe Forest, WI 53532</td>\n",
       "      <td>{'Monday': {'close': '22:00', 'open': '11:00'}...</td>\n",
       "      <td>True</td>\n",
       "      <td>[Chinese, Restaurants]</td>\n",
       "      <td>De Forest</td>\n",
       "      <td>3</td>\n",
       "      <td>Chang Jiang Chinese Kitchen</td>\n",
       "      <td>[]</td>\n",
       "      <td>-89.343722</td>\n",
       "      <td>WI</td>\n",
       "      <td>4.0</td>\n",
       "      <td>43.240875</td>\n",
       "      <td>{'Take-out': True, 'Has TV': False, 'Outdoor S...</td>\n",
       "      <td>business</td>\n",
       "    </tr>\n",
       "  </tbody>\n",
       "</table>\n",
       "</div>"
      ],
      "text/plain": [
       "              business_id                                       full_address  \\\n",
       "0  vcNAWiLM4dR7D2nwwJ7nCA  4840 E Indian School Rd\\nSte 101\\nPhoenix, AZ ...   \n",
       "1  JwUE5GmEO-sH1FuwJgKBlQ            6162 US Highway 51\\nDe Forest, WI 53532   \n",
       "2  uGykseHzyS5xAMWoN6YUqA                505 W North St\\nDe Forest, WI 53532   \n",
       "3  LRKJF43s9-3jG9Lgx4zODg              4910 County Rd V\\nDe Forest, WI 53532   \n",
       "4  RgDg-k9S5YD_BaxMckifkg                 631 S Main St\\nDe Forest, WI 53532   \n",
       "\n",
       "                                               hours  open  \\\n",
       "0  {'Tuesday': {'close': '17:00', 'open': '08:00'...  True   \n",
       "1                                                 {}  True   \n",
       "2  {'Monday': {'close': '22:00', 'open': '06:00'}...  True   \n",
       "3  {'Monday': {'close': '22:00', 'open': '10:30'}...  True   \n",
       "4  {'Monday': {'close': '22:00', 'open': '11:00'}...  True   \n",
       "\n",
       "                                          categories       city  review_count  \\\n",
       "0                        [Doctors, Health & Medical]    Phoenix             7   \n",
       "1                                      [Restaurants]  De Forest            26   \n",
       "2              [American (Traditional), Restaurants]  De Forest            16   \n",
       "3  [Food, Ice Cream & Frozen Yogurt, Fast Food, R...  De Forest             7   \n",
       "4                             [Chinese, Restaurants]  De Forest             3   \n",
       "\n",
       "                          name neighborhoods   longitude state  stars  \\\n",
       "0            Eric Goldberg, MD            [] -111.983758    AZ    3.5   \n",
       "1         Pine Cone Restaurant            []  -89.335844    WI    4.0   \n",
       "2   Deforest Family Restaurant            []  -89.353437    WI    4.0   \n",
       "3                     Culver's            []  -89.374983    WI    4.5   \n",
       "4  Chang Jiang Chinese Kitchen            []  -89.343722    WI    4.0   \n",
       "\n",
       "    latitude                                         attributes      type  \n",
       "0  33.499313                      {'By Appointment Only': True}  business  \n",
       "1  43.238893  {'Take-out': True, 'Good For': {'dessert': Fal...  business  \n",
       "2  43.252267  {'Take-out': True, 'Good For': {'dessert': Fal...  business  \n",
       "3  43.251045  {'Take-out': True, 'Wi-Fi': 'free', 'Takes Res...  business  \n",
       "4  43.240875  {'Take-out': True, 'Has TV': False, 'Outdoor S...  business  "
      ]
     },
     "execution_count": 42,
     "metadata": {},
     "output_type": "execute_result"
    }
   ],
   "source": [
    "yelp_df.head()"
   ]
  },
  {
   "cell_type": "markdown",
   "metadata": {},
   "source": [
    "We see the Yelp data set has a `'state'` column. If we are only interested in businesses in Arizona (AZ), we can filter the DataFrame and select only that data."
   ]
  },
  {
   "cell_type": "code",
   "execution_count": 43,
   "metadata": {},
   "outputs": [
    {
     "data": {
      "text/html": [
       "<div>\n",
       "<style scoped>\n",
       "    .dataframe tbody tr th:only-of-type {\n",
       "        vertical-align: middle;\n",
       "    }\n",
       "\n",
       "    .dataframe tbody tr th {\n",
       "        vertical-align: top;\n",
       "    }\n",
       "\n",
       "    .dataframe thead th {\n",
       "        text-align: right;\n",
       "    }\n",
       "</style>\n",
       "<table border=\"1\" class=\"dataframe\">\n",
       "  <thead>\n",
       "    <tr style=\"text-align: right;\">\n",
       "      <th></th>\n",
       "      <th>business_id</th>\n",
       "      <th>full_address</th>\n",
       "      <th>hours</th>\n",
       "      <th>open</th>\n",
       "      <th>categories</th>\n",
       "      <th>city</th>\n",
       "      <th>review_count</th>\n",
       "      <th>name</th>\n",
       "      <th>neighborhoods</th>\n",
       "      <th>longitude</th>\n",
       "      <th>state</th>\n",
       "      <th>stars</th>\n",
       "      <th>latitude</th>\n",
       "      <th>attributes</th>\n",
       "      <th>type</th>\n",
       "    </tr>\n",
       "  </thead>\n",
       "  <tbody>\n",
       "    <tr>\n",
       "      <th>0</th>\n",
       "      <td>vcNAWiLM4dR7D2nwwJ7nCA</td>\n",
       "      <td>4840 E Indian School Rd\\nSte 101\\nPhoenix, AZ ...</td>\n",
       "      <td>{'Tuesday': {'close': '17:00', 'open': '08:00'...</td>\n",
       "      <td>True</td>\n",
       "      <td>[Doctors, Health &amp; Medical]</td>\n",
       "      <td>Phoenix</td>\n",
       "      <td>7</td>\n",
       "      <td>Eric Goldberg, MD</td>\n",
       "      <td>[]</td>\n",
       "      <td>-111.983758</td>\n",
       "      <td>AZ</td>\n",
       "      <td>3.5</td>\n",
       "      <td>33.499313</td>\n",
       "      <td>{'By Appointment Only': True}</td>\n",
       "      <td>business</td>\n",
       "    </tr>\n",
       "    <tr>\n",
       "      <th>297</th>\n",
       "      <td>x5Mv61CnZLohZWxfCVCPTQ</td>\n",
       "      <td>2819 N Central Ave\\nPhoenix, AZ 85004</td>\n",
       "      <td>{}</td>\n",
       "      <td>True</td>\n",
       "      <td>[Sandwiches, Pizza, Chicken Wings, Restaurants]</td>\n",
       "      <td>Phoenix</td>\n",
       "      <td>12</td>\n",
       "      <td>Domino's Pizza</td>\n",
       "      <td>[]</td>\n",
       "      <td>-112.073418</td>\n",
       "      <td>AZ</td>\n",
       "      <td>2.5</td>\n",
       "      <td>33.479542</td>\n",
       "      <td>{'Take-out': True, 'Wi-Fi': 'no', 'Alcohol': '...</td>\n",
       "      <td>business</td>\n",
       "    </tr>\n",
       "    <tr>\n",
       "      <th>298</th>\n",
       "      <td>2ZnCITVa0abGce4gZ6RhIw</td>\n",
       "      <td>1850 N Central Ave\\nPhoenix, AZ 85004</td>\n",
       "      <td>{}</td>\n",
       "      <td>True</td>\n",
       "      <td>[American (New), Sandwiches, Restaurants]</td>\n",
       "      <td>Phoenix</td>\n",
       "      <td>5</td>\n",
       "      <td>Viad Tower Restaurants</td>\n",
       "      <td>[]</td>\n",
       "      <td>-112.074315</td>\n",
       "      <td>AZ</td>\n",
       "      <td>3.5</td>\n",
       "      <td>33.468988</td>\n",
       "      <td>{'Take-out': True, 'Noise Level': 'quiet', 'De...</td>\n",
       "      <td>business</td>\n",
       "    </tr>\n",
       "    <tr>\n",
       "      <th>299</th>\n",
       "      <td>EmzaQR5hQlF0WIl24NxAZA</td>\n",
       "      <td>132 E Washington St\\nPhoenix, AZ 85004</td>\n",
       "      <td>{'Sunday': {'close': '02:00', 'open': '21:00'}...</td>\n",
       "      <td>True</td>\n",
       "      <td>[American (New), Nightlife, Dance Clubs, Resta...</td>\n",
       "      <td>Phoenix</td>\n",
       "      <td>20</td>\n",
       "      <td>Sky Lounge</td>\n",
       "      <td>[]</td>\n",
       "      <td>-112.071702</td>\n",
       "      <td>AZ</td>\n",
       "      <td>2.5</td>\n",
       "      <td>33.448399</td>\n",
       "      <td>{'Alcohol': 'full_bar', 'Price Range': 1, 'Noi...</td>\n",
       "      <td>business</td>\n",
       "    </tr>\n",
       "    <tr>\n",
       "      <th>300</th>\n",
       "      <td>SiwN7f0N4bs4ZtPc4yPgiA</td>\n",
       "      <td>710 N Central Ave\\nPhoenix, AZ 85004</td>\n",
       "      <td>{}</td>\n",
       "      <td>True</td>\n",
       "      <td>[Nightlife, Dance Clubs]</td>\n",
       "      <td>Phoenix</td>\n",
       "      <td>15</td>\n",
       "      <td>Palazzo</td>\n",
       "      <td>[]</td>\n",
       "      <td>-112.074225</td>\n",
       "      <td>AZ</td>\n",
       "      <td>2.5</td>\n",
       "      <td>33.456068</td>\n",
       "      <td>{'Price Range': 2, 'Alcohol': 'full_bar', 'Goo...</td>\n",
       "      <td>business</td>\n",
       "    </tr>\n",
       "  </tbody>\n",
       "</table>\n",
       "</div>"
      ],
      "text/plain": [
       "                business_id  \\\n",
       "0    vcNAWiLM4dR7D2nwwJ7nCA   \n",
       "297  x5Mv61CnZLohZWxfCVCPTQ   \n",
       "298  2ZnCITVa0abGce4gZ6RhIw   \n",
       "299  EmzaQR5hQlF0WIl24NxAZA   \n",
       "300  SiwN7f0N4bs4ZtPc4yPgiA   \n",
       "\n",
       "                                          full_address  \\\n",
       "0    4840 E Indian School Rd\\nSte 101\\nPhoenix, AZ ...   \n",
       "297              2819 N Central Ave\\nPhoenix, AZ 85004   \n",
       "298              1850 N Central Ave\\nPhoenix, AZ 85004   \n",
       "299             132 E Washington St\\nPhoenix, AZ 85004   \n",
       "300               710 N Central Ave\\nPhoenix, AZ 85004   \n",
       "\n",
       "                                                 hours  open  \\\n",
       "0    {'Tuesday': {'close': '17:00', 'open': '08:00'...  True   \n",
       "297                                                 {}  True   \n",
       "298                                                 {}  True   \n",
       "299  {'Sunday': {'close': '02:00', 'open': '21:00'}...  True   \n",
       "300                                                 {}  True   \n",
       "\n",
       "                                            categories     city  review_count  \\\n",
       "0                          [Doctors, Health & Medical]  Phoenix             7   \n",
       "297    [Sandwiches, Pizza, Chicken Wings, Restaurants]  Phoenix            12   \n",
       "298          [American (New), Sandwiches, Restaurants]  Phoenix             5   \n",
       "299  [American (New), Nightlife, Dance Clubs, Resta...  Phoenix            20   \n",
       "300                           [Nightlife, Dance Clubs]  Phoenix            15   \n",
       "\n",
       "                       name neighborhoods   longitude state  stars   latitude  \\\n",
       "0         Eric Goldberg, MD            [] -111.983758    AZ    3.5  33.499313   \n",
       "297          Domino's Pizza            [] -112.073418    AZ    2.5  33.479542   \n",
       "298  Viad Tower Restaurants            [] -112.074315    AZ    3.5  33.468988   \n",
       "299              Sky Lounge            [] -112.071702    AZ    2.5  33.448399   \n",
       "300                 Palazzo            [] -112.074225    AZ    2.5  33.456068   \n",
       "\n",
       "                                            attributes      type  \n",
       "0                        {'By Appointment Only': True}  business  \n",
       "297  {'Take-out': True, 'Wi-Fi': 'no', 'Alcohol': '...  business  \n",
       "298  {'Take-out': True, 'Noise Level': 'quiet', 'De...  business  \n",
       "299  {'Alcohol': 'full_bar', 'Price Range': 1, 'Noi...  business  \n",
       "300  {'Price Range': 2, 'Alcohol': 'full_bar', 'Goo...  business  "
      ]
     },
     "execution_count": 43,
     "metadata": {},
     "output_type": "execute_result"
    }
   ],
   "source": [
    "az_yelp_df = yelp_df[yelp_df['state'] == 'AZ']\n",
    "az_yelp_df.head()"
   ]
  },
  {
   "cell_type": "code",
   "execution_count": 44,
   "metadata": {},
   "outputs": [
    {
     "data": {
      "text/plain": [
       "array(['AZ'], dtype=object)"
      ]
     },
     "execution_count": 44,
     "metadata": {},
     "output_type": "execute_result"
    }
   ],
   "source": [
    "az_yelp_df['state'].unique()"
   ]
  },
  {
   "cell_type": "markdown",
   "metadata": {},
   "source": [
    "We can combine criteria using logic. What if we're only interested in businesses with more than 10 reviews in Arizona?"
   ]
  },
  {
   "cell_type": "code",
   "execution_count": 45,
   "metadata": {},
   "outputs": [
    {
     "data": {
      "text/html": [
       "<div>\n",
       "<style scoped>\n",
       "    .dataframe tbody tr th:only-of-type {\n",
       "        vertical-align: middle;\n",
       "    }\n",
       "\n",
       "    .dataframe tbody tr th {\n",
       "        vertical-align: top;\n",
       "    }\n",
       "\n",
       "    .dataframe thead th {\n",
       "        text-align: right;\n",
       "    }\n",
       "</style>\n",
       "<table border=\"1\" class=\"dataframe\">\n",
       "  <thead>\n",
       "    <tr style=\"text-align: right;\">\n",
       "      <th></th>\n",
       "      <th>business_id</th>\n",
       "      <th>full_address</th>\n",
       "      <th>hours</th>\n",
       "      <th>open</th>\n",
       "      <th>categories</th>\n",
       "      <th>city</th>\n",
       "      <th>review_count</th>\n",
       "      <th>name</th>\n",
       "      <th>neighborhoods</th>\n",
       "      <th>longitude</th>\n",
       "      <th>state</th>\n",
       "      <th>stars</th>\n",
       "      <th>latitude</th>\n",
       "      <th>attributes</th>\n",
       "      <th>type</th>\n",
       "    </tr>\n",
       "  </thead>\n",
       "  <tbody>\n",
       "    <tr>\n",
       "      <th>297</th>\n",
       "      <td>x5Mv61CnZLohZWxfCVCPTQ</td>\n",
       "      <td>2819 N Central Ave\\nPhoenix, AZ 85004</td>\n",
       "      <td>{}</td>\n",
       "      <td>True</td>\n",
       "      <td>[Sandwiches, Pizza, Chicken Wings, Restaurants]</td>\n",
       "      <td>Phoenix</td>\n",
       "      <td>12</td>\n",
       "      <td>Domino's Pizza</td>\n",
       "      <td>[]</td>\n",
       "      <td>-112.073418</td>\n",
       "      <td>AZ</td>\n",
       "      <td>2.5</td>\n",
       "      <td>33.479542</td>\n",
       "      <td>{'Take-out': True, 'Wi-Fi': 'no', 'Alcohol': '...</td>\n",
       "      <td>business</td>\n",
       "    </tr>\n",
       "    <tr>\n",
       "      <th>299</th>\n",
       "      <td>EmzaQR5hQlF0WIl24NxAZA</td>\n",
       "      <td>132 E Washington St\\nPhoenix, AZ 85004</td>\n",
       "      <td>{'Sunday': {'close': '02:00', 'open': '21:00'}...</td>\n",
       "      <td>True</td>\n",
       "      <td>[American (New), Nightlife, Dance Clubs, Resta...</td>\n",
       "      <td>Phoenix</td>\n",
       "      <td>20</td>\n",
       "      <td>Sky Lounge</td>\n",
       "      <td>[]</td>\n",
       "      <td>-112.071702</td>\n",
       "      <td>AZ</td>\n",
       "      <td>2.5</td>\n",
       "      <td>33.448399</td>\n",
       "      <td>{'Alcohol': 'full_bar', 'Price Range': 1, 'Noi...</td>\n",
       "      <td>business</td>\n",
       "    </tr>\n",
       "    <tr>\n",
       "      <th>300</th>\n",
       "      <td>SiwN7f0N4bs4ZtPc4yPgiA</td>\n",
       "      <td>710 N Central Ave\\nPhoenix, AZ 85004</td>\n",
       "      <td>{}</td>\n",
       "      <td>True</td>\n",
       "      <td>[Nightlife, Dance Clubs]</td>\n",
       "      <td>Phoenix</td>\n",
       "      <td>15</td>\n",
       "      <td>Palazzo</td>\n",
       "      <td>[]</td>\n",
       "      <td>-112.074225</td>\n",
       "      <td>AZ</td>\n",
       "      <td>2.5</td>\n",
       "      <td>33.456068</td>\n",
       "      <td>{'Price Range': 2, 'Alcohol': 'full_bar', 'Goo...</td>\n",
       "      <td>business</td>\n",
       "    </tr>\n",
       "    <tr>\n",
       "      <th>301</th>\n",
       "      <td>M-MFa0YErVBbFW2IJhGJmw</td>\n",
       "      <td>386 E Virginia Ave\\nPhoenix, AZ 85004</td>\n",
       "      <td>{'Tuesday': {'close': '18:00', 'open': '07:30'...</td>\n",
       "      <td>True</td>\n",
       "      <td>[Auto Repair, Automotive, Tires, Oil Change St...</td>\n",
       "      <td>Phoenix</td>\n",
       "      <td>28</td>\n",
       "      <td>Virginia Auto Service</td>\n",
       "      <td>[]</td>\n",
       "      <td>-112.065806</td>\n",
       "      <td>AZ</td>\n",
       "      <td>4.0</td>\n",
       "      <td>33.476784</td>\n",
       "      <td>{}</td>\n",
       "      <td>business</td>\n",
       "    </tr>\n",
       "    <tr>\n",
       "      <th>302</th>\n",
       "      <td>KPoTixdjoJxSqRSEApSAGg</td>\n",
       "      <td>2631 N Central Ave\\nPhoenix, AZ 85004</td>\n",
       "      <td>{'Monday': {'close': '21:00', 'open': '11:00'}...</td>\n",
       "      <td>True</td>\n",
       "      <td>[Thai, Restaurants]</td>\n",
       "      <td>Phoenix</td>\n",
       "      <td>281</td>\n",
       "      <td>Wild Thaiger</td>\n",
       "      <td>[]</td>\n",
       "      <td>-112.073524</td>\n",
       "      <td>AZ</td>\n",
       "      <td>4.0</td>\n",
       "      <td>33.477934</td>\n",
       "      <td>{'Take-out': True, 'Wi-Fi': 'no', 'Good For': ...</td>\n",
       "      <td>business</td>\n",
       "    </tr>\n",
       "  </tbody>\n",
       "</table>\n",
       "</div>"
      ],
      "text/plain": [
       "                business_id                            full_address  \\\n",
       "297  x5Mv61CnZLohZWxfCVCPTQ   2819 N Central Ave\\nPhoenix, AZ 85004   \n",
       "299  EmzaQR5hQlF0WIl24NxAZA  132 E Washington St\\nPhoenix, AZ 85004   \n",
       "300  SiwN7f0N4bs4ZtPc4yPgiA    710 N Central Ave\\nPhoenix, AZ 85004   \n",
       "301  M-MFa0YErVBbFW2IJhGJmw   386 E Virginia Ave\\nPhoenix, AZ 85004   \n",
       "302  KPoTixdjoJxSqRSEApSAGg   2631 N Central Ave\\nPhoenix, AZ 85004   \n",
       "\n",
       "                                                 hours  open  \\\n",
       "297                                                 {}  True   \n",
       "299  {'Sunday': {'close': '02:00', 'open': '21:00'}...  True   \n",
       "300                                                 {}  True   \n",
       "301  {'Tuesday': {'close': '18:00', 'open': '07:30'...  True   \n",
       "302  {'Monday': {'close': '21:00', 'open': '11:00'}...  True   \n",
       "\n",
       "                                            categories     city  review_count  \\\n",
       "297    [Sandwiches, Pizza, Chicken Wings, Restaurants]  Phoenix            12   \n",
       "299  [American (New), Nightlife, Dance Clubs, Resta...  Phoenix            20   \n",
       "300                           [Nightlife, Dance Clubs]  Phoenix            15   \n",
       "301  [Auto Repair, Automotive, Tires, Oil Change St...  Phoenix            28   \n",
       "302                                [Thai, Restaurants]  Phoenix           281   \n",
       "\n",
       "                      name neighborhoods   longitude state  stars   latitude  \\\n",
       "297         Domino's Pizza            [] -112.073418    AZ    2.5  33.479542   \n",
       "299             Sky Lounge            [] -112.071702    AZ    2.5  33.448399   \n",
       "300                Palazzo            [] -112.074225    AZ    2.5  33.456068   \n",
       "301  Virginia Auto Service            [] -112.065806    AZ    4.0  33.476784   \n",
       "302           Wild Thaiger            [] -112.073524    AZ    4.0  33.477934   \n",
       "\n",
       "                                            attributes      type  \n",
       "297  {'Take-out': True, 'Wi-Fi': 'no', 'Alcohol': '...  business  \n",
       "299  {'Alcohol': 'full_bar', 'Price Range': 1, 'Noi...  business  \n",
       "300  {'Price Range': 2, 'Alcohol': 'full_bar', 'Goo...  business  \n",
       "301                                                 {}  business  \n",
       "302  {'Take-out': True, 'Wi-Fi': 'no', 'Good For': ...  business  "
      ]
     },
     "execution_count": 45,
     "metadata": {},
     "output_type": "execute_result"
    }
   ],
   "source": [
    "yelp_df[(yelp_df['state'] == 'AZ') & (yelp_df['review_count'] > 10)].head()"
   ]
  },
  {
   "cell_type": "markdown",
   "metadata": {},
   "source": [
    "How does this filtering work?\n",
    "\n",
    "When we write `yelp_df['state'] == 'AZ'`, Pandas selects the `'state'` column and checks whether each row is `'AZ'`. If so, that row is marked `True`, and if not, it is marked `False`. This is how we would normally expect a conditional to work, only now applied to an entire Pandas `Series`. We end up with a Pandas `Series` of Boolean variables."
   ]
  },
  {
   "cell_type": "code",
   "execution_count": 46,
   "metadata": {},
   "outputs": [
    {
     "data": {
      "text/plain": [
       "0     True\n",
       "1    False\n",
       "2    False\n",
       "3    False\n",
       "4    False\n",
       "Name: state, dtype: bool"
      ]
     },
     "execution_count": 46,
     "metadata": {},
     "output_type": "execute_result"
    }
   ],
   "source": [
    "(yelp_df['state'] == 'AZ').head()"
   ]
  },
  {
   "cell_type": "markdown",
   "metadata": {},
   "source": [
    "We can use a `Series` (or any similar object) of Boolean variables to index the DataFrame."
   ]
  },
  {
   "cell_type": "code",
   "execution_count": 47,
   "metadata": {},
   "outputs": [
    {
     "data": {
      "text/html": [
       "<div>\n",
       "<style scoped>\n",
       "    .dataframe tbody tr th:only-of-type {\n",
       "        vertical-align: middle;\n",
       "    }\n",
       "\n",
       "    .dataframe tbody tr th {\n",
       "        vertical-align: top;\n",
       "    }\n",
       "\n",
       "    .dataframe thead th {\n",
       "        text-align: right;\n",
       "    }\n",
       "</style>\n",
       "<table border=\"1\" class=\"dataframe\">\n",
       "  <thead>\n",
       "    <tr style=\"text-align: right;\">\n",
       "      <th></th>\n",
       "      <th>username</th>\n",
       "      <th>email</th>\n",
       "      <th>password</th>\n",
       "      <th>date-created</th>\n",
       "    </tr>\n",
       "  </thead>\n",
       "  <tbody>\n",
       "    <tr>\n",
       "      <th>0</th>\n",
       "      <td>alice36</td>\n",
       "      <td>alice.chan@gmail.com</td>\n",
       "      <td>blGgmpBG</td>\n",
       "      <td>2019-11-12</td>\n",
       "    </tr>\n",
       "    <tr>\n",
       "      <th>1</th>\n",
       "      <td>bob_smith</td>\n",
       "      <td>bwsmith1983@gmail.com</td>\n",
       "      <td>t2gbfjsw</td>\n",
       "      <td>2018-09-01</td>\n",
       "    </tr>\n",
       "    <tr>\n",
       "      <th>2</th>\n",
       "      <td>eve</td>\n",
       "      <td>fakemail123@yahoo.com</td>\n",
       "      <td>35cGOhr8</td>\n",
       "      <td>2019-12-23</td>\n",
       "    </tr>\n",
       "  </tbody>\n",
       "</table>\n",
       "</div>"
      ],
      "text/plain": [
       "    username                  email  password date-created\n",
       "0    alice36   alice.chan@gmail.com  blGgmpBG   2019-11-12\n",
       "1  bob_smith  bwsmith1983@gmail.com  t2gbfjsw   2018-09-01\n",
       "2        eve  fakemail123@yahoo.com  35cGOhr8   2019-12-23"
      ]
     },
     "execution_count": 47,
     "metadata": {},
     "output_type": "execute_result"
    }
   ],
   "source": [
    "df"
   ]
  },
  {
   "cell_type": "code",
   "execution_count": 48,
   "metadata": {},
   "outputs": [
    {
     "data": {
      "text/html": [
       "<div>\n",
       "<style scoped>\n",
       "    .dataframe tbody tr th:only-of-type {\n",
       "        vertical-align: middle;\n",
       "    }\n",
       "\n",
       "    .dataframe tbody tr th {\n",
       "        vertical-align: top;\n",
       "    }\n",
       "\n",
       "    .dataframe thead th {\n",
       "        text-align: right;\n",
       "    }\n",
       "</style>\n",
       "<table border=\"1\" class=\"dataframe\">\n",
       "  <thead>\n",
       "    <tr style=\"text-align: right;\">\n",
       "      <th></th>\n",
       "      <th>username</th>\n",
       "      <th>email</th>\n",
       "      <th>password</th>\n",
       "      <th>date-created</th>\n",
       "    </tr>\n",
       "  </thead>\n",
       "  <tbody>\n",
       "    <tr>\n",
       "      <th>0</th>\n",
       "      <td>alice36</td>\n",
       "      <td>alice.chan@gmail.com</td>\n",
       "      <td>blGgmpBG</td>\n",
       "      <td>2019-11-12</td>\n",
       "    </tr>\n",
       "    <tr>\n",
       "      <th>2</th>\n",
       "      <td>eve</td>\n",
       "      <td>fakemail123@yahoo.com</td>\n",
       "      <td>35cGOhr8</td>\n",
       "      <td>2019-12-23</td>\n",
       "    </tr>\n",
       "  </tbody>\n",
       "</table>\n",
       "</div>"
      ],
      "text/plain": [
       "  username                  email  password date-created\n",
       "0  alice36   alice.chan@gmail.com  blGgmpBG   2019-11-12\n",
       "2      eve  fakemail123@yahoo.com  35cGOhr8   2019-12-23"
      ]
     },
     "execution_count": 48,
     "metadata": {},
     "output_type": "execute_result"
    }
   ],
   "source": [
    "df[[True, False, True]]"
   ]
  },
  {
   "cell_type": "markdown",
   "metadata": {},
   "source": [
    "This let's us filter a DataFrame using idiomatic logical expressions like `yelp_df['review_count'] > 10`.\n",
    "\n",
    "As another example, let's consider the `'open'` column, which is a `True`/`False` flag for whether a business is open. This is also a Boolean Pandas `Series`, so we can just use it directly."
   ]
  },
  {
   "cell_type": "code",
   "execution_count": 49,
   "metadata": {},
   "outputs": [
    {
     "data": {
      "text/html": [
       "<div>\n",
       "<style scoped>\n",
       "    .dataframe tbody tr th:only-of-type {\n",
       "        vertical-align: middle;\n",
       "    }\n",
       "\n",
       "    .dataframe tbody tr th {\n",
       "        vertical-align: top;\n",
       "    }\n",
       "\n",
       "    .dataframe thead th {\n",
       "        text-align: right;\n",
       "    }\n",
       "</style>\n",
       "<table border=\"1\" class=\"dataframe\">\n",
       "  <thead>\n",
       "    <tr style=\"text-align: right;\">\n",
       "      <th></th>\n",
       "      <th>business_id</th>\n",
       "      <th>full_address</th>\n",
       "      <th>hours</th>\n",
       "      <th>open</th>\n",
       "      <th>categories</th>\n",
       "      <th>city</th>\n",
       "      <th>review_count</th>\n",
       "      <th>name</th>\n",
       "      <th>neighborhoods</th>\n",
       "      <th>longitude</th>\n",
       "      <th>state</th>\n",
       "      <th>stars</th>\n",
       "      <th>latitude</th>\n",
       "      <th>attributes</th>\n",
       "      <th>type</th>\n",
       "    </tr>\n",
       "  </thead>\n",
       "  <tbody>\n",
       "    <tr>\n",
       "      <th>0</th>\n",
       "      <td>vcNAWiLM4dR7D2nwwJ7nCA</td>\n",
       "      <td>4840 E Indian School Rd\\nSte 101\\nPhoenix, AZ ...</td>\n",
       "      <td>{'Tuesday': {'close': '17:00', 'open': '08:00'...</td>\n",
       "      <td>True</td>\n",
       "      <td>[Doctors, Health &amp; Medical]</td>\n",
       "      <td>Phoenix</td>\n",
       "      <td>7</td>\n",
       "      <td>Eric Goldberg, MD</td>\n",
       "      <td>[]</td>\n",
       "      <td>-111.983758</td>\n",
       "      <td>AZ</td>\n",
       "      <td>3.5</td>\n",
       "      <td>33.499313</td>\n",
       "      <td>{'By Appointment Only': True}</td>\n",
       "      <td>business</td>\n",
       "    </tr>\n",
       "    <tr>\n",
       "      <th>1</th>\n",
       "      <td>JwUE5GmEO-sH1FuwJgKBlQ</td>\n",
       "      <td>6162 US Highway 51\\nDe Forest, WI 53532</td>\n",
       "      <td>{}</td>\n",
       "      <td>True</td>\n",
       "      <td>[Restaurants]</td>\n",
       "      <td>De Forest</td>\n",
       "      <td>26</td>\n",
       "      <td>Pine Cone Restaurant</td>\n",
       "      <td>[]</td>\n",
       "      <td>-89.335844</td>\n",
       "      <td>WI</td>\n",
       "      <td>4.0</td>\n",
       "      <td>43.238893</td>\n",
       "      <td>{'Take-out': True, 'Good For': {'dessert': Fal...</td>\n",
       "      <td>business</td>\n",
       "    </tr>\n",
       "    <tr>\n",
       "      <th>2</th>\n",
       "      <td>uGykseHzyS5xAMWoN6YUqA</td>\n",
       "      <td>505 W North St\\nDe Forest, WI 53532</td>\n",
       "      <td>{'Monday': {'close': '22:00', 'open': '06:00'}...</td>\n",
       "      <td>True</td>\n",
       "      <td>[American (Traditional), Restaurants]</td>\n",
       "      <td>De Forest</td>\n",
       "      <td>16</td>\n",
       "      <td>Deforest Family Restaurant</td>\n",
       "      <td>[]</td>\n",
       "      <td>-89.353437</td>\n",
       "      <td>WI</td>\n",
       "      <td>4.0</td>\n",
       "      <td>43.252267</td>\n",
       "      <td>{'Take-out': True, 'Good For': {'dessert': Fal...</td>\n",
       "      <td>business</td>\n",
       "    </tr>\n",
       "    <tr>\n",
       "      <th>3</th>\n",
       "      <td>LRKJF43s9-3jG9Lgx4zODg</td>\n",
       "      <td>4910 County Rd V\\nDe Forest, WI 53532</td>\n",
       "      <td>{'Monday': {'close': '22:00', 'open': '10:30'}...</td>\n",
       "      <td>True</td>\n",
       "      <td>[Food, Ice Cream &amp; Frozen Yogurt, Fast Food, R...</td>\n",
       "      <td>De Forest</td>\n",
       "      <td>7</td>\n",
       "      <td>Culver's</td>\n",
       "      <td>[]</td>\n",
       "      <td>-89.374983</td>\n",
       "      <td>WI</td>\n",
       "      <td>4.5</td>\n",
       "      <td>43.251045</td>\n",
       "      <td>{'Take-out': True, 'Wi-Fi': 'free', 'Takes Res...</td>\n",
       "      <td>business</td>\n",
       "    </tr>\n",
       "    <tr>\n",
       "      <th>4</th>\n",
       "      <td>RgDg-k9S5YD_BaxMckifkg</td>\n",
       "      <td>631 S Main St\\nDe Forest, WI 53532</td>\n",
       "      <td>{'Monday': {'close': '22:00', 'open': '11:00'}...</td>\n",
       "      <td>True</td>\n",
       "      <td>[Chinese, Restaurants]</td>\n",
       "      <td>De Forest</td>\n",
       "      <td>3</td>\n",
       "      <td>Chang Jiang Chinese Kitchen</td>\n",
       "      <td>[]</td>\n",
       "      <td>-89.343722</td>\n",
       "      <td>WI</td>\n",
       "      <td>4.0</td>\n",
       "      <td>43.240875</td>\n",
       "      <td>{'Take-out': True, 'Has TV': False, 'Outdoor S...</td>\n",
       "      <td>business</td>\n",
       "    </tr>\n",
       "  </tbody>\n",
       "</table>\n",
       "</div>"
      ],
      "text/plain": [
       "              business_id                                       full_address  \\\n",
       "0  vcNAWiLM4dR7D2nwwJ7nCA  4840 E Indian School Rd\\nSte 101\\nPhoenix, AZ ...   \n",
       "1  JwUE5GmEO-sH1FuwJgKBlQ            6162 US Highway 51\\nDe Forest, WI 53532   \n",
       "2  uGykseHzyS5xAMWoN6YUqA                505 W North St\\nDe Forest, WI 53532   \n",
       "3  LRKJF43s9-3jG9Lgx4zODg              4910 County Rd V\\nDe Forest, WI 53532   \n",
       "4  RgDg-k9S5YD_BaxMckifkg                 631 S Main St\\nDe Forest, WI 53532   \n",
       "\n",
       "                                               hours  open  \\\n",
       "0  {'Tuesday': {'close': '17:00', 'open': '08:00'...  True   \n",
       "1                                                 {}  True   \n",
       "2  {'Monday': {'close': '22:00', 'open': '06:00'}...  True   \n",
       "3  {'Monday': {'close': '22:00', 'open': '10:30'}...  True   \n",
       "4  {'Monday': {'close': '22:00', 'open': '11:00'}...  True   \n",
       "\n",
       "                                          categories       city  review_count  \\\n",
       "0                        [Doctors, Health & Medical]    Phoenix             7   \n",
       "1                                      [Restaurants]  De Forest            26   \n",
       "2              [American (Traditional), Restaurants]  De Forest            16   \n",
       "3  [Food, Ice Cream & Frozen Yogurt, Fast Food, R...  De Forest             7   \n",
       "4                             [Chinese, Restaurants]  De Forest             3   \n",
       "\n",
       "                          name neighborhoods   longitude state  stars  \\\n",
       "0            Eric Goldberg, MD            [] -111.983758    AZ    3.5   \n",
       "1         Pine Cone Restaurant            []  -89.335844    WI    4.0   \n",
       "2   Deforest Family Restaurant            []  -89.353437    WI    4.0   \n",
       "3                     Culver's            []  -89.374983    WI    4.5   \n",
       "4  Chang Jiang Chinese Kitchen            []  -89.343722    WI    4.0   \n",
       "\n",
       "    latitude                                         attributes      type  \n",
       "0  33.499313                      {'By Appointment Only': True}  business  \n",
       "1  43.238893  {'Take-out': True, 'Good For': {'dessert': Fal...  business  \n",
       "2  43.252267  {'Take-out': True, 'Good For': {'dessert': Fal...  business  \n",
       "3  43.251045  {'Take-out': True, 'Wi-Fi': 'free', 'Takes Res...  business  \n",
       "4  43.240875  {'Take-out': True, 'Has TV': False, 'Outdoor S...  business  "
      ]
     },
     "execution_count": 49,
     "metadata": {},
     "output_type": "execute_result"
    }
   ],
   "source": [
    "# the open businesses\n",
    "yelp_df[yelp_df['open']].head()"
   ]
  },
  {
   "cell_type": "code",
   "execution_count": 50,
   "metadata": {},
   "outputs": [
    {
     "data": {
      "text/html": [
       "<div>\n",
       "<style scoped>\n",
       "    .dataframe tbody tr th:only-of-type {\n",
       "        vertical-align: middle;\n",
       "    }\n",
       "\n",
       "    .dataframe tbody tr th {\n",
       "        vertical-align: top;\n",
       "    }\n",
       "\n",
       "    .dataframe thead th {\n",
       "        text-align: right;\n",
       "    }\n",
       "</style>\n",
       "<table border=\"1\" class=\"dataframe\">\n",
       "  <thead>\n",
       "    <tr style=\"text-align: right;\">\n",
       "      <th></th>\n",
       "      <th>business_id</th>\n",
       "      <th>full_address</th>\n",
       "      <th>hours</th>\n",
       "      <th>open</th>\n",
       "      <th>categories</th>\n",
       "      <th>city</th>\n",
       "      <th>review_count</th>\n",
       "      <th>name</th>\n",
       "      <th>neighborhoods</th>\n",
       "      <th>longitude</th>\n",
       "      <th>state</th>\n",
       "      <th>stars</th>\n",
       "      <th>latitude</th>\n",
       "      <th>attributes</th>\n",
       "      <th>type</th>\n",
       "    </tr>\n",
       "  </thead>\n",
       "  <tbody>\n",
       "    <tr>\n",
       "      <th>5</th>\n",
       "      <td>oLctHIA1AxmsgOuu4dM6Vw</td>\n",
       "      <td>4156 County Rd B\\nMc Farland, WI 53558</td>\n",
       "      <td>{}</td>\n",
       "      <td>False</td>\n",
       "      <td>[Television Stations, Mass Media]</td>\n",
       "      <td>Mc Farland</td>\n",
       "      <td>10</td>\n",
       "      <td>Charter Communications</td>\n",
       "      <td>[]</td>\n",
       "      <td>-89.322920</td>\n",
       "      <td>WI</td>\n",
       "      <td>1.5</td>\n",
       "      <td>42.968507</td>\n",
       "      <td>{}</td>\n",
       "      <td>business</td>\n",
       "    </tr>\n",
       "    <tr>\n",
       "      <th>14</th>\n",
       "      <td>HxPpZSY6Q1eARuiahhra6A</td>\n",
       "      <td>6401 University Ave\\nMiddleton, WI 53562</td>\n",
       "      <td>{}</td>\n",
       "      <td>False</td>\n",
       "      <td>[Event Planning &amp; Services, Party &amp; Event Plan...</td>\n",
       "      <td>Middleton</td>\n",
       "      <td>5</td>\n",
       "      <td>Crandalls Carryout &amp; Catering</td>\n",
       "      <td>[]</td>\n",
       "      <td>-89.491800</td>\n",
       "      <td>WI</td>\n",
       "      <td>4.0</td>\n",
       "      <td>43.093265</td>\n",
       "      <td>{'Take-out': True, 'Caters': True, 'Attire': '...</td>\n",
       "      <td>business</td>\n",
       "    </tr>\n",
       "    <tr>\n",
       "      <th>16</th>\n",
       "      <td>77ESrCo7hQ96VpCWWdvoxg</td>\n",
       "      <td>6230 University Ave\\nMiddleton, WI 53562</td>\n",
       "      <td>{'Monday': {'close': '21:00', 'open': '06:00'}...</td>\n",
       "      <td>False</td>\n",
       "      <td>[Mexican, Restaurants]</td>\n",
       "      <td>Middleton</td>\n",
       "      <td>17</td>\n",
       "      <td>Mi Cocina</td>\n",
       "      <td>[]</td>\n",
       "      <td>-89.487487</td>\n",
       "      <td>WI</td>\n",
       "      <td>3.0</td>\n",
       "      <td>43.091061</td>\n",
       "      <td>{'Take-out': True, 'Wi-Fi': 'no', 'Good For': ...</td>\n",
       "      <td>business</td>\n",
       "    </tr>\n",
       "    <tr>\n",
       "      <th>50</th>\n",
       "      <td>IEmqrFe96NOhU07TA0rZdw</td>\n",
       "      <td>6625 Century Ave\\nMiddleton, WI 53562</td>\n",
       "      <td>{}</td>\n",
       "      <td>False</td>\n",
       "      <td>[American (Traditional), Restaurants]</td>\n",
       "      <td>Middleton</td>\n",
       "      <td>7</td>\n",
       "      <td>Stamm House At Pheasant Branch</td>\n",
       "      <td>[]</td>\n",
       "      <td>-89.494422</td>\n",
       "      <td>WI</td>\n",
       "      <td>2.0</td>\n",
       "      <td>43.104535</td>\n",
       "      <td>{'Alcohol': 'full_bar', 'Attire': 'casual', 'P...</td>\n",
       "      <td>business</td>\n",
       "    </tr>\n",
       "    <tr>\n",
       "      <th>62</th>\n",
       "      <td>mbtGl2I2A2To-8jiggN99g</td>\n",
       "      <td>6661 University Ave\\nSte 103\\nMiddleton, WI 53562</td>\n",
       "      <td>{'Tuesday': {'close': '20:00', 'open': '10:00'...</td>\n",
       "      <td>False</td>\n",
       "      <td>[Skin Care, Hair Salons, Beauty &amp; Spas]</td>\n",
       "      <td>Middleton</td>\n",
       "      <td>7</td>\n",
       "      <td>Tangles</td>\n",
       "      <td>[]</td>\n",
       "      <td>-89.497265</td>\n",
       "      <td>WI</td>\n",
       "      <td>2.0</td>\n",
       "      <td>43.096650</td>\n",
       "      <td>{'By Appointment Only': True, 'Parking': {'gar...</td>\n",
       "      <td>business</td>\n",
       "    </tr>\n",
       "  </tbody>\n",
       "</table>\n",
       "</div>"
      ],
      "text/plain": [
       "               business_id                                       full_address  \\\n",
       "5   oLctHIA1AxmsgOuu4dM6Vw             4156 County Rd B\\nMc Farland, WI 53558   \n",
       "14  HxPpZSY6Q1eARuiahhra6A           6401 University Ave\\nMiddleton, WI 53562   \n",
       "16  77ESrCo7hQ96VpCWWdvoxg           6230 University Ave\\nMiddleton, WI 53562   \n",
       "50  IEmqrFe96NOhU07TA0rZdw              6625 Century Ave\\nMiddleton, WI 53562   \n",
       "62  mbtGl2I2A2To-8jiggN99g  6661 University Ave\\nSte 103\\nMiddleton, WI 53562   \n",
       "\n",
       "                                                hours   open  \\\n",
       "5                                                  {}  False   \n",
       "14                                                 {}  False   \n",
       "16  {'Monday': {'close': '21:00', 'open': '06:00'}...  False   \n",
       "50                                                 {}  False   \n",
       "62  {'Tuesday': {'close': '20:00', 'open': '10:00'...  False   \n",
       "\n",
       "                                           categories        city  \\\n",
       "5                   [Television Stations, Mass Media]  Mc Farland   \n",
       "14  [Event Planning & Services, Party & Event Plan...   Middleton   \n",
       "16                             [Mexican, Restaurants]   Middleton   \n",
       "50              [American (Traditional), Restaurants]   Middleton   \n",
       "62            [Skin Care, Hair Salons, Beauty & Spas]   Middleton   \n",
       "\n",
       "    review_count                            name neighborhoods  longitude  \\\n",
       "5             10          Charter Communications            [] -89.322920   \n",
       "14             5   Crandalls Carryout & Catering            [] -89.491800   \n",
       "16            17                       Mi Cocina            [] -89.487487   \n",
       "50             7  Stamm House At Pheasant Branch            [] -89.494422   \n",
       "62             7                         Tangles            [] -89.497265   \n",
       "\n",
       "   state  stars   latitude                                         attributes  \\\n",
       "5     WI    1.5  42.968507                                                 {}   \n",
       "14    WI    4.0  43.093265  {'Take-out': True, 'Caters': True, 'Attire': '...   \n",
       "16    WI    3.0  43.091061  {'Take-out': True, 'Wi-Fi': 'no', 'Good For': ...   \n",
       "50    WI    2.0  43.104535  {'Alcohol': 'full_bar', 'Attire': 'casual', 'P...   \n",
       "62    WI    2.0  43.096650  {'By Appointment Only': True, 'Parking': {'gar...   \n",
       "\n",
       "        type  \n",
       "5   business  \n",
       "14  business  \n",
       "16  business  \n",
       "50  business  \n",
       "62  business  "
      ]
     },
     "execution_count": 50,
     "metadata": {},
     "output_type": "execute_result"
    }
   ],
   "source": [
    "# the closed businesses\n",
    "yelp_df[~yelp_df['open']].head()"
   ]
  },
  {
   "cell_type": "markdown",
   "metadata": {},
   "source": [
    "Notice in an earlier expression we wrote `(yelp_df['state'] == 'AZ') & (yelp_df['review_count'] > 10)`. Normally in Python we use the word `and` when we are working with logic. In Pandas we have to use _bit-wise_ logical operators; all that's important to know is the following equivalencies:\n",
    "\n",
    "`~` = `not`  \n",
    "`&` = `and`  \n",
    "`|` = `or`  \n",
    "\n",
    "We can also use Panda's built-in [string operations](https://pandas.pydata.org/pandas-docs/stable/text.html) for doing pattern matching. For example, there are a lot of businesses in Las Vegas in our data set. However, there are also businesses in 'Las Vegas East' and 'South Las Vegas'. To get all of the Las Vegas businesses I might do the following."
   ]
  },
  {
   "cell_type": "code",
   "execution_count": 51,
   "metadata": {},
   "outputs": [
    {
     "data": {
      "text/html": [
       "<div>\n",
       "<style scoped>\n",
       "    .dataframe tbody tr th:only-of-type {\n",
       "        vertical-align: middle;\n",
       "    }\n",
       "\n",
       "    .dataframe tbody tr th {\n",
       "        vertical-align: top;\n",
       "    }\n",
       "\n",
       "    .dataframe thead th {\n",
       "        text-align: right;\n",
       "    }\n",
       "</style>\n",
       "<table border=\"1\" class=\"dataframe\">\n",
       "  <thead>\n",
       "    <tr style=\"text-align: right;\">\n",
       "      <th></th>\n",
       "      <th>business_id</th>\n",
       "      <th>full_address</th>\n",
       "      <th>hours</th>\n",
       "      <th>open</th>\n",
       "      <th>categories</th>\n",
       "      <th>city</th>\n",
       "      <th>review_count</th>\n",
       "      <th>name</th>\n",
       "      <th>neighborhoods</th>\n",
       "      <th>longitude</th>\n",
       "      <th>state</th>\n",
       "      <th>stars</th>\n",
       "      <th>latitude</th>\n",
       "      <th>attributes</th>\n",
       "      <th>type</th>\n",
       "    </tr>\n",
       "  </thead>\n",
       "  <tbody>\n",
       "    <tr>\n",
       "      <th>4348</th>\n",
       "      <td>uzztTCsg3XAKlYqmLO40aw</td>\n",
       "      <td>5835 S Eastern Ave\\nSoutheast\\nLas Vegas, NV 8...</td>\n",
       "      <td>{'Monday': {'close': '21:00', 'open': '10:00'}...</td>\n",
       "      <td>True</td>\n",
       "      <td>[Arts &amp; Entertainment, Shopping, Books, Mags, ...</td>\n",
       "      <td>Las Vegas</td>\n",
       "      <td>7</td>\n",
       "      <td>Psychic Eye Book Shops</td>\n",
       "      <td>[Southeast]</td>\n",
       "      <td>-115.119422</td>\n",
       "      <td>NV</td>\n",
       "      <td>4.5</td>\n",
       "      <td>36.083936</td>\n",
       "      <td>{'Parking': {'garage': False, 'street': False,...</td>\n",
       "      <td>business</td>\n",
       "    </tr>\n",
       "    <tr>\n",
       "      <th>4360</th>\n",
       "      <td>IspFZDcpu9W5NvvJ7QgJZg</td>\n",
       "      <td>The Forum Shops At Caesars\\n3500 Las Vegas Blv...</td>\n",
       "      <td>{'Monday': {'close': '21:00', 'open': '10:00'}...</td>\n",
       "      <td>True</td>\n",
       "      <td>[Women's Clothing, Men's Clothing, Fashion, Sh...</td>\n",
       "      <td>Las Vegas</td>\n",
       "      <td>6</td>\n",
       "      <td>Gap</td>\n",
       "      <td>[Eastside]</td>\n",
       "      <td>-115.146372</td>\n",
       "      <td>NV</td>\n",
       "      <td>4.5</td>\n",
       "      <td>36.124423</td>\n",
       "      <td>{'Parking': {'garage': True, 'street': False, ...</td>\n",
       "      <td>business</td>\n",
       "    </tr>\n",
       "    <tr>\n",
       "      <th>4364</th>\n",
       "      <td>Dvulg9cc3XHkt5DkBUekhw</td>\n",
       "      <td>467 E Silverado Ranch Blvd\\nSte 175\\nSoutheast...</td>\n",
       "      <td>{}</td>\n",
       "      <td>True</td>\n",
       "      <td>[Hair Salons, Beauty &amp; Spas]</td>\n",
       "      <td>Las Vegas</td>\n",
       "      <td>10</td>\n",
       "      <td>Great Clips</td>\n",
       "      <td>[Southeast]</td>\n",
       "      <td>-115.153303</td>\n",
       "      <td>NV</td>\n",
       "      <td>2.5</td>\n",
       "      <td>36.012150</td>\n",
       "      <td>{'By Appointment Only': False, 'Parking': {'ga...</td>\n",
       "      <td>business</td>\n",
       "    </tr>\n",
       "    <tr>\n",
       "      <th>4441</th>\n",
       "      <td>_SM8UKIwBNbmj1r629ipoQ</td>\n",
       "      <td>1916 Village Center Cir\\nSummerlin\\nLas Vegas,...</td>\n",
       "      <td>{'Monday': {'close': '23:00', 'open': '11:00'}...</td>\n",
       "      <td>False</td>\n",
       "      <td>[Wine Bars, Bars, Restaurants, Nightlife, Ital...</td>\n",
       "      <td>Las Vegas</td>\n",
       "      <td>9</td>\n",
       "      <td>Chianti Cafe</td>\n",
       "      <td>[Summerlin]</td>\n",
       "      <td>-115.304396</td>\n",
       "      <td>NV</td>\n",
       "      <td>3.5</td>\n",
       "      <td>36.192414</td>\n",
       "      <td>{'Alcohol': 'full_bar', 'Music': {'video': Fal...</td>\n",
       "      <td>business</td>\n",
       "    </tr>\n",
       "    <tr>\n",
       "      <th>4489</th>\n",
       "      <td>Zaw0IAXwopKX4MV23MHQRw</td>\n",
       "      <td>2718 E Tropicana Avenue\\nEastside\\nLas Vegas, ...</td>\n",
       "      <td>{}</td>\n",
       "      <td>True</td>\n",
       "      <td>[Car Wash, Automotive]</td>\n",
       "      <td>Las Vegas</td>\n",
       "      <td>3</td>\n",
       "      <td>Terrible Herbst</td>\n",
       "      <td>[Eastside, Southeast]</td>\n",
       "      <td>-115.113492</td>\n",
       "      <td>NV</td>\n",
       "      <td>1.5</td>\n",
       "      <td>36.100507</td>\n",
       "      <td>{}</td>\n",
       "      <td>business</td>\n",
       "    </tr>\n",
       "  </tbody>\n",
       "</table>\n",
       "</div>"
      ],
      "text/plain": [
       "                 business_id  \\\n",
       "4348  uzztTCsg3XAKlYqmLO40aw   \n",
       "4360  IspFZDcpu9W5NvvJ7QgJZg   \n",
       "4364  Dvulg9cc3XHkt5DkBUekhw   \n",
       "4441  _SM8UKIwBNbmj1r629ipoQ   \n",
       "4489  Zaw0IAXwopKX4MV23MHQRw   \n",
       "\n",
       "                                           full_address  \\\n",
       "4348  5835 S Eastern Ave\\nSoutheast\\nLas Vegas, NV 8...   \n",
       "4360  The Forum Shops At Caesars\\n3500 Las Vegas Blv...   \n",
       "4364  467 E Silverado Ranch Blvd\\nSte 175\\nSoutheast...   \n",
       "4441  1916 Village Center Cir\\nSummerlin\\nLas Vegas,...   \n",
       "4489  2718 E Tropicana Avenue\\nEastside\\nLas Vegas, ...   \n",
       "\n",
       "                                                  hours   open  \\\n",
       "4348  {'Monday': {'close': '21:00', 'open': '10:00'}...   True   \n",
       "4360  {'Monday': {'close': '21:00', 'open': '10:00'}...   True   \n",
       "4364                                                 {}   True   \n",
       "4441  {'Monday': {'close': '23:00', 'open': '11:00'}...  False   \n",
       "4489                                                 {}   True   \n",
       "\n",
       "                                             categories       city  \\\n",
       "4348  [Arts & Entertainment, Shopping, Books, Mags, ...  Las Vegas   \n",
       "4360  [Women's Clothing, Men's Clothing, Fashion, Sh...  Las Vegas   \n",
       "4364                       [Hair Salons, Beauty & Spas]  Las Vegas   \n",
       "4441  [Wine Bars, Bars, Restaurants, Nightlife, Ital...  Las Vegas   \n",
       "4489                             [Car Wash, Automotive]  Las Vegas   \n",
       "\n",
       "      review_count                    name          neighborhoods   longitude  \\\n",
       "4348             7  Psychic Eye Book Shops            [Southeast] -115.119422   \n",
       "4360             6                     Gap             [Eastside] -115.146372   \n",
       "4364            10             Great Clips            [Southeast] -115.153303   \n",
       "4441             9            Chianti Cafe            [Summerlin] -115.304396   \n",
       "4489             3         Terrible Herbst  [Eastside, Southeast] -115.113492   \n",
       "\n",
       "     state  stars   latitude  \\\n",
       "4348    NV    4.5  36.083936   \n",
       "4360    NV    4.5  36.124423   \n",
       "4364    NV    2.5  36.012150   \n",
       "4441    NV    3.5  36.192414   \n",
       "4489    NV    1.5  36.100507   \n",
       "\n",
       "                                             attributes      type  \n",
       "4348  {'Parking': {'garage': False, 'street': False,...  business  \n",
       "4360  {'Parking': {'garage': True, 'street': False, ...  business  \n",
       "4364  {'By Appointment Only': False, 'Parking': {'ga...  business  \n",
       "4441  {'Alcohol': 'full_bar', 'Music': {'video': Fal...  business  \n",
       "4489                                                 {}  business  "
      ]
     },
     "execution_count": 51,
     "metadata": {},
     "output_type": "execute_result"
    }
   ],
   "source": [
    "vegas_yelp_df = yelp_df[yelp_df['city'].str.contains('Vegas')]\n",
    "vegas_yelp_df.head()"
   ]
  },
  {
   "cell_type": "code",
   "execution_count": 52,
   "metadata": {},
   "outputs": [
    {
     "data": {
      "text/plain": [
       "array(['Las Vegas', 'North Las Vegas', 'N Las Vegas', 'N. Las Vegas',\n",
       "       'C Las Vegas', 'Las Vegas ', 'Las Vegas, NV 89147',\n",
       "       'Las Vegas East', 'North Las Vegas ', 'N E Las Vegas',\n",
       "       'N W Las Vegas', 'Lake Las Vegas', 'South Las Vegas'], dtype=object)"
      ]
     },
     "execution_count": 52,
     "metadata": {},
     "output_type": "execute_result"
    }
   ],
   "source": [
    "vegas_yelp_df['city'].unique()"
   ]
  },
  {
   "cell_type": "markdown",
   "metadata": {},
   "source": [
    "## Applying functions and data aggregation\n",
    "\n",
    "To analyze the data in the dataframe, we'll need to be able to apply functions to it. Pandas has many mathematical functions built in already, and DataFrames and Series can be passed to NumPy functions (since they behave like NumPy arrays)."
   ]
  },
  {
   "cell_type": "code",
   "execution_count": 53,
   "metadata": {},
   "outputs": [
    {
     "name": "stdout",
     "output_type": "stream",
     "text": [
      "0    1.945910\n",
      "1    3.258097\n",
      "2    2.772589\n",
      "3    1.945910\n",
      "4    1.098612\n",
      "Name: review_count, dtype: float64\n",
      "(37938,)\n"
     ]
    }
   ],
   "source": [
    "log_review_count = np.log(yelp_df['review_count'])\n",
    "print(log_review_count.head())\n",
    "print(log_review_count.shape)"
   ]
  },
  {
   "cell_type": "code",
   "execution_count": 54,
   "metadata": {},
   "outputs": [
    {
     "name": "stdout",
     "output_type": "stream",
     "text": [
      "29.300648426379883\n"
     ]
    }
   ],
   "source": [
    "mean_review_count = yelp_df['review_count'].mean()\n",
    "print(mean_review_count)"
   ]
  },
  {
   "cell_type": "markdown",
   "metadata": {},
   "source": [
    "In the first example we took the _logarithm_ of the review count for each business. In the second case, we calculated the mean review count of all businesses. In the first case, we ended up with a number for each business. We _transformed_ the review counts using the logarithm. In the second case, we _summarized_ the review counts of all the businesses in one number. This summary is a form of _data aggregation_, in which we take many data points and combine them into some smaller representation. The functions we apply to our data sets will either be in the category of **transformations** or **aggregations**.\n",
    "\n",
    "Sometimes we will need to transform our data in order for it to be usable. For instance, in the `'attributes'` column of our DataFrame, we have a `dict` for each business listing all of its properties. If I wanted to find a restaurant that offers delivery service, it would be difficult for me to filter the DataFrame, even though that information is in the `'attributes'` column. First, I need to transform the `dict` into something more useful."
   ]
  },
  {
   "cell_type": "code",
   "execution_count": 55,
   "metadata": {},
   "outputs": [],
   "source": [
    "def get_delivery_attr(attr_dict):\n",
    "    return attr_dict.get('Delivery')"
   ]
  },
  {
   "cell_type": "markdown",
   "metadata": {},
   "source": [
    "If we give this function a `dict` from the `'attributes'` column, it will look for the `'Delivery'` key. If it finds that key, it returns the value. If it doesn't find the key, it will return none."
   ]
  },
  {
   "cell_type": "code",
   "execution_count": 56,
   "metadata": {},
   "outputs": [
    {
     "name": "stdout",
     "output_type": "stream",
     "text": [
      "None\n",
      "False\n",
      "False\n"
     ]
    }
   ],
   "source": [
    "print(get_delivery_attr(yelp_df.loc[0, 'attributes']))\n",
    "print(get_delivery_attr(yelp_df.loc[1, 'attributes']))\n",
    "print(get_delivery_attr(yelp_df.loc[2, 'attributes']))"
   ]
  },
  {
   "cell_type": "markdown",
   "metadata": {},
   "source": [
    "We could iterate over the rows of `yelp_df['attributes']` to get all of the values, but there is a better way. DataFrames and Series have an `apply` method that allows us to apply our function to the entire data set at once, like we did earlier with `np.log`."
   ]
  },
  {
   "cell_type": "code",
   "execution_count": 57,
   "metadata": {},
   "outputs": [
    {
     "data": {
      "text/plain": [
       "0     None\n",
       "1    False\n",
       "2    False\n",
       "3    False\n",
       "4     None\n",
       "Name: attributes, dtype: object"
      ]
     },
     "execution_count": 57,
     "metadata": {},
     "output_type": "execute_result"
    }
   ],
   "source": [
    "delivery_attr = yelp_df['attributes'].apply(get_delivery_attr)\n",
    "delivery_attr.head()"
   ]
  },
  {
   "cell_type": "markdown",
   "metadata": {},
   "source": [
    "We can make a new column in our DataFrame with this transformed (and useful) information."
   ]
  },
  {
   "cell_type": "code",
   "execution_count": 58,
   "metadata": {},
   "outputs": [
    {
     "data": {
      "text/html": [
       "<div>\n",
       "<style scoped>\n",
       "    .dataframe tbody tr th:only-of-type {\n",
       "        vertical-align: middle;\n",
       "    }\n",
       "\n",
       "    .dataframe tbody tr th {\n",
       "        vertical-align: top;\n",
       "    }\n",
       "\n",
       "    .dataframe thead th {\n",
       "        text-align: right;\n",
       "    }\n",
       "</style>\n",
       "<table border=\"1\" class=\"dataframe\">\n",
       "  <thead>\n",
       "    <tr style=\"text-align: right;\">\n",
       "      <th></th>\n",
       "      <th>business_id</th>\n",
       "      <th>full_address</th>\n",
       "      <th>hours</th>\n",
       "      <th>open</th>\n",
       "      <th>categories</th>\n",
       "      <th>city</th>\n",
       "      <th>review_count</th>\n",
       "      <th>name</th>\n",
       "      <th>neighborhoods</th>\n",
       "      <th>longitude</th>\n",
       "      <th>state</th>\n",
       "      <th>stars</th>\n",
       "      <th>latitude</th>\n",
       "      <th>attributes</th>\n",
       "      <th>type</th>\n",
       "      <th>delivery</th>\n",
       "    </tr>\n",
       "  </thead>\n",
       "  <tbody>\n",
       "    <tr>\n",
       "      <th>21</th>\n",
       "      <td>KTqNU4plO23583DYAMGXYg</td>\n",
       "      <td>2411 Allen Blvd\\nMiddleton, WI 53562</td>\n",
       "      <td>{}</td>\n",
       "      <td>True</td>\n",
       "      <td>[Sandwiches, Pizza, Chicken Wings, Restaurants]</td>\n",
       "      <td>Middleton</td>\n",
       "      <td>3</td>\n",
       "      <td>Domino's Pizza</td>\n",
       "      <td>[]</td>\n",
       "      <td>-89.486219</td>\n",
       "      <td>WI</td>\n",
       "      <td>3.0</td>\n",
       "      <td>43.100384</td>\n",
       "      <td>{'Take-out': True, 'Takes Reservations': False...</td>\n",
       "      <td>business</td>\n",
       "      <td>True</td>\n",
       "    </tr>\n",
       "    <tr>\n",
       "      <th>64</th>\n",
       "      <td>oc0rCahXOaJeHLzzDdSfyA</td>\n",
       "      <td>1901 Cayuga St\\nMiddleton, WI 53562</td>\n",
       "      <td>{}</td>\n",
       "      <td>False</td>\n",
       "      <td>[Restaurants]</td>\n",
       "      <td>Middleton</td>\n",
       "      <td>3</td>\n",
       "      <td>Soup Factory</td>\n",
       "      <td>[]</td>\n",
       "      <td>-89.513737</td>\n",
       "      <td>WI</td>\n",
       "      <td>3.0</td>\n",
       "      <td>43.096359</td>\n",
       "      <td>{'Take-out': True, 'Alcohol': 'none', 'Takes R...</td>\n",
       "      <td>business</td>\n",
       "      <td>True</td>\n",
       "    </tr>\n",
       "    <tr>\n",
       "      <th>75</th>\n",
       "      <td>OC8AUJshLVimn_-P_INvJw</td>\n",
       "      <td>330 W Main St\\nSun Prairie, WI 53590</td>\n",
       "      <td>{'Monday': {'close': '23:00', 'open': '11:00'}...</td>\n",
       "      <td>True</td>\n",
       "      <td>[Sandwiches, Pizza, Chicken Wings, Restaurants]</td>\n",
       "      <td>Sun Prairie</td>\n",
       "      <td>4</td>\n",
       "      <td>Pizza Pit</td>\n",
       "      <td>[]</td>\n",
       "      <td>-89.218527</td>\n",
       "      <td>WI</td>\n",
       "      <td>2.5</td>\n",
       "      <td>43.183277</td>\n",
       "      <td>{'Take-out': True, 'Good For': {'dessert': Fal...</td>\n",
       "      <td>business</td>\n",
       "      <td>True</td>\n",
       "    </tr>\n",
       "    <tr>\n",
       "      <th>79</th>\n",
       "      <td>NDAxF0_RCZBQedVO_d5WnA</td>\n",
       "      <td>984 W Main St\\nSun Prairie, WI 53590</td>\n",
       "      <td>{}</td>\n",
       "      <td>True</td>\n",
       "      <td>[Chinese, Restaurants]</td>\n",
       "      <td>Sun Prairie</td>\n",
       "      <td>9</td>\n",
       "      <td>Chang Jiang</td>\n",
       "      <td>[]</td>\n",
       "      <td>-89.230477</td>\n",
       "      <td>WI</td>\n",
       "      <td>3.0</td>\n",
       "      <td>43.180786</td>\n",
       "      <td>{'Take-out': True, 'Wi-Fi': 'no', 'Good For': ...</td>\n",
       "      <td>business</td>\n",
       "      <td>True</td>\n",
       "    </tr>\n",
       "    <tr>\n",
       "      <th>82</th>\n",
       "      <td>5uxhIGZlJm9g_zfG_83z5Q</td>\n",
       "      <td>2091 McCoy Rd\\nSun Prairie, WI 53590</td>\n",
       "      <td>{}</td>\n",
       "      <td>True</td>\n",
       "      <td>[Chinese, Restaurants]</td>\n",
       "      <td>Sun Prairie</td>\n",
       "      <td>6</td>\n",
       "      <td>Peking Chinese Restaurant</td>\n",
       "      <td>[]</td>\n",
       "      <td>-89.248245</td>\n",
       "      <td>WI</td>\n",
       "      <td>3.0</td>\n",
       "      <td>43.175381</td>\n",
       "      <td>{'Delivery': True, 'Waiter Service': True, 'Ta...</td>\n",
       "      <td>business</td>\n",
       "      <td>True</td>\n",
       "    </tr>\n",
       "  </tbody>\n",
       "</table>\n",
       "</div>"
      ],
      "text/plain": [
       "               business_id                          full_address  \\\n",
       "21  KTqNU4plO23583DYAMGXYg  2411 Allen Blvd\\nMiddleton, WI 53562   \n",
       "64  oc0rCahXOaJeHLzzDdSfyA   1901 Cayuga St\\nMiddleton, WI 53562   \n",
       "75  OC8AUJshLVimn_-P_INvJw  330 W Main St\\nSun Prairie, WI 53590   \n",
       "79  NDAxF0_RCZBQedVO_d5WnA  984 W Main St\\nSun Prairie, WI 53590   \n",
       "82  5uxhIGZlJm9g_zfG_83z5Q  2091 McCoy Rd\\nSun Prairie, WI 53590   \n",
       "\n",
       "                                                hours   open  \\\n",
       "21                                                 {}   True   \n",
       "64                                                 {}  False   \n",
       "75  {'Monday': {'close': '23:00', 'open': '11:00'}...   True   \n",
       "79                                                 {}   True   \n",
       "82                                                 {}   True   \n",
       "\n",
       "                                         categories         city  \\\n",
       "21  [Sandwiches, Pizza, Chicken Wings, Restaurants]    Middleton   \n",
       "64                                    [Restaurants]    Middleton   \n",
       "75  [Sandwiches, Pizza, Chicken Wings, Restaurants]  Sun Prairie   \n",
       "79                           [Chinese, Restaurants]  Sun Prairie   \n",
       "82                           [Chinese, Restaurants]  Sun Prairie   \n",
       "\n",
       "    review_count                       name neighborhoods  longitude state  \\\n",
       "21             3             Domino's Pizza            [] -89.486219    WI   \n",
       "64             3               Soup Factory            [] -89.513737    WI   \n",
       "75             4                  Pizza Pit            [] -89.218527    WI   \n",
       "79             9                Chang Jiang            [] -89.230477    WI   \n",
       "82             6  Peking Chinese Restaurant            [] -89.248245    WI   \n",
       "\n",
       "    stars   latitude                                         attributes  \\\n",
       "21    3.0  43.100384  {'Take-out': True, 'Takes Reservations': False...   \n",
       "64    3.0  43.096359  {'Take-out': True, 'Alcohol': 'none', 'Takes R...   \n",
       "75    2.5  43.183277  {'Take-out': True, 'Good For': {'dessert': Fal...   \n",
       "79    3.0  43.180786  {'Take-out': True, 'Wi-Fi': 'no', 'Good For': ...   \n",
       "82    3.0  43.175381  {'Delivery': True, 'Waiter Service': True, 'Ta...   \n",
       "\n",
       "        type delivery  \n",
       "21  business     True  \n",
       "64  business     True  \n",
       "75  business     True  \n",
       "79  business     True  \n",
       "82  business     True  "
      ]
     },
     "execution_count": 58,
     "metadata": {},
     "output_type": "execute_result"
    }
   ],
   "source": [
    "yelp_df['delivery'] = delivery_attr\n",
    "\n",
    "# to find businesses that deliver\n",
    "yelp_df[yelp_df['delivery'].fillna(False)].head()"
   ]
  },
  {
   "cell_type": "markdown",
   "metadata": {},
   "source": [
    "It's less common (though possible) to use `apply` on an entire DataFrame rather than just one column. Since a DataFrame might contain many types of data, we won't usually want to apply the same transformation or aggregation across all of the columns."
   ]
  },
  {
   "cell_type": "markdown",
   "metadata": {},
   "source": [
    "### Exercise"
   ]
  },
  {
   "cell_type": "code",
   "execution_count": 59,
   "metadata": {},
   "outputs": [],
   "source": [
    "# filter categories\n",
    "categories_attr = yelp_df['categories'].apply(lambda x: 'Restaurants' in x)\n",
    "categories_attr\n",
    "yelp_df['Restaurants'] = categories_attr"
   ]
  },
  {
   "cell_type": "code",
   "execution_count": 60,
   "metadata": {},
   "outputs": [],
   "source": [
    "portion = yelp_df[yelp_df['Restaurants']]['delivery'].fillna(False).mean() * 100\n"
   ]
  },
  {
   "cell_type": "code",
   "execution_count": 61,
   "metadata": {},
   "outputs": [
    {
     "name": "stdout",
     "output_type": "stream",
     "text": [
      "Portion of Restaurants that deliver: 16.25\n"
     ]
    }
   ],
   "source": [
    "print(\"Portion of Restaurants that deliver: %.2f\" % portion)"
   ]
  },
  {
   "cell_type": "markdown",
   "metadata": {},
   "source": [
    "## Data aggregation with `groupby`\n",
    "\n",
    "Data aggregation is an [_overloaded_](https://en.wikipedia.org/wiki/Function_overloading) term. It refers to both data summarization (as above) but also to the combining of different data sets.\n",
    "\n",
    "With our Yelp data, we might be interested in comparing the star ratings of businesses in different cities. We could calculate the mean star rating for each city, and this would allow us to easily compare them. First we would have to split up our data by city, calculate the mean for each city, and then combine it back at the end. This procedure is known as [split-apply-combine](https://pandas.pydata.org/pandas-docs/stable/groupby.html) and is a classic example of data aggregation (in the sense of both summarizing data and also combining different data sets).\n",
    "\n",
    "We achieve the splitting and recombining using the `groupby` method."
   ]
  },
  {
   "cell_type": "code",
   "execution_count": 62,
   "metadata": {},
   "outputs": [
    {
     "data": {
      "text/plain": [
       "city\n",
       "Ahwatukee          3.687500\n",
       "Anthem             3.781818\n",
       "Apache Junction    3.637500\n",
       "Arcadia            5.000000\n",
       "Atlanta            3.500000\n",
       "Name: stars, dtype: float64"
      ]
     },
     "execution_count": 62,
     "metadata": {},
     "output_type": "execute_result"
    }
   ],
   "source": [
    "stars_by_city = yelp_df.groupby('city')['stars'].mean()\n",
    "stars_by_city.head()"
   ]
  },
  {
   "cell_type": "markdown",
   "metadata": {},
   "source": [
    "We can also apply multiple functions at once. It might be helpful to know the standard deviation of star ratings, the total number of reviews, and the count of businesses as well."
   ]
  },
  {
   "cell_type": "code",
   "execution_count": 63,
   "metadata": {},
   "outputs": [
    {
     "data": {
      "text/html": [
       "<div>\n",
       "<style scoped>\n",
       "    .dataframe tbody tr th:only-of-type {\n",
       "        vertical-align: middle;\n",
       "    }\n",
       "\n",
       "    .dataframe tbody tr th {\n",
       "        vertical-align: top;\n",
       "    }\n",
       "\n",
       "    .dataframe thead tr th {\n",
       "        text-align: left;\n",
       "    }\n",
       "\n",
       "    .dataframe thead tr:last-of-type th {\n",
       "        text-align: right;\n",
       "    }\n",
       "</style>\n",
       "<table border=\"1\" class=\"dataframe\">\n",
       "  <thead>\n",
       "    <tr>\n",
       "      <th></th>\n",
       "      <th colspan=\"2\" halign=\"left\">stars</th>\n",
       "      <th>review_count</th>\n",
       "      <th>business_id</th>\n",
       "    </tr>\n",
       "    <tr>\n",
       "      <th></th>\n",
       "      <th>mean</th>\n",
       "      <th>std</th>\n",
       "      <th>sum</th>\n",
       "      <th>count</th>\n",
       "    </tr>\n",
       "    <tr>\n",
       "      <th>city</th>\n",
       "      <th></th>\n",
       "      <th></th>\n",
       "      <th></th>\n",
       "      <th></th>\n",
       "    </tr>\n",
       "  </thead>\n",
       "  <tbody>\n",
       "    <tr>\n",
       "      <th>Ahwatukee</th>\n",
       "      <td>3.687500</td>\n",
       "      <td>1.066955</td>\n",
       "      <td>258</td>\n",
       "      <td>8</td>\n",
       "    </tr>\n",
       "    <tr>\n",
       "      <th>Anthem</th>\n",
       "      <td>3.781818</td>\n",
       "      <td>0.756231</td>\n",
       "      <td>727</td>\n",
       "      <td>55</td>\n",
       "    </tr>\n",
       "    <tr>\n",
       "      <th>Apache Junction</th>\n",
       "      <td>3.637500</td>\n",
       "      <td>1.028010</td>\n",
       "      <td>853</td>\n",
       "      <td>80</td>\n",
       "    </tr>\n",
       "    <tr>\n",
       "      <th>Arcadia</th>\n",
       "      <td>5.000000</td>\n",
       "      <td>NaN</td>\n",
       "      <td>4</td>\n",
       "      <td>1</td>\n",
       "    </tr>\n",
       "    <tr>\n",
       "      <th>Atlanta</th>\n",
       "      <td>3.500000</td>\n",
       "      <td>NaN</td>\n",
       "      <td>16</td>\n",
       "      <td>1</td>\n",
       "    </tr>\n",
       "  </tbody>\n",
       "</table>\n",
       "</div>"
      ],
      "text/plain": [
       "                    stars           review_count business_id\n",
       "                     mean       std          sum       count\n",
       "city                                                        \n",
       "Ahwatukee        3.687500  1.066955          258           8\n",
       "Anthem           3.781818  0.756231          727          55\n",
       "Apache Junction  3.637500  1.028010          853          80\n",
       "Arcadia          5.000000       NaN            4           1\n",
       "Atlanta          3.500000       NaN           16           1"
      ]
     },
     "execution_count": 63,
     "metadata": {},
     "output_type": "execute_result"
    }
   ],
   "source": [
    "agg_by_city = yelp_df.groupby('city').agg({'stars': ['mean', 'std'], 'review_count': 'sum', 'business_id': 'count'})\n",
    "agg_by_city.head()"
   ]
  },
  {
   "cell_type": "code",
   "execution_count": 64,
   "metadata": {},
   "outputs": [],
   "source": [
    "new_columns = map(lambda x: '_'.join(x),\n",
    "                  zip(agg_by_city.columns.get_level_values(0),\n",
    "                      agg_by_city.columns.get_level_values(1)))"
   ]
  },
  {
   "cell_type": "code",
   "execution_count": 65,
   "metadata": {},
   "outputs": [
    {
     "data": {
      "text/html": [
       "<div>\n",
       "<style scoped>\n",
       "    .dataframe tbody tr th:only-of-type {\n",
       "        vertical-align: middle;\n",
       "    }\n",
       "\n",
       "    .dataframe tbody tr th {\n",
       "        vertical-align: top;\n",
       "    }\n",
       "\n",
       "    .dataframe thead th {\n",
       "        text-align: right;\n",
       "    }\n",
       "</style>\n",
       "<table border=\"1\" class=\"dataframe\">\n",
       "  <thead>\n",
       "    <tr style=\"text-align: right;\">\n",
       "      <th></th>\n",
       "      <th>stars_mean</th>\n",
       "      <th>stars_std</th>\n",
       "      <th>review_count_sum</th>\n",
       "      <th>business_id_count</th>\n",
       "    </tr>\n",
       "    <tr>\n",
       "      <th>city</th>\n",
       "      <th></th>\n",
       "      <th></th>\n",
       "      <th></th>\n",
       "      <th></th>\n",
       "    </tr>\n",
       "  </thead>\n",
       "  <tbody>\n",
       "    <tr>\n",
       "      <th>Ahwatukee</th>\n",
       "      <td>3.687500</td>\n",
       "      <td>1.066955</td>\n",
       "      <td>258</td>\n",
       "      <td>8</td>\n",
       "    </tr>\n",
       "    <tr>\n",
       "      <th>Anthem</th>\n",
       "      <td>3.781818</td>\n",
       "      <td>0.756231</td>\n",
       "      <td>727</td>\n",
       "      <td>55</td>\n",
       "    </tr>\n",
       "    <tr>\n",
       "      <th>Apache Junction</th>\n",
       "      <td>3.637500</td>\n",
       "      <td>1.028010</td>\n",
       "      <td>853</td>\n",
       "      <td>80</td>\n",
       "    </tr>\n",
       "    <tr>\n",
       "      <th>Arcadia</th>\n",
       "      <td>5.000000</td>\n",
       "      <td>NaN</td>\n",
       "      <td>4</td>\n",
       "      <td>1</td>\n",
       "    </tr>\n",
       "    <tr>\n",
       "      <th>Atlanta</th>\n",
       "      <td>3.500000</td>\n",
       "      <td>NaN</td>\n",
       "      <td>16</td>\n",
       "      <td>1</td>\n",
       "    </tr>\n",
       "  </tbody>\n",
       "</table>\n",
       "</div>"
      ],
      "text/plain": [
       "                 stars_mean  stars_std  review_count_sum  business_id_count\n",
       "city                                                                       \n",
       "Ahwatukee          3.687500   1.066955               258                  8\n",
       "Anthem             3.781818   0.756231               727                 55\n",
       "Apache Junction    3.637500   1.028010               853                 80\n",
       "Arcadia            5.000000        NaN                 4                  1\n",
       "Atlanta            3.500000        NaN                16                  1"
      ]
     },
     "execution_count": 65,
     "metadata": {},
     "output_type": "execute_result"
    }
   ],
   "source": [
    "# unstacking the columns\n",
    "new_columns = map(lambda x: '_'.join(x),\n",
    "                  zip(agg_by_city.columns.get_level_values(0),\n",
    "                      agg_by_city.columns.get_level_values(1)))\n",
    "agg_by_city.columns = new_columns\n",
    "agg_by_city.head()"
   ]
  },
  {
   "cell_type": "code",
   "execution_count": 66,
   "metadata": {},
   "outputs": [
    {
     "ename": "IndentationError",
     "evalue": "unexpected indent (<ipython-input-66-e8dd61ea446f>, line 2)",
     "output_type": "error",
     "traceback": [
      "\u001b[0;36m  File \u001b[0;32m\"<ipython-input-66-e8dd61ea446f>\"\u001b[0;36m, line \u001b[0;32m2\u001b[0m\n\u001b[0;31m    zip(agg_by_city.columns.get_level_values(0),\u001b[0m\n\u001b[0m    ^\u001b[0m\n\u001b[0;31mIndentationError\u001b[0m\u001b[0;31m:\u001b[0m unexpected indent\n"
     ]
    }
   ],
   "source": [
    "lambda x: '_'.join(x),\n",
    "                  zip(agg_by_city.columns.get_level_values(0),\n",
    "                      agg_by_city.columns.get_level_values(1))"
   ]
  },
  {
   "cell_type": "markdown",
   "metadata": {},
   "source": [
    "How does this work? What does `groupby` do? Let's start by inspecting the result of `groupby`."
   ]
  },
  {
   "cell_type": "code",
   "execution_count": null,
   "metadata": {},
   "outputs": [],
   "source": [
    "by_city = yelp_df.groupby('city')\n",
    "by_city"
   ]
  },
  {
   "cell_type": "code",
   "execution_count": null,
   "metadata": {},
   "outputs": [],
   "source": [
    "dir(by_city)"
   ]
  },
  {
   "cell_type": "code",
   "execution_count": null,
   "metadata": {},
   "outputs": [],
   "source": [
    "print(type(by_city.groups))\n",
    "list(by_city.groups.items())[:5]"
   ]
  },
  {
   "cell_type": "code",
   "execution_count": null,
   "metadata": {},
   "outputs": [],
   "source": [
    "by_city.get_group('Anthem').head()"
   ]
  },
  {
   "cell_type": "markdown",
   "metadata": {},
   "source": [
    "When we use `groupby` on a column, Pandas builds a `dict`, using the unique elements of the column as the keys and the index of the rows in each group as the values. This `dict` is stored in the `groups` attribute. Pandas can then use this `dict` to direct the application of aggregating functions over the different groups."
   ]
  },
  {
   "cell_type": "markdown",
   "metadata": {},
   "source": [
    "## Sorting\n",
    "\n",
    "Even though the DataFrame in many ways behaves similarly to a `dict`, it also is ordered. Therefore we can sort the data in it. Pandas provides two sorting methods, `sort_values` and `sort_index`."
   ]
  },
  {
   "cell_type": "code",
   "execution_count": null,
   "metadata": {},
   "outputs": [],
   "source": [
    "yelp_df.sort_values('stars').head()"
   ]
  },
  {
   "cell_type": "code",
   "execution_count": null,
   "metadata": {},
   "outputs": [],
   "source": [
    "yelp_df.set_index('business_id').sort_index().head()"
   ]
  },
  {
   "cell_type": "markdown",
   "metadata": {},
   "source": [
    "Don't forget that most Pandas operations return a copy of the DataFrame, and do not update the DataFrame in place (unless we tell it to)!"
   ]
  },
  {
   "cell_type": "markdown",
   "metadata": {},
   "source": [
    "## Joining data sets"
   ]
  },
  {
   "cell_type": "markdown",
   "metadata": {},
   "source": [
    "Often we will want to augment one data set with data from another. For instance, businesses in big cities probably get more reviews than those in small cities. It could be useful to scale the review counts by the city's population. To do that, we'll need to add population data to the Yelp data. We can get population data from the US census."
   ]
  },
  {
   "cell_type": "code",
   "execution_count": null,
   "metadata": {},
   "outputs": [],
   "source": [
    "census = pd.read_csv('./data/PEP_2016_PEPANNRES.csv', skiprows=[1])\n",
    "\n",
    "census.head()"
   ]
  },
  {
   "cell_type": "code",
   "execution_count": null,
   "metadata": {},
   "outputs": [],
   "source": [
    "# construct city & state fields\n",
    "census['city'] = census['GEO.display-label'].apply(lambda x: x.split(', ')[0])\n",
    "census['state'] = census['GEO.display-label'].apply(lambda x: x.split(', ')[2])"
   ]
  },
  {
   "cell_type": "code",
   "execution_count": null,
   "metadata": {},
   "outputs": [],
   "source": [
    "# convert state names to abbreviations\n",
    "\n",
    "print(census['state'].unique())"
   ]
  },
  {
   "cell_type": "code",
   "execution_count": null,
   "metadata": {},
   "outputs": [],
   "source": [
    "state_abbr = dict(zip(census['state'].unique(), ['CT', 'IL', 'IN', 'KS', 'ME', 'MA', 'MI', 'MN', 'MO', 'NE', 'NH', 'NJ', 'NY', 'ND', 'OH', 'PA', 'RI', 'SD', 'VT', 'WI']))"
   ]
  },
  {
   "cell_type": "code",
   "execution_count": null,
   "metadata": {},
   "outputs": [],
   "source": [
    "state_abbr"
   ]
  },
  {
   "cell_type": "code",
   "execution_count": null,
   "metadata": {},
   "outputs": [],
   "source": [
    "census['state'] = census['state'].replace(state_abbr)"
   ]
  },
  {
   "cell_type": "code",
   "execution_count": null,
   "metadata": {},
   "outputs": [],
   "source": [
    "census.head()"
   ]
  },
  {
   "cell_type": "code",
   "execution_count": null,
   "metadata": {},
   "outputs": [],
   "source": [
    "# remove last word (e.g. 'city', 'town', township', 'borough', 'village') from city names\n",
    "\n",
    "census['city'] = census['city'].apply(lambda x: ' '.join(x.split(' ')[:-1]))"
   ]
  },
  {
   "cell_type": "code",
   "execution_count": null,
   "metadata": {},
   "outputs": [],
   "source": [
    "city_example = \"Bethel Little Town\"\n",
    "\" \".join(city_example.split(' ')[:-1])"
   ]
  },
  {
   "cell_type": "code",
   "execution_count": null,
   "metadata": {},
   "outputs": [],
   "source": [
    "census.head()"
   ]
  },
  {
   "cell_type": "code",
   "execution_count": null,
   "metadata": {},
   "outputs": [],
   "source": [
    "merged_df = yelp_df.merge(census, on=['state', 'city'])\n",
    "merged_df.head()"
   ]
  },
  {
   "cell_type": "markdown",
   "metadata": {},
   "source": [
    "The `merge` function looks through the `'state'` and `'city'` columns of `yelp_df` and `census` and tries to match up rows that share values. When a match is found, the rows are combined. What happens when a match is not found? We can imagine four scenarios:  \n",
    "\n",
    "1. We only keep rows from `yelp_df` and `census` if they match. Any rows from either table that have no match are discarded. This is called an _inner join_.  \n",
    "\n",
    "2. We keep all rows from `yelp_df` and `census`, even if they have no match. In this case, when a row in `yelp_df` has no match in `census`, all the columns from `census` are merged in with null values. When a row in `census` has no match in `yelp_df`, all the columns from `yelp_df` are merged in with null values. This is called an _outer join_.\n",
    "\n",
    "3. We privilege the `yelp_df` data. If a row in `yelp_df` has no match in `census`, we keep it and fill in the missing `census` columns as null values. If a row in `census` has no match in `yelp_df`, we discard it. This is called a _left join_.\n",
    "\n",
    "4. We privilege the `census` data. This is called a _right join_.\n",
    "\n",
    "The default behavior for Pandas is case #1, the _inner join_. This means if there are cities in `yelp_df` that we don't have matching `census` data for, they are dropped. Therefore, `merged_df` might be smaller than `yelp_df`."
   ]
  },
  {
   "cell_type": "code",
   "execution_count": null,
   "metadata": {},
   "outputs": [],
   "source": [
    "print(yelp_df.shape)\n",
    "print(merged_df.shape)"
   ]
  },
  {
   "cell_type": "markdown",
   "metadata": {},
   "source": [
    "There are a lot of cities in `yelp_df` that aren't in `census`! We might want to keep these rows, but we don't need any census data where there are no businesses. Then we should use a _left join_."
   ]
  },
  {
   "cell_type": "code",
   "execution_count": null,
   "metadata": {},
   "outputs": [],
   "source": [
    "merged_df = yelp_df.merge(census, on=['state', 'city'], how='left')\n",
    "print(yelp_df.shape)\n",
    "print(merged_df.shape)"
   ]
  },
  {
   "cell_type": "markdown",
   "metadata": {},
   "source": [
    "Sometimes we don't need to merge together the columns of separate data sets, but just need to add more rows. For example, the New York City subway system [releases data about how many customers enter and exit the station each week](http://web.mta.info/developers/turnstile.html). Each weekly data set has the same columns, so if we want multiple weeks of data, we just have to append one week to another."
   ]
  },
  {
   "cell_type": "code",
   "execution_count": null,
   "metadata": {},
   "outputs": [],
   "source": [
    "nov18 = pd.read_csv('http://web.mta.info/developers/data/nyct/turnstile/turnstile_171118.txt')\n",
    "nov11 = pd.read_csv('http://web.mta.info/developers/data/nyct/turnstile/turnstile_171111.txt')"
   ]
  },
  {
   "cell_type": "code",
   "execution_count": null,
   "metadata": {},
   "outputs": [],
   "source": [
    "nov18.head()"
   ]
  },
  {
   "cell_type": "code",
   "execution_count": null,
   "metadata": {},
   "outputs": [],
   "source": [
    "nov11.head()"
   ]
  },
  {
   "cell_type": "code",
   "execution_count": null,
   "metadata": {},
   "outputs": [],
   "source": [
    "nov = pd.concat([nov18, nov11])\n",
    "nov['DATE'].unique()"
   ]
  },
  {
   "cell_type": "markdown",
   "metadata": {},
   "source": [
    "We can also use `concat` to perform inner and outer joins based on index. For example, we can perform some data aggregation and then join the results onto the original DataFrame."
   ]
  },
  {
   "cell_type": "code",
   "execution_count": null,
   "metadata": {},
   "outputs": [],
   "source": [
    "city_counts = yelp_df.groupby('city')['business_id'].count().rename('city_counts')\n",
    "city_counts.head()"
   ]
  },
  {
   "cell_type": "code",
   "execution_count": null,
   "metadata": {},
   "outputs": [],
   "source": [
    "yelp_df.head()"
   ]
  },
  {
   "cell_type": "code",
   "execution_count": null,
   "metadata": {},
   "outputs": [],
   "source": [
    "pd.concat([yelp_df.set_index('city'), city_counts], axis=1, join='inner').reset_index().head()"
   ]
  },
  {
   "cell_type": "markdown",
   "metadata": {},
   "source": [
    "Pandas provides [extensive documentation](https://pandas.pydata.org/pandas-docs/stable/merging.html) with diagrammed examples on different methods and approaches for joining data."
   ]
  },
  {
   "cell_type": "markdown",
   "metadata": {},
   "source": [
    "## Working with time series\n",
    "Pandas has a well-designed backend for inferring dates and times from strings and doing meaningful computations with them. "
   ]
  },
  {
   "cell_type": "code",
   "execution_count": 71,
   "metadata": {},
   "outputs": [
    {
     "data": {
      "text/html": [
       "<div>\n",
       "<style scoped>\n",
       "    .dataframe tbody tr th:only-of-type {\n",
       "        vertical-align: middle;\n",
       "    }\n",
       "\n",
       "    .dataframe tbody tr th {\n",
       "        vertical-align: top;\n",
       "    }\n",
       "\n",
       "    .dataframe thead th {\n",
       "        text-align: right;\n",
       "    }\n",
       "</style>\n",
       "<table border=\"1\" class=\"dataframe\">\n",
       "  <thead>\n",
       "    <tr style=\"text-align: right;\">\n",
       "      <th></th>\n",
       "      <th>Year</th>\n",
       "      <th>Population</th>\n",
       "      <th>Annual Growth Rate (%)</th>\n",
       "      <th>Annual Population Change</th>\n",
       "    </tr>\n",
       "  </thead>\n",
       "  <tbody>\n",
       "    <tr>\n",
       "      <th>0</th>\n",
       "      <td>1950-01-01</td>\n",
       "      <td>2.557629e+09</td>\n",
       "      <td>1.459</td>\n",
       "      <td>37311223.0</td>\n",
       "    </tr>\n",
       "    <tr>\n",
       "      <th>1</th>\n",
       "      <td>1951-01-01</td>\n",
       "      <td>2.594940e+09</td>\n",
       "      <td>1.612</td>\n",
       "      <td>41832429.0</td>\n",
       "    </tr>\n",
       "    <tr>\n",
       "      <th>2</th>\n",
       "      <td>1952-01-01</td>\n",
       "      <td>2.636772e+09</td>\n",
       "      <td>1.717</td>\n",
       "      <td>45281083.0</td>\n",
       "    </tr>\n",
       "    <tr>\n",
       "      <th>3</th>\n",
       "      <td>1953-01-01</td>\n",
       "      <td>2.682053e+09</td>\n",
       "      <td>1.796</td>\n",
       "      <td>48174715.0</td>\n",
       "    </tr>\n",
       "    <tr>\n",
       "      <th>4</th>\n",
       "      <td>1954-01-01</td>\n",
       "      <td>2.730228e+09</td>\n",
       "      <td>1.900</td>\n",
       "      <td>51870839.0</td>\n",
       "    </tr>\n",
       "  </tbody>\n",
       "</table>\n",
       "</div>"
      ],
      "text/plain": [
       "        Year    Population  Annual Growth Rate (%)  Annual Population Change\n",
       "0 1950-01-01  2.557629e+09                   1.459                37311223.0\n",
       "1 1951-01-01  2.594940e+09                   1.612                41832429.0\n",
       "2 1952-01-01  2.636772e+09                   1.717                45281083.0\n",
       "3 1953-01-01  2.682053e+09                   1.796                48174715.0\n",
       "4 1954-01-01  2.730228e+09                   1.900                51870839.0"
      ]
     },
     "execution_count": 71,
     "metadata": {},
     "output_type": "execute_result"
    }
   ],
   "source": [
    "pop_growth = pd.read_html('https://web.archive.org/web/20170127165708/https://www.census.gov/population/international/data/worldpop/table_population.php', attrs={'class': 'query_table'}, parse_dates=[0])[0]\n",
    "pop_growth.dropna(inplace=True)\n",
    "pop_growth.head()"
   ]
  },
  {
   "cell_type": "markdown",
   "metadata": {},
   "source": [
    "By setting the `'Year'` column to the index, we can easily aggregate data by date using the `resample` method. The `resample` method allows us to decrease or increase the sampling frequency of our data. For instance, maybe instead of yearly data, we want to see average quantities for each decade."
   ]
  },
  {
   "cell_type": "code",
   "execution_count": 72,
   "metadata": {},
   "outputs": [],
   "source": [
    "pop_growth.set_index('Year', inplace=True)"
   ]
  },
  {
   "cell_type": "code",
   "execution_count": 73,
   "metadata": {},
   "outputs": [
    {
     "data": {
      "text/html": [
       "<div>\n",
       "<style scoped>\n",
       "    .dataframe tbody tr th:only-of-type {\n",
       "        vertical-align: middle;\n",
       "    }\n",
       "\n",
       "    .dataframe tbody tr th {\n",
       "        vertical-align: top;\n",
       "    }\n",
       "\n",
       "    .dataframe thead th {\n",
       "        text-align: right;\n",
       "    }\n",
       "</style>\n",
       "<table border=\"1\" class=\"dataframe\">\n",
       "  <thead>\n",
       "    <tr style=\"text-align: right;\">\n",
       "      <th></th>\n",
       "      <th>Population</th>\n",
       "      <th>Annual Growth Rate (%)</th>\n",
       "      <th>Annual Population Change</th>\n",
       "    </tr>\n",
       "    <tr>\n",
       "      <th>Year</th>\n",
       "      <th></th>\n",
       "      <th></th>\n",
       "      <th></th>\n",
       "    </tr>\n",
       "  </thead>\n",
       "  <tbody>\n",
       "    <tr>\n",
       "      <th>1950-01-01</th>\n",
       "      <td>2.765922e+09</td>\n",
       "      <td>1.7529</td>\n",
       "      <td>48537285.4</td>\n",
       "    </tr>\n",
       "    <tr>\n",
       "      <th>1960-01-01</th>\n",
       "      <td>3.321900e+09</td>\n",
       "      <td>2.0094</td>\n",
       "      <td>66969623.4</td>\n",
       "    </tr>\n",
       "    <tr>\n",
       "      <th>1970-01-01</th>\n",
       "      <td>4.047646e+09</td>\n",
       "      <td>1.8154</td>\n",
       "      <td>73179902.2</td>\n",
       "    </tr>\n",
       "    <tr>\n",
       "      <th>1980-01-01</th>\n",
       "      <td>4.813578e+09</td>\n",
       "      <td>1.7438</td>\n",
       "      <td>83875618.4</td>\n",
       "    </tr>\n",
       "    <tr>\n",
       "      <th>1990-01-01</th>\n",
       "      <td>5.651506e+09</td>\n",
       "      <td>1.4220</td>\n",
       "      <td>80123197.0</td>\n",
       "    </tr>\n",
       "    <tr>\n",
       "      <th>2000-01-01</th>\n",
       "      <td>6.429734e+09</td>\n",
       "      <td>1.2017</td>\n",
       "      <td>77213097.9</td>\n",
       "    </tr>\n",
       "    <tr>\n",
       "      <th>2010-01-01</th>\n",
       "      <td>7.206287e+09</td>\n",
       "      <td>1.0742</td>\n",
       "      <td>77318221.4</td>\n",
       "    </tr>\n",
       "    <tr>\n",
       "      <th>2020-01-01</th>\n",
       "      <td>7.949758e+09</td>\n",
       "      <td>0.8687</td>\n",
       "      <td>68934817.8</td>\n",
       "    </tr>\n",
       "    <tr>\n",
       "      <th>2030-01-01</th>\n",
       "      <td>8.587652e+09</td>\n",
       "      <td>0.6741</td>\n",
       "      <td>57810604.6</td>\n",
       "    </tr>\n",
       "    <tr>\n",
       "      <th>2040-01-01</th>\n",
       "      <td>9.120663e+09</td>\n",
       "      <td>0.5238</td>\n",
       "      <td>47723189.0</td>\n",
       "    </tr>\n",
       "  </tbody>\n",
       "</table>\n",
       "</div>"
      ],
      "text/plain": [
       "              Population  Annual Growth Rate (%)  Annual Population Change\n",
       "Year                                                                      \n",
       "1950-01-01  2.765922e+09                  1.7529                48537285.4\n",
       "1960-01-01  3.321900e+09                  2.0094                66969623.4\n",
       "1970-01-01  4.047646e+09                  1.8154                73179902.2\n",
       "1980-01-01  4.813578e+09                  1.7438                83875618.4\n",
       "1990-01-01  5.651506e+09                  1.4220                80123197.0\n",
       "2000-01-01  6.429734e+09                  1.2017                77213097.9\n",
       "2010-01-01  7.206287e+09                  1.0742                77318221.4\n",
       "2020-01-01  7.949758e+09                  0.8687                68934817.8\n",
       "2030-01-01  8.587652e+09                  0.6741                57810604.6\n",
       "2040-01-01  9.120663e+09                  0.5238                47723189.0"
      ]
     },
     "execution_count": 73,
     "metadata": {},
     "output_type": "execute_result"
    }
   ],
   "source": [
    "pop_growth.resample('10AS').mean()"
   ]
  },
  {
   "cell_type": "markdown",
   "metadata": {},
   "source": [
    "This kind of resampling is called _downsampling_, because we are decreasing the sampling frequency of the data. We can choose how to aggregate the data from each decade (e.g. `mean`). Options for aggregation include `mean`, `median`, `sum`, `last`, and `first`.\n",
    "\n",
    "We can also _upsample_ data. In this case, we don't have data for each quarter, so we have to tell Pandas has to fill in the missing data."
   ]
  },
  {
   "cell_type": "code",
   "execution_count": null,
   "metadata": {},
   "outputs": [],
   "source": [
    "pop_growth.resample('1Q').bfill().head()"
   ]
  },
  {
   "cell_type": "code",
   "execution_count": null,
   "metadata": {},
   "outputs": [],
   "source": [
    "pop_growth.resample('1Q').ffill().head()"
   ]
  },
  {
   "cell_type": "markdown",
   "metadata": {},
   "source": [
    "Pandas' time series capabilities are built on the Pandas `Timestamp` class."
   ]
  },
  {
   "cell_type": "code",
   "execution_count": null,
   "metadata": {},
   "outputs": [],
   "source": [
    "print(pd.Timestamp('January 8, 2017'))\n",
    "print(pd.Timestamp('01/08/17 20:13'))\n",
    "print(pd.Timestamp(1.4839*10**18))"
   ]
  },
  {
   "cell_type": "code",
   "execution_count": null,
   "metadata": {},
   "outputs": [],
   "source": [
    "print(pd.Timestamp('Feb. 11 2016 2:30 am') - pd.Timestamp('2015-08-03 5:14 pm'))"
   ]
  },
  {
   "cell_type": "code",
   "execution_count": null,
   "metadata": {},
   "outputs": [],
   "source": [
    "from pandas.tseries.offsets import BDay, Day, BMonthEnd\n",
    "\n",
    "print(pd.Timestamp('January 9, 2017') - Day(4))\n",
    "print(pd.Timestamp('January 9, 2017') - BDay(4))\n",
    "print(pd.Timestamp('January 9, 2017') + BMonthEnd(4))"
   ]
  },
  {
   "cell_type": "markdown",
   "metadata": {},
   "source": [
    "If we're entering time series data into a DataFrame it will often be useful to create a range of dates."
   ]
  },
  {
   "cell_type": "code",
   "execution_count": null,
   "metadata": {},
   "outputs": [],
   "source": [
    "pd.date_range(start='1/8/2017', end='3/2/2017', freq='B')"
   ]
  },
  {
   "cell_type": "markdown",
   "metadata": {},
   "source": [
    "The `Timestamp` class is compatible with Python's `datetime` module."
   ]
  },
  {
   "cell_type": "code",
   "execution_count": null,
   "metadata": {},
   "outputs": [],
   "source": [
    "import datetime\n",
    "\n",
    "pd.Timestamp('May 1, 2017') - datetime.datetime(2017, 1, 8)"
   ]
  },
  {
   "cell_type": "markdown",
   "metadata": {},
   "source": [
    "## Visualizing data with Pandas\n",
    "\n",
    "Visualizing a data set is an important first step in drawing insights. We can easily pass data from Pandas to Matplotlib for visualizations, but Pandas also plugs into Matplotlib directly through methods like `plot` and `hist`."
   ]
  },
  {
   "cell_type": "code",
   "execution_count": null,
   "metadata": {},
   "outputs": [],
   "source": [
    "yelp_df['review_count'].apply(np.log).hist(bins=30)"
   ]
  },
  {
   "cell_type": "code",
   "execution_count": null,
   "metadata": {},
   "outputs": [],
   "source": [
    "pop_growth['Annual Growth Rate (%)'].plot()"
   ]
  },
  {
   "cell_type": "markdown",
   "metadata": {},
   "source": [
    "The [plotting functions take many parameters](https://pandas.pydata.org/pandas-docs/stable/generated/pandas.DataFrame.plot.html) for customizing the appearance of the output. Since they are essentially a wrapper around the Matplotlib functions, they also accept many of the Matplotlib parameters, not all of which are listed in the Pandas documentation. Pandas provides [a guide](https://pandas.pydata.org/pandas-docs/stable/visualization.html) to making various plots from DataFrames."
   ]
  },
  {
   "cell_type": "markdown",
   "metadata": {},
   "source": [
    "*Copyright &copy; 2020 The Data Incubator.  All rights reserved.*"
   ]
  }
 ],
 "metadata": {
  "kernelspec": {
   "display_name": "Python 3",
   "language": "python",
   "name": "python3"
  },
  "language_info": {
   "codemirror_mode": {
    "name": "ipython",
    "version": 3
   },
   "file_extension": ".py",
   "mimetype": "text/x-python",
   "name": "python",
   "nbconvert_exporter": "python",
   "pygments_lexer": "ipython3",
   "version": "3.7.3"
  },
  "nbclean": true
 },
 "nbformat": 4,
 "nbformat_minor": 1
}
